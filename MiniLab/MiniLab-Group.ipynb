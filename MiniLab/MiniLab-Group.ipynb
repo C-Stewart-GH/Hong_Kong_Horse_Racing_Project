{
 "cells": [
  {
   "cell_type": "markdown",
   "id": "c488989c",
   "metadata": {},
   "source": [
    "Nathan Deinlein <br>\n",
    "Ryan Kinney <br>\n",
    "Chris Roche <br>\n",
    "Cameron Stewart <br>"
   ]
  },
  {
   "cell_type": "markdown",
   "id": "771b0bfe",
   "metadata": {},
   "source": [
    "# Machine Learning 1 - MiniLab LR and SVM"
   ]
  },
  {
   "cell_type": "markdown",
   "id": "f8eebd2c",
   "metadata": {},
   "source": [
    "## Section 1: Create Models"
   ]
  },
  {
   "cell_type": "markdown",
   "id": "b7a3845c",
   "metadata": {},
   "source": [
    "### Logistic Regression"
   ]
  },
  {
   "cell_type": "markdown",
   "id": "cdb3097d",
   "metadata": {},
   "source": [
    "Logistic Regression is a statistical technique for categorizing a binary outcome. For the horse racing data set, we're using predictors such as horse age, rating, and odds to predict whether a horse will win or lose a race."
   ]
  },
  {
   "cell_type": "markdown",
   "id": "dc04a090",
   "metadata": {},
   "source": [
    "We began our logistic regression model implementation by importing the necessary libraries and then reading in the data. In Lab 1, once our data was cleaned we saved off a csv file titled \"runs_clean.csv\" to our GitHub repository. For this lab we read in that file as a starting point since it is already cleaned, all missing data is imputed, and features are formatted appropriately. "
   ]
  },
  {
   "cell_type": "code",
   "execution_count": 1,
   "id": "9e215089",
   "metadata": {},
   "outputs": [],
   "source": [
    "# Load libraries\n",
    "import pandas as pd\n",
    "import numpy as np\n",
    "import matplotlib\n",
    "import matplotlib.pyplot as plt\n",
    "%matplotlib inline\n",
    "from sklearn.model_selection import train_test_split\n",
    "from sklearn import metrics as mt\n",
    "from sklearn.metrics import plot_confusion_matrix, roc_auc_score\n",
    "import warnings\n",
    "warnings.simplefilter('ignore', DeprecationWarning)"
   ]
  },
  {
   "cell_type": "code",
   "execution_count": 2,
   "id": "12df62e5",
   "metadata": {},
   "outputs": [],
   "source": [
    "## Read in the cleaned dataframe from Lab 1\n",
    "url = \"https://raw.githubusercontent.com/nedeinlein/Machine_Learning_I/main/runs_clean.csv\"\n",
    "runs_df = pd.read_csv(url, index_col=False)"
   ]
  },
  {
   "cell_type": "markdown",
   "id": "c1133e58",
   "metadata": {},
   "source": [
    "Logistic regression requires all variables to be numeric. Using the info function we can inspect the data set for objects and determine how to use or not use them."
   ]
  },
  {
   "cell_type": "code",
   "execution_count": 3,
   "id": "7a640ec1",
   "metadata": {},
   "outputs": [
    {
     "name": "stdout",
     "output_type": "stream",
     "text": [
      "<class 'pandas.core.frame.DataFrame'>\n",
      "RangeIndex: 79423 entries, 0 to 79422\n",
      "Data columns (total 29 columns):\n",
      " #   Column           Non-Null Count  Dtype  \n",
      "---  ------           --------------  -----  \n",
      " 0   Unnamed: 0       79423 non-null  int64  \n",
      " 1   race_id          79423 non-null  int64  \n",
      " 2   horse_no         79423 non-null  int64  \n",
      " 3   horse_id         79423 non-null  int64  \n",
      " 4   result           79423 non-null  int64  \n",
      " 5   won              79423 non-null  float64\n",
      " 6   lengths_behind   79423 non-null  float64\n",
      " 7   horse_age        79423 non-null  int64  \n",
      " 8   horse_country    79423 non-null  object \n",
      " 9   horse_type       79423 non-null  object \n",
      " 10  horse_rating     79423 non-null  int64  \n",
      " 11  horse_gear       79423 non-null  object \n",
      " 12  declared_weight  79423 non-null  float64\n",
      " 13  actual_weight    79423 non-null  int64  \n",
      " 14  draw             79423 non-null  int64  \n",
      " 15  position_sec1    79423 non-null  int64  \n",
      " 16  position_sec2    79423 non-null  int64  \n",
      " 17  position_sec3    79423 non-null  int64  \n",
      " 18  behind_sec1      79423 non-null  float64\n",
      " 19  behind_sec2      79423 non-null  float64\n",
      " 20  behind_sec3      79423 non-null  float64\n",
      " 21  time1            79423 non-null  float64\n",
      " 22  time2            79423 non-null  float64\n",
      " 23  time3            79423 non-null  float64\n",
      " 24  finish_time      79423 non-null  float64\n",
      " 25  win_odds         79423 non-null  float64\n",
      " 26  place_odds       79423 non-null  float64\n",
      " 27  trainer_id       79423 non-null  int64  \n",
      " 28  jockey_id        79423 non-null  int64  \n",
      "dtypes: float64(12), int64(14), object(3)\n",
      "memory usage: 17.6+ MB\n"
     ]
    },
    {
     "data": {
      "text/html": [
       "<div>\n",
       "<style scoped>\n",
       "    .dataframe tbody tr th:only-of-type {\n",
       "        vertical-align: middle;\n",
       "    }\n",
       "\n",
       "    .dataframe tbody tr th {\n",
       "        vertical-align: top;\n",
       "    }\n",
       "\n",
       "    .dataframe thead th {\n",
       "        text-align: right;\n",
       "    }\n",
       "</style>\n",
       "<table border=\"1\" class=\"dataframe\">\n",
       "  <thead>\n",
       "    <tr style=\"text-align: right;\">\n",
       "      <th></th>\n",
       "      <th>Unnamed: 0</th>\n",
       "      <th>race_id</th>\n",
       "      <th>horse_no</th>\n",
       "      <th>horse_id</th>\n",
       "      <th>result</th>\n",
       "      <th>won</th>\n",
       "      <th>lengths_behind</th>\n",
       "      <th>horse_age</th>\n",
       "      <th>horse_country</th>\n",
       "      <th>horse_type</th>\n",
       "      <th>...</th>\n",
       "      <th>behind_sec2</th>\n",
       "      <th>behind_sec3</th>\n",
       "      <th>time1</th>\n",
       "      <th>time2</th>\n",
       "      <th>time3</th>\n",
       "      <th>finish_time</th>\n",
       "      <th>win_odds</th>\n",
       "      <th>place_odds</th>\n",
       "      <th>trainer_id</th>\n",
       "      <th>jockey_id</th>\n",
       "    </tr>\n",
       "  </thead>\n",
       "  <tbody>\n",
       "    <tr>\n",
       "      <th>0</th>\n",
       "      <td>0</td>\n",
       "      <td>0</td>\n",
       "      <td>1</td>\n",
       "      <td>3917</td>\n",
       "      <td>10</td>\n",
       "      <td>0.0</td>\n",
       "      <td>8.00</td>\n",
       "      <td>3</td>\n",
       "      <td>AUS</td>\n",
       "      <td>Gelding</td>\n",
       "      <td>...</td>\n",
       "      <td>2.00</td>\n",
       "      <td>1.50</td>\n",
       "      <td>13.85</td>\n",
       "      <td>21.59</td>\n",
       "      <td>23.86</td>\n",
       "      <td>83.92</td>\n",
       "      <td>9.7</td>\n",
       "      <td>3.7</td>\n",
       "      <td>118</td>\n",
       "      <td>2</td>\n",
       "    </tr>\n",
       "    <tr>\n",
       "      <th>1</th>\n",
       "      <td>1</td>\n",
       "      <td>0</td>\n",
       "      <td>2</td>\n",
       "      <td>2157</td>\n",
       "      <td>8</td>\n",
       "      <td>0.0</td>\n",
       "      <td>5.75</td>\n",
       "      <td>3</td>\n",
       "      <td>NZ</td>\n",
       "      <td>Gelding</td>\n",
       "      <td>...</td>\n",
       "      <td>9.00</td>\n",
       "      <td>5.00</td>\n",
       "      <td>14.57</td>\n",
       "      <td>21.99</td>\n",
       "      <td>23.30</td>\n",
       "      <td>83.56</td>\n",
       "      <td>16.0</td>\n",
       "      <td>4.9</td>\n",
       "      <td>164</td>\n",
       "      <td>57</td>\n",
       "    </tr>\n",
       "    <tr>\n",
       "      <th>2</th>\n",
       "      <td>2</td>\n",
       "      <td>0</td>\n",
       "      <td>3</td>\n",
       "      <td>858</td>\n",
       "      <td>7</td>\n",
       "      <td>0.0</td>\n",
       "      <td>4.75</td>\n",
       "      <td>3</td>\n",
       "      <td>NZ</td>\n",
       "      <td>Gelding</td>\n",
       "      <td>...</td>\n",
       "      <td>1.00</td>\n",
       "      <td>0.75</td>\n",
       "      <td>13.69</td>\n",
       "      <td>21.59</td>\n",
       "      <td>23.90</td>\n",
       "      <td>83.40</td>\n",
       "      <td>3.5</td>\n",
       "      <td>1.5</td>\n",
       "      <td>137</td>\n",
       "      <td>18</td>\n",
       "    </tr>\n",
       "    <tr>\n",
       "      <th>3</th>\n",
       "      <td>3</td>\n",
       "      <td>0</td>\n",
       "      <td>4</td>\n",
       "      <td>1853</td>\n",
       "      <td>9</td>\n",
       "      <td>0.0</td>\n",
       "      <td>6.25</td>\n",
       "      <td>3</td>\n",
       "      <td>SAF</td>\n",
       "      <td>Gelding</td>\n",
       "      <td>...</td>\n",
       "      <td>5.00</td>\n",
       "      <td>3.50</td>\n",
       "      <td>14.09</td>\n",
       "      <td>21.83</td>\n",
       "      <td>23.70</td>\n",
       "      <td>83.62</td>\n",
       "      <td>39.0</td>\n",
       "      <td>11.0</td>\n",
       "      <td>80</td>\n",
       "      <td>59</td>\n",
       "    </tr>\n",
       "    <tr>\n",
       "      <th>4</th>\n",
       "      <td>4</td>\n",
       "      <td>0</td>\n",
       "      <td>5</td>\n",
       "      <td>2796</td>\n",
       "      <td>6</td>\n",
       "      <td>0.0</td>\n",
       "      <td>3.75</td>\n",
       "      <td>3</td>\n",
       "      <td>GB</td>\n",
       "      <td>Gelding</td>\n",
       "      <td>...</td>\n",
       "      <td>8.75</td>\n",
       "      <td>4.25</td>\n",
       "      <td>14.77</td>\n",
       "      <td>21.75</td>\n",
       "      <td>23.22</td>\n",
       "      <td>83.24</td>\n",
       "      <td>50.0</td>\n",
       "      <td>14.0</td>\n",
       "      <td>9</td>\n",
       "      <td>154</td>\n",
       "    </tr>\n",
       "  </tbody>\n",
       "</table>\n",
       "<p>5 rows × 29 columns</p>\n",
       "</div>"
      ],
      "text/plain": [
       "   Unnamed: 0  race_id  horse_no  horse_id  result  won  lengths_behind  \\\n",
       "0           0        0         1      3917      10  0.0            8.00   \n",
       "1           1        0         2      2157       8  0.0            5.75   \n",
       "2           2        0         3       858       7  0.0            4.75   \n",
       "3           3        0         4      1853       9  0.0            6.25   \n",
       "4           4        0         5      2796       6  0.0            3.75   \n",
       "\n",
       "   horse_age horse_country horse_type  ...  behind_sec2 behind_sec3  time1  \\\n",
       "0          3           AUS    Gelding  ...         2.00        1.50  13.85   \n",
       "1          3            NZ    Gelding  ...         9.00        5.00  14.57   \n",
       "2          3            NZ    Gelding  ...         1.00        0.75  13.69   \n",
       "3          3           SAF    Gelding  ...         5.00        3.50  14.09   \n",
       "4          3            GB    Gelding  ...         8.75        4.25  14.77   \n",
       "\n",
       "   time2  time3  finish_time  win_odds  place_odds  trainer_id  jockey_id  \n",
       "0  21.59  23.86        83.92       9.7         3.7         118          2  \n",
       "1  21.99  23.30        83.56      16.0         4.9         164         57  \n",
       "2  21.59  23.90        83.40       3.5         1.5         137         18  \n",
       "3  21.83  23.70        83.62      39.0        11.0          80         59  \n",
       "4  21.75  23.22        83.24      50.0        14.0           9        154  \n",
       "\n",
       "[5 rows x 29 columns]"
      ]
     },
     "execution_count": 3,
     "metadata": {},
     "output_type": "execute_result"
    }
   ],
   "source": [
    "# Summary statistics of each feature\n",
    "runs_df.info()\n",
    "runs_df.head()"
   ]
  },
  {
   "cell_type": "markdown",
   "id": "417c40de",
   "metadata": {},
   "source": [
    "#### One Hot Encoding"
   ]
  },
  {
   "cell_type": "markdown",
   "id": "49d108de",
   "metadata": {},
   "source": [
    "Horse Country and Horse Type are both of type object. These are strings that represent where a horse is from or what type it is (e.g. gelding, mare). For both of these we used one-hot encoding. This allows us to numerically represent them and therefore keep them in the logistic regression model.\n",
    "\n",
    "First we'll check how many unique types there are in the two variables."
   ]
  },
  {
   "cell_type": "code",
   "execution_count": 4,
   "id": "c56c9f6f",
   "metadata": {},
   "outputs": [
    {
     "name": "stdout",
     "output_type": "stream",
     "text": [
      "Number of horse types:  9\n",
      "Number of horse countries:  16\n"
     ]
    }
   ],
   "source": [
    "# How many unique values are in horse_type and horse_country\n",
    "n = runs_df['horse_type'].nunique()\n",
    "print(\"Number of horse types: \", n)\n",
    "\n",
    "n = runs_df['horse_country'].nunique()\n",
    "print(\"Number of horse countries: \", n)"
   ]
  },
  {
   "cell_type": "markdown",
   "id": "db0d787b",
   "metadata": {},
   "source": [
    "Now we will perform the one hot encoding. Note, this will greatly increase the number of columns in our data set since we're now making boolean entries for each of the nine horse types and sixteen countries found in the data set. Therefore we'll add the new columns to a second data set so that we can easily choose whether or not to include the new features in the future."
   ]
  },
  {
   "cell_type": "code",
   "execution_count": 5,
   "id": "84fcac0b",
   "metadata": {},
   "outputs": [],
   "source": [
    "# Use one hot encoding on non-numerical features\n",
    "## (Then remove them from the drop code chunk below)\n",
    "# perform one-hot encoding of the categorical data \"embarked\"\n",
    "tmp_df = pd.get_dummies(runs_df.horse_country,prefix='horse_country')\n",
    "runs_df_onehot = pd.concat((runs_df,tmp_df),axis=1) # add back into the dataframe\n",
    "\n",
    "tmp_df = pd.get_dummies(runs_df.horse_type,prefix='horse_type')\n",
    "runs_df_onehot = pd.concat((runs_df_onehot,tmp_df),axis=1) # add back into the dataframe"
   ]
  },
  {
   "cell_type": "markdown",
   "id": "52595f7a",
   "metadata": {},
   "source": [
    "In addition to the one-hot encoding, we want to add another new feature to the set, this new feature is something we'll try to predict. There are two common types of bets in horse racing: to win and to show. Win is for a horse to finish first and show is for a horse to finish top three. Using the result feature (a horse's finish position from 1 - 14) we can create a new feature for a result of 1, 2, or 3."
   ]
  },
  {
   "cell_type": "markdown",
   "id": "063ca822",
   "metadata": {},
   "source": [
    "#### Create new Show feature to predict"
   ]
  },
  {
   "cell_type": "code",
   "execution_count": 6,
   "id": "dc71019c",
   "metadata": {},
   "outputs": [
    {
     "data": {
      "text/html": [
       "<div>\n",
       "<style scoped>\n",
       "    .dataframe tbody tr th:only-of-type {\n",
       "        vertical-align: middle;\n",
       "    }\n",
       "\n",
       "    .dataframe tbody tr th {\n",
       "        vertical-align: top;\n",
       "    }\n",
       "\n",
       "    .dataframe thead th {\n",
       "        text-align: right;\n",
       "    }\n",
       "</style>\n",
       "<table border=\"1\" class=\"dataframe\">\n",
       "  <thead>\n",
       "    <tr style=\"text-align: right;\">\n",
       "      <th></th>\n",
       "      <th>Unnamed: 0</th>\n",
       "      <th>race_id</th>\n",
       "      <th>horse_no</th>\n",
       "      <th>horse_id</th>\n",
       "      <th>result</th>\n",
       "      <th>won</th>\n",
       "      <th>lengths_behind</th>\n",
       "      <th>horse_age</th>\n",
       "      <th>horse_country</th>\n",
       "      <th>horse_type</th>\n",
       "      <th>...</th>\n",
       "      <th>behind_sec3</th>\n",
       "      <th>time1</th>\n",
       "      <th>time2</th>\n",
       "      <th>time3</th>\n",
       "      <th>finish_time</th>\n",
       "      <th>win_odds</th>\n",
       "      <th>place_odds</th>\n",
       "      <th>trainer_id</th>\n",
       "      <th>jockey_id</th>\n",
       "      <th>show</th>\n",
       "    </tr>\n",
       "  </thead>\n",
       "  <tbody>\n",
       "    <tr>\n",
       "      <th>0</th>\n",
       "      <td>0</td>\n",
       "      <td>0</td>\n",
       "      <td>1</td>\n",
       "      <td>3917</td>\n",
       "      <td>10</td>\n",
       "      <td>0.0</td>\n",
       "      <td>8.00</td>\n",
       "      <td>3</td>\n",
       "      <td>AUS</td>\n",
       "      <td>Gelding</td>\n",
       "      <td>...</td>\n",
       "      <td>1.50</td>\n",
       "      <td>13.85</td>\n",
       "      <td>21.59</td>\n",
       "      <td>23.86</td>\n",
       "      <td>83.92</td>\n",
       "      <td>9.7</td>\n",
       "      <td>3.7</td>\n",
       "      <td>118</td>\n",
       "      <td>2</td>\n",
       "      <td>0</td>\n",
       "    </tr>\n",
       "    <tr>\n",
       "      <th>1</th>\n",
       "      <td>1</td>\n",
       "      <td>0</td>\n",
       "      <td>2</td>\n",
       "      <td>2157</td>\n",
       "      <td>8</td>\n",
       "      <td>0.0</td>\n",
       "      <td>5.75</td>\n",
       "      <td>3</td>\n",
       "      <td>NZ</td>\n",
       "      <td>Gelding</td>\n",
       "      <td>...</td>\n",
       "      <td>5.00</td>\n",
       "      <td>14.57</td>\n",
       "      <td>21.99</td>\n",
       "      <td>23.30</td>\n",
       "      <td>83.56</td>\n",
       "      <td>16.0</td>\n",
       "      <td>4.9</td>\n",
       "      <td>164</td>\n",
       "      <td>57</td>\n",
       "      <td>0</td>\n",
       "    </tr>\n",
       "    <tr>\n",
       "      <th>2</th>\n",
       "      <td>2</td>\n",
       "      <td>0</td>\n",
       "      <td>3</td>\n",
       "      <td>858</td>\n",
       "      <td>7</td>\n",
       "      <td>0.0</td>\n",
       "      <td>4.75</td>\n",
       "      <td>3</td>\n",
       "      <td>NZ</td>\n",
       "      <td>Gelding</td>\n",
       "      <td>...</td>\n",
       "      <td>0.75</td>\n",
       "      <td>13.69</td>\n",
       "      <td>21.59</td>\n",
       "      <td>23.90</td>\n",
       "      <td>83.40</td>\n",
       "      <td>3.5</td>\n",
       "      <td>1.5</td>\n",
       "      <td>137</td>\n",
       "      <td>18</td>\n",
       "      <td>0</td>\n",
       "    </tr>\n",
       "    <tr>\n",
       "      <th>3</th>\n",
       "      <td>3</td>\n",
       "      <td>0</td>\n",
       "      <td>4</td>\n",
       "      <td>1853</td>\n",
       "      <td>9</td>\n",
       "      <td>0.0</td>\n",
       "      <td>6.25</td>\n",
       "      <td>3</td>\n",
       "      <td>SAF</td>\n",
       "      <td>Gelding</td>\n",
       "      <td>...</td>\n",
       "      <td>3.50</td>\n",
       "      <td>14.09</td>\n",
       "      <td>21.83</td>\n",
       "      <td>23.70</td>\n",
       "      <td>83.62</td>\n",
       "      <td>39.0</td>\n",
       "      <td>11.0</td>\n",
       "      <td>80</td>\n",
       "      <td>59</td>\n",
       "      <td>0</td>\n",
       "    </tr>\n",
       "    <tr>\n",
       "      <th>4</th>\n",
       "      <td>4</td>\n",
       "      <td>0</td>\n",
       "      <td>5</td>\n",
       "      <td>2796</td>\n",
       "      <td>6</td>\n",
       "      <td>0.0</td>\n",
       "      <td>3.75</td>\n",
       "      <td>3</td>\n",
       "      <td>GB</td>\n",
       "      <td>Gelding</td>\n",
       "      <td>...</td>\n",
       "      <td>4.25</td>\n",
       "      <td>14.77</td>\n",
       "      <td>21.75</td>\n",
       "      <td>23.22</td>\n",
       "      <td>83.24</td>\n",
       "      <td>50.0</td>\n",
       "      <td>14.0</td>\n",
       "      <td>9</td>\n",
       "      <td>154</td>\n",
       "      <td>0</td>\n",
       "    </tr>\n",
       "    <tr>\n",
       "      <th>5</th>\n",
       "      <td>5</td>\n",
       "      <td>0</td>\n",
       "      <td>6</td>\n",
       "      <td>3296</td>\n",
       "      <td>3</td>\n",
       "      <td>0.0</td>\n",
       "      <td>1.25</td>\n",
       "      <td>3</td>\n",
       "      <td>NZ</td>\n",
       "      <td>Gelding</td>\n",
       "      <td>...</td>\n",
       "      <td>1.25</td>\n",
       "      <td>14.33</td>\n",
       "      <td>22.03</td>\n",
       "      <td>22.90</td>\n",
       "      <td>82.83</td>\n",
       "      <td>7.0</td>\n",
       "      <td>1.8</td>\n",
       "      <td>54</td>\n",
       "      <td>34</td>\n",
       "      <td>1</td>\n",
       "    </tr>\n",
       "    <tr>\n",
       "      <th>6</th>\n",
       "      <td>6</td>\n",
       "      <td>0</td>\n",
       "      <td>7</td>\n",
       "      <td>911</td>\n",
       "      <td>12</td>\n",
       "      <td>0.0</td>\n",
       "      <td>9.50</td>\n",
       "      <td>3</td>\n",
       "      <td>NZ</td>\n",
       "      <td>Gelding</td>\n",
       "      <td>...</td>\n",
       "      <td>0.75</td>\n",
       "      <td>13.53</td>\n",
       "      <td>21.59</td>\n",
       "      <td>23.94</td>\n",
       "      <td>84.15</td>\n",
       "      <td>99.0</td>\n",
       "      <td>28.0</td>\n",
       "      <td>55</td>\n",
       "      <td>149</td>\n",
       "      <td>0</td>\n",
       "    </tr>\n",
       "    <tr>\n",
       "      <th>7</th>\n",
       "      <td>7</td>\n",
       "      <td>0</td>\n",
       "      <td>8</td>\n",
       "      <td>2170</td>\n",
       "      <td>1</td>\n",
       "      <td>1.0</td>\n",
       "      <td>0.00</td>\n",
       "      <td>3</td>\n",
       "      <td>AUS</td>\n",
       "      <td>Gelding</td>\n",
       "      <td>...</td>\n",
       "      <td>3.25</td>\n",
       "      <td>14.13</td>\n",
       "      <td>21.87</td>\n",
       "      <td>23.58</td>\n",
       "      <td>82.64</td>\n",
       "      <td>12.0</td>\n",
       "      <td>3.6</td>\n",
       "      <td>47</td>\n",
       "      <td>183</td>\n",
       "      <td>1</td>\n",
       "    </tr>\n",
       "    <tr>\n",
       "      <th>8</th>\n",
       "      <td>8</td>\n",
       "      <td>0</td>\n",
       "      <td>9</td>\n",
       "      <td>1730</td>\n",
       "      <td>13</td>\n",
       "      <td>0.0</td>\n",
       "      <td>9.75</td>\n",
       "      <td>3</td>\n",
       "      <td>NZ</td>\n",
       "      <td>Gelding</td>\n",
       "      <td>...</td>\n",
       "      <td>1.25</td>\n",
       "      <td>13.65</td>\n",
       "      <td>21.71</td>\n",
       "      <td>23.90</td>\n",
       "      <td>84.20</td>\n",
       "      <td>38.0</td>\n",
       "      <td>13.0</td>\n",
       "      <td>75</td>\n",
       "      <td>131</td>\n",
       "      <td>0</td>\n",
       "    </tr>\n",
       "    <tr>\n",
       "      <th>9</th>\n",
       "      <td>9</td>\n",
       "      <td>0</td>\n",
       "      <td>10</td>\n",
       "      <td>2998</td>\n",
       "      <td>14</td>\n",
       "      <td>0.0</td>\n",
       "      <td>999.00</td>\n",
       "      <td>3</td>\n",
       "      <td>AUS</td>\n",
       "      <td>Mare</td>\n",
       "      <td>...</td>\n",
       "      <td>16.75</td>\n",
       "      <td>15.05</td>\n",
       "      <td>22.31</td>\n",
       "      <td>24.38</td>\n",
       "      <td>92.20</td>\n",
       "      <td>39.0</td>\n",
       "      <td>12.0</td>\n",
       "      <td>109</td>\n",
       "      <td>145</td>\n",
       "      <td>0</td>\n",
       "    </tr>\n",
       "  </tbody>\n",
       "</table>\n",
       "<p>10 rows × 30 columns</p>\n",
       "</div>"
      ],
      "text/plain": [
       "   Unnamed: 0  race_id  horse_no  horse_id  result  won  lengths_behind  \\\n",
       "0           0        0         1      3917      10  0.0            8.00   \n",
       "1           1        0         2      2157       8  0.0            5.75   \n",
       "2           2        0         3       858       7  0.0            4.75   \n",
       "3           3        0         4      1853       9  0.0            6.25   \n",
       "4           4        0         5      2796       6  0.0            3.75   \n",
       "5           5        0         6      3296       3  0.0            1.25   \n",
       "6           6        0         7       911      12  0.0            9.50   \n",
       "7           7        0         8      2170       1  1.0            0.00   \n",
       "8           8        0         9      1730      13  0.0            9.75   \n",
       "9           9        0        10      2998      14  0.0          999.00   \n",
       "\n",
       "   horse_age horse_country horse_type  ...  behind_sec3  time1  time2  time3  \\\n",
       "0          3           AUS    Gelding  ...         1.50  13.85  21.59  23.86   \n",
       "1          3            NZ    Gelding  ...         5.00  14.57  21.99  23.30   \n",
       "2          3            NZ    Gelding  ...         0.75  13.69  21.59  23.90   \n",
       "3          3           SAF    Gelding  ...         3.50  14.09  21.83  23.70   \n",
       "4          3            GB    Gelding  ...         4.25  14.77  21.75  23.22   \n",
       "5          3            NZ    Gelding  ...         1.25  14.33  22.03  22.90   \n",
       "6          3            NZ    Gelding  ...         0.75  13.53  21.59  23.94   \n",
       "7          3           AUS    Gelding  ...         3.25  14.13  21.87  23.58   \n",
       "8          3            NZ    Gelding  ...         1.25  13.65  21.71  23.90   \n",
       "9          3           AUS       Mare  ...        16.75  15.05  22.31  24.38   \n",
       "\n",
       "   finish_time  win_odds  place_odds  trainer_id  jockey_id  show  \n",
       "0        83.92       9.7         3.7         118          2     0  \n",
       "1        83.56      16.0         4.9         164         57     0  \n",
       "2        83.40       3.5         1.5         137         18     0  \n",
       "3        83.62      39.0        11.0          80         59     0  \n",
       "4        83.24      50.0        14.0           9        154     0  \n",
       "5        82.83       7.0         1.8          54         34     1  \n",
       "6        84.15      99.0        28.0          55        149     0  \n",
       "7        82.64      12.0         3.6          47        183     1  \n",
       "8        84.20      38.0        13.0          75        131     0  \n",
       "9        92.20      39.0        12.0         109        145     0  \n",
       "\n",
       "[10 rows x 30 columns]"
      ]
     },
     "execution_count": 6,
     "metadata": {},
     "output_type": "execute_result"
    }
   ],
   "source": [
    "# Add a Show result feature\n",
    "runs_df['show'] = np.where(runs_df['result'] <= 3, 1, 0)\n",
    "runs_df_onehot['show'] = np.where(runs_df['result'] <= 3, 1, 0)\n",
    "\n",
    "runs_df.head(10)"
   ]
  },
  {
   "cell_type": "markdown",
   "id": "b733ef0c",
   "metadata": {},
   "source": [
    "Now that we have all the necessary features and the data set is cleaned, we will divide into test and train data sets. We used an 80/20 split: 80% of the data will be used to train the models and the remaining 20% will be used to generate a confusion matrix so that we can evaluate performance and compare various models.\n",
    "\n",
    "Since the data set contains features not known pre-race (e.g. how many lengths the horse finished behind the winner, lap times, etc.) we will drop those from the training and test sets."
   ]
  },
  {
   "cell_type": "markdown",
   "id": "39603feb",
   "metadata": {},
   "source": [
    "#### Test and Train set split"
   ]
  },
  {
   "cell_type": "markdown",
   "id": "7d83f742",
   "metadata": {},
   "source": [
    "A total of three test/train data sets were created. One for runs_data without one hot encoding, one for runs_data with one-hot encoding, and one with one-hot encoding but the target is \"show\" instead of \"win\". All are derived from the same data set with the same random seed value."
   ]
  },
  {
   "cell_type": "code",
   "execution_count": 7,
   "id": "bd23668c",
   "metadata": {},
   "outputs": [],
   "source": [
    "# Split the data and target\n",
    "# Only use features known pre-race (e.g. not finish time)\n",
    "# Remove non-numerical features (e.g. horse country) since we performed one hot encoding\n",
    "runs_data = runs_df.drop(['Unnamed: 0','race_id','horse_id','result','won','show','lengths_behind','horse_country','horse_type','horse_gear','position_sec1','position_sec2','position_sec3','behind_sec1','behind_sec2','behind_sec3','time1','time2','time3','finish_time','trainer_id','jockey_id'], axis=1)\n",
    "runs_target = runs_df['won']\n",
    "runs_target_show = runs_df['show']\n",
    "\n",
    "X_train,X_test,Y_train,Y_test = train_test_split(runs_data,runs_target,test_size=0.20,random_state=0)"
   ]
  },
  {
   "cell_type": "code",
   "execution_count": 8,
   "id": "921c0631",
   "metadata": {},
   "outputs": [],
   "source": [
    "# Split the data and target\n",
    "# Only use features known pre-race (e.g. not finish time)\n",
    "# Remove non-numerical features (e.g. horse country) since we performed one hot encoding\n",
    "runs_data_onehot = runs_df_onehot.drop(['Unnamed: 0','race_id','horse_id','result','won','show','lengths_behind','horse_country','horse_type','horse_gear','position_sec1','position_sec2','position_sec3','behind_sec1','behind_sec2','behind_sec3','time1','time2','time3','finish_time','trainer_id','jockey_id'], axis=1)\n",
    "runs_target_onehot = runs_df_onehot['won']\n",
    "runs_target_show_onehot = runs_df_onehot['show']\n",
    "\n",
    "X_train_onehot,X_test_onehot,Y_train_onehot,Y_test_onehot = train_test_split(runs_data_onehot,runs_target_onehot,test_size=0.20,random_state=0)\n",
    "X_train_onehot_show,X_test_onehot_show,Y_train_onehot_show,Y_test_onehot_show = train_test_split(runs_data_onehot,runs_target_show_onehot,test_size=0.20,random_state=0)"
   ]
  },
  {
   "cell_type": "markdown",
   "id": "248594dd",
   "metadata": {},
   "source": [
    "#### Logistic Regression Model fitting"
   ]
  },
  {
   "cell_type": "markdown",
   "id": "01444337",
   "metadata": {},
   "source": [
    "Next we created two logistic regression models to predict whether a horse won or lost it's race. For the first model we do not balance the class weights. For the second we do. Note the dramatically higher accuracy for unbalanced classes. For an unbalanced model, it simply predicts a loss for every outcome."
   ]
  },
  {
   "cell_type": "code",
   "execution_count": 9,
   "id": "0a488eef",
   "metadata": {},
   "outputs": [
    {
     "name": "stdout",
     "output_type": "stream",
     "text": [
      "Accuracy:  0.9207428391564368 %\n",
      "AUC:  0.5 %\n",
      "Confusion Matrix: \n",
      " [[14626     0]\n",
      " [ 1259     0]]\n"
     ]
    }
   ],
   "source": [
    "# Use Logistic Regression to predict win/loss - Not Balance\n",
    "from sklearn.linear_model import LogisticRegression\n",
    "\n",
    "lr_nobalance = LogisticRegression(penalty='l2', C=1.0, solver='liblinear' )\n",
    "lr_nobalance.fit(X_train,Y_train)\n",
    "yhat = lr_nobalance.predict(X_test)\n",
    "\n",
    "acc = mt.accuracy_score(Y_test,yhat)\n",
    "auc = roc_auc_score(Y_test_onehot,yhat)\n",
    "conf = mt.confusion_matrix(Y_test,yhat)\n",
    "\n",
    "print(\"Accuracy: \", acc, \"%\" )\n",
    "print(\"AUC: \", auc, \"%\" )\n",
    "print(\"Confusion Matrix: \\n\",conf)"
   ]
  },
  {
   "cell_type": "code",
   "execution_count": 10,
   "id": "3d7c9cf3",
   "metadata": {},
   "outputs": [
    {
     "name": "stdout",
     "output_type": "stream",
     "text": [
      "Accuracy:  0.5548630783758263 %\n",
      "AUC:  0.6947558326663638 %\n",
      "Confusion Matrix: \n",
      " [[7730 6896]\n",
      " [ 175 1084]]\n"
     ]
    }
   ],
   "source": [
    "# Use Logistic Regression to predict win/loss - Class Balance\n",
    "lr_balance = LogisticRegression(penalty='l2', C=1.0, class_weight='balanced', solver='liblinear' )\n",
    "lr_balance.fit(X_train,Y_train)\n",
    "yhat = lr_balance.predict(X_test)\n",
    "\n",
    "acc = mt.accuracy_score(Y_test,yhat)\n",
    "auc = roc_auc_score(Y_test_onehot,yhat)\n",
    "conf = mt.confusion_matrix(Y_test,yhat)\n",
    "\n",
    "print(\"Accuracy: \", acc, \"%\" )\n",
    "print(\"AUC: \", auc, \"%\" )\n",
    "print(\"Confusion Matrix: \\n\",conf)"
   ]
  },
  {
   "cell_type": "markdown",
   "id": "6e2c3576",
   "metadata": {},
   "source": [
    "#### Parameter tuning: Class Balance"
   ]
  },
  {
   "cell_type": "markdown",
   "id": "43a24492",
   "metadata": {},
   "source": [
    "As can be seen below, of the 79423 entries in the data set, only 6360 (8%) won their race. This intuitively makes sense since a horse can finish from first to about fourteenth place depending on the race. When we did not balance the class the logistic regression model selected a loss for every prediction and achieved an accuracy of about 92%, which again intuitively makes sense if 92% of entries are loses.\n",
    "\n",
    "When we account for this imbalance, or logistic regression model is able to correctly predict whether a horse will win or lose 55.5% of the time. While less accurate than the unbalance model, it is more useful in a real world scenario where we want to make actual picks on which horse will win a race and not just pick every horse to lose all the time."
   ]
  },
  {
   "cell_type": "code",
   "execution_count": 11,
   "id": "a58199d0",
   "metadata": {},
   "outputs": [
    {
     "name": "stdout",
     "output_type": "stream",
     "text": [
      "0.0    73063\n",
      "1.0     6360\n",
      "Name: won, dtype: int64\n"
     ]
    }
   ],
   "source": [
    "# How many won, lost values in the data set\n",
    "item_counts = runs_df['won'].value_counts()\n",
    "print(item_counts)"
   ]
  },
  {
   "cell_type": "markdown",
   "id": "c408c469",
   "metadata": {},
   "source": [
    "Next we plotted the confusion matrix for the balanced logistic regression model to help visually interpret our results."
   ]
  },
  {
   "cell_type": "markdown",
   "id": "3a3bda96",
   "metadata": {},
   "source": [
    "#### Confusion Matrix Heat Map"
   ]
  },
  {
   "cell_type": "code",
   "execution_count": 12,
   "id": "d9490071",
   "metadata": {},
   "outputs": [
    {
     "data": {
      "text/plain": [
       "<sklearn.metrics._plot.confusion_matrix.ConfusionMatrixDisplay at 0x7fa5b2626880>"
      ]
     },
     "execution_count": 12,
     "metadata": {},
     "output_type": "execute_result"
    },
    {
     "data": {
      "image/png": "[encoded data removed]",
      "text/plain": [
       "<Figure size 432x288 with 2 Axes>"
      ]
     },
     "metadata": {
      "needs_background": "light"
     },
     "output_type": "display_data"
    }
   ],
   "source": [
    "# Plot the confusion matrix\n",
    "plot_confusion_matrix(lr_balance, X_test, Y_test)"
   ]
  },
  {
   "cell_type": "markdown",
   "id": "ea2c371e",
   "metadata": {},
   "source": [
    "#### Using One Hot Encoding to create a third model"
   ]
  },
  {
   "cell_type": "markdown",
   "id": "c6785112",
   "metadata": {},
   "source": [
    "Next we will create a logistic regression model using the one hot encoded features and compare the performance."
   ]
  },
  {
   "cell_type": "code",
   "execution_count": 13,
   "id": "d5413fe3",
   "metadata": {},
   "outputs": [
    {
     "name": "stdout",
     "output_type": "stream",
     "text": [
      "Accuracy:  0.5562480327352849 %\n",
      "AUC:  0.6940560984296086 %\n",
      "Confusion Matrix: \n",
      " [[7756 6870]\n",
      " [ 179 1080]]\n"
     ]
    }
   ],
   "source": [
    "lr_onehot = LogisticRegression(penalty='l2', C=1.0, class_weight='balanced', solver='liblinear' )\n",
    "lr_onehot.fit(X_train_onehot,Y_train_onehot)\n",
    "yhat = lr_onehot.predict(X_test_onehot)\n",
    "\n",
    "acc = mt.accuracy_score(Y_test_onehot,yhat)\n",
    "auc = roc_auc_score(Y_test_onehot,yhat)\n",
    "conf = mt.confusion_matrix(Y_test_onehot,yhat)\n",
    "print(\"Accuracy: \", acc, \"%\" )\n",
    "print(\"AUC: \", auc, \"%\" )\n",
    "print(\"Confusion Matrix: \\n\",conf)"
   ]
  },
  {
   "cell_type": "markdown",
   "id": "089b1da4",
   "metadata": {},
   "source": [
    "With the additional features based on horse type and horse country, we increased out performance to 55.6248% at the cost of some added complexity."
   ]
  },
  {
   "cell_type": "markdown",
   "id": "4ef8db82",
   "metadata": {},
   "source": [
    "#### Compare the three logistic regression models to predict a win"
   ]
  },
  {
   "cell_type": "markdown",
   "id": "182b496e",
   "metadata": {},
   "source": [
    "To compare the three models so far:\n",
    "- Logistic Regression with basic features from the data set: 69.4756% AUC\n",
    "- Logistic Regression with only odds predictors: 69.6173% AUC\n",
    "- Logistic Regression with additional one-hot encoded features: 69.4056% AUC\n",
    "\n",
    "Note the Logistic Regression model with only the odds predictors has the highest AUC score."
   ]
  },
  {
   "cell_type": "markdown",
   "id": "2765f93b",
   "metadata": {},
   "source": [
    "#### Create a model to predict if a horse will show"
   ]
  },
  {
   "cell_type": "markdown",
   "id": "d25e107f",
   "metadata": {},
   "source": [
    "Lastly, we quickly created a logistic regression model using balanced classes and the horse country and type features, but predicted \"show\" instead of \"win\". So this model predicts whether a horse will finish first, second, or third. Note it achieved an accuracy of 59.3642% and an AUC of 67.7663%. The model is about 4% more accurate that predicting wins/losses but it has a lower AUC score."
   ]
  },
  {
   "cell_type": "code",
   "execution_count": 14,
   "id": "5fd5b9fa",
   "metadata": {},
   "outputs": [
    {
     "name": "stdout",
     "output_type": "stream",
     "text": [
      "Accuracy:  0.5936418004406673 %\n",
      "AUC:  0.6776632015385573 %\n",
      "Confusion Matrix: \n",
      " [[6277 5920]\n",
      " [ 535 3153]]\n"
     ]
    }
   ],
   "source": [
    "lr_show = LogisticRegression(penalty='l2', C=1.0, class_weight='balanced', solver='liblinear' )\n",
    "lr_show.fit(X_train_onehot_show,Y_train_onehot_show)\n",
    "yhat = lr_show.predict(X_test_onehot_show)\n",
    "\n",
    "acc = mt.accuracy_score(Y_test_onehot_show,yhat)\n",
    "auc = roc_auc_score(Y_test_onehot,yhat)\n",
    "conf = mt.confusion_matrix(Y_test_onehot_show,yhat)\n",
    "\n",
    "print(\"Accuracy: \", acc, \"%\" )\n",
    "print(\"AUC: \", auc, \"%\" )\n",
    "print(\"Confusion Matrix: \\n\",conf)"
   ]
  },
  {
   "cell_type": "markdown",
   "id": "92794550",
   "metadata": {},
   "source": [
    "## Section 2: Interpret Feature Importance"
   ]
  },
  {
   "cell_type": "markdown",
   "id": "60e72278",
   "metadata": {},
   "source": [
    "### Logistic Regression Model Weight Interpretation"
   ]
  },
  {
   "cell_type": "markdown",
   "id": "f2270e62",
   "metadata": {},
   "source": [
    "Now that we have determined a class balanced logistic regression model is preferred, we wanted to evaluate how much each predictor contributed to the model. We find the coefficient values for weight and them plot them to visually compare"
   ]
  },
  {
   "cell_type": "code",
   "execution_count": 15,
   "id": "c5d8d5aa",
   "metadata": {},
   "outputs": [
    {
     "name": "stdout",
     "output_type": "stream",
     "text": [
      "horse_no has weight of -0.002237582389538193\n",
      "horse_age has weight of 0.0043825330462001055\n",
      "horse_rating has weight of 0.0007784070799899759\n",
      "declared_weight has weight of 0.0008365774594610835\n",
      "actual_weight has weight of 0.0003441433193013598\n",
      "draw has weight of -0.004366868449994774\n",
      "win_odds has weight of -0.059762596726509354\n",
      "place_odds has weight of -0.01298796524530625\n"
     ]
    }
   ],
   "source": [
    "# Look at the weights\n",
    "# Source: github/jakemdrew/DataMiningNotebook 4\n",
    "\n",
    "weights = lr_balance.coef_.T\n",
    "variable_names = X_train.columns\n",
    "for coef, name in zip(weights,variable_names):\n",
    "    print(name, 'has weight of', coef[0])"
   ]
  },
  {
   "cell_type": "markdown",
   "id": "a020c085",
   "metadata": {},
   "source": [
    "#### Logistic Regression Model Feature Weights"
   ]
  },
  {
   "cell_type": "code",
   "execution_count": 16,
   "id": "b4cc22ca",
   "metadata": {},
   "outputs": [
    {
     "data": {
      "image/png": "[encoded data removed]",
      "text/plain": [
       "<Figure size 432x288 with 1 Axes>"
      ]
     },
     "metadata": {},
     "output_type": "display_data"
    }
   ],
   "source": [
    "# Plot the weights to compare them\n",
    "# Source: github/jakemdrew/DataMiningNotebook 4\n",
    "\n",
    "plt.style.use('ggplot')\n",
    "\n",
    "weights = pd.Series(lr_balance.coef_[0],index=X_train.columns)\n",
    "weights.plot(kind='bar')\n",
    "plt.show()"
   ]
  },
  {
   "cell_type": "markdown",
   "id": "caf52064",
   "metadata": {},
   "source": [
    "As can be seen above, odds to win and odds to show are by far the most important predictors. This intuitively makes sense. Lets re-run the logistic regression model again using only those two predictors and compare the performance to the previous model."
   ]
  },
  {
   "cell_type": "code",
   "execution_count": 17,
   "id": "9062df0d",
   "metadata": {},
   "outputs": [
    {
     "name": "stdout",
     "output_type": "stream",
     "text": [
      "Accuracy:  0.5548001259049418 %\n",
      "AUC:  0.6961734665339135 %\n",
      "Confusion Matrix: \n",
      " [[7725 6901]\n",
      " [ 171 1088]]\n",
      "horse_no has weight of -0.06032179759892069\n",
      "horse_age has weight of -0.01311598827744986\n"
     ]
    }
   ],
   "source": [
    "# Use Logistic Regression to predict win/loss - Class Balance\n",
    "X_train_lite = X_train[['win_odds', 'place_odds']]\n",
    "X_test_lite = X_test[['win_odds', 'place_odds']]\n",
    "\n",
    "\n",
    "lr_lite = LogisticRegression(penalty='l2', C=1.0, class_weight='balanced', solver='liblinear' )\n",
    "lr_lite.fit(X_train_lite,Y_train)\n",
    "yhat = lr_lite.predict(X_test_lite)\n",
    "\n",
    "acc = mt.accuracy_score(Y_test,yhat)\n",
    "auc = roc_auc_score(Y_test_onehot,yhat)\n",
    "conf = mt.confusion_matrix(Y_test,yhat)\n",
    "print(\"Accuracy: \", acc, \"%\" )\n",
    "print(\"AUC: \", auc, \"%\" )\n",
    "print(\"Confusion Matrix: \\n\",conf)\n",
    "\n",
    "weights = lr_lite.coef_.T\n",
    "variable_names = X_train.columns\n",
    "for coef, name in zip(weights,variable_names):\n",
    "    print(name, 'has weight of', coef[0])"
   ]
  },
  {
   "cell_type": "markdown",
   "id": "851f13ac",
   "metadata": {},
   "source": [
    "For the previous model with many predictors, we achieved an accuracy of 55.4863%. For the model where we only used win odds and place odds, we achieved an almost identical accuracy of 55.48001% with a simpler model."
   ]
  },
  {
   "cell_type": "markdown",
   "id": "00e2b48a",
   "metadata": {},
   "source": [
    "Finally, we will look at feature importance for the model with that includes horse_type and horse_country."
   ]
  },
  {
   "cell_type": "code",
   "execution_count": 18,
   "id": "45a33c5c",
   "metadata": {},
   "outputs": [
    {
     "name": "stdout",
     "output_type": "stream",
     "text": [
      "horse_no has weight of -0.002446828107885964\n",
      "horse_age has weight of 0.008237314702305914\n",
      "horse_rating has weight of 0.001068646995946409\n",
      "declared_weight has weight of 0.0007362207101892282\n",
      "actual_weight has weight of 0.00022077430655622655\n",
      "draw has weight of -0.004431892273898282\n",
      "win_odds has weight of -0.05990890373530979\n",
      "place_odds has weight of -0.012360194130062712\n",
      "horse_country_ARG has weight of -0.24137621230555287\n",
      "horse_country_AUS has weight of 0.12357395636646334\n",
      "horse_country_BRZ has weight of 0.537105429711514\n",
      "horse_country_CAN has weight of -0.22738472312136235\n",
      "horse_country_FR has weight of 0.10045391209080662\n",
      "horse_country_GB has weight of 0.14795790790218025\n",
      "horse_country_GER has weight of -0.42909663797510467\n",
      "horse_country_GR has weight of -1.3715137115841296\n",
      "horse_country_IRE has weight of 0.04811809292383599\n",
      "horse_country_ITY has weight of -0.9324660778338693\n",
      "horse_country_JPN has weight of 0.2872032630538696\n",
      "horse_country_NZ has weight of 0.14373640535423654\n",
      "horse_country_SAF has weight of 0.24121263488586672\n",
      "horse_country_SPA has weight of -0.002231837623338546\n",
      "horse_country_USA has weight of 0.15827100359079616\n",
      "horse_country_ZIM has weight of 1.338882466140004\n",
      "horse_type_Brown has weight of 0.08165681890000026\n",
      "horse_type_Colt has weight of 0.272011485839709\n",
      "horse_type_Filly has weight of -0.025170559011215253\n",
      "horse_type_Gelding has weight of 0.05043982284619104\n",
      "horse_type_Grey has weight of 0.1404992048235331\n",
      "horse_type_Horse has weight of 0.10068883683011913\n",
      "horse_type_Mare has weight of -0.11758550521128436\n",
      "horse_type_Rig has weight of 0.4327594106716386\n",
      "horse_type_Roan has weight of -1.012853644184469\n"
     ]
    }
   ],
   "source": [
    "# We will not visually plot these weights since the plot becomes too cluttered to read\n",
    "weights = lr_onehot.coef_.T\n",
    "variable_names = X_train_onehot.columns\n",
    "for coef, name in zip(weights,variable_names):\n",
    "    print(name, 'has weight of', coef[0])"
   ]
  },
  {
   "cell_type": "markdown",
   "id": "6ebb544a",
   "metadata": {},
   "source": [
    "  "
   ]
  },
  {
   "cell_type": "markdown",
   "id": "8e5ef532",
   "metadata": {},
   "source": [
    "## Section 3: Interpret Support Vectors"
   ]
  },
  {
   "cell_type": "markdown",
   "id": "d0ac3bd9",
   "metadata": {},
   "source": [
    "  "
   ]
  },
  {
   "cell_type": "markdown",
   "id": "24b85bb7",
   "metadata": {},
   "source": [
    "  "
   ]
  },
  {
   "cell_type": "markdown",
   "id": "582d0730",
   "metadata": {},
   "source": [
    "  "
   ]
  },
  {
   "cell_type": "markdown",
   "id": "0c4e81ee",
   "metadata": {},
   "source": [
    "  "
   ]
  },
  {
   "cell_type": "markdown",
   "id": "81ab0227",
   "metadata": {},
   "source": [
    "## Section 4: Model Advantages"
   ]
  },
  {
   "cell_type": "markdown",
   "id": "888104fd",
   "metadata": {},
   "source": [
    "### Logistic Regression"
   ]
  },
  {
   "cell_type": "markdown",
   "id": "1e767e6e",
   "metadata": {},
   "source": [
    "Talk about advantages here, such as ability to interpret the feature weights from the coefficients."
   ]
  },
  {
   "cell_type": "markdown",
   "id": "6b6de3be",
   "metadata": {},
   "source": [
    "### SVM"
   ]
  },
  {
   "cell_type": "markdown",
   "id": "343cd5df",
   "metadata": {},
   "source": [
    "Talk about advantages here."
   ]
  },
  {
   "cell_type": "markdown",
   "id": "481dd432",
   "metadata": {},
   "source": [
    "  "
   ]
  },
  {
   "cell_type": "markdown",
   "id": "020eab1d",
   "metadata": {},
   "source": [
    "  "
   ]
  },
  {
   "cell_type": "code",
   "execution_count": null,
   "id": "c2fad3b3",
   "metadata": {},
   "outputs": [],
   "source": []
  }
 ],
 "metadata": {
  "kernelspec": {
   "display_name": "Python 3",
   "language": "python",
   "name": "python3"
  },
  "language_info": {
   "codemirror_mode": {
    "name": "ipython",
    "version": 3
   },
   "file_extension": ".py",
   "mimetype": "text/x-python",
   "name": "python",
   "nbconvert_exporter": "python",
   "pygments_lexer": "ipython3",
   "version": "3.8.8"
  }
 },
 "nbformat": 4,
 "nbformat_minor": 5
}
