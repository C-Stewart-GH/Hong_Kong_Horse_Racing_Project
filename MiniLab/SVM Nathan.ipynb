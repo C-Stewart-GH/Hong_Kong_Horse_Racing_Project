{
 "cells": [
  {
   "cell_type": "code",
   "execution_count": 1,
   "metadata": {},
   "outputs": [],
   "source": [
    "import pandas as pd\n",
    "import numpy as np\n",
    "from sklearn.model_selection import train_test_split\n",
    "from sklearn.linear_model import LogisticRegression\n",
    "from sklearn import metrics as mt\n",
    "from sklearn.model_selection import cross_val_score\n",
    "import matplotlib.pyplot as plt\n",
    "from sklearn.preprocessing import StandardScaler\n",
    "from sklearn.pipeline import Pipeline\n",
    "from sklearn.svm import SVC\n",
    "from sklearn.model_selection import train_test_split\n",
    "from sklearn.metrics import ConfusionMatrixDisplay\n",
    "from sklearn.metrics import roc_auc_score\n",
    "import seaborn as sns\n",
    "from sklearn.decomposition import PCA\n",
    "import warnings\n",
    "warnings.simplefilter('ignore', DeprecationWarning)"
   ]
  },
  {
   "cell_type": "markdown",
   "metadata": {},
   "source": [
    "## Read in the cleaned dataframe from Lab 1 "
   ]
  },
  {
   "cell_type": "markdown",
   "metadata": {},
   "source": [
    "##### This brings in our data set. We are also removing columns that would not be available to us before the horse race. This is to keep us within the spirit of the competition of could we accurately preditct a winner before the race starts. The removed columns are taken during the race and would more or less give us a certain answer as to the winner"
   ]
  },
  {
   "cell_type": "code",
   "execution_count": 2,
   "metadata": {},
   "outputs": [],
   "source": [
    "# Read in the cleaned dataframe from Lab 1 \n",
    "url = \"https://raw.githubusercontent.com/nedeinlein/Machine_Learning_I/main/runs_clean.csv\"\n",
    "runs_df = pd.read_csv(url, index_col=False)\n",
    "runs_df = runs_df.drop(['race_id','result','lengths_behind','position_sec1','position_sec2','position_sec3','behind_sec1','behind_sec2','behind_sec3','time1','time2','time3','finish_time'],axis = 1)"
   ]
  },
  {
   "cell_type": "markdown",
   "metadata": {},
   "source": [
    "## One hot encode"
   ]
  },
  {
   "cell_type": "markdown",
   "metadata": {},
   "source": [
    "##### Creating one hot encode for categorical variables. Also dropping horse_gear due to it's lack of validity in the model"
   ]
  },
  {
   "cell_type": "code",
   "execution_count": 3,
   "metadata": {},
   "outputs": [],
   "source": [
    "tmp_df = pd.get_dummies(runs_df.horse_country,prefix='horse_country')\n",
    "runs_df_onehot = pd.concat((runs_df,tmp_df),axis=1)\n",
    "\n",
    "tmp_df = pd.get_dummies(runs_df.horse_type,prefix='horse_type')\n",
    "runs_df_onehot = pd.concat((runs_df_onehot,tmp_df),axis=1)\n",
    "\n",
    "#Drop old columns\n",
    "runs_df_onehot = runs_df_onehot.drop(['horse_country','horse_type','horse_gear'],axis = 1)"
   ]
  },
  {
   "cell_type": "markdown",
   "metadata": {},
   "source": [
    "## Split train test"
   ]
  },
  {
   "cell_type": "markdown",
   "metadata": {},
   "source": [
    "##### Running simple code to remove labels for test and split model into test and train sets based on 80/20 split"
   ]
  },
  {
   "cell_type": "code",
   "execution_count": 4,
   "metadata": {},
   "outputs": [
    {
     "data": {
      "text/html": [
       "<div>\n",
       "<style scoped>\n",
       "    .dataframe tbody tr th:only-of-type {\n",
       "        vertical-align: middle;\n",
       "    }\n",
       "\n",
       "    .dataframe tbody tr th {\n",
       "        vertical-align: top;\n",
       "    }\n",
       "\n",
       "    .dataframe thead th {\n",
       "        text-align: right;\n",
       "    }\n",
       "</style>\n",
       "<table border=\"1\" class=\"dataframe\">\n",
       "  <thead>\n",
       "    <tr style=\"text-align: right;\">\n",
       "      <th></th>\n",
       "      <th>Unnamed: 0</th>\n",
       "      <th>horse_no</th>\n",
       "      <th>horse_id</th>\n",
       "      <th>horse_age</th>\n",
       "      <th>horse_rating</th>\n",
       "      <th>declared_weight</th>\n",
       "      <th>actual_weight</th>\n",
       "      <th>draw</th>\n",
       "      <th>win_odds</th>\n",
       "      <th>place_odds</th>\n",
       "      <th>...</th>\n",
       "      <th>horse_country_ZIM</th>\n",
       "      <th>horse_type_Brown</th>\n",
       "      <th>horse_type_Colt</th>\n",
       "      <th>horse_type_Filly</th>\n",
       "      <th>horse_type_Gelding</th>\n",
       "      <th>horse_type_Grey</th>\n",
       "      <th>horse_type_Horse</th>\n",
       "      <th>horse_type_Mare</th>\n",
       "      <th>horse_type_Rig</th>\n",
       "      <th>horse_type_Roan</th>\n",
       "    </tr>\n",
       "  </thead>\n",
       "  <tbody>\n",
       "    <tr>\n",
       "      <th>62425</th>\n",
       "      <td>62447</td>\n",
       "      <td>1</td>\n",
       "      <td>2453</td>\n",
       "      <td>5</td>\n",
       "      <td>85</td>\n",
       "      <td>1133.0</td>\n",
       "      <td>131</td>\n",
       "      <td>10</td>\n",
       "      <td>13.0</td>\n",
       "      <td>3.2</td>\n",
       "      <td>...</td>\n",
       "      <td>0</td>\n",
       "      <td>0</td>\n",
       "      <td>0</td>\n",
       "      <td>0</td>\n",
       "      <td>1</td>\n",
       "      <td>0</td>\n",
       "      <td>0</td>\n",
       "      <td>0</td>\n",
       "      <td>0</td>\n",
       "      <td>0</td>\n",
       "    </tr>\n",
       "    <tr>\n",
       "      <th>39062</th>\n",
       "      <td>39082</td>\n",
       "      <td>8</td>\n",
       "      <td>4281</td>\n",
       "      <td>3</td>\n",
       "      <td>60</td>\n",
       "      <td>984.0</td>\n",
       "      <td>116</td>\n",
       "      <td>1</td>\n",
       "      <td>80.0</td>\n",
       "      <td>11.0</td>\n",
       "      <td>...</td>\n",
       "      <td>0</td>\n",
       "      <td>0</td>\n",
       "      <td>0</td>\n",
       "      <td>0</td>\n",
       "      <td>1</td>\n",
       "      <td>0</td>\n",
       "      <td>0</td>\n",
       "      <td>0</td>\n",
       "      <td>0</td>\n",
       "      <td>0</td>\n",
       "    </tr>\n",
       "    <tr>\n",
       "      <th>59609</th>\n",
       "      <td>59631</td>\n",
       "      <td>9</td>\n",
       "      <td>154</td>\n",
       "      <td>3</td>\n",
       "      <td>60</td>\n",
       "      <td>1200.0</td>\n",
       "      <td>119</td>\n",
       "      <td>12</td>\n",
       "      <td>12.0</td>\n",
       "      <td>3.1</td>\n",
       "      <td>...</td>\n",
       "      <td>0</td>\n",
       "      <td>0</td>\n",
       "      <td>0</td>\n",
       "      <td>0</td>\n",
       "      <td>1</td>\n",
       "      <td>0</td>\n",
       "      <td>0</td>\n",
       "      <td>0</td>\n",
       "      <td>0</td>\n",
       "      <td>0</td>\n",
       "    </tr>\n",
       "    <tr>\n",
       "      <th>21589</th>\n",
       "      <td>21609</td>\n",
       "      <td>11</td>\n",
       "      <td>1872</td>\n",
       "      <td>3</td>\n",
       "      <td>60</td>\n",
       "      <td>1105.0</td>\n",
       "      <td>115</td>\n",
       "      <td>5</td>\n",
       "      <td>6.3</td>\n",
       "      <td>2.3</td>\n",
       "      <td>...</td>\n",
       "      <td>0</td>\n",
       "      <td>0</td>\n",
       "      <td>0</td>\n",
       "      <td>0</td>\n",
       "      <td>1</td>\n",
       "      <td>0</td>\n",
       "      <td>0</td>\n",
       "      <td>0</td>\n",
       "      <td>0</td>\n",
       "      <td>0</td>\n",
       "    </tr>\n",
       "    <tr>\n",
       "      <th>70137</th>\n",
       "      <td>70160</td>\n",
       "      <td>13</td>\n",
       "      <td>3141</td>\n",
       "      <td>4</td>\n",
       "      <td>18</td>\n",
       "      <td>1040.0</td>\n",
       "      <td>115</td>\n",
       "      <td>3</td>\n",
       "      <td>9.8</td>\n",
       "      <td>2.3</td>\n",
       "      <td>...</td>\n",
       "      <td>0</td>\n",
       "      <td>0</td>\n",
       "      <td>0</td>\n",
       "      <td>0</td>\n",
       "      <td>1</td>\n",
       "      <td>0</td>\n",
       "      <td>0</td>\n",
       "      <td>0</td>\n",
       "      <td>0</td>\n",
       "      <td>0</td>\n",
       "    </tr>\n",
       "  </tbody>\n",
       "</table>\n",
       "<p>5 rows × 37 columns</p>\n",
       "</div>"
      ],
      "text/plain": [
       "       Unnamed: 0  horse_no  horse_id  horse_age  horse_rating  \\\n",
       "62425       62447         1      2453          5            85   \n",
       "39062       39082         8      4281          3            60   \n",
       "59609       59631         9       154          3            60   \n",
       "21589       21609        11      1872          3            60   \n",
       "70137       70160        13      3141          4            18   \n",
       "\n",
       "       declared_weight  actual_weight  draw  win_odds  place_odds  ...  \\\n",
       "62425           1133.0            131    10      13.0         3.2  ...   \n",
       "39062            984.0            116     1      80.0        11.0  ...   \n",
       "59609           1200.0            119    12      12.0         3.1  ...   \n",
       "21589           1105.0            115     5       6.3         2.3  ...   \n",
       "70137           1040.0            115     3       9.8         2.3  ...   \n",
       "\n",
       "       horse_country_ZIM  horse_type_Brown  horse_type_Colt  horse_type_Filly  \\\n",
       "62425                  0                 0                0                 0   \n",
       "39062                  0                 0                0                 0   \n",
       "59609                  0                 0                0                 0   \n",
       "21589                  0                 0                0                 0   \n",
       "70137                  0                 0                0                 0   \n",
       "\n",
       "       horse_type_Gelding  horse_type_Grey  horse_type_Horse  horse_type_Mare  \\\n",
       "62425                   1                0                 0                0   \n",
       "39062                   1                0                 0                0   \n",
       "59609                   1                0                 0                0   \n",
       "21589                   1                0                 0                0   \n",
       "70137                   1                0                 0                0   \n",
       "\n",
       "       horse_type_Rig  horse_type_Roan  \n",
       "62425               0                0  \n",
       "39062               0                0  \n",
       "59609               0                0  \n",
       "21589               0                0  \n",
       "70137               0                0  \n",
       "\n",
       "[5 rows x 37 columns]"
      ]
     },
     "execution_count": 4,
     "metadata": {},
     "output_type": "execute_result"
    }
   ],
   "source": [
    "runs_data = runs_df_onehot.drop(['won'], axis=1)\n",
    "runs_target = runs_df_onehot['won']\n",
    "\n",
    "X_train,X_test,Y_train,Y_test = train_test_split(runs_data,runs_target,test_size=0.20,random_state=0)\n",
    "X_train.head()"
   ]
  },
  {
   "cell_type": "markdown",
   "metadata": {},
   "source": [
    "## Standard Scaler"
   ]
  },
  {
   "cell_type": "markdown",
   "metadata": {},
   "source": [
    "##### Going through and standardizing the scale of all continuous variables to avoid unwanted skew based on variace weight"
   ]
  },
  {
   "cell_type": "code",
   "execution_count": 5,
   "metadata": {},
   "outputs": [],
   "source": [
    "scl_obj = StandardScaler()\n",
    "X_train_scaled = scl_obj.fit_transform(X_train, y = None)\n",
    "X_test_scaled = scl_obj.fit_transform(X_test, y = None)\n"
   ]
  },
  {
   "cell_type": "markdown",
   "metadata": {},
   "source": [
    "## SVM"
   ]
  },
  {
   "cell_type": "markdown",
   "metadata": {},
   "source": [
    "##### Starting to build out SVM to assist logistic regression. This will involve training and manipulating the constants.\n",
    "##### SVM1"
   ]
  },
  {
   "cell_type": "code",
   "execution_count": 6,
   "metadata": {},
   "outputs": [
    {
     "name": "stdout",
     "output_type": "stream",
     "text": [
      "Accuracy: 0.5760151085930123\n",
      "Sensitivity 0.8276409849086577\n",
      "Specificity 0.13783068783068783\n",
      "auc; 0.6909981213344054\n",
      "[[8108 6518]\n",
      " [ 217 1042]]\n"
     ]
    },
    {
     "data": {
      "text/plain": [
       "<sklearn.metrics._plot.confusion_matrix.ConfusionMatrixDisplay at 0x224161cdd60>"
      ]
     },
     "execution_count": 6,
     "metadata": {},
     "output_type": "execute_result"
    },
    {
     "data": {
      "image/png": "[encoded data removed]",
      "text/plain": [
       "<Figure size 432x288 with 2 Axes>"
      ]
     },
     "metadata": {
      "needs_background": "light"
     },
     "output_type": "display_data"
    }
   ],
   "source": [
    "# train the model\n",
    "svm_clf = SVC(C=0.5, kernel='rbf', gamma='auto',class_weight = 'balanced') # get object\n",
    "svm_clf.fit(X_train_scaled,Y_train)  # train object\n",
    "\n",
    "y_hat = svm_clf.predict(X_test_scaled) # get test set precitions\n",
    "\n",
    "acc = mt.accuracy_score(Y_test,y_hat)\n",
    "sen = mt.recall_score(Y_test,y_hat)\n",
    "spe = mt.precision_score(Y_test,y_hat)\n",
    "conf = mt.confusion_matrix(Y_test,y_hat)\n",
    "auc=roc_auc_score(Y_test,y_hat)\n",
    "print('Accuracy:', acc )\n",
    "print('Sensitivity',sen)\n",
    "print('Specificity',spe)\n",
    "print('auc;',auc)\n",
    "print(conf)\n",
    "disp=ConfusionMatrixDisplay(confusion_matrix=conf,  display_labels=svm_clf.classes_)\n",
    "disp.plot()"
   ]
  },
  {
   "cell_type": "markdown",
   "metadata": {},
   "source": [
    "##### SVM 2"
   ]
  },
  {
   "cell_type": "code",
   "execution_count": null,
   "metadata": {},
   "outputs": [],
   "source": [
    "# train the model\n",
    "svm_clf = SVC(C=100, kernel='rbf', gamma='auto',class_weight = 'balanced') # get object\n",
    "svm_clf.fit(X_train_scaled,Y_train)  # train object\n",
    "\n",
    "y_hat = svm_clf.predict(X_test_scaled) # get test set precitions\n",
    "\n",
    "acc = mt.accuracy_score(Y_test,y_hat)\n",
    "sen = mt.recall_score(Y_test,y_hat)\n",
    "spe = mt.precision_score(Y_test,y_hat)\n",
    "conf = mt.confusion_matrix(Y_test,y_hat)\n",
    "auc=roc_auc_score(Y_test,y_hat)\n",
    "print('Accuracy:', acc )\n",
    "print('Sensitivity',sen)\n",
    "print('Specificity',spe)\n",
    "print('auc;',auc)\n",
    "print(conf)\n",
    "disp=ConfusionMatrixDisplay(confusion_matrix=conf,  display_labels=svm_clf.classes_)\n",
    "disp.plot()"
   ]
  },
  {
   "cell_type": "markdown",
   "metadata": {},
   "source": [
    "##### SVM3"
   ]
  },
  {
   "cell_type": "code",
   "execution_count": null,
   "metadata": {},
   "outputs": [],
   "source": [
    "# train the model\n",
    "svm_clf = SVC(C=10, kernel='rbf', gamma='auto',class_weight = 'balanced') # get object\n",
    "svm_clf.fit(X_train_scaled,Y_train)  # train object\n",
    "\n",
    "y_hat = svm_clf.predict(X_test_scaled) # get test set precitions\n",
    "\n",
    "acc = mt.accuracy_score(Y_test,y_hat)\n",
    "sen = mt.recall_score(Y_test,y_hat)\n",
    "spe = mt.precision_score(Y_test,y_hat)\n",
    "conf = mt.confusion_matrix(Y_test,y_hat)\n",
    "auc=roc_auc_score(Y_test,y_hat)\n",
    "print('Accuracy:', acc )\n",
    "print('Sensitivity',sen)\n",
    "print('Specificity',spe)\n",
    "print('auc;',auc)\n",
    "print(conf)\n",
    "disp=ConfusionMatrixDisplay(confusion_matrix=conf,  display_labels=svm_clf.classes_)\n",
    "disp.plot()"
   ]
  },
  {
   "cell_type": "markdown",
   "metadata": {},
   "source": [
    "##### Introducing PCA to the SVM."
   ]
  },
  {
   "cell_type": "code",
   "execution_count": null,
   "metadata": {},
   "outputs": [],
   "source": [
    "from sklearn.preprocessing import MinMaxScaler\n",
    "scaler = MinMaxScaler()\n",
    "pca = PCA(n_components = 0.90)\n",
    "\n",
    "pca_train = X_train[['horse_age','horse_rating','declared_weight','actual_weight','draw','win_odds','place_odds']]\n",
    "x_pcatrain = pca.fit(pca_train).transform(pca_train)\n",
    "train_rescaled = scaler.fit_transform(x_pcatrain)\n",
    "x_pcatrain_scaled = pd.DataFrame(train_rescaled)\n",
    "\n",
    "\n",
    "pca_test = X_test[['horse_age','horse_rating','declared_weight','actual_weight','draw','win_odds','place_odds']]\n",
    "x_pcatest = pca.fit(pca_test).transform(pca_test)\n",
    "test_rescaled = scaler.fit_transform(x_pcatest)\n",
    "x_pcatest_scaled = pd.DataFrame(x_pcatest)\n",
    "\n",
    "\n",
    "print(x_pcatrain_scaled.head())\n",
    "print(x_pcatest_scaled.head())"
   ]
  },
  {
   "cell_type": "markdown",
   "metadata": {},
   "source": [
    "###### This cuts down our dataset size to two columns"
   ]
  },
  {
   "cell_type": "markdown",
   "metadata": {},
   "source": [
    "##### SVM using PCA data\n",
    "##### SVM1"
   ]
  },
  {
   "cell_type": "code",
   "execution_count": null,
   "metadata": {},
   "outputs": [],
   "source": [
    "# train the model\n",
    "svm_clf = SVC(C=.5, kernel='rbf', gamma='auto',class_weight = 'balanced') # get object\n",
    "svm_clf.fit(x_pcatrain_scaled,Y_train)  # train object\n",
    "\n",
    "y_hat = svm_clf.predict(x_pcatest_scaled) # get test set precitions\n",
    "\n",
    "acc = mt.accuracy_score(Y_test,y_hat)\n",
    "sen = mt.recall_score(Y_test,y_hat)\n",
    "spe = mt.precision_score(Y_test,y_hat)\n",
    "conf = mt.confusion_matrix(Y_test,y_hat)\n",
    "auc=roc_auc_score(Y_test,y_hat)\n",
    "print('Accuracy:', acc )\n",
    "print('Sensitivity',sen)\n",
    "print('Specificity',spe)\n",
    "print('auc;',auc)\n",
    "print(conf)\n",
    "disp=ConfusionMatrixDisplay(confusion_matrix=conf,  display_labels=svm_clf.classes_)\n",
    "disp.plot()"
   ]
  },
  {
   "cell_type": "markdown",
   "metadata": {},
   "source": [
    "##### SVM2"
   ]
  },
  {
   "cell_type": "code",
   "execution_count": null,
   "metadata": {},
   "outputs": [],
   "source": [
    "# train the model\n",
    "svm_clf = SVC(C=20, kernel='rbf', gamma='auto',class_weight = 'balanced') # get object\n",
    "svm_clf.fit(x_pcatrain,Y_train)  # train object\n",
    "\n",
    "y_hat = svm_clf.predict(x_pcatest_scaled) # get test set precitions\n",
    "\n",
    "acc = mt.accuracy_score(Y_test,y_hat)\n",
    "sen = mt.recall_score(Y_test,y_hat)\n",
    "spe = mt.precision_score(Y_test,y_hat)\n",
    "conf = mt.confusion_matrix(Y_test,y_hat)\n",
    "auc=roc_auc_score(Y_test,y_hat)\n",
    "print('Accuracy:', acc )\n",
    "print('Sensitivity',sen)\n",
    "print('Specificity',spe)\n",
    "print('auc;',auc)\n",
    "print(conf)\n",
    "disp=ConfusionMatrixDisplay(confusion_matrix=conf,  display_labels=svm_clf.classes_)\n",
    "disp.plot()"
   ]
  },
  {
   "cell_type": "markdown",
   "metadata": {},
   "source": [
    "##### SVM3"
   ]
  },
  {
   "cell_type": "code",
   "execution_count": null,
   "metadata": {},
   "outputs": [],
   "source": [
    "# train the model\n",
    "svm_clf = SVC(C=10, kernel='rbf', gamma='auto',class_weight = 'balanced') # get object\n",
    "svm_clf.fit(x_pcatrain,Y_train)  # train object\n",
    "\n",
    "y_hat = svm_clf.predict(x_pcatest_scaled) # get test set precitions\n",
    "\n",
    "acc = mt.accuracy_score(Y_test,y_hat)\n",
    "sen = mt.recall_score(Y_test,y_hat)\n",
    "spe = mt.precision_score(Y_test,y_hat)\n",
    "conf = mt.confusion_matrix(Y_test,y_hat)\n",
    "auc=roc_auc_score(Y_test,y_hat)\n",
    "print('Accuracy:', acc )\n",
    "print('Sensitivity',sen)\n",
    "print('Specificity',spe)\n",
    "print('auc;',auc)\n",
    "print(conf)\n",
    "disp=ConfusionMatrixDisplay(confusion_matrix=conf,  display_labels=svm_clf.classes_)\n",
    "disp.plot()"
   ]
  },
  {
   "cell_type": "code",
   "execution_count": null,
   "metadata": {},
   "outputs": [],
   "source": []
  }
 ],
 "metadata": {
  "kernelspec": {
   "display_name": "Python 3",
   "language": "python",
   "name": "python3"
  },
  "language_info": {
   "codemirror_mode": {
    "name": "ipython",
    "version": 3
   },
   "file_extension": ".py",
   "mimetype": "text/x-python",
   "name": "python",
   "nbconvert_exporter": "python",
   "pygments_lexer": "ipython3",
   "version": "3.8.3"
  }
 },
 "nbformat": 4,
 "nbformat_minor": 4
}
