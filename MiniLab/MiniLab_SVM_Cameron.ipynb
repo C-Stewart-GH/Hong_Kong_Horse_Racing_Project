{
 "cells": [
  {
   "cell_type": "markdown",
   "metadata": {},
   "source": [
    "# Load Libraries and Read in Data"
   ]
  },
  {
   "cell_type": "code",
   "execution_count": 1,
   "metadata": {},
   "outputs": [],
   "source": [
    "# Load libraries\n",
    "import pandas as pd\n",
    "import numpy as np\n",
    "import matplotlib\n",
    "import matplotlib.pyplot as plt\n",
    "%matplotlib inline\n",
    "from sklearn.model_selection import train_test_split\n",
    "from sklearn import metrics as mt\n",
    "from sklearn.metrics import plot_confusion_matrix\n",
    "import warnings\n",
    "warnings.simplefilter('ignore', DeprecationWarning)\n",
    "\n",
    "warnings.simplefilter('ignore', FutureWarning)\n",
    "from sklearn.preprocessing import StandardScaler\n",
    "from sklearn.svm import SVC\n",
    "from sklearn.model_selection import GridSearchCV\n",
    "from sklearn.metrics import confusion_matrix, ConfusionMatrixDisplay\n",
    "from sklearn.metrics import roc_auc_score"
   ]
  },
  {
   "cell_type": "code",
   "execution_count": 2,
   "metadata": {},
   "outputs": [],
   "source": [
    "## Read in the cleaned dataframe from Lab 1\n",
    "url = \"https://raw.githubusercontent.com/nedeinlein/Machine_Learning_I/main/runs_clean.csv\"\n",
    "runs_df = pd.read_csv(url, index_col=False)"
   ]
  },
  {
   "cell_type": "markdown",
   "metadata": {},
   "source": [
    "# Split data into Test/Train"
   ]
  },
  {
   "cell_type": "code",
   "execution_count": 3,
   "metadata": {
    "scrolled": true
   },
   "outputs": [
    {
     "name": "stdout",
     "output_type": "stream",
     "text": [
      "<class 'pandas.core.frame.DataFrame'>\n",
      "RangeIndex: 79423 entries, 0 to 79422\n",
      "Data columns (total 29 columns):\n",
      " #   Column           Non-Null Count  Dtype  \n",
      "---  ------           --------------  -----  \n",
      " 0   Unnamed: 0       79423 non-null  int64  \n",
      " 1   race_id          79423 non-null  int64  \n",
      " 2   horse_no         79423 non-null  int64  \n",
      " 3   horse_id         79423 non-null  int64  \n",
      " 4   result           79423 non-null  int64  \n",
      " 5   won              79423 non-null  float64\n",
      " 6   lengths_behind   79423 non-null  float64\n",
      " 7   horse_age        79423 non-null  int64  \n",
      " 8   horse_country    79423 non-null  object \n",
      " 9   horse_type       79423 non-null  object \n",
      " 10  horse_rating     79423 non-null  int64  \n",
      " 11  horse_gear       79423 non-null  object \n",
      " 12  declared_weight  79423 non-null  float64\n",
      " 13  actual_weight    79423 non-null  int64  \n",
      " 14  draw             79423 non-null  int64  \n",
      " 15  position_sec1    79423 non-null  int64  \n",
      " 16  position_sec2    79423 non-null  int64  \n",
      " 17  position_sec3    79423 non-null  int64  \n",
      " 18  behind_sec1      79423 non-null  float64\n",
      " 19  behind_sec2      79423 non-null  float64\n",
      " 20  behind_sec3      79423 non-null  float64\n",
      " 21  time1            79423 non-null  float64\n",
      " 22  time2            79423 non-null  float64\n",
      " 23  time3            79423 non-null  float64\n",
      " 24  finish_time      79423 non-null  float64\n",
      " 25  win_odds         79423 non-null  float64\n",
      " 26  place_odds       79423 non-null  float64\n",
      " 27  trainer_id       79423 non-null  int64  \n",
      " 28  jockey_id        79423 non-null  int64  \n",
      "dtypes: float64(12), int64(14), object(3)\n",
      "memory usage: 17.6+ MB\n"
     ]
    },
    {
     "data": {
      "text/html": [
       "<div>\n",
       "<style scoped>\n",
       "    .dataframe tbody tr th:only-of-type {\n",
       "        vertical-align: middle;\n",
       "    }\n",
       "\n",
       "    .dataframe tbody tr th {\n",
       "        vertical-align: top;\n",
       "    }\n",
       "\n",
       "    .dataframe thead th {\n",
       "        text-align: right;\n",
       "    }\n",
       "</style>\n",
       "<table border=\"1\" class=\"dataframe\">\n",
       "  <thead>\n",
       "    <tr style=\"text-align: right;\">\n",
       "      <th></th>\n",
       "      <th>Unnamed: 0</th>\n",
       "      <th>race_id</th>\n",
       "      <th>horse_no</th>\n",
       "      <th>horse_id</th>\n",
       "      <th>result</th>\n",
       "      <th>won</th>\n",
       "      <th>lengths_behind</th>\n",
       "      <th>horse_age</th>\n",
       "      <th>horse_country</th>\n",
       "      <th>horse_type</th>\n",
       "      <th>...</th>\n",
       "      <th>behind_sec2</th>\n",
       "      <th>behind_sec3</th>\n",
       "      <th>time1</th>\n",
       "      <th>time2</th>\n",
       "      <th>time3</th>\n",
       "      <th>finish_time</th>\n",
       "      <th>win_odds</th>\n",
       "      <th>place_odds</th>\n",
       "      <th>trainer_id</th>\n",
       "      <th>jockey_id</th>\n",
       "    </tr>\n",
       "  </thead>\n",
       "  <tbody>\n",
       "    <tr>\n",
       "      <th>0</th>\n",
       "      <td>0</td>\n",
       "      <td>0</td>\n",
       "      <td>1</td>\n",
       "      <td>3917</td>\n",
       "      <td>10</td>\n",
       "      <td>0.0</td>\n",
       "      <td>8.00</td>\n",
       "      <td>3</td>\n",
       "      <td>AUS</td>\n",
       "      <td>Gelding</td>\n",
       "      <td>...</td>\n",
       "      <td>2.00</td>\n",
       "      <td>1.50</td>\n",
       "      <td>13.85</td>\n",
       "      <td>21.59</td>\n",
       "      <td>23.86</td>\n",
       "      <td>83.92</td>\n",
       "      <td>9.7</td>\n",
       "      <td>3.7</td>\n",
       "      <td>118</td>\n",
       "      <td>2</td>\n",
       "    </tr>\n",
       "    <tr>\n",
       "      <th>1</th>\n",
       "      <td>1</td>\n",
       "      <td>0</td>\n",
       "      <td>2</td>\n",
       "      <td>2157</td>\n",
       "      <td>8</td>\n",
       "      <td>0.0</td>\n",
       "      <td>5.75</td>\n",
       "      <td>3</td>\n",
       "      <td>NZ</td>\n",
       "      <td>Gelding</td>\n",
       "      <td>...</td>\n",
       "      <td>9.00</td>\n",
       "      <td>5.00</td>\n",
       "      <td>14.57</td>\n",
       "      <td>21.99</td>\n",
       "      <td>23.30</td>\n",
       "      <td>83.56</td>\n",
       "      <td>16.0</td>\n",
       "      <td>4.9</td>\n",
       "      <td>164</td>\n",
       "      <td>57</td>\n",
       "    </tr>\n",
       "    <tr>\n",
       "      <th>2</th>\n",
       "      <td>2</td>\n",
       "      <td>0</td>\n",
       "      <td>3</td>\n",
       "      <td>858</td>\n",
       "      <td>7</td>\n",
       "      <td>0.0</td>\n",
       "      <td>4.75</td>\n",
       "      <td>3</td>\n",
       "      <td>NZ</td>\n",
       "      <td>Gelding</td>\n",
       "      <td>...</td>\n",
       "      <td>1.00</td>\n",
       "      <td>0.75</td>\n",
       "      <td>13.69</td>\n",
       "      <td>21.59</td>\n",
       "      <td>23.90</td>\n",
       "      <td>83.40</td>\n",
       "      <td>3.5</td>\n",
       "      <td>1.5</td>\n",
       "      <td>137</td>\n",
       "      <td>18</td>\n",
       "    </tr>\n",
       "    <tr>\n",
       "      <th>3</th>\n",
       "      <td>3</td>\n",
       "      <td>0</td>\n",
       "      <td>4</td>\n",
       "      <td>1853</td>\n",
       "      <td>9</td>\n",
       "      <td>0.0</td>\n",
       "      <td>6.25</td>\n",
       "      <td>3</td>\n",
       "      <td>SAF</td>\n",
       "      <td>Gelding</td>\n",
       "      <td>...</td>\n",
       "      <td>5.00</td>\n",
       "      <td>3.50</td>\n",
       "      <td>14.09</td>\n",
       "      <td>21.83</td>\n",
       "      <td>23.70</td>\n",
       "      <td>83.62</td>\n",
       "      <td>39.0</td>\n",
       "      <td>11.0</td>\n",
       "      <td>80</td>\n",
       "      <td>59</td>\n",
       "    </tr>\n",
       "    <tr>\n",
       "      <th>4</th>\n",
       "      <td>4</td>\n",
       "      <td>0</td>\n",
       "      <td>5</td>\n",
       "      <td>2796</td>\n",
       "      <td>6</td>\n",
       "      <td>0.0</td>\n",
       "      <td>3.75</td>\n",
       "      <td>3</td>\n",
       "      <td>GB</td>\n",
       "      <td>Gelding</td>\n",
       "      <td>...</td>\n",
       "      <td>8.75</td>\n",
       "      <td>4.25</td>\n",
       "      <td>14.77</td>\n",
       "      <td>21.75</td>\n",
       "      <td>23.22</td>\n",
       "      <td>83.24</td>\n",
       "      <td>50.0</td>\n",
       "      <td>14.0</td>\n",
       "      <td>9</td>\n",
       "      <td>154</td>\n",
       "    </tr>\n",
       "  </tbody>\n",
       "</table>\n",
       "<p>5 rows × 29 columns</p>\n",
       "</div>"
      ],
      "text/plain": [
       "   Unnamed: 0  race_id  horse_no  horse_id  result  won  lengths_behind  \\\n",
       "0           0        0         1      3917      10  0.0            8.00   \n",
       "1           1        0         2      2157       8  0.0            5.75   \n",
       "2           2        0         3       858       7  0.0            4.75   \n",
       "3           3        0         4      1853       9  0.0            6.25   \n",
       "4           4        0         5      2796       6  0.0            3.75   \n",
       "\n",
       "   horse_age horse_country horse_type  ...  behind_sec2 behind_sec3  time1  \\\n",
       "0          3           AUS    Gelding  ...         2.00        1.50  13.85   \n",
       "1          3            NZ    Gelding  ...         9.00        5.00  14.57   \n",
       "2          3            NZ    Gelding  ...         1.00        0.75  13.69   \n",
       "3          3           SAF    Gelding  ...         5.00        3.50  14.09   \n",
       "4          3            GB    Gelding  ...         8.75        4.25  14.77   \n",
       "\n",
       "   time2  time3  finish_time  win_odds  place_odds  trainer_id  jockey_id  \n",
       "0  21.59  23.86        83.92       9.7         3.7         118          2  \n",
       "1  21.99  23.30        83.56      16.0         4.9         164         57  \n",
       "2  21.59  23.90        83.40       3.5         1.5         137         18  \n",
       "3  21.83  23.70        83.62      39.0        11.0          80         59  \n",
       "4  21.75  23.22        83.24      50.0        14.0           9        154  \n",
       "\n",
       "[5 rows x 29 columns]"
      ]
     },
     "execution_count": 3,
     "metadata": {},
     "output_type": "execute_result"
    }
   ],
   "source": [
    "# Summary statistics of each feature\n",
    "runs_df.info()\n",
    "runs_df.head()"
   ]
  },
  {
   "cell_type": "code",
   "execution_count": 4,
   "metadata": {},
   "outputs": [],
   "source": [
    "# Split the data and target\n",
    "# Only use features known pre-race (e.g. not finish time)\n",
    "# Remove non-numerical features (e.g. horse country)\n",
    "runs_data = runs_df.drop(['Unnamed: 0','race_id','result','won','lengths_behind',\n",
    "                          #'horse_id','horse_country','horse_type','horse_gear','trainer_id','jockey_id'\n",
    "                          'position_sec1','position_sec2',\n",
    "                          'position_sec3','behind_sec1','behind_sec2','behind_sec3','time1','time2',\n",
    "                          'time3','finish_time'], axis=1)\n",
    "runs_target = runs_df['won']\n",
    "\n",
    "X_train,X_test,Y_train,Y_test = train_test_split(runs_data,runs_target,test_size=0.20,random_state=0)# Add a Place result feature\n"
   ]
  },
  {
   "cell_type": "code",
   "execution_count": 5,
   "metadata": {
    "scrolled": true
   },
   "outputs": [
    {
     "name": "stdout",
     "output_type": "stream",
     "text": [
      "<class 'pandas.core.frame.DataFrame'>\n",
      "Int64Index: 63538 entries, 62425 to 68268\n",
      "Data columns (total 14 columns):\n",
      " #   Column           Non-Null Count  Dtype  \n",
      "---  ------           --------------  -----  \n",
      " 0   horse_no         63538 non-null  int64  \n",
      " 1   horse_id         63538 non-null  int64  \n",
      " 2   horse_age        63538 non-null  int64  \n",
      " 3   horse_country    63538 non-null  object \n",
      " 4   horse_type       63538 non-null  object \n",
      " 5   horse_rating     63538 non-null  int64  \n",
      " 6   horse_gear       63538 non-null  object \n",
      " 7   declared_weight  63538 non-null  float64\n",
      " 8   actual_weight    63538 non-null  int64  \n",
      " 9   draw             63538 non-null  int64  \n",
      " 10  win_odds         63538 non-null  float64\n",
      " 11  place_odds       63538 non-null  float64\n",
      " 12  trainer_id       63538 non-null  int64  \n",
      " 13  jockey_id        63538 non-null  int64  \n",
      "dtypes: float64(3), int64(8), object(3)\n",
      "memory usage: 7.3+ MB\n",
      "<class 'pandas.core.frame.DataFrame'>\n",
      "Int64Index: 15885 entries, 4284 to 16318\n",
      "Data columns (total 14 columns):\n",
      " #   Column           Non-Null Count  Dtype  \n",
      "---  ------           --------------  -----  \n",
      " 0   horse_no         15885 non-null  int64  \n",
      " 1   horse_id         15885 non-null  int64  \n",
      " 2   horse_age        15885 non-null  int64  \n",
      " 3   horse_country    15885 non-null  object \n",
      " 4   horse_type       15885 non-null  object \n",
      " 5   horse_rating     15885 non-null  int64  \n",
      " 6   horse_gear       15885 non-null  object \n",
      " 7   declared_weight  15885 non-null  float64\n",
      " 8   actual_weight    15885 non-null  int64  \n",
      " 9   draw             15885 non-null  int64  \n",
      " 10  win_odds         15885 non-null  float64\n",
      " 11  place_odds       15885 non-null  float64\n",
      " 12  trainer_id       15885 non-null  int64  \n",
      " 13  jockey_id        15885 non-null  int64  \n",
      "dtypes: float64(3), int64(8), object(3)\n",
      "memory usage: 1.8+ MB\n"
     ]
    }
   ],
   "source": [
    "# Add a Place result feature\n",
    "# Add Race vars if wanted\n",
    "# Add any created vars if wanted\n",
    "X_train.info()\n",
    "X_test.info()"
   ]
  },
  {
   "cell_type": "markdown",
   "metadata": {},
   "source": [
    "# Creating an SVM"
   ]
  },
  {
   "cell_type": "markdown",
   "metadata": {},
   "source": [
    "Creating a Support Vector Machine (SVM) requires the data to be pre-processed into the appropriate format before the model can be trained. SVMs can handle both numerical and categorical predictors to classify a response. We are using this SVM to predict the won variable which describes whether the horse wone the race. To ensure the range of a predictors does not contribute to the influence of the variable over the response, we will scale the data first. Next, the data needs to be one-hot encoded. Attributes with many categories can cause the model training to be greatly slowed, so we will limit the categorical levels before encoding. With the data frame in the proper format, we need to balance the dataset to ensure the minority class is not ignored. We used downsampling of the losing horse class to balance the number of winning and losing horses. Finally, we will tune our model parameters and predict our test set. We used an 80/20 test/train split."
   ]
  },
  {
   "cell_type": "markdown",
   "metadata": {},
   "source": [
    "# Scale The Data"
   ]
  },
  {
   "cell_type": "code",
   "execution_count": 6,
   "metadata": {
    "scrolled": true
   },
   "outputs": [
    {
     "data": {
      "text/html": [
       "<div>\n",
       "<style scoped>\n",
       "    .dataframe tbody tr th:only-of-type {\n",
       "        vertical-align: middle;\n",
       "    }\n",
       "\n",
       "    .dataframe tbody tr th {\n",
       "        vertical-align: top;\n",
       "    }\n",
       "\n",
       "    .dataframe thead th {\n",
       "        text-align: right;\n",
       "    }\n",
       "</style>\n",
       "<table border=\"1\" class=\"dataframe\">\n",
       "  <thead>\n",
       "    <tr style=\"text-align: right;\">\n",
       "      <th></th>\n",
       "      <th>horse_no</th>\n",
       "      <th>horse_age</th>\n",
       "      <th>horse_rating</th>\n",
       "      <th>declared_weight</th>\n",
       "      <th>actual_weight</th>\n",
       "      <th>draw</th>\n",
       "      <th>win_odds</th>\n",
       "      <th>place_odds</th>\n",
       "    </tr>\n",
       "  </thead>\n",
       "  <tbody>\n",
       "    <tr>\n",
       "      <th>count</th>\n",
       "      <td>6.353800e+04</td>\n",
       "      <td>6.353800e+04</td>\n",
       "      <td>6.353800e+04</td>\n",
       "      <td>6.353800e+04</td>\n",
       "      <td>6.353800e+04</td>\n",
       "      <td>6.353800e+04</td>\n",
       "      <td>6.353800e+04</td>\n",
       "      <td>6.353800e+04</td>\n",
       "    </tr>\n",
       "    <tr>\n",
       "      <th>mean</th>\n",
       "      <td>-2.725846e-18</td>\n",
       "      <td>6.377431e-17</td>\n",
       "      <td>2.029043e-16</td>\n",
       "      <td>-1.087930e-15</td>\n",
       "      <td>7.200289e-16</td>\n",
       "      <td>1.481742e-17</td>\n",
       "      <td>1.276115e-16</td>\n",
       "      <td>1.287298e-16</td>\n",
       "    </tr>\n",
       "    <tr>\n",
       "      <th>std</th>\n",
       "      <td>1.000008e+00</td>\n",
       "      <td>1.000008e+00</td>\n",
       "      <td>1.000008e+00</td>\n",
       "      <td>1.000008e+00</td>\n",
       "      <td>1.000008e+00</td>\n",
       "      <td>1.000008e+00</td>\n",
       "      <td>1.000008e+00</td>\n",
       "      <td>1.000008e+00</td>\n",
       "    </tr>\n",
       "    <tr>\n",
       "      <th>min</th>\n",
       "      <td>-1.568999e+00</td>\n",
       "      <td>-1.527638e+00</td>\n",
       "      <td>-4.343842e+00</td>\n",
       "      <td>-6.608647e+00</td>\n",
       "      <td>-3.133311e+00</td>\n",
       "      <td>-1.567262e+00</td>\n",
       "      <td>-9.238534e-01</td>\n",
       "      <td>-7.433377e-01</td>\n",
       "    </tr>\n",
       "    <tr>\n",
       "      <th>25%</th>\n",
       "      <td>-7.707318e-01</td>\n",
       "      <td>-3.863104e-01</td>\n",
       "      <td>-8.556892e-02</td>\n",
       "      <td>-6.881142e-01</td>\n",
       "      <td>-7.514050e-01</td>\n",
       "      <td>-7.662460e-01</td>\n",
       "      <td>-7.011894e-01</td>\n",
       "      <td>-5.815941e-01</td>\n",
       "    </tr>\n",
       "    <tr>\n",
       "      <th>50%</th>\n",
       "      <td>2.753526e-02</td>\n",
       "      <td>-3.863104e-01</td>\n",
       "      <td>-8.556892e-02</td>\n",
       "      <td>-4.632208e-02</td>\n",
       "      <td>4.256376e-02</td>\n",
       "      <td>3.476977e-02</td>\n",
       "      <td>-4.585852e-01</td>\n",
       "      <td>-3.505319e-01</td>\n",
       "    </tr>\n",
       "    <tr>\n",
       "      <th>75%</th>\n",
       "      <td>8.258024e-01</td>\n",
       "      <td>-3.863104e-01</td>\n",
       "      <td>-8.556892e-02</td>\n",
       "      <td>6.596493e-01</td>\n",
       "      <td>8.365325e-01</td>\n",
       "      <td>8.357855e-01</td>\n",
       "      <td>3.057839e-01</td>\n",
       "      <td>8.848643e-02</td>\n",
       "    </tr>\n",
       "    <tr>\n",
       "      <th>max</th>\n",
       "      <td>1.890159e+00</td>\n",
       "      <td>7.602982e+00</td>\n",
       "      <td>6.557338e+00</td>\n",
       "      <td>4.237641e+00</td>\n",
       "      <td>1.630501e+00</td>\n",
       "      <td>1.903806e+00</td>\n",
       "      <td>2.333024e+00</td>\n",
       "      <td>1.080978e+01</td>\n",
       "    </tr>\n",
       "  </tbody>\n",
       "</table>\n",
       "</div>"
      ],
      "text/plain": [
       "           horse_no     horse_age  horse_rating  declared_weight  \\\n",
       "count  6.353800e+04  6.353800e+04  6.353800e+04     6.353800e+04   \n",
       "mean  -2.725846e-18  6.377431e-17  2.029043e-16    -1.087930e-15   \n",
       "std    1.000008e+00  1.000008e+00  1.000008e+00     1.000008e+00   \n",
       "min   -1.568999e+00 -1.527638e+00 -4.343842e+00    -6.608647e+00   \n",
       "25%   -7.707318e-01 -3.863104e-01 -8.556892e-02    -6.881142e-01   \n",
       "50%    2.753526e-02 -3.863104e-01 -8.556892e-02    -4.632208e-02   \n",
       "75%    8.258024e-01 -3.863104e-01 -8.556892e-02     6.596493e-01   \n",
       "max    1.890159e+00  7.602982e+00  6.557338e+00     4.237641e+00   \n",
       "\n",
       "       actual_weight          draw      win_odds    place_odds  \n",
       "count   6.353800e+04  6.353800e+04  6.353800e+04  6.353800e+04  \n",
       "mean    7.200289e-16  1.481742e-17  1.276115e-16  1.287298e-16  \n",
       "std     1.000008e+00  1.000008e+00  1.000008e+00  1.000008e+00  \n",
       "min    -3.133311e+00 -1.567262e+00 -9.238534e-01 -7.433377e-01  \n",
       "25%    -7.514050e-01 -7.662460e-01 -7.011894e-01 -5.815941e-01  \n",
       "50%     4.256376e-02  3.476977e-02 -4.585852e-01 -3.505319e-01  \n",
       "75%     8.365325e-01  8.357855e-01  3.057839e-01  8.848643e-02  \n",
       "max     1.630501e+00  1.903806e+00  2.333024e+00  1.080978e+01  "
      ]
     },
     "execution_count": 6,
     "metadata": {},
     "output_type": "execute_result"
    }
   ],
   "source": [
    "## Normalize the scales of variables (no need to scale y as that is the prediction)\n",
    "\n",
    "#Remove categorical vars\n",
    "cat_x_train = X_train[['horse_id','horse_country','horse_type','horse_gear','trainer_id','jockey_id']].astype(object)\n",
    "cat_x_test = X_test[['horse_id','horse_country','horse_type','horse_gear','trainer_id','jockey_id']].astype(object)\n",
    "num_x_train = X_train.drop(['horse_id','horse_country','horse_type','horse_gear','trainer_id','jockey_id'],axis=1)\n",
    "num_x_test = X_test.drop(['horse_id','horse_country','horse_type','horse_gear','trainer_id','jockey_id'],axis=1)\n",
    "\n",
    "#Very important to fit the scale to only the training data set... \n",
    "#and apply the transfromation to the test data set\n",
    "scl_obj = StandardScaler()\n",
    "scl_x_train = scl_obj.fit_transform(num_x_train)\n",
    "scl_x_test = scl_obj.transform(num_x_test)\n",
    "\n",
    "scl_x_train=pd.DataFrame(scl_x_train, columns=num_x_train.columns)\n",
    "scl_x_test=pd.DataFrame(scl_x_test, columns=num_x_test.columns)\n",
    "\n",
    "#Add categorical variables back in\n",
    "scl_x_train.index = cat_x_train.index\n",
    "scl_x_test.index = cat_x_test.index\n",
    "scl_x_train = pd.concat([scl_x_train, cat_x_train],axis=1)\n",
    "scl_x_test = pd.concat([scl_x_test, cat_x_test],axis=1)\n",
    "\n",
    "scl_x_train.describe()"
   ]
  },
  {
   "cell_type": "markdown",
   "metadata": {},
   "source": [
    "The scaling method used takes the numerical variables of the training data and scales based on a normal distribution of mean 0 and standard deviation 1. We can see all the variables after scaling above and they follow the expected mean and standard deviation. The categorical variables are concatenated back to the dataframe after scaling."
   ]
  },
  {
   "cell_type": "markdown",
   "metadata": {},
   "source": [
    "# Limit Categories"
   ]
  },
  {
   "cell_type": "code",
   "execution_count": 7,
   "metadata": {
    "scrolled": true
   },
   "outputs": [
    {
     "name": "stdout",
     "output_type": "stream",
     "text": [
      "Horse ID\n",
      "original:  4308\n",
      "new:  12\n",
      "['Other' 107 2382 1849 4314 3887 779 4058 4041 493 3323 70] \n",
      "\n",
      "Horse Country\n",
      "original:  16\n",
      "new:  10\n",
      "['NZ' 'USA' 'AUS' 'GB' 'IRE' 'FR' 'SAF' 'GER' 'Other' 'ARG'] \n",
      "\n",
      "Horse Type\n",
      "original:  9\n",
      "new:  7\n",
      "['Gelding' 'Brown' 'Other' 'Colt' 'Horse' 'Mare' 'Rig'] \n",
      "\n",
      "Horse Gear\n",
      "original:  735\n",
      "new:  10\n",
      "['--' 'TT/B' 'Other' 'B' 'CP' 'TT/H' 'H' 'TT' 'XB' 'SR'] \n",
      "\n",
      "Trainer ID\n",
      "original:  155\n",
      "new:  13\n",
      "[97 118 7 80 69 'Other' 137 98 75 47 55 164 138] \n",
      "\n",
      "Jockey ID\n",
      "original:  178\n",
      "new:  13\n",
      "[76 175 'Other' 162 50 40 34 63 2 138 64 18 149]\n"
     ]
    }
   ],
   "source": [
    "cat_lim_train=scl_x_train.copy()\n",
    "cat_lim_test=scl_x_test.copy()\n",
    "\n",
    "#Update Horse ID to horses who have raced over 60 times\n",
    "horse_id_counts = cat_lim_train.horse_id.value_counts()\n",
    "cat_lim_train.loc[~cat_lim_train.horse_id.isin(horse_id_counts.index[horse_id_counts.gt(60)]),'horse_id']='Other'\n",
    "cat_lim_test.loc[~cat_lim_test.horse_id.isin(horse_id_counts.index[horse_id_counts.gt(60)]),'horse_id']='Other'\n",
    "print('Horse ID')\n",
    "print('original: ',len(scl_x_train.horse_id.unique()))\n",
    "print('new: ',len(cat_lim_train.horse_id.unique()))\n",
    "print(cat_lim_train.horse_id.unique(),\"\\n\")\n",
    "\n",
    "#Update Horse Country to countries that appear over 80 times\n",
    "horse_country_counts = cat_lim_train.horse_country.value_counts()\n",
    "cat_lim_train.loc[~cat_lim_train.horse_country.\n",
    "                  isin(horse_country_counts.index[horse_country_counts.gt(80)]),'horse_country']='Other'\n",
    "cat_lim_test.loc[~cat_lim_test.horse_country.\n",
    "                 isin(horse_country_counts.index[horse_country_counts.gt(80)]),'horse_country']='Other'\n",
    "print('Horse Country')\n",
    "print('original: ',len(scl_x_train.horse_country.unique()))\n",
    "print('new: ',len(cat_lim_train.horse_country.unique()))\n",
    "print(cat_lim_train.horse_country.unique(),\"\\n\")\n",
    "\n",
    "#Update Horse Type to types that appear over 50 times\n",
    "horse_type_counts = cat_lim_train.horse_type.value_counts()\n",
    "cat_lim_train.loc[~cat_lim_train.horse_type.isin(horse_type_counts.index[horse_type_counts.gt(50)]),\n",
    "                  'horse_type']='Other'\n",
    "cat_lim_test.loc[~cat_lim_test.horse_type.isin(horse_type_counts.index[horse_type_counts.gt(50)]),\n",
    "                 'horse_type']='Other'\n",
    "print('Horse Type')\n",
    "print('original: ',len(scl_x_train.horse_type.unique()))\n",
    "print('new: ',len(cat_lim_train.horse_type.unique()))\n",
    "print(cat_lim_train.horse_type.unique(),\"\\n\")\n",
    "\n",
    "#Update Horse Gear to gear combos that appear over 300 times\n",
    "horse_gear_counts = cat_lim_train.horse_gear.value_counts()\n",
    "cat_lim_train.loc[~cat_lim_train.horse_gear.isin(horse_gear_counts.index[horse_gear_counts.gt(300)]),\n",
    "                  'horse_gear']='Other'\n",
    "cat_lim_test.loc[~cat_lim_test.horse_gear.isin(horse_gear_counts.index[horse_gear_counts.gt(300)]),\n",
    "                 'horse_gear']='Other'\n",
    "print('Horse Gear')\n",
    "print('original: ',len(scl_x_train.horse_gear.unique()))\n",
    "print('new: ',len(cat_lim_train.horse_gear.unique()))\n",
    "print(cat_lim_train.horse_gear.unique(),\"\\n\")\n",
    "\n",
    "#Update TrainerID to trainers that appear over 2500 times\n",
    "trainer_id_counts = cat_lim_train.trainer_id.value_counts()\n",
    "cat_lim_train.loc[~cat_lim_train.trainer_id.isin(trainer_id_counts.index[trainer_id_counts.gt(2500)]),\n",
    "                  'trainer_id']='Other'\n",
    "cat_lim_test.loc[~cat_lim_test.trainer_id.isin(trainer_id_counts.index[trainer_id_counts.gt(2500)]),\n",
    "                 'trainer_id']='Other'\n",
    "print('Trainer ID')\n",
    "print('original: ',len(scl_x_train.trainer_id.unique()))\n",
    "print('new: ',len(cat_lim_train.trainer_id.unique()))\n",
    "print(cat_lim_train.trainer_id.unique(),\"\\n\")\n",
    "\n",
    "#Update JockeyID to jockeys that appear over 2000 times\n",
    "jockey_id_counts = cat_lim_train.jockey_id.value_counts()\n",
    "cat_lim_train.loc[~cat_lim_train.jockey_id.isin(jockey_id_counts.index[jockey_id_counts.gt(2000)]),\n",
    "                  'jockey_id']='Other'\n",
    "cat_lim_test.loc[~cat_lim_test.jockey_id.isin(jockey_id_counts.index[jockey_id_counts.gt(2000)]),\n",
    "                 'jockey_id']='Other'\n",
    "print('Jockey ID')\n",
    "print('original: ',len(scl_x_train.jockey_id.unique()))\n",
    "print('new: ',len(cat_lim_train.jockey_id.unique()))\n",
    "print(cat_lim_train.jockey_id.unique())"
   ]
  },
  {
   "cell_type": "markdown",
   "metadata": {},
   "source": [
    "Many of the categorical variables in the dataset have hundreds or thousands of categories. To simplify the classes, we will use a mimimum instance limit for each categorical variable to determine which classes to keep (instance limit in code notes above each section). Any class not meeting the instance limit, will be classified as 'Other'. This generalization of the smaller classes will be done useing the training data set and then the results will be applied to the test data set. In the above output, each categorical variable is shown with the original number of categories and the new number of categories after generalization. A list of the new unique categories is listed at the end of each section."
   ]
  },
  {
   "cell_type": "markdown",
   "metadata": {},
   "source": [
    "# One Hot Encode the Data"
   ]
  },
  {
   "cell_type": "code",
   "execution_count": 8,
   "metadata": {},
   "outputs": [
    {
     "name": "stdout",
     "output_type": "stream",
     "text": [
      "Original Training Set Shape Before Dummies:\n",
      " (63538, 14)\n",
      "Original Test Set Shape Before Dummies:\n",
      " (15885, 14)\n",
      "New Training Set Shape After Dummies:\n",
      " (63538, 67)\n",
      "New Test Set Shape After Dummies:\n",
      " (15885, 67)\n"
     ]
    }
   ],
   "source": [
    "#Create Dummies for training and test\n",
    "dummies_train = pd.get_dummies(\n",
    "    cat_lim_train[['horse_id','horse_country','horse_type','horse_gear','trainer_id','jockey_id']])\n",
    "dummies_test = pd.get_dummies(\n",
    "    cat_lim_test[['horse_id','horse_country','horse_type','horse_gear','trainer_id','jockey_id']])\n",
    "\n",
    "#Add dummies back to original data frames\n",
    "final_train = pd.concat([cat_lim_train, dummies_train],axis=1)\n",
    "final_test = pd.concat([cat_lim_test, dummies_test],axis=1)\n",
    "\n",
    "#Drop original variable and one class for each variable (the dropped class is 'Other')\n",
    "final_train = final_train.drop(['horse_id','horse_country','horse_type','horse_gear','trainer_id','jockey_id',\n",
    "                            'horse_id_Other','horse_country_Other','horse_type_Other','horse_gear_Other',\n",
    "                            'trainer_id_Other','jockey_id_Other'], axis=1)\n",
    "final_test = final_test.drop(['horse_id','horse_country','horse_type','horse_gear','trainer_id','jockey_id',\n",
    "                            'horse_id_Other','horse_country_Other','horse_type_Other','horse_gear_Other',\n",
    "                            'trainer_id_Other','jockey_id_Other'], axis=1)\n",
    "\n",
    "print('Original Training Set Shape Before Dummies:\\n',cat_lim_train.shape)\n",
    "print('Original Test Set Shape Before Dummies:\\n',cat_lim_test.shape)\n",
    "print('New Training Set Shape After Dummies:\\n',final_train.shape)\n",
    "print('New Test Set Shape After Dummies:\\n',final_test.shape)"
   ]
  },
  {
   "cell_type": "markdown",
   "metadata": {},
   "source": [
    "For the SVM to be able to interpret categorical data, it must be one-hot encoded. This means that each class in each categorical variable will become a column. By limiting the caltegorical variable classes above, we ensured the data frame will not overly expand. After creating the dummy variables and adding them to our existing test and training sets, we must drop the original categorical variables and one class from each categorical variable. The 'Other' class was dropped from each categorical variable. The above output shows the shape of the training and test sets before and after performing the one-hot encoding process. The data sets do not change the number of instances but they expanded from 14 to 67 columns."
   ]
  },
  {
   "cell_type": "markdown",
   "metadata": {},
   "source": [
    "# Balance the data"
   ]
  },
  {
   "cell_type": "code",
   "execution_count": 9,
   "metadata": {},
   "outputs": [
    {
     "name": "stdout",
     "output_type": "stream",
     "text": [
      "train responses before:\n",
      " 0.0    58437\n",
      "1.0     5101\n",
      "Name: won, dtype: int64\n",
      "train responses after balancing:\n",
      " 0.0    5101\n",
      "1.0    5101\n",
      "Name: won, dtype: int64\n"
     ]
    }
   ],
   "source": [
    "print('train responses before:\\n',Y_train.value_counts())\n",
    "\n",
    "losses=Y_train.loc[Y_train==0]\n",
    "wins=Y_train.loc[Y_train==1]\n",
    "sample_losses=losses.sample(5101,random_state=0)\n",
    "balanced_final_train = final_train[final_train.index.isin(sample_losses.index | wins.index)]\n",
    "balanced_Y_train = Y_train[Y_train.index.isin(sample_losses.index | wins.index)]\n",
    "\n",
    "print('train responses after balancing:\\n',balanced_Y_train.value_counts())"
   ]
  },
  {
   "cell_type": "markdown",
   "metadata": {},
   "source": [
    "Training a classification model with a highly imbalanced dataset can run the risk of the model overpredicting the minority class. There are many possible approaches to resolve this, and we decided to downsample the majority class which is horses that lost the race. We took a random sample from the horses that lost in the training data set to match the number of instances of horses that won. This made the class distribution 50/50. There is no need to do this to the test dataset because we are only trying to change the way the model is trained."
   ]
  },
  {
   "cell_type": "markdown",
   "metadata": {},
   "source": [
    "# Create SVM"
   ]
  },
  {
   "cell_type": "markdown",
   "metadata": {},
   "source": [
    "### Create SVM with all Variables"
   ]
  },
  {
   "cell_type": "code",
   "execution_count": 10,
   "metadata": {
    "scrolled": true
   },
   "outputs": [
    {
     "name": "stdout",
     "output_type": "stream",
     "text": [
      "<class 'pandas.core.frame.DataFrame'>\n",
      "Int64Index: 10202 entries, 62425 to 42613\n",
      "Data columns (total 67 columns):\n",
      " #   Column              Non-Null Count  Dtype  \n",
      "---  ------              --------------  -----  \n",
      " 0   horse_no            10202 non-null  float64\n",
      " 1   horse_age           10202 non-null  float64\n",
      " 2   horse_rating        10202 non-null  float64\n",
      " 3   declared_weight     10202 non-null  float64\n",
      " 4   actual_weight       10202 non-null  float64\n",
      " 5   draw                10202 non-null  float64\n",
      " 6   win_odds            10202 non-null  float64\n",
      " 7   place_odds          10202 non-null  float64\n",
      " 8   horse_id_70         10202 non-null  uint8  \n",
      " 9   horse_id_107        10202 non-null  uint8  \n",
      " 10  horse_id_493        10202 non-null  uint8  \n",
      " 11  horse_id_779        10202 non-null  uint8  \n",
      " 12  horse_id_1849       10202 non-null  uint8  \n",
      " 13  horse_id_2382       10202 non-null  uint8  \n",
      " 14  horse_id_3323       10202 non-null  uint8  \n",
      " 15  horse_id_3887       10202 non-null  uint8  \n",
      " 16  horse_id_4041       10202 non-null  uint8  \n",
      " 17  horse_id_4058       10202 non-null  uint8  \n",
      " 18  horse_id_4314       10202 non-null  uint8  \n",
      " 19  horse_country_ARG   10202 non-null  uint8  \n",
      " 20  horse_country_AUS   10202 non-null  uint8  \n",
      " 21  horse_country_FR    10202 non-null  uint8  \n",
      " 22  horse_country_GB    10202 non-null  uint8  \n",
      " 23  horse_country_GER   10202 non-null  uint8  \n",
      " 24  horse_country_IRE   10202 non-null  uint8  \n",
      " 25  horse_country_NZ    10202 non-null  uint8  \n",
      " 26  horse_country_SAF   10202 non-null  uint8  \n",
      " 27  horse_country_USA   10202 non-null  uint8  \n",
      " 28  horse_type_Brown    10202 non-null  uint8  \n",
      " 29  horse_type_Colt     10202 non-null  uint8  \n",
      " 30  horse_type_Gelding  10202 non-null  uint8  \n",
      " 31  horse_type_Horse    10202 non-null  uint8  \n",
      " 32  horse_type_Mare     10202 non-null  uint8  \n",
      " 33  horse_type_Rig      10202 non-null  uint8  \n",
      " 34  horse_gear_--       10202 non-null  uint8  \n",
      " 35  horse_gear_B        10202 non-null  uint8  \n",
      " 36  horse_gear_CP       10202 non-null  uint8  \n",
      " 37  horse_gear_H        10202 non-null  uint8  \n",
      " 38  horse_gear_SR       10202 non-null  uint8  \n",
      " 39  horse_gear_TT       10202 non-null  uint8  \n",
      " 40  horse_gear_TT/B     10202 non-null  uint8  \n",
      " 41  horse_gear_TT/H     10202 non-null  uint8  \n",
      " 42  horse_gear_XB       10202 non-null  uint8  \n",
      " 43  trainer_id_7        10202 non-null  uint8  \n",
      " 44  trainer_id_47       10202 non-null  uint8  \n",
      " 45  trainer_id_55       10202 non-null  uint8  \n",
      " 46  trainer_id_69       10202 non-null  uint8  \n",
      " 47  trainer_id_75       10202 non-null  uint8  \n",
      " 48  trainer_id_80       10202 non-null  uint8  \n",
      " 49  trainer_id_97       10202 non-null  uint8  \n",
      " 50  trainer_id_98       10202 non-null  uint8  \n",
      " 51  trainer_id_118      10202 non-null  uint8  \n",
      " 52  trainer_id_137      10202 non-null  uint8  \n",
      " 53  trainer_id_138      10202 non-null  uint8  \n",
      " 54  trainer_id_164      10202 non-null  uint8  \n",
      " 55  jockey_id_2         10202 non-null  uint8  \n",
      " 56  jockey_id_18        10202 non-null  uint8  \n",
      " 57  jockey_id_34        10202 non-null  uint8  \n",
      " 58  jockey_id_40        10202 non-null  uint8  \n",
      " 59  jockey_id_50        10202 non-null  uint8  \n",
      " 60  jockey_id_63        10202 non-null  uint8  \n",
      " 61  jockey_id_64        10202 non-null  uint8  \n",
      " 62  jockey_id_76        10202 non-null  uint8  \n",
      " 63  jockey_id_138       10202 non-null  uint8  \n",
      " 64  jockey_id_149       10202 non-null  uint8  \n",
      " 65  jockey_id_162       10202 non-null  uint8  \n",
      " 66  jockey_id_175       10202 non-null  uint8  \n",
      "dtypes: float64(8), uint8(59)\n",
      "memory usage: 1.3 MB\n"
     ]
    },
    {
     "data": {
      "text/plain": [
       "0.0    14626\n",
       "1.0     1259\n",
       "Name: won, dtype: int64"
      ]
     },
     "execution_count": 10,
     "metadata": {},
     "output_type": "execute_result"
    }
   ],
   "source": [
    "balanced_final_train.info()\n",
    "Y_test.value_counts()"
   ]
  },
  {
   "cell_type": "markdown",
   "metadata": {},
   "source": [
    "### Find optimal C"
   ]
  },
  {
   "cell_type": "code",
   "execution_count": 11,
   "metadata": {},
   "outputs": [
    {
     "name": "stdout",
     "output_type": "stream",
     "text": [
      "accuracy: 0.5159584513692163\n",
      "auc: 0.6874213579633992\n"
     ]
    },
    {
     "data": {
      "text/plain": [
       "<sklearn.metrics._plot.confusion_matrix.ConfusionMatrixDisplay at 0x23f15b15610>"
      ]
     },
     "execution_count": 11,
     "metadata": {},
     "output_type": "execute_result"
    },
    {
     "data": {
      "image/png": "[encoded data removed]",
      "text/plain": [
       "<Figure size 432x288 with 2 Axes>"
      ]
     },
     "metadata": {
      "needs_background": "light"
     },
     "output_type": "display_data"
    }
   ],
   "source": [
    "# train the model just as before\n",
    "svm_clf = SVC(C=0.5, kernel='rbf', degree=3, gamma='auto',random_state=0) # get object\n",
    "svm_clf.fit(balanced_final_train, balanced_Y_train)  # train object\n",
    "\n",
    "y_hat = svm_clf.predict(final_test) # get test set precitions\n",
    "\n",
    "acc = mt.accuracy_score(Y_test,y_hat)\n",
    "conf = mt.confusion_matrix(Y_test,y_hat)\n",
    "auc=roc_auc_score(Y_test,y_hat)\n",
    "print('accuracy:', acc )\n",
    "print('auc:',auc)\n",
    "disp=ConfusionMatrixDisplay(confusion_matrix=conf,  display_labels=svm_clf.classes_)\n",
    "disp.plot()"
   ]
  },
  {
   "cell_type": "code",
   "execution_count": 12,
   "metadata": {},
   "outputs": [
    {
     "name": "stdout",
     "output_type": "stream",
     "text": [
      "accuracy: 0.534466477809254\n",
      "auc: 0.6909387647553775\n"
     ]
    },
    {
     "data": {
      "text/plain": [
       "<sklearn.metrics._plot.confusion_matrix.ConfusionMatrixDisplay at 0x23f166e1a90>"
      ]
     },
     "execution_count": 12,
     "metadata": {},
     "output_type": "execute_result"
    },
    {
     "data": {
      "image/png": "[encoded data removed]",
      "text/plain": [
       "<Figure size 432x288 with 2 Axes>"
      ]
     },
     "metadata": {
      "needs_background": "light"
     },
     "output_type": "display_data"
    }
   ],
   "source": [
    "# train the model just as before\n",
    "svm_clf = SVC(C=1, kernel='rbf', degree=3, gamma='auto',random_state=0) # get object\n",
    "svm_clf.fit(balanced_final_train, balanced_Y_train)  # train object\n",
    "\n",
    "y_hat = svm_clf.predict(final_test) # get test set precitions\n",
    "\n",
    "acc = mt.accuracy_score(Y_test,y_hat)\n",
    "conf = mt.confusion_matrix(Y_test,y_hat)\n",
    "auc=roc_auc_score(Y_test,y_hat)\n",
    "print('accuracy:', acc )\n",
    "print('auc:',auc)\n",
    "disp=ConfusionMatrixDisplay(confusion_matrix=conf,  display_labels=svm_clf.classes_)\n",
    "disp.plot()"
   ]
  },
  {
   "cell_type": "code",
   "execution_count": 13,
   "metadata": {},
   "outputs": [
    {
     "name": "stdout",
     "output_type": "stream",
     "text": [
      "accuracy: 0.5836323575700346\n",
      "precision: 0.1393939393939394\n",
      "recall: 0.8220810166799047\n",
      "auc: 0.6925939063982048\n"
     ]
    },
    {
     "data": {
      "text/plain": [
       "<sklearn.metrics._plot.confusion_matrix.ConfusionMatrixDisplay at 0x23f167640d0>"
      ]
     },
     "execution_count": 13,
     "metadata": {},
     "output_type": "execute_result"
    },
    {
     "data": {
      "image/png": "[encoded data removed]",
      "text/plain": [
       "<Figure size 432x288 with 2 Axes>"
      ]
     },
     "metadata": {
      "needs_background": "light"
     },
     "output_type": "display_data"
    }
   ],
   "source": [
    "# train the model just as before\n",
    "svm_clf = SVC(C=10, kernel='rbf', degree=3, gamma='auto',random_state=0) # get object\n",
    "svm_clf.fit(balanced_final_train, balanced_Y_train)  # train object\n",
    "\n",
    "y_hat = svm_clf.predict(final_test) # get test set precitions\n",
    "\n",
    "acc = mt.accuracy_score(Y_test,y_hat)\n",
    "precision = mt.precision_score(Y_test,y_hat)\n",
    "recall = mt.recall_score(Y_test,y_hat)\n",
    "conf = mt.confusion_matrix(Y_test,y_hat)\n",
    "auc=roc_auc_score(Y_test,y_hat)\n",
    "print('accuracy:', acc )\n",
    "print('precision:', precision )\n",
    "print('recall:', recall )\n",
    "print('auc:',auc)\n",
    "disp=ConfusionMatrixDisplay(confusion_matrix=conf,  display_labels=svm_clf.classes_)\n",
    "disp.plot()"
   ]
  },
  {
   "cell_type": "code",
   "execution_count": 14,
   "metadata": {},
   "outputs": [
    {
     "name": "stdout",
     "output_type": "stream",
     "text": [
      "accuracy: 0.5891092225369846\n",
      "auc: 0.6912126033187334\n"
     ]
    },
    {
     "data": {
      "text/plain": [
       "<sklearn.metrics._plot.confusion_matrix.ConfusionMatrixDisplay at 0x23f1794cbb0>"
      ]
     },
     "execution_count": 14,
     "metadata": {},
     "output_type": "execute_result"
    },
    {
     "data": {
      "image/png": "[encoded data removed]",
      "text/plain": [
       "<Figure size 432x288 with 2 Axes>"
      ]
     },
     "metadata": {
      "needs_background": "light"
     },
     "output_type": "display_data"
    }
   ],
   "source": [
    "# train the model just as before\n",
    "svm_clf = SVC(C=15, kernel='rbf', degree=3, gamma='auto',random_state=0) # get object\n",
    "svm_clf.fit(balanced_final_train, balanced_Y_train)  # train object\n",
    "\n",
    "y_hat = svm_clf.predict(final_test) # get test set precitions\n",
    "\n",
    "acc = mt.accuracy_score(Y_test,y_hat)\n",
    "conf = mt.confusion_matrix(Y_test,y_hat)\n",
    "auc=roc_auc_score(Y_test,y_hat)\n",
    "print('accuracy:', acc )\n",
    "print('auc:',auc)\n",
    "disp=ConfusionMatrixDisplay(confusion_matrix=conf,  display_labels=svm_clf.classes_)\n",
    "disp.plot()"
   ]
  },
  {
   "cell_type": "code",
   "execution_count": 15,
   "metadata": {},
   "outputs": [
    {
     "name": "stdout",
     "output_type": "stream",
     "text": [
      "accuracy: 0.593075228202707\n",
      "auc: 0.692277437537926\n"
     ]
    },
    {
     "data": {
      "text/plain": [
       "<sklearn.metrics._plot.confusion_matrix.ConfusionMatrixDisplay at 0x23f19a785e0>"
      ]
     },
     "execution_count": 15,
     "metadata": {},
     "output_type": "execute_result"
    },
    {
     "data": {
      "image/png": "[encoded data removed]",
      "text/plain": [
       "<Figure size 432x288 with 2 Axes>"
      ]
     },
     "metadata": {
      "needs_background": "light"
     },
     "output_type": "display_data"
    }
   ],
   "source": [
    "# train the model just as before\n",
    "svm_clf = SVC(C=20, kernel='rbf', degree=3, gamma='auto',random_state=0) # get object\n",
    "svm_clf.fit(balanced_final_train, balanced_Y_train)  # train object\n",
    "\n",
    "y_hat = svm_clf.predict(final_test) # get test set precitions\n",
    "\n",
    "acc = mt.accuracy_score(Y_test,y_hat)\n",
    "conf = mt.confusion_matrix(Y_test,y_hat)\n",
    "auc=roc_auc_score(Y_test,y_hat)\n",
    "print('accuracy:', acc )\n",
    "print('auc:',auc)\n",
    "disp=ConfusionMatrixDisplay(confusion_matrix=conf,  display_labels=svm_clf.classes_)\n",
    "disp.plot()"
   ]
  },
  {
   "cell_type": "code",
   "execution_count": 16,
   "metadata": {},
   "outputs": [
    {
     "name": "stdout",
     "output_type": "stream",
     "text": [
      "accuracy: 0.6098835379288637\n",
      "auc: 0.69051637182612\n"
     ]
    },
    {
     "data": {
      "text/plain": [
       "<sklearn.metrics._plot.confusion_matrix.ConfusionMatrixDisplay at 0x23f19b05df0>"
      ]
     },
     "execution_count": 16,
     "metadata": {},
     "output_type": "execute_result"
    },
    {
     "data": {
      "image/png": "[encoded data removed]",
      "text/plain": [
       "<Figure size 432x288 with 2 Axes>"
      ]
     },
     "metadata": {
      "needs_background": "light"
     },
     "output_type": "display_data"
    }
   ],
   "source": [
    "# train the model just as before\n",
    "svm_clf = SVC(C=50, kernel='rbf', degree=3, gamma='auto',random_state=0) # get object\n",
    "svm_clf.fit(balanced_final_train, balanced_Y_train)  # train object\n",
    "\n",
    "y_hat = svm_clf.predict(final_test) # get test set precitions\n",
    "\n",
    "acc = mt.accuracy_score(Y_test,y_hat)\n",
    "conf = mt.confusion_matrix(Y_test,y_hat)\n",
    "auc=roc_auc_score(Y_test,y_hat)\n",
    "print('accuracy:', acc )\n",
    "print('auc:',auc)\n",
    "disp=ConfusionMatrixDisplay(confusion_matrix=conf,  display_labels=svm_clf.classes_)\n",
    "disp.plot()"
   ]
  },
  {
   "cell_type": "code",
   "execution_count": 17,
   "metadata": {},
   "outputs": [
    {
     "name": "stdout",
     "output_type": "stream",
     "text": [
      "accuracy: 0.6188857412653447\n",
      "auc: 0.688871738415719\n"
     ]
    },
    {
     "data": {
      "text/plain": [
       "<sklearn.metrics._plot.confusion_matrix.ConfusionMatrixDisplay at 0x23f19b05910>"
      ]
     },
     "execution_count": 17,
     "metadata": {},
     "output_type": "execute_result"
    },
    {
     "data": {
      "image/png": "[encoded data removed]",
      "text/plain": [
       "<Figure size 432x288 with 2 Axes>"
      ]
     },
     "metadata": {
      "needs_background": "light"
     },
     "output_type": "display_data"
    }
   ],
   "source": [
    "# train the model just as before\n",
    "svm_clf = SVC(C=100, kernel='rbf', degree=3, gamma='auto',random_state=0) # get object\n",
    "svm_clf.fit(balanced_final_train, balanced_Y_train)  # train object\n",
    "\n",
    "y_hat = svm_clf.predict(final_test) # get test set precitions\n",
    "\n",
    "acc = mt.accuracy_score(Y_test,y_hat)\n",
    "conf = mt.confusion_matrix(Y_test,y_hat)\n",
    "auc=roc_auc_score(Y_test,y_hat)\n",
    "print('accuracy:', acc )\n",
    "print('auc:',auc)\n",
    "disp=ConfusionMatrixDisplay(confusion_matrix=conf,  display_labels=svm_clf.classes_)\n",
    "disp.plot()"
   ]
  },
  {
   "cell_type": "code",
   "execution_count": 18,
   "metadata": {},
   "outputs": [
    {
     "name": "stdout",
     "output_type": "stream",
     "text": [
      "accuracy: 0.6293358514321687\n",
      "auc: 0.6713174510405975\n"
     ]
    },
    {
     "data": {
      "text/plain": [
       "<sklearn.metrics._plot.confusion_matrix.ConfusionMatrixDisplay at 0x23f19c186d0>"
      ]
     },
     "execution_count": 18,
     "metadata": {},
     "output_type": "execute_result"
    },
    {
     "data": {
      "image/png": "[encoded data removed]",
      "text/plain": [
       "<Figure size 432x288 with 2 Axes>"
      ]
     },
     "metadata": {
      "needs_background": "light"
     },
     "output_type": "display_data"
    }
   ],
   "source": [
    "# train the model just as before\n",
    "svm_clf = SVC(C=1000, kernel='rbf', degree=3, gamma='auto',random_state=0) # get object\n",
    "svm_clf.fit(balanced_final_train, balanced_Y_train)  # train object\n",
    "\n",
    "y_hat = svm_clf.predict(final_test) # get test set precitions\n",
    "\n",
    "acc = mt.accuracy_score(Y_test,y_hat)\n",
    "conf = mt.confusion_matrix(Y_test,y_hat)\n",
    "auc=roc_auc_score(Y_test,y_hat)\n",
    "print('accuracy:', acc )\n",
    "print('auc:',auc)\n",
    "disp=ConfusionMatrixDisplay(confusion_matrix=conf,  display_labels=svm_clf.classes_)\n",
    "disp.plot()"
   ]
  },
  {
   "cell_type": "markdown",
   "metadata": {},
   "source": [
    "### Find Optimal Gamma"
   ]
  },
  {
   "cell_type": "code",
   "execution_count": 19,
   "metadata": {},
   "outputs": [
    {
     "name": "stdout",
     "output_type": "stream",
     "text": [
      "accuracy: 0.6636449480642115\n",
      "auc: 0.6180835873139621\n"
     ]
    },
    {
     "data": {
      "text/plain": [
       "<sklearn.metrics._plot.confusion_matrix.ConfusionMatrixDisplay at 0x23f19c18640>"
      ]
     },
     "execution_count": 19,
     "metadata": {},
     "output_type": "execute_result"
    },
    {
     "data": {
      "image/png": "[encoded data removed]",
      "text/plain": [
       "<Figure size 432x288 with 2 Axes>"
      ]
     },
     "metadata": {
      "needs_background": "light"
     },
     "output_type": "display_data"
    }
   ],
   "source": [
    "# train the model just as before\n",
    "svm_clf = SVC(C=10, kernel='rbf', degree=3, gamma=1,random_state=0) # get object\n",
    "svm_clf.fit(balanced_final_train, balanced_Y_train)  # train object\n",
    "\n",
    "y_hat = svm_clf.predict(final_test) # get test set precitions\n",
    "\n",
    "acc = mt.accuracy_score(Y_test,y_hat)\n",
    "conf = mt.confusion_matrix(Y_test,y_hat)\n",
    "auc=roc_auc_score(Y_test,y_hat)\n",
    "print('accuracy:', acc )\n",
    "print('auc:',auc)\n",
    "disp=ConfusionMatrixDisplay(confusion_matrix=conf,  display_labels=svm_clf.classes_)\n",
    "disp.plot()"
   ]
  },
  {
   "cell_type": "code",
   "execution_count": 20,
   "metadata": {},
   "outputs": [
    {
     "name": "stdout",
     "output_type": "stream",
     "text": [
      "accuracy: 0.6332389046270066\n",
      "auc: 0.6371414751299191\n"
     ]
    },
    {
     "data": {
      "text/plain": [
       "<sklearn.metrics._plot.confusion_matrix.ConfusionMatrixDisplay at 0x23f19b182e0>"
      ]
     },
     "execution_count": 20,
     "metadata": {},
     "output_type": "execute_result"
    },
    {
     "data": {
      "image/png": "[encoded data removed]",
      "text/plain": [
       "<Figure size 432x288 with 2 Axes>"
      ]
     },
     "metadata": {
      "needs_background": "light"
     },
     "output_type": "display_data"
    }
   ],
   "source": [
    "# train the model just as before\n",
    "svm_clf = SVC(C=10, kernel='rbf', degree=3, gamma=.5,random_state=0) # get object\n",
    "svm_clf.fit(balanced_final_train, balanced_Y_train)  # train object\n",
    "\n",
    "y_hat = svm_clf.predict(final_test) # get test set precitions\n",
    "\n",
    "acc = mt.accuracy_score(Y_test,y_hat)\n",
    "conf = mt.confusion_matrix(Y_test,y_hat)\n",
    "auc=roc_auc_score(Y_test,y_hat)\n",
    "print('accuracy:', acc )\n",
    "print('auc:',auc)\n",
    "disp=ConfusionMatrixDisplay(confusion_matrix=conf,  display_labels=svm_clf.classes_)\n",
    "disp.plot()"
   ]
  },
  {
   "cell_type": "code",
   "execution_count": 21,
   "metadata": {},
   "outputs": [
    {
     "name": "stdout",
     "output_type": "stream",
     "text": [
      "accuracy: 0.631853950267548\n",
      "auc: 0.6701441946713322\n"
     ]
    },
    {
     "data": {
      "text/plain": [
       "<sklearn.metrics._plot.confusion_matrix.ConfusionMatrixDisplay at 0x23f19c043d0>"
      ]
     },
     "execution_count": 21,
     "metadata": {},
     "output_type": "execute_result"
    },
    {
     "data": {
      "image/png": "[encoded data removed]",
      "text/plain": [
       "<Figure size 432x288 with 2 Axes>"
      ]
     },
     "metadata": {
      "needs_background": "light"
     },
     "output_type": "display_data"
    }
   ],
   "source": [
    "# train the model just as before\n",
    "svm_clf = SVC(C=10, kernel='rbf', degree=3, gamma=.1,random_state=0) # get object\n",
    "svm_clf.fit(balanced_final_train, balanced_Y_train)  # train object\n",
    "\n",
    "y_hat = svm_clf.predict(final_test) # get test set precitions\n",
    "\n",
    "acc = mt.accuracy_score(Y_test,y_hat)\n",
    "conf = mt.confusion_matrix(Y_test,y_hat)\n",
    "auc=roc_auc_score(Y_test,y_hat)\n",
    "print('accuracy:', acc )\n",
    "print('auc:',auc)\n",
    "disp=ConfusionMatrixDisplay(confusion_matrix=conf,  display_labels=svm_clf.classes_)\n",
    "disp.plot()"
   ]
  },
  {
   "cell_type": "markdown",
   "metadata": {},
   "source": [
    "## Selected Model"
   ]
  },
  {
   "cell_type": "code",
   "execution_count": 22,
   "metadata": {},
   "outputs": [
    {
     "name": "stdout",
     "output_type": "stream",
     "text": [
      "accuracy: 0.5836323575700346\n",
      "precision: 0.1393939393939394\n",
      "recall: 0.8220810166799047\n",
      "auc: 0.6925939063982048\n"
     ]
    },
    {
     "data": {
      "text/plain": [
       "<sklearn.metrics._plot.confusion_matrix.ConfusionMatrixDisplay at 0x23f1770c580>"
      ]
     },
     "execution_count": 22,
     "metadata": {},
     "output_type": "execute_result"
    },
    {
     "data": {
      "image/png": "[encoded data removed]",
      "text/plain": [
       "<Figure size 432x288 with 2 Axes>"
      ]
     },
     "metadata": {
      "needs_background": "light"
     },
     "output_type": "display_data"
    }
   ],
   "source": [
    "# train the model just as before\n",
    "svm_clf = SVC(C=10, kernel='rbf', degree=3, gamma='auto',random_state=0) # get object\n",
    "svm_clf.fit(balanced_final_train, balanced_Y_train)  # train object\n",
    "\n",
    "y_hat = svm_clf.predict(final_test) # get test set precitions\n",
    "\n",
    "acc = mt.accuracy_score(Y_test,y_hat)\n",
    "precision = mt.precision_score(Y_test,y_hat)\n",
    "recall = mt.recall_score(Y_test,y_hat)\n",
    "conf = mt.confusion_matrix(Y_test,y_hat)\n",
    "auc=roc_auc_score(Y_test,y_hat)\n",
    "print('accuracy:', acc )\n",
    "print('precision:', precision )\n",
    "print('recall:', recall )\n",
    "print('auc:',auc)\n",
    "disp=ConfusionMatrixDisplay(confusion_matrix=conf,  display_labels=svm_clf.classes_)\n",
    "disp.plot()"
   ]
  },
  {
   "cell_type": "code",
   "execution_count": 23,
   "metadata": {},
   "outputs": [
    {
     "name": "stdout",
     "output_type": "stream",
     "text": [
      "accuracy: 0.5281082782499213\n",
      "precision: 0.1393939393939394\n",
      "recall: 0.8220810166799047\n",
      "auc: 0.6874860093882231\n",
      "Support Vector Details:\n",
      "w =  [[-3.20151149e-02 -5.45305885e-03 -2.58696975e-02  6.27355311e-03\n",
      "  -4.01712159e-02  1.26049745e-02 -2.13773544e+00 -9.50140009e-02\n",
      "   4.53960965e-01 -6.74717374e-01  3.29146039e-01 -1.19463643e+00\n",
      "   0.00000000e+00  6.87427125e-01 -2.11718631e-01  5.16633192e-01\n",
      "   1.00893315e-01 -5.72927430e-02  3.70880108e-02  1.45305695e-01\n",
      "  -1.10641680e-02  5.17722280e-02  2.34643947e-02 -1.12241019e+00\n",
      "   5.52672951e-03  2.29390589e-02  2.97672811e-01  6.63672976e-02\n",
      "   9.72126372e-01  7.95380811e-01  8.36914442e-01  9.67260190e-01\n",
      "   7.80076058e-01  9.69485026e-01 -5.87058190e-02 -5.49986225e-02\n",
      "  -9.10732085e-02  5.81094982e-02  1.80160971e-01  2.44105061e-02\n",
      "   4.85253532e-03  2.32589998e-02 -1.51164773e-01  5.14062422e-02\n",
      "  -8.05501844e-02 -2.92284824e-02  1.67368042e-02  5.76439181e-02\n",
      "   1.82875700e-02  4.27910300e-02 -6.01112686e-01  3.13473270e-02\n",
      "   8.71738179e-02  3.88275488e-03  5.74265531e-02 -4.65572023e-04\n",
      "   2.29511120e-02 -2.07588136e-01  2.30158891e-02 -9.29123553e-02\n",
      "  -1.24286222e-01  6.75866496e-02 -1.55596412e-02  1.93896908e-02\n",
      "  -4.42772550e-02  6.24548510e-02 -5.99361571e-02]]\n",
      "b =  [-1.63571597]\n",
      "Indices of support vectors =  [    3     4     6 ... 10190 10191 10193]\n",
      "Support vectors =  [[ 0.2936243  -0.38631038 -0.08556892 ...  0.          0.\n",
      "   0.        ]\n",
      " [ 0.82580236  3.03767206 -3.15152578 ...  0.          0.\n",
      "   0.        ]\n",
      " [ 1.0918914  -0.38631038 -0.08556892 ...  0.          0.\n",
      "   0.        ]\n",
      " ...\n",
      " [ 0.2936243  -0.38631038 -0.08556892 ...  0.          0.\n",
      "   0.        ]\n",
      " [ 0.02753526 -0.38631038 -0.08556892 ...  0.          0.\n",
      "   0.        ]\n",
      " [ 1.35798043 -0.38631038 -0.08556892 ...  0.          1.\n",
      "   0.        ]]\n",
      "Number of support vectors for each class =  [3438 3463]\n",
      "Coefficients of the support vector in the decision function =  [[10. 10. 10. ... 10. 10. 10.]]\n"
     ]
    },
    {
     "data": {
      "text/plain": [
       "<sklearn.metrics._plot.confusion_matrix.ConfusionMatrixDisplay at 0x23f17678220>"
      ]
     },
     "execution_count": 23,
     "metadata": {},
     "output_type": "execute_result"
    },
    {
     "data": {
      "image/png": "[encoded data removed]",
      "text/plain": [
       "<Figure size 432x288 with 2 Axes>"
      ]
     },
     "metadata": {
      "needs_background": "light"
     },
     "output_type": "display_data"
    }
   ],
   "source": [
    "#Code referenced from https://stats.stackexchange.com/questions/39243/how-does-one-interpret-svm-feature-weights\n",
    "# train the model just as before\n",
    "svm_clf = SVC(C=10, kernel='linear', degree=3,random_state=0) # get object\n",
    "svm_clf.fit(balanced_final_train, balanced_Y_train)  # train object\n",
    "\n",
    "y_hat = svm_clf.predict(final_test) # get test set precitions\n",
    "\n",
    "acc = mt.accuracy_score(Y_test,y_hat)\n",
    "conf = mt.confusion_matrix(Y_test,y_hat)\n",
    "auc=roc_auc_score(Y_test,y_hat)\n",
    "print('accuracy:', acc )\n",
    "print('precision:', precision )\n",
    "print('recall:', recall )\n",
    "print('auc:',auc)\n",
    "print('Support Vector Details:')\n",
    "print('w = ',svm_clf.coef_)\n",
    "print('b = ',svm_clf.intercept_)\n",
    "print('Indices of support vectors = ', svm_clf.support_)\n",
    "print('Support vectors = ', svm_clf.support_vectors_)\n",
    "print('Number of support vectors for each class = ', svm_clf.n_support_)\n",
    "print('Coefficients of the support vector in the decision function = ', np.abs(svm_clf.dual_coef_))\n",
    "disp=ConfusionMatrixDisplay(confusion_matrix=conf,  display_labels=svm_clf.classes_)\n",
    "disp.plot()"
   ]
  },
  {
   "cell_type": "code",
   "execution_count": 24,
   "metadata": {
    "scrolled": true
   },
   "outputs": [
    {
     "data": {
      "image/png": "[encoded data removed]",
      "text/plain": [
       "<Figure size 1332x1332 with 1 Axes>"
      ]
     },
     "metadata": {
      "needs_background": "light"
     },
     "output_type": "display_data"
    }
   ],
   "source": [
    "#Function referenced from https://stackoverflow.com/questions/41592661/determining-the-most-contributing-features-for-svm-classifier-in-sklearn\n",
    "def f_importances(coef, names):\n",
    "    imp = np.absolute(coef)\n",
    "    imp,names = zip(*sorted(zip(imp,names)))\n",
    "    fig = matplotlib.pyplot.gcf()\n",
    "    fig.set_size_inches(18.5, 18.5, forward=True)\n",
    "    plt.barh(range(len(names)), imp, align='center')\n",
    "    plt.yticks(range(len(names)), names)\n",
    "    plt.show()\n",
    "\n",
    "features=balanced_final_train.columns.to_list\n",
    "f_importances(svm_clf.coef_[0], balanced_final_train.columns)"
   ]
  },
  {
   "cell_type": "code",
   "execution_count": 25,
   "metadata": {},
   "outputs": [],
   "source": [
    "#Parameter grid code was referenced from https://www.youtube.com/watch?v=8A7L0GsBiLQ\n",
    "# param_grid = [\n",
    "#     {'C':[1,10,100,1000],\n",
    "#     'gamma':['scale',1,.1,.01],\n",
    "#     'kernel':['rbf']}\n",
    "# ]\n",
    "\n",
    "# model = SVC()\n",
    "\n",
    "# hypertuning_vals = GridSearchCV(\n",
    "#    estimator=model,\n",
    "#    param_grid=param_grid,\n",
    "#    scoring='accuracy'\n",
    "# )\n",
    "\n",
    "# hypertuning_vals.fit(balanced_final_train,balanced_Y_train)\n",
    "# print(hypertuning_vals.best_params_)"
   ]
  }
 ],
 "metadata": {
  "kernelspec": {
   "display_name": "Python 3",
   "language": "python",
   "name": "python3"
  },
  "language_info": {
   "codemirror_mode": {
    "name": "ipython",
    "version": 3
   },
   "file_extension": ".py",
   "mimetype": "text/x-python",
   "name": "python",
   "nbconvert_exporter": "python",
   "pygments_lexer": "ipython3",
   "version": "3.8.3"
  }
 },
 "nbformat": 4,
 "nbformat_minor": 5
}
