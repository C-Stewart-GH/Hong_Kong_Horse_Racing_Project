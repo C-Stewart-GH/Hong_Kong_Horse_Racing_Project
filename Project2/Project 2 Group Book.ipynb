{
 "cells": [
  {
   "cell_type": "markdown",
   "metadata": {},
   "source": [
    "Nathan Deinlein <br>\n",
    "Ryan Kinney <br>\n",
    "Chris Roche <br>\n",
    "Cameron Stewart <br>"
   ]
  },
  {
   "cell_type": "markdown",
   "metadata": {},
   "source": [
    "# Machine Learning 1 - Lab 2 Classification"
   ]
  },
  {
   "cell_type": "markdown",
   "metadata": {},
   "source": [
    "## Section 1: Data Preparation Part 1"
   ]
  },
  {
   "cell_type": "markdown",
   "metadata": {},
   "source": [
    "### Load Libraries"
   ]
  },
  {
   "cell_type": "code",
   "execution_count": 119,
   "metadata": {},
   "outputs": [],
   "source": [
    "# Load libraries\n",
    "import pandas as pd\n",
    "import numpy as np\n",
    "import matplotlib\n",
    "import matplotlib.pyplot as plt\n",
    "%matplotlib inline\n",
    "from sklearn.model_selection import train_test_split\n",
    "from sklearn import metrics as mt\n",
    "from sklearn.metrics import plot_confusion_matrix, roc_auc_score\n",
    "from sklearn.preprocessing import StandardScaler\n",
    "from sklearn.metrics import ConfusionMatrixDisplay\n",
    "from sklearn.svm import SVC\n",
    "from sklearn.model_selection import StratifiedShuffleSplit\n",
    "from sklearn.neighbors import KNeighborsClassifier\n",
    "from sklearn.metrics import accuracy_score\n",
    "import warnings\n",
    "warnings.simplefilter('ignore', DeprecationWarning)\n",
    "from sklearn.model_selection import cross_validate\n",
    "from sklearn.pipeline import Pipeline\n",
    "from collections import Counter\n",
    "from imblearn.over_sampling import SMOTE\n",
    "import seaborn as sns\n",
    "from sklearn.naive_bayes import ComplementNB\n",
    "from sklearn.preprocessing import MinMaxScaler\n",
    "from sklearn.naive_bayes import GaussianNB\n",
    "from sklearn.model_selection import GridSearchCV\n",
    "from sklearn.feature_selection import RFECV\n",
    "from sklearn.model_selection import StratifiedKFold\n",
    "from sklearn.ensemble import RandomForestClassifier\n",
    "from sklearn.linear_model import LogisticRegression\n",
    "from mlxtend.evaluate import paired_ttest_5x2cv\n",
    "def warn(*args, **kwargs):\n",
    "    pass\n",
    "import warnings\n",
    "warnings.warn = warn"
   ]
  },
  {
   "cell_type": "markdown",
   "metadata": {},
   "source": [
    "### Sub-Section 1.1: Define and prepare your class variables."
   ]
  },
  {
   "cell_type": "markdown",
   "metadata": {},
   "source": [
    "#### Read in data"
   ]
  },
  {
   "cell_type": "code",
   "execution_count": 2,
   "metadata": {},
   "outputs": [
    {
     "name": "stdout",
     "output_type": "stream",
     "text": [
      "Data set shape: (79423, 29)\n"
     ]
    },
    {
     "data": {
      "text/html": [
       "<div>\n",
       "<style scoped>\n",
       "    .dataframe tbody tr th:only-of-type {\n",
       "        vertical-align: middle;\n",
       "    }\n",
       "\n",
       "    .dataframe tbody tr th {\n",
       "        vertical-align: top;\n",
       "    }\n",
       "\n",
       "    .dataframe thead th {\n",
       "        text-align: right;\n",
       "    }\n",
       "</style>\n",
       "<table border=\"1\" class=\"dataframe\">\n",
       "  <thead>\n",
       "    <tr style=\"text-align: right;\">\n",
       "      <th></th>\n",
       "      <th>Unnamed: 0</th>\n",
       "      <th>race_id</th>\n",
       "      <th>horse_no</th>\n",
       "      <th>horse_id</th>\n",
       "      <th>result</th>\n",
       "      <th>won</th>\n",
       "      <th>lengths_behind</th>\n",
       "      <th>horse_age</th>\n",
       "      <th>horse_country</th>\n",
       "      <th>horse_type</th>\n",
       "      <th>...</th>\n",
       "      <th>behind_sec2</th>\n",
       "      <th>behind_sec3</th>\n",
       "      <th>time1</th>\n",
       "      <th>time2</th>\n",
       "      <th>time3</th>\n",
       "      <th>finish_time</th>\n",
       "      <th>win_odds</th>\n",
       "      <th>place_odds</th>\n",
       "      <th>trainer_id</th>\n",
       "      <th>jockey_id</th>\n",
       "    </tr>\n",
       "  </thead>\n",
       "  <tbody>\n",
       "    <tr>\n",
       "      <th>0</th>\n",
       "      <td>0</td>\n",
       "      <td>0</td>\n",
       "      <td>1</td>\n",
       "      <td>3917</td>\n",
       "      <td>10</td>\n",
       "      <td>0.0</td>\n",
       "      <td>8.00</td>\n",
       "      <td>3</td>\n",
       "      <td>AUS</td>\n",
       "      <td>Gelding</td>\n",
       "      <td>...</td>\n",
       "      <td>2.00</td>\n",
       "      <td>1.50</td>\n",
       "      <td>13.85</td>\n",
       "      <td>21.59</td>\n",
       "      <td>23.86</td>\n",
       "      <td>83.92</td>\n",
       "      <td>9.7</td>\n",
       "      <td>3.7</td>\n",
       "      <td>118</td>\n",
       "      <td>2</td>\n",
       "    </tr>\n",
       "    <tr>\n",
       "      <th>1</th>\n",
       "      <td>1</td>\n",
       "      <td>0</td>\n",
       "      <td>2</td>\n",
       "      <td>2157</td>\n",
       "      <td>8</td>\n",
       "      <td>0.0</td>\n",
       "      <td>5.75</td>\n",
       "      <td>3</td>\n",
       "      <td>NZ</td>\n",
       "      <td>Gelding</td>\n",
       "      <td>...</td>\n",
       "      <td>9.00</td>\n",
       "      <td>5.00</td>\n",
       "      <td>14.57</td>\n",
       "      <td>21.99</td>\n",
       "      <td>23.30</td>\n",
       "      <td>83.56</td>\n",
       "      <td>16.0</td>\n",
       "      <td>4.9</td>\n",
       "      <td>164</td>\n",
       "      <td>57</td>\n",
       "    </tr>\n",
       "    <tr>\n",
       "      <th>2</th>\n",
       "      <td>2</td>\n",
       "      <td>0</td>\n",
       "      <td>3</td>\n",
       "      <td>858</td>\n",
       "      <td>7</td>\n",
       "      <td>0.0</td>\n",
       "      <td>4.75</td>\n",
       "      <td>3</td>\n",
       "      <td>NZ</td>\n",
       "      <td>Gelding</td>\n",
       "      <td>...</td>\n",
       "      <td>1.00</td>\n",
       "      <td>0.75</td>\n",
       "      <td>13.69</td>\n",
       "      <td>21.59</td>\n",
       "      <td>23.90</td>\n",
       "      <td>83.40</td>\n",
       "      <td>3.5</td>\n",
       "      <td>1.5</td>\n",
       "      <td>137</td>\n",
       "      <td>18</td>\n",
       "    </tr>\n",
       "    <tr>\n",
       "      <th>3</th>\n",
       "      <td>3</td>\n",
       "      <td>0</td>\n",
       "      <td>4</td>\n",
       "      <td>1853</td>\n",
       "      <td>9</td>\n",
       "      <td>0.0</td>\n",
       "      <td>6.25</td>\n",
       "      <td>3</td>\n",
       "      <td>SAF</td>\n",
       "      <td>Gelding</td>\n",
       "      <td>...</td>\n",
       "      <td>5.00</td>\n",
       "      <td>3.50</td>\n",
       "      <td>14.09</td>\n",
       "      <td>21.83</td>\n",
       "      <td>23.70</td>\n",
       "      <td>83.62</td>\n",
       "      <td>39.0</td>\n",
       "      <td>11.0</td>\n",
       "      <td>80</td>\n",
       "      <td>59</td>\n",
       "    </tr>\n",
       "    <tr>\n",
       "      <th>4</th>\n",
       "      <td>4</td>\n",
       "      <td>0</td>\n",
       "      <td>5</td>\n",
       "      <td>2796</td>\n",
       "      <td>6</td>\n",
       "      <td>0.0</td>\n",
       "      <td>3.75</td>\n",
       "      <td>3</td>\n",
       "      <td>GB</td>\n",
       "      <td>Gelding</td>\n",
       "      <td>...</td>\n",
       "      <td>8.75</td>\n",
       "      <td>4.25</td>\n",
       "      <td>14.77</td>\n",
       "      <td>21.75</td>\n",
       "      <td>23.22</td>\n",
       "      <td>83.24</td>\n",
       "      <td>50.0</td>\n",
       "      <td>14.0</td>\n",
       "      <td>9</td>\n",
       "      <td>154</td>\n",
       "    </tr>\n",
       "  </tbody>\n",
       "</table>\n",
       "<p>5 rows × 29 columns</p>\n",
       "</div>"
      ],
      "text/plain": [
       "   Unnamed: 0  race_id  horse_no  horse_id  result  won  lengths_behind  \\\n",
       "0           0        0         1      3917      10  0.0            8.00   \n",
       "1           1        0         2      2157       8  0.0            5.75   \n",
       "2           2        0         3       858       7  0.0            4.75   \n",
       "3           3        0         4      1853       9  0.0            6.25   \n",
       "4           4        0         5      2796       6  0.0            3.75   \n",
       "\n",
       "   horse_age horse_country horse_type  ...  behind_sec2 behind_sec3  time1  \\\n",
       "0          3           AUS    Gelding  ...         2.00        1.50  13.85   \n",
       "1          3            NZ    Gelding  ...         9.00        5.00  14.57   \n",
       "2          3            NZ    Gelding  ...         1.00        0.75  13.69   \n",
       "3          3           SAF    Gelding  ...         5.00        3.50  14.09   \n",
       "4          3            GB    Gelding  ...         8.75        4.25  14.77   \n",
       "\n",
       "   time2  time3  finish_time  win_odds  place_odds  trainer_id  jockey_id  \n",
       "0  21.59  23.86        83.92       9.7         3.7         118          2  \n",
       "1  21.99  23.30        83.56      16.0         4.9         164         57  \n",
       "2  21.59  23.90        83.40       3.5         1.5         137         18  \n",
       "3  21.83  23.70        83.62      39.0        11.0          80         59  \n",
       "4  21.75  23.22        83.24      50.0        14.0           9        154  \n",
       "\n",
       "[5 rows x 29 columns]"
      ]
     },
     "execution_count": 2,
     "metadata": {},
     "output_type": "execute_result"
    }
   ],
   "source": [
    "# read in the data\n",
    "url = \"https://raw.githubusercontent.com/nedeinlein/Machine_Learning_I/main/runs_clean.csv\"\n",
    "runs_df = pd.read_csv(url, index_col=False)\n",
    "print('Data set shape:',runs_df.shape)\n",
    "runs_df.head()"
   ]
  },
  {
   "cell_type": "markdown",
   "metadata": {},
   "source": [
    "Our team's data set represents information collected from Hong Kong Horse Races. The data describes 29 race day attributes of 79,423 horses over 6,349 races (Note: Some horses are recorded in multiple races). Dates were obscured so timeframe of data is unknown. There are no missing values remaining in our imported data set. The raw data sets along with additional context can be located here: https://www.kaggle.com/gdaley/hkracing?select=runs.csv."
   ]
  },
  {
   "cell_type": "markdown",
   "metadata": {},
   "source": [
    "#### Create Show Variable"
   ]
  },
  {
   "cell_type": "code",
   "execution_count": 3,
   "metadata": {
    "scrolled": false
   },
   "outputs": [
    {
     "data": {
      "text/html": [
       "<div>\n",
       "<style scoped>\n",
       "    .dataframe tbody tr th:only-of-type {\n",
       "        vertical-align: middle;\n",
       "    }\n",
       "\n",
       "    .dataframe tbody tr th {\n",
       "        vertical-align: top;\n",
       "    }\n",
       "\n",
       "    .dataframe thead th {\n",
       "        text-align: right;\n",
       "    }\n",
       "</style>\n",
       "<table border=\"1\" class=\"dataframe\">\n",
       "  <thead>\n",
       "    <tr style=\"text-align: right;\">\n",
       "      <th></th>\n",
       "      <th>Unnamed: 0</th>\n",
       "      <th>race_id</th>\n",
       "      <th>horse_no</th>\n",
       "      <th>horse_id</th>\n",
       "      <th>result</th>\n",
       "      <th>won</th>\n",
       "      <th>lengths_behind</th>\n",
       "      <th>horse_age</th>\n",
       "      <th>horse_country</th>\n",
       "      <th>horse_type</th>\n",
       "      <th>...</th>\n",
       "      <th>behind_sec3</th>\n",
       "      <th>time1</th>\n",
       "      <th>time2</th>\n",
       "      <th>time3</th>\n",
       "      <th>finish_time</th>\n",
       "      <th>win_odds</th>\n",
       "      <th>place_odds</th>\n",
       "      <th>trainer_id</th>\n",
       "      <th>jockey_id</th>\n",
       "      <th>show</th>\n",
       "    </tr>\n",
       "  </thead>\n",
       "  <tbody>\n",
       "    <tr>\n",
       "      <th>0</th>\n",
       "      <td>0</td>\n",
       "      <td>0</td>\n",
       "      <td>1</td>\n",
       "      <td>3917</td>\n",
       "      <td>10</td>\n",
       "      <td>0.0</td>\n",
       "      <td>8.00</td>\n",
       "      <td>3</td>\n",
       "      <td>AUS</td>\n",
       "      <td>Gelding</td>\n",
       "      <td>...</td>\n",
       "      <td>1.50</td>\n",
       "      <td>13.85</td>\n",
       "      <td>21.59</td>\n",
       "      <td>23.86</td>\n",
       "      <td>83.92</td>\n",
       "      <td>9.7</td>\n",
       "      <td>3.7</td>\n",
       "      <td>118</td>\n",
       "      <td>2</td>\n",
       "      <td>0</td>\n",
       "    </tr>\n",
       "    <tr>\n",
       "      <th>1</th>\n",
       "      <td>1</td>\n",
       "      <td>0</td>\n",
       "      <td>2</td>\n",
       "      <td>2157</td>\n",
       "      <td>8</td>\n",
       "      <td>0.0</td>\n",
       "      <td>5.75</td>\n",
       "      <td>3</td>\n",
       "      <td>NZ</td>\n",
       "      <td>Gelding</td>\n",
       "      <td>...</td>\n",
       "      <td>5.00</td>\n",
       "      <td>14.57</td>\n",
       "      <td>21.99</td>\n",
       "      <td>23.30</td>\n",
       "      <td>83.56</td>\n",
       "      <td>16.0</td>\n",
       "      <td>4.9</td>\n",
       "      <td>164</td>\n",
       "      <td>57</td>\n",
       "      <td>0</td>\n",
       "    </tr>\n",
       "    <tr>\n",
       "      <th>2</th>\n",
       "      <td>2</td>\n",
       "      <td>0</td>\n",
       "      <td>3</td>\n",
       "      <td>858</td>\n",
       "      <td>7</td>\n",
       "      <td>0.0</td>\n",
       "      <td>4.75</td>\n",
       "      <td>3</td>\n",
       "      <td>NZ</td>\n",
       "      <td>Gelding</td>\n",
       "      <td>...</td>\n",
       "      <td>0.75</td>\n",
       "      <td>13.69</td>\n",
       "      <td>21.59</td>\n",
       "      <td>23.90</td>\n",
       "      <td>83.40</td>\n",
       "      <td>3.5</td>\n",
       "      <td>1.5</td>\n",
       "      <td>137</td>\n",
       "      <td>18</td>\n",
       "      <td>0</td>\n",
       "    </tr>\n",
       "    <tr>\n",
       "      <th>3</th>\n",
       "      <td>3</td>\n",
       "      <td>0</td>\n",
       "      <td>4</td>\n",
       "      <td>1853</td>\n",
       "      <td>9</td>\n",
       "      <td>0.0</td>\n",
       "      <td>6.25</td>\n",
       "      <td>3</td>\n",
       "      <td>SAF</td>\n",
       "      <td>Gelding</td>\n",
       "      <td>...</td>\n",
       "      <td>3.50</td>\n",
       "      <td>14.09</td>\n",
       "      <td>21.83</td>\n",
       "      <td>23.70</td>\n",
       "      <td>83.62</td>\n",
       "      <td>39.0</td>\n",
       "      <td>11.0</td>\n",
       "      <td>80</td>\n",
       "      <td>59</td>\n",
       "      <td>0</td>\n",
       "    </tr>\n",
       "    <tr>\n",
       "      <th>4</th>\n",
       "      <td>4</td>\n",
       "      <td>0</td>\n",
       "      <td>5</td>\n",
       "      <td>2796</td>\n",
       "      <td>6</td>\n",
       "      <td>0.0</td>\n",
       "      <td>3.75</td>\n",
       "      <td>3</td>\n",
       "      <td>GB</td>\n",
       "      <td>Gelding</td>\n",
       "      <td>...</td>\n",
       "      <td>4.25</td>\n",
       "      <td>14.77</td>\n",
       "      <td>21.75</td>\n",
       "      <td>23.22</td>\n",
       "      <td>83.24</td>\n",
       "      <td>50.0</td>\n",
       "      <td>14.0</td>\n",
       "      <td>9</td>\n",
       "      <td>154</td>\n",
       "      <td>0</td>\n",
       "    </tr>\n",
       "  </tbody>\n",
       "</table>\n",
       "<p>5 rows × 30 columns</p>\n",
       "</div>"
      ],
      "text/plain": [
       "   Unnamed: 0  race_id  horse_no  horse_id  result  won  lengths_behind  \\\n",
       "0           0        0         1      3917      10  0.0            8.00   \n",
       "1           1        0         2      2157       8  0.0            5.75   \n",
       "2           2        0         3       858       7  0.0            4.75   \n",
       "3           3        0         4      1853       9  0.0            6.25   \n",
       "4           4        0         5      2796       6  0.0            3.75   \n",
       "\n",
       "   horse_age horse_country horse_type  ...  behind_sec3  time1  time2  time3  \\\n",
       "0          3           AUS    Gelding  ...         1.50  13.85  21.59  23.86   \n",
       "1          3            NZ    Gelding  ...         5.00  14.57  21.99  23.30   \n",
       "2          3            NZ    Gelding  ...         0.75  13.69  21.59  23.90   \n",
       "3          3           SAF    Gelding  ...         3.50  14.09  21.83  23.70   \n",
       "4          3            GB    Gelding  ...         4.25  14.77  21.75  23.22   \n",
       "\n",
       "   finish_time  win_odds  place_odds  trainer_id  jockey_id  show  \n",
       "0        83.92       9.7         3.7         118          2     0  \n",
       "1        83.56      16.0         4.9         164         57     0  \n",
       "2        83.40       3.5         1.5         137         18     0  \n",
       "3        83.62      39.0        11.0          80         59     0  \n",
       "4        83.24      50.0        14.0           9        154     0  \n",
       "\n",
       "[5 rows x 30 columns]"
      ]
     },
     "execution_count": 3,
     "metadata": {},
     "output_type": "execute_result"
    }
   ],
   "source": [
    "# Add a Show result feature\n",
    "runs_df['show'] = np.where(runs_df['result'] <= 3, 1, 0)\n",
    "runs_df.head()"
   ]
  },
  {
   "cell_type": "markdown",
   "metadata": {},
   "source": [
    "The two variables our team is focusing on for classification are Won and Show. The Won variable is a binary 0 or 1 response to descibe if the horse placed first in the race. If the horse placed first in the race, the Won variable records a 1. The Show variable (created above) is also a binary 0 or 1 response that represents whether a horse placed first, second, or third in a race. If the horse does place in the top 3, then the Show variable records a 1."
   ]
  },
  {
   "cell_type": "markdown",
   "metadata": {},
   "source": [
    "### Sub-Section 1.2: Remove variables that are not needed/useful for the analysis."
   ]
  },
  {
   "cell_type": "markdown",
   "metadata": {},
   "source": [
    "#### Drop Non-Important Attributes"
   ]
  },
  {
   "cell_type": "code",
   "execution_count": 4,
   "metadata": {},
   "outputs": [
    {
     "name": "stdout",
     "output_type": "stream",
     "text": [
      "Predictor data set shape after dropping non-important predictors \n",
      "and separating response variables into their own data sets: \n",
      " (79423, 10)\n"
     ]
    },
    {
     "data": {
      "text/html": [
       "<div>\n",
       "<style scoped>\n",
       "    .dataframe tbody tr th:only-of-type {\n",
       "        vertical-align: middle;\n",
       "    }\n",
       "\n",
       "    .dataframe tbody tr th {\n",
       "        vertical-align: top;\n",
       "    }\n",
       "\n",
       "    .dataframe thead th {\n",
       "        text-align: right;\n",
       "    }\n",
       "</style>\n",
       "<table border=\"1\" class=\"dataframe\">\n",
       "  <thead>\n",
       "    <tr style=\"text-align: right;\">\n",
       "      <th></th>\n",
       "      <th>horse_no</th>\n",
       "      <th>horse_age</th>\n",
       "      <th>horse_country</th>\n",
       "      <th>horse_type</th>\n",
       "      <th>horse_rating</th>\n",
       "      <th>declared_weight</th>\n",
       "      <th>actual_weight</th>\n",
       "      <th>draw</th>\n",
       "      <th>win_odds</th>\n",
       "      <th>place_odds</th>\n",
       "    </tr>\n",
       "  </thead>\n",
       "  <tbody>\n",
       "    <tr>\n",
       "      <th>0</th>\n",
       "      <td>1</td>\n",
       "      <td>3</td>\n",
       "      <td>AUS</td>\n",
       "      <td>Gelding</td>\n",
       "      <td>60</td>\n",
       "      <td>1020.0</td>\n",
       "      <td>133</td>\n",
       "      <td>7</td>\n",
       "      <td>9.7</td>\n",
       "      <td>3.7</td>\n",
       "    </tr>\n",
       "    <tr>\n",
       "      <th>1</th>\n",
       "      <td>2</td>\n",
       "      <td>3</td>\n",
       "      <td>NZ</td>\n",
       "      <td>Gelding</td>\n",
       "      <td>60</td>\n",
       "      <td>980.0</td>\n",
       "      <td>133</td>\n",
       "      <td>12</td>\n",
       "      <td>16.0</td>\n",
       "      <td>4.9</td>\n",
       "    </tr>\n",
       "    <tr>\n",
       "      <th>2</th>\n",
       "      <td>3</td>\n",
       "      <td>3</td>\n",
       "      <td>NZ</td>\n",
       "      <td>Gelding</td>\n",
       "      <td>60</td>\n",
       "      <td>1082.0</td>\n",
       "      <td>132</td>\n",
       "      <td>8</td>\n",
       "      <td>3.5</td>\n",
       "      <td>1.5</td>\n",
       "    </tr>\n",
       "    <tr>\n",
       "      <th>3</th>\n",
       "      <td>4</td>\n",
       "      <td>3</td>\n",
       "      <td>SAF</td>\n",
       "      <td>Gelding</td>\n",
       "      <td>60</td>\n",
       "      <td>1118.0</td>\n",
       "      <td>127</td>\n",
       "      <td>13</td>\n",
       "      <td>39.0</td>\n",
       "      <td>11.0</td>\n",
       "    </tr>\n",
       "    <tr>\n",
       "      <th>4</th>\n",
       "      <td>5</td>\n",
       "      <td>3</td>\n",
       "      <td>GB</td>\n",
       "      <td>Gelding</td>\n",
       "      <td>60</td>\n",
       "      <td>972.0</td>\n",
       "      <td>131</td>\n",
       "      <td>14</td>\n",
       "      <td>50.0</td>\n",
       "      <td>14.0</td>\n",
       "    </tr>\n",
       "  </tbody>\n",
       "</table>\n",
       "</div>"
      ],
      "text/plain": [
       "   horse_no  horse_age horse_country horse_type  horse_rating  \\\n",
       "0         1          3           AUS    Gelding            60   \n",
       "1         2          3            NZ    Gelding            60   \n",
       "2         3          3            NZ    Gelding            60   \n",
       "3         4          3           SAF    Gelding            60   \n",
       "4         5          3            GB    Gelding            60   \n",
       "\n",
       "   declared_weight  actual_weight  draw  win_odds  place_odds  \n",
       "0           1020.0            133     7       9.7         3.7  \n",
       "1            980.0            133    12      16.0         4.9  \n",
       "2           1082.0            132     8       3.5         1.5  \n",
       "3           1118.0            127    13      39.0        11.0  \n",
       "4            972.0            131    14      50.0        14.0  "
      ]
     },
     "execution_count": 4,
     "metadata": {},
     "output_type": "execute_result"
    }
   ],
   "source": [
    "runs_data = runs_df.drop(['Unnamed: 0','race_id','horse_id','result','won','lengths_behind','horse_gear','position_sec1','position_sec2','position_sec3','behind_sec1','behind_sec2','behind_sec3','time1','time2','time3','finish_time','trainer_id','jockey_id','show'], axis=1)\n",
    "runs_target = runs_df['won']\n",
    "runs_target2 = runs_df['show']\n",
    "print('Predictor data set shape after dropping non-important predictors \\nand separating response variables into their own data sets: \\n',runs_data.shape)\n",
    "runs_data.head()"
   ]
  },
  {
   "cell_type": "markdown",
   "metadata": {},
   "source": [
    "Since our objective is to predict the result before the race starts, we must drop any predictors that are not known pre-race. Due to this, we dropped predictors such as: how many lengths the horse finished behind the winner, lap times, lap position, finish time, and finish position.\n",
    "\n",
    "Also, we decided to drop any predictors that are not relevant to predicting the result of the race. These predictors include 'Unnamed: 0' (this was essentially an index value), the ID of the race, and the ID of the horse.\n",
    "\n",
    "Next, we dropped Trainer ID, Jockey ID, and Horse Gear because they each have hundreds to thousands of small sample categorical levels that do not help predict the result of the race.\n",
    "\n",
    "Finally, we separate out the response variables (Won and Show) into their own data sets. This leaves our predictor data set with a shape of 79423 instances and 8 attributes."
   ]
  },
  {
   "cell_type": "markdown",
   "metadata": {},
   "source": [
    "### Sub-Section 1.3: Use proper variable representations"
   ]
  },
  {
   "cell_type": "markdown",
   "metadata": {},
   "source": [
    "#### One-Hot Encode Categorical Variables"
   ]
  },
  {
   "cell_type": "code",
   "execution_count": 5,
   "metadata": {},
   "outputs": [
    {
     "name": "stdout",
     "output_type": "stream",
     "text": [
      "Shape after One-Hot Encoding Categorical Predictors: (79423, 33)\n"
     ]
    },
    {
     "data": {
      "text/html": [
       "<div>\n",
       "<style scoped>\n",
       "    .dataframe tbody tr th:only-of-type {\n",
       "        vertical-align: middle;\n",
       "    }\n",
       "\n",
       "    .dataframe tbody tr th {\n",
       "        vertical-align: top;\n",
       "    }\n",
       "\n",
       "    .dataframe thead th {\n",
       "        text-align: right;\n",
       "    }\n",
       "</style>\n",
       "<table border=\"1\" class=\"dataframe\">\n",
       "  <thead>\n",
       "    <tr style=\"text-align: right;\">\n",
       "      <th></th>\n",
       "      <th>horse_no</th>\n",
       "      <th>horse_age</th>\n",
       "      <th>horse_rating</th>\n",
       "      <th>declared_weight</th>\n",
       "      <th>actual_weight</th>\n",
       "      <th>draw</th>\n",
       "      <th>win_odds</th>\n",
       "      <th>place_odds</th>\n",
       "      <th>horse_country_ARG</th>\n",
       "      <th>horse_country_AUS</th>\n",
       "      <th>...</th>\n",
       "      <th>horse_country_ZIM</th>\n",
       "      <th>horse_type_Brown</th>\n",
       "      <th>horse_type_Colt</th>\n",
       "      <th>horse_type_Filly</th>\n",
       "      <th>horse_type_Gelding</th>\n",
       "      <th>horse_type_Grey</th>\n",
       "      <th>horse_type_Horse</th>\n",
       "      <th>horse_type_Mare</th>\n",
       "      <th>horse_type_Rig</th>\n",
       "      <th>horse_type_Roan</th>\n",
       "    </tr>\n",
       "  </thead>\n",
       "  <tbody>\n",
       "    <tr>\n",
       "      <th>0</th>\n",
       "      <td>1</td>\n",
       "      <td>3</td>\n",
       "      <td>60</td>\n",
       "      <td>1020.0</td>\n",
       "      <td>133</td>\n",
       "      <td>7</td>\n",
       "      <td>9.7</td>\n",
       "      <td>3.7</td>\n",
       "      <td>0</td>\n",
       "      <td>1</td>\n",
       "      <td>...</td>\n",
       "      <td>0</td>\n",
       "      <td>0</td>\n",
       "      <td>0</td>\n",
       "      <td>0</td>\n",
       "      <td>1</td>\n",
       "      <td>0</td>\n",
       "      <td>0</td>\n",
       "      <td>0</td>\n",
       "      <td>0</td>\n",
       "      <td>0</td>\n",
       "    </tr>\n",
       "    <tr>\n",
       "      <th>1</th>\n",
       "      <td>2</td>\n",
       "      <td>3</td>\n",
       "      <td>60</td>\n",
       "      <td>980.0</td>\n",
       "      <td>133</td>\n",
       "      <td>12</td>\n",
       "      <td>16.0</td>\n",
       "      <td>4.9</td>\n",
       "      <td>0</td>\n",
       "      <td>0</td>\n",
       "      <td>...</td>\n",
       "      <td>0</td>\n",
       "      <td>0</td>\n",
       "      <td>0</td>\n",
       "      <td>0</td>\n",
       "      <td>1</td>\n",
       "      <td>0</td>\n",
       "      <td>0</td>\n",
       "      <td>0</td>\n",
       "      <td>0</td>\n",
       "      <td>0</td>\n",
       "    </tr>\n",
       "    <tr>\n",
       "      <th>2</th>\n",
       "      <td>3</td>\n",
       "      <td>3</td>\n",
       "      <td>60</td>\n",
       "      <td>1082.0</td>\n",
       "      <td>132</td>\n",
       "      <td>8</td>\n",
       "      <td>3.5</td>\n",
       "      <td>1.5</td>\n",
       "      <td>0</td>\n",
       "      <td>0</td>\n",
       "      <td>...</td>\n",
       "      <td>0</td>\n",
       "      <td>0</td>\n",
       "      <td>0</td>\n",
       "      <td>0</td>\n",
       "      <td>1</td>\n",
       "      <td>0</td>\n",
       "      <td>0</td>\n",
       "      <td>0</td>\n",
       "      <td>0</td>\n",
       "      <td>0</td>\n",
       "    </tr>\n",
       "    <tr>\n",
       "      <th>3</th>\n",
       "      <td>4</td>\n",
       "      <td>3</td>\n",
       "      <td>60</td>\n",
       "      <td>1118.0</td>\n",
       "      <td>127</td>\n",
       "      <td>13</td>\n",
       "      <td>39.0</td>\n",
       "      <td>11.0</td>\n",
       "      <td>0</td>\n",
       "      <td>0</td>\n",
       "      <td>...</td>\n",
       "      <td>0</td>\n",
       "      <td>0</td>\n",
       "      <td>0</td>\n",
       "      <td>0</td>\n",
       "      <td>1</td>\n",
       "      <td>0</td>\n",
       "      <td>0</td>\n",
       "      <td>0</td>\n",
       "      <td>0</td>\n",
       "      <td>0</td>\n",
       "    </tr>\n",
       "    <tr>\n",
       "      <th>4</th>\n",
       "      <td>5</td>\n",
       "      <td>3</td>\n",
       "      <td>60</td>\n",
       "      <td>972.0</td>\n",
       "      <td>131</td>\n",
       "      <td>14</td>\n",
       "      <td>50.0</td>\n",
       "      <td>14.0</td>\n",
       "      <td>0</td>\n",
       "      <td>0</td>\n",
       "      <td>...</td>\n",
       "      <td>0</td>\n",
       "      <td>0</td>\n",
       "      <td>0</td>\n",
       "      <td>0</td>\n",
       "      <td>1</td>\n",
       "      <td>0</td>\n",
       "      <td>0</td>\n",
       "      <td>0</td>\n",
       "      <td>0</td>\n",
       "      <td>0</td>\n",
       "    </tr>\n",
       "  </tbody>\n",
       "</table>\n",
       "<p>5 rows × 33 columns</p>\n",
       "</div>"
      ],
      "text/plain": [
       "   horse_no  horse_age  horse_rating  declared_weight  actual_weight  draw  \\\n",
       "0         1          3            60           1020.0            133     7   \n",
       "1         2          3            60            980.0            133    12   \n",
       "2         3          3            60           1082.0            132     8   \n",
       "3         4          3            60           1118.0            127    13   \n",
       "4         5          3            60            972.0            131    14   \n",
       "\n",
       "   win_odds  place_odds  horse_country_ARG  horse_country_AUS  ...  \\\n",
       "0       9.7         3.7                  0                  1  ...   \n",
       "1      16.0         4.9                  0                  0  ...   \n",
       "2       3.5         1.5                  0                  0  ...   \n",
       "3      39.0        11.0                  0                  0  ...   \n",
       "4      50.0        14.0                  0                  0  ...   \n",
       "\n",
       "   horse_country_ZIM  horse_type_Brown  horse_type_Colt  horse_type_Filly  \\\n",
       "0                  0                 0                0                 0   \n",
       "1                  0                 0                0                 0   \n",
       "2                  0                 0                0                 0   \n",
       "3                  0                 0                0                 0   \n",
       "4                  0                 0                0                 0   \n",
       "\n",
       "   horse_type_Gelding  horse_type_Grey  horse_type_Horse  horse_type_Mare  \\\n",
       "0                   1                0                 0                0   \n",
       "1                   1                0                 0                0   \n",
       "2                   1                0                 0                0   \n",
       "3                   1                0                 0                0   \n",
       "4                   1                0                 0                0   \n",
       "\n",
       "   horse_type_Rig  horse_type_Roan  \n",
       "0               0                0  \n",
       "1               0                0  \n",
       "2               0                0  \n",
       "3               0                0  \n",
       "4               0                0  \n",
       "\n",
       "[5 rows x 33 columns]"
      ]
     },
     "execution_count": 5,
     "metadata": {},
     "output_type": "execute_result"
    }
   ],
   "source": [
    "# Use one hot encoding on non-numerical features\n",
    "## (Then remove them from the drop code chunk below)\n",
    "# perform one-hot encoding of the categorical data \"embarked\"\n",
    "tmp_df = pd.get_dummies(runs_data.horse_country,prefix='horse_country')\n",
    "runs_df_onehot = pd.concat((runs_data,tmp_df),axis=1) # add back into the dataframe\n",
    "\n",
    "tmp_df = pd.get_dummies(runs_data.horse_type,prefix='horse_type')\n",
    "runs_df_onehot = pd.concat((runs_df_onehot,tmp_df),axis=1) # add back into the dataframe\n",
    "\n",
    "runs_data = runs_df_onehot.reset_index(drop=True)\n",
    "runs_data = runs_data.drop(['horse_country','horse_type'], axis=1)\n",
    "\n",
    "print('Shape after One-Hot Encoding Categorical Predictors:',runs_data.shape)\n",
    "runs_data.head()"
   ]
  },
  {
   "cell_type": "markdown",
   "metadata": {},
   "source": [
    "After cleaning the data to the key predictors, we one-hot encode the remaining categorical variables horse country and horse type. This will change each categorical variable level into a binary 0 or 1 response. Then we drop the original attributes that were one-hot encoded. The number of attributes in the predictor data set increased from 10 to 33 after one-hot encoding."
   ]
  },
  {
   "cell_type": "markdown",
   "metadata": {},
   "source": [
    "### Sub-Section 1.4: Use pre-processing methods (as needed)"
   ]
  },
  {
   "cell_type": "markdown",
   "metadata": {},
   "source": [
    "This completed the pre-processing our team performed in creating our predictor data set (runs_data), our 'Won' response data set (runs_target), and our 'Show' response data set (runs_target2). One additional pre-processing step not seen until the model creation in Section 5 is scaling. We built a scaling step into the pipeline that is used to scale, train, and fit the models. We used StandardScaler() and MinMaxScaler() in the models in Section 5 based on which was more appropriate. StandardScalar() scales each predictor based on using a standard normal distribution with a mean of 0 and standard deviation of 1. MinMaxScaler() scales each predictor so the values fall in the range [0,1]. When scaling the data set, we fit the scale to the training model and transform both the train and test sets based on the fit. We did this individually for each of the 10 cross validation splits. We will talk about the cross validation method chosen more in Section 4."
   ]
  },
  {
   "cell_type": "markdown",
   "metadata": {},
   "source": [
    "## Section 2: Data Preparation Part 2"
   ]
  },
  {
   "cell_type": "markdown",
   "metadata": {},
   "source": [
    "### Sub-Section 2.1: Describe the final dataset that is used for classification"
   ]
  },
  {
   "cell_type": "code",
   "execution_count": 6,
   "metadata": {},
   "outputs": [
    {
     "name": "stdout",
     "output_type": "stream",
     "text": [
      "Won Response Set Shape:  (79423,)\n",
      "Show Response Set Shape:  (79423,)\n",
      "<class 'pandas.core.frame.DataFrame'>\n",
      "RangeIndex: 79423 entries, 0 to 79422\n",
      "Data columns (total 33 columns):\n",
      " #   Column              Non-Null Count  Dtype  \n",
      "---  ------              --------------  -----  \n",
      " 0   horse_no            79423 non-null  int64  \n",
      " 1   horse_age           79423 non-null  int64  \n",
      " 2   horse_rating        79423 non-null  int64  \n",
      " 3   declared_weight     79423 non-null  float64\n",
      " 4   actual_weight       79423 non-null  int64  \n",
      " 5   draw                79423 non-null  int64  \n",
      " 6   win_odds            79423 non-null  float64\n",
      " 7   place_odds          79423 non-null  float64\n",
      " 8   horse_country_ARG   79423 non-null  uint8  \n",
      " 9   horse_country_AUS   79423 non-null  uint8  \n",
      " 10  horse_country_BRZ   79423 non-null  uint8  \n",
      " 11  horse_country_CAN   79423 non-null  uint8  \n",
      " 12  horse_country_FR    79423 non-null  uint8  \n",
      " 13  horse_country_GB    79423 non-null  uint8  \n",
      " 14  horse_country_GER   79423 non-null  uint8  \n",
      " 15  horse_country_GR    79423 non-null  uint8  \n",
      " 16  horse_country_IRE   79423 non-null  uint8  \n",
      " 17  horse_country_ITY   79423 non-null  uint8  \n",
      " 18  horse_country_JPN   79423 non-null  uint8  \n",
      " 19  horse_country_NZ    79423 non-null  uint8  \n",
      " 20  horse_country_SAF   79423 non-null  uint8  \n",
      " 21  horse_country_SPA   79423 non-null  uint8  \n",
      " 22  horse_country_USA   79423 non-null  uint8  \n",
      " 23  horse_country_ZIM   79423 non-null  uint8  \n",
      " 24  horse_type_Brown    79423 non-null  uint8  \n",
      " 25  horse_type_Colt     79423 non-null  uint8  \n",
      " 26  horse_type_Filly    79423 non-null  uint8  \n",
      " 27  horse_type_Gelding  79423 non-null  uint8  \n",
      " 28  horse_type_Grey     79423 non-null  uint8  \n",
      " 29  horse_type_Horse    79423 non-null  uint8  \n",
      " 30  horse_type_Mare     79423 non-null  uint8  \n",
      " 31  horse_type_Rig      79423 non-null  uint8  \n",
      " 32  horse_type_Roan     79423 non-null  uint8  \n",
      "dtypes: float64(3), int64(5), uint8(25)\n",
      "memory usage: 6.7 MB\n"
     ]
    },
    {
     "data": {
      "text/html": [
       "<div>\n",
       "<style scoped>\n",
       "    .dataframe tbody tr th:only-of-type {\n",
       "        vertical-align: middle;\n",
       "    }\n",
       "\n",
       "    .dataframe tbody tr th {\n",
       "        vertical-align: top;\n",
       "    }\n",
       "\n",
       "    .dataframe thead th {\n",
       "        text-align: right;\n",
       "    }\n",
       "</style>\n",
       "<table border=\"1\" class=\"dataframe\">\n",
       "  <thead>\n",
       "    <tr style=\"text-align: right;\">\n",
       "      <th></th>\n",
       "      <th>horse_no</th>\n",
       "      <th>horse_age</th>\n",
       "      <th>horse_rating</th>\n",
       "      <th>declared_weight</th>\n",
       "      <th>actual_weight</th>\n",
       "      <th>draw</th>\n",
       "      <th>win_odds</th>\n",
       "      <th>place_odds</th>\n",
       "      <th>horse_country_ARG</th>\n",
       "      <th>horse_country_AUS</th>\n",
       "      <th>...</th>\n",
       "      <th>horse_country_ZIM</th>\n",
       "      <th>horse_type_Brown</th>\n",
       "      <th>horse_type_Colt</th>\n",
       "      <th>horse_type_Filly</th>\n",
       "      <th>horse_type_Gelding</th>\n",
       "      <th>horse_type_Grey</th>\n",
       "      <th>horse_type_Horse</th>\n",
       "      <th>horse_type_Mare</th>\n",
       "      <th>horse_type_Rig</th>\n",
       "      <th>horse_type_Roan</th>\n",
       "    </tr>\n",
       "  </thead>\n",
       "  <tbody>\n",
       "    <tr>\n",
       "      <th>count</th>\n",
       "      <td>79423.000000</td>\n",
       "      <td>79423.000000</td>\n",
       "      <td>79423.000000</td>\n",
       "      <td>79423.000000</td>\n",
       "      <td>79423.000000</td>\n",
       "      <td>79423.000000</td>\n",
       "      <td>79423.000000</td>\n",
       "      <td>79423.000000</td>\n",
       "      <td>79423.000000</td>\n",
       "      <td>79423.000000</td>\n",
       "      <td>...</td>\n",
       "      <td>79423.000000</td>\n",
       "      <td>79423.000000</td>\n",
       "      <td>79423.000000</td>\n",
       "      <td>79423.000000</td>\n",
       "      <td>79423.000000</td>\n",
       "      <td>79423.000000</td>\n",
       "      <td>79423.000000</td>\n",
       "      <td>79423.000000</td>\n",
       "      <td>79423.000000</td>\n",
       "      <td>79423.000000</td>\n",
       "    </tr>\n",
       "    <tr>\n",
       "      <th>mean</th>\n",
       "      <td>6.905644</td>\n",
       "      <td>3.339461</td>\n",
       "      <td>61.035103</td>\n",
       "      <td>1104.952609</td>\n",
       "      <td>122.730091</td>\n",
       "      <td>6.875729</td>\n",
       "      <td>28.806138</td>\n",
       "      <td>7.421841</td>\n",
       "      <td>0.001599</td>\n",
       "      <td>0.376415</td>\n",
       "      <td>...</td>\n",
       "      <td>0.000151</td>\n",
       "      <td>0.025736</td>\n",
       "      <td>0.003840</td>\n",
       "      <td>0.000541</td>\n",
       "      <td>0.950367</td>\n",
       "      <td>0.000214</td>\n",
       "      <td>0.013762</td>\n",
       "      <td>0.002997</td>\n",
       "      <td>0.001939</td>\n",
       "      <td>0.000604</td>\n",
       "    </tr>\n",
       "    <tr>\n",
       "      <th>std</th>\n",
       "      <td>3.760600</td>\n",
       "      <td>0.876864</td>\n",
       "      <td>11.750531</td>\n",
       "      <td>62.350596</td>\n",
       "      <td>6.305551</td>\n",
       "      <td>3.747588</td>\n",
       "      <td>30.093854</td>\n",
       "      <td>8.613459</td>\n",
       "      <td>0.039956</td>\n",
       "      <td>0.484489</td>\n",
       "      <td>...</td>\n",
       "      <td>0.012291</td>\n",
       "      <td>0.158346</td>\n",
       "      <td>0.061851</td>\n",
       "      <td>0.023262</td>\n",
       "      <td>0.217187</td>\n",
       "      <td>0.014629</td>\n",
       "      <td>0.116501</td>\n",
       "      <td>0.054660</td>\n",
       "      <td>0.043991</td>\n",
       "      <td>0.024576</td>\n",
       "    </tr>\n",
       "    <tr>\n",
       "      <th>min</th>\n",
       "      <td>1.000000</td>\n",
       "      <td>2.000000</td>\n",
       "      <td>10.000000</td>\n",
       "      <td>693.000000</td>\n",
       "      <td>103.000000</td>\n",
       "      <td>1.000000</td>\n",
       "      <td>1.000000</td>\n",
       "      <td>1.000000</td>\n",
       "      <td>0.000000</td>\n",
       "      <td>0.000000</td>\n",
       "      <td>...</td>\n",
       "      <td>0.000000</td>\n",
       "      <td>0.000000</td>\n",
       "      <td>0.000000</td>\n",
       "      <td>0.000000</td>\n",
       "      <td>0.000000</td>\n",
       "      <td>0.000000</td>\n",
       "      <td>0.000000</td>\n",
       "      <td>0.000000</td>\n",
       "      <td>0.000000</td>\n",
       "      <td>0.000000</td>\n",
       "    </tr>\n",
       "    <tr>\n",
       "      <th>25%</th>\n",
       "      <td>4.000000</td>\n",
       "      <td>3.000000</td>\n",
       "      <td>60.000000</td>\n",
       "      <td>1062.000000</td>\n",
       "      <td>118.000000</td>\n",
       "      <td>4.000000</td>\n",
       "      <td>7.700000</td>\n",
       "      <td>2.400000</td>\n",
       "      <td>0.000000</td>\n",
       "      <td>0.000000</td>\n",
       "      <td>...</td>\n",
       "      <td>0.000000</td>\n",
       "      <td>0.000000</td>\n",
       "      <td>0.000000</td>\n",
       "      <td>0.000000</td>\n",
       "      <td>1.000000</td>\n",
       "      <td>0.000000</td>\n",
       "      <td>0.000000</td>\n",
       "      <td>0.000000</td>\n",
       "      <td>0.000000</td>\n",
       "      <td>0.000000</td>\n",
       "    </tr>\n",
       "    <tr>\n",
       "      <th>50%</th>\n",
       "      <td>7.000000</td>\n",
       "      <td>3.000000</td>\n",
       "      <td>60.000000</td>\n",
       "      <td>1102.000000</td>\n",
       "      <td>123.000000</td>\n",
       "      <td>7.000000</td>\n",
       "      <td>15.000000</td>\n",
       "      <td>4.400000</td>\n",
       "      <td>0.000000</td>\n",
       "      <td>0.000000</td>\n",
       "      <td>...</td>\n",
       "      <td>0.000000</td>\n",
       "      <td>0.000000</td>\n",
       "      <td>0.000000</td>\n",
       "      <td>0.000000</td>\n",
       "      <td>1.000000</td>\n",
       "      <td>0.000000</td>\n",
       "      <td>0.000000</td>\n",
       "      <td>0.000000</td>\n",
       "      <td>0.000000</td>\n",
       "      <td>0.000000</td>\n",
       "    </tr>\n",
       "    <tr>\n",
       "      <th>75%</th>\n",
       "      <td>10.000000</td>\n",
       "      <td>3.000000</td>\n",
       "      <td>60.000000</td>\n",
       "      <td>1146.000000</td>\n",
       "      <td>128.000000</td>\n",
       "      <td>10.000000</td>\n",
       "      <td>38.000000</td>\n",
       "      <td>8.200000</td>\n",
       "      <td>0.000000</td>\n",
       "      <td>1.000000</td>\n",
       "      <td>...</td>\n",
       "      <td>0.000000</td>\n",
       "      <td>0.000000</td>\n",
       "      <td>0.000000</td>\n",
       "      <td>0.000000</td>\n",
       "      <td>1.000000</td>\n",
       "      <td>0.000000</td>\n",
       "      <td>0.000000</td>\n",
       "      <td>0.000000</td>\n",
       "      <td>0.000000</td>\n",
       "      <td>0.000000</td>\n",
       "    </tr>\n",
       "    <tr>\n",
       "      <th>max</th>\n",
       "      <td>14.000000</td>\n",
       "      <td>10.000000</td>\n",
       "      <td>138.000000</td>\n",
       "      <td>1369.000000</td>\n",
       "      <td>133.000000</td>\n",
       "      <td>15.000000</td>\n",
       "      <td>99.000000</td>\n",
       "      <td>101.000000</td>\n",
       "      <td>1.000000</td>\n",
       "      <td>1.000000</td>\n",
       "      <td>...</td>\n",
       "      <td>1.000000</td>\n",
       "      <td>1.000000</td>\n",
       "      <td>1.000000</td>\n",
       "      <td>1.000000</td>\n",
       "      <td>1.000000</td>\n",
       "      <td>1.000000</td>\n",
       "      <td>1.000000</td>\n",
       "      <td>1.000000</td>\n",
       "      <td>1.000000</td>\n",
       "      <td>1.000000</td>\n",
       "    </tr>\n",
       "  </tbody>\n",
       "</table>\n",
       "<p>8 rows × 33 columns</p>\n",
       "</div>"
      ],
      "text/plain": [
       "           horse_no     horse_age  horse_rating  declared_weight  \\\n",
       "count  79423.000000  79423.000000  79423.000000     79423.000000   \n",
       "mean       6.905644      3.339461     61.035103      1104.952609   \n",
       "std        3.760600      0.876864     11.750531        62.350596   \n",
       "min        1.000000      2.000000     10.000000       693.000000   \n",
       "25%        4.000000      3.000000     60.000000      1062.000000   \n",
       "50%        7.000000      3.000000     60.000000      1102.000000   \n",
       "75%       10.000000      3.000000     60.000000      1146.000000   \n",
       "max       14.000000     10.000000    138.000000      1369.000000   \n",
       "\n",
       "       actual_weight          draw      win_odds    place_odds  \\\n",
       "count   79423.000000  79423.000000  79423.000000  79423.000000   \n",
       "mean      122.730091      6.875729     28.806138      7.421841   \n",
       "std         6.305551      3.747588     30.093854      8.613459   \n",
       "min       103.000000      1.000000      1.000000      1.000000   \n",
       "25%       118.000000      4.000000      7.700000      2.400000   \n",
       "50%       123.000000      7.000000     15.000000      4.400000   \n",
       "75%       128.000000     10.000000     38.000000      8.200000   \n",
       "max       133.000000     15.000000     99.000000    101.000000   \n",
       "\n",
       "       horse_country_ARG  horse_country_AUS  ...  horse_country_ZIM  \\\n",
       "count       79423.000000       79423.000000  ...       79423.000000   \n",
       "mean            0.001599           0.376415  ...           0.000151   \n",
       "std             0.039956           0.484489  ...           0.012291   \n",
       "min             0.000000           0.000000  ...           0.000000   \n",
       "25%             0.000000           0.000000  ...           0.000000   \n",
       "50%             0.000000           0.000000  ...           0.000000   \n",
       "75%             0.000000           1.000000  ...           0.000000   \n",
       "max             1.000000           1.000000  ...           1.000000   \n",
       "\n",
       "       horse_type_Brown  horse_type_Colt  horse_type_Filly  \\\n",
       "count      79423.000000     79423.000000      79423.000000   \n",
       "mean           0.025736         0.003840          0.000541   \n",
       "std            0.158346         0.061851          0.023262   \n",
       "min            0.000000         0.000000          0.000000   \n",
       "25%            0.000000         0.000000          0.000000   \n",
       "50%            0.000000         0.000000          0.000000   \n",
       "75%            0.000000         0.000000          0.000000   \n",
       "max            1.000000         1.000000          1.000000   \n",
       "\n",
       "       horse_type_Gelding  horse_type_Grey  horse_type_Horse  horse_type_Mare  \\\n",
       "count        79423.000000     79423.000000      79423.000000     79423.000000   \n",
       "mean             0.950367         0.000214          0.013762         0.002997   \n",
       "std              0.217187         0.014629          0.116501         0.054660   \n",
       "min              0.000000         0.000000          0.000000         0.000000   \n",
       "25%              1.000000         0.000000          0.000000         0.000000   \n",
       "50%              1.000000         0.000000          0.000000         0.000000   \n",
       "75%              1.000000         0.000000          0.000000         0.000000   \n",
       "max              1.000000         1.000000          1.000000         1.000000   \n",
       "\n",
       "       horse_type_Rig  horse_type_Roan  \n",
       "count    79423.000000     79423.000000  \n",
       "mean         0.001939         0.000604  \n",
       "std          0.043991         0.024576  \n",
       "min          0.000000         0.000000  \n",
       "25%          0.000000         0.000000  \n",
       "50%          0.000000         0.000000  \n",
       "75%          0.000000         0.000000  \n",
       "max          1.000000         1.000000  \n",
       "\n",
       "[8 rows x 33 columns]"
      ]
     },
     "execution_count": 6,
     "metadata": {},
     "output_type": "execute_result"
    }
   ],
   "source": [
    "print('Won Response Set Shape: ',runs_target.shape)\n",
    "print('Show Response Set Shape: ',runs_target2.shape)\n",
    "runs_data.info()\n",
    "runs_data.describe()"
   ]
  },
  {
   "cell_type": "markdown",
   "metadata": {},
   "source": [
    "The final predictor data set contains 33 attributes and 79,423 instances. The data set contains 8 coninuous attributes and 25 binary attributes created from one-hot encoding. The response sets for Won and Show each contain 79,423 instances as well. The descriptive statistics for each predictor are listed above. You can see that all one-hot encoded predictors have a min of 0 and max of 1 since these are binary variables. All other continuous variables do not appear to have any concerning outliers when looking at the min and max values.\n",
    "\n",
    "Remaining original continuous features contained in the runs_data set:\n",
    "- Horse_no - the number assigned to this horse, in the race\n",
    "- Horse_age: all horses in the data set are 2, 3, 4, 5, 6, 7, 8, 9, or 10 years old at the time of race. The average age of horses in the dataset is 3.3 years\n",
    "- Horse_rating - rating number assigned by HKJC to this horse at the time of the race\n",
    "- Declared_weight: floating point value for the weight of the horse, the jockey, and the equipment in pounds.\n",
    "- Actual_weight: integer value for the weight the horse carried; i.e. the weight of the Jockey and equipment\n",
    "- Draw - post position number of the horse in this race\n",
    "- Win_odds: floating point value for the odds of the horse to win the race\n",
    "- Place_odds: floating point value for the odds of the horse to place in 1st, 2nd, or 3rd\n",
    "\n",
    "Remaining original categorical features contained in the runs_data set that were one-hot encoded:\n",
    "- Horse_country: a country code for the country of origin for the horse. Examples are NZ, AUS, USA\n",
    "- Horse_type: examples are gelding, mare, rig\n",
    "\n",
    "Response Variables:\n",
    "- Won: a boolean value where 1 indicates the horse finished first in the race and 0 indicates the horse did not. A horse with a Result of 1 will have a Won response of 1. All others will have a Won response of 0.\n",
    "- Show: a boolean value where 1 indicates the horse placed in the top 3 of the race and 0 indicates the horse did not. A horse with a Result of 1, 2, or 3 will have a Show response of 1. All others will have a Show response of 0.\n",
    "\n",
    "*Show is the one new variable created from the original set*\n"
   ]
  },
  {
   "cell_type": "markdown",
   "metadata": {},
   "source": [
    "## Section 3: Modeling and Evaluation 1"
   ]
  },
  {
   "cell_type": "markdown",
   "metadata": {},
   "source": [
    "\t• Modeling and Evaluation 1\n",
    "\t\t○ Choose and explain your evaluation metrics that you will use (i.e., accuracy,\n",
    "\t\tprecision, recall, F-measure, or any metric we have discussed).\n",
    "\t\t\t- Why are the measure(s) appropriate for analyzing the results of your modeling?\n",
    "\t\t\t- Give a detailed explanation backing up any assertions."
   ]
  },
  {
   "cell_type": "markdown",
   "metadata": {},
   "source": [
    "### Sub-Section 3.1: Choose and explain your evaluation metrics that you will use. (Give a detailed explanation backing up any assertions.)"
   ]
  },
  {
   "cell_type": "markdown",
   "metadata": {},
   "source": [
    "#### What evaluation metrics will our team use? Why are the measure(s) appropriate for analyzing the results of your modeling?"
   ]
  },
  {
   "cell_type": "markdown",
   "metadata": {},
   "source": [
    "The real life application of predicting Won and Show would be from the perspective of someone placing a wager for that one of the events will occur. The models will tell a better to place a wager only when that event is predicted to occur. This means that the better will only lose money when a False Positive occurs and will not lose any money from a False Negative. For this reason, our team is focused on maximizing precision.\n",
    "\n",
    "The one downfall of focusing on precision alone would be that a model could accurately predict a very small number of positive predictions and be optimal. Having too small of a number of positive predicitions would not give much opportunity to a better to make money. A secondary metric we are observing is Area Under the Curve (AUC). AUC score provides a good balance between sensitivity and specificity. A significantly higher AUC by two models with similar precision signals that there are a better balance of predictions.\n",
    "\n",
    "Since 92% of the observations in the data set are losers, creating a model that predicts a loss for every observation would have an accuracy of 92% but offer no practical use. Therefore, we are not using accuracy to select a model. We will display it as a reference for each of the models."
   ]
  },
  {
   "cell_type": "markdown",
   "metadata": {},
   "source": [
    "## Section 4: Modeling and Evaluation 2"
   ]
  },
  {
   "cell_type": "markdown",
   "metadata": {},
   "source": [
    "### Sub-Section 4.1: Choose the method you will use for dividing your data into training and testing splits. Explain why your chosen method is appropriate or use more than one method as appropriate."
   ]
  },
  {
   "cell_type": "markdown",
   "metadata": {},
   "source": [
    "For dividing our test and train data sets, we used Stratified K Fold Cross Validation (CV) with 10 splits. Stratified K Fold Cross Validation will randomly distribute each instance of a data set into a test or train set based on a inputted train/test percentage. After distributing every instance between the train and test sets, we have created a split. Our team decided to create 10 splits which results in 10 train and 10 test sets. The Stratified version ensures the responses in each split are as close to the same balance as possible (+/- 1 instance). This will ensure the model will have sufficient positive value to train on and we can see how well the model actually performs with sufficient postive values in the test set. \n",
    "\n",
    "Using this CV method will allow us to capture the mean Precision and AUC from 10 different models. These 10 models are trained and tested on 10 randomly generated train/test sets with nearly identical response class balance. This method will make it much more likely the most generalizable model will have the best scoring metrics compared to a single test/train split. Using a single test/train split will make it difficult to determine if your model is overfitting the data in that paticular random test/train split."
   ]
  },
  {
   "cell_type": "code",
   "execution_count": 7,
   "metadata": {},
   "outputs": [],
   "source": [
    "cv = StratifiedKFold(n_splits = 10, shuffle = True ,random_state = 0)"
   ]
  },
  {
   "cell_type": "code",
   "execution_count": 8,
   "metadata": {},
   "outputs": [],
   "source": [
    "# training test split for showing confusion matrix\n",
    "# Note all evaluation will actually use kFold CrossValidation\n",
    "\n",
    "#train test split won\n",
    "X_train,X_test,Y_train,Y_test = train_test_split(runs_data,runs_target,test_size=0.20,random_state=0)\n",
    "mmscl_obj = MinMaxScaler()\n",
    "X_train = mmscl_obj.fit_transform(X_train,y = None)\n",
    "X_test = mmscl_obj.transform(X_test)\n",
    "\n",
    "#train test split place\n",
    "X_train_place,X_test_place,Y_train_place,Y_test_place = train_test_split(runs_data,runs_target2,test_size=0.20,random_state=0)\n",
    "mmscl_obj = MinMaxScaler()\n",
    "X_train_place = mmscl_obj.fit_transform(X_train_place,y = None)\n",
    "X_test_place = mmscl_obj.transform(X_test_place)"
   ]
  },
  {
   "cell_type": "markdown",
   "metadata": {},
   "source": [
    "## Section 5: Modeling and Evaluation 3"
   ]
  },
  {
   "cell_type": "markdown",
   "metadata": {},
   "source": [
    "\t• Modeling and Evaluation 3\n",
    "\t\t○ Create three different classification/regression models for each task (e.g., random forest, KNN, and SVM\n",
    "        for task one and the same or different algorithms for task two). \n",
    "\t\t○ Two modeling techniques must be new (but the third could be SVM or logistic regression). \n",
    "\t\t○ Adjust parameters as appropriate to increase generalization performance using your chosen metric. \n",
    "\t\t○ You must investigate different parameters of the algorithms!"
   ]
  },
  {
   "cell_type": "markdown",
   "metadata": {},
   "source": [
    "### Sub-Section 5.1: Create three different classification/regression models for each task"
   ]
  },
  {
   "cell_type": "markdown",
   "metadata": {},
   "source": [
    "### Sub-Section 5.1.1: Model 1 KNN"
   ]
  },
  {
   "cell_type": "markdown",
   "metadata": {},
   "source": [
    "K-Nearest Neighbors is an algorithm frequently used for classification. In order to classify an observation, the algorithm measures the distance from the given observation to it's K nearest neighbors, where K is a tunable parameter.\n",
    "\n",
    "For each iteration of the model fitting, we try a different K value and print out the model precision and AUC score. Because the data set is not balanced, we use AUC as the primary metric for comparing model performance. If we used accuracy, we could achieve an accuracy of over 90% simply by classifying every observation as a \"loss\", but this has no practical use so we use Precision as a secondary metric instead."
   ]
  },
  {
   "cell_type": "markdown",
   "metadata": {},
   "source": [
    "First, we implemented two models. Both use Euclidean distance but one uses a uniform weight and the other uses distance. For uniform weight, all the nearest neighbors have the same impact in classification. In distance, closer neighbors have more impact.\n",
    "\n",
    "The difference in model performance for uniform vs. distance was negligable, but the model with weights='distance' trained more quickly so we elected to use that parameter."
   ]
  },
  {
   "cell_type": "markdown",
   "metadata": {},
   "source": [
    "#### Euclidean Distance, Uniform Weights"
   ]
  },
  {
   "cell_type": "code",
   "execution_count": 9,
   "metadata": {},
   "outputs": [
    {
     "name": "stdout",
     "output_type": "stream",
     "text": [
      "Precision of classifier with 3 neighbors is: 0.175  AUC: 0.517\n",
      "Precision of classifier with 5 neighbors is: 0.196  AUC: 0.508\n",
      "Precision of classifier with 7 neighbors is: 0.241  AUC: 0.506\n",
      "Precision of classifier with 9 neighbors is: 0.150  AUC: 0.501\n",
      "Precision of classifier with 11 neighbors is: 0.200  AUC: 0.501\n",
      "Precision of classifier with 13 neighbors is: 0.222  AUC: 0.501\n",
      "Precision of classifier with 15 neighbors is: 0.000  AUC: 0.500\n",
      "Precision of classifier with 17 neighbors is: 0.000  AUC: 0.500\n"
     ]
    }
   ],
   "source": [
    "# Use Euclidean distance and iterate over several K-values\n",
    "## ‘uniform’ : uniform weights. All points in each neighborhood are weighted equally.\n",
    "Kvals = [3,5,7,9,11,13,15,17]\n",
    "for x in Kvals:\n",
    "    clf_knn = KNeighborsClassifier(n_neighbors=x, weights='uniform', metric='euclidean')\n",
    "    clf_knn.fit(X_train,Y_train)\n",
    "    yhat= clf_knn.predict(X_test)\n",
    "    acc = mt.accuracy_score(Y_test,yhat)\n",
    "    prec = mt.precision_score(Y_test,yhat)\n",
    "    auc = roc_auc_score(Y_test,yhat)\n",
    "    conf = mt.confusion_matrix(Y_test,yhat)\n",
    "    print('Precision of classifier with %d neighbors is: %.3f'%(x,prec), ' AUC: %.3f'%auc)"
   ]
  },
  {
   "cell_type": "markdown",
   "metadata": {},
   "source": [
    "#### Euclidean Distance, Distance Weights"
   ]
  },
  {
   "cell_type": "code",
   "execution_count": 11,
   "metadata": {},
   "outputs": [
    {
     "name": "stdout",
     "output_type": "stream",
     "text": [
      "Precision of classifier with 3 neighbors is: 0.173  AUC: 0.520\n",
      "Precision of classifier with 5 neighbors is: 0.189  AUC: 0.511\n",
      "Precision of classifier with 7 neighbors is: 0.225  AUC: 0.508\n",
      "Precision of classifier with 9 neighbors is: 0.216  AUC: 0.504\n",
      "Precision of classifier with 11 neighbors is: 0.222  AUC: 0.503\n",
      "Precision of classifier with 13 neighbors is: 0.194  AUC: 0.502\n",
      "Precision of classifier with 15 neighbors is: 0.222  AUC: 0.502\n",
      "Precision of classifier with 17 neighbors is: 0.238  AUC: 0.501\n"
     ]
    }
   ],
   "source": [
    "# Use Euclidean distance - sqrt(sum((x - y)^2))\n",
    "## ‘distance’ : weight points by the inverse of their distance. \n",
    "##    in this case, closer neighbors of a query point will have a greater \n",
    "##    influence than neighbors which are further away.\n",
    "\n",
    "for x in Kvals:\n",
    "    clf_knn = KNeighborsClassifier(n_neighbors=x, weights='distance', metric='euclidean')\n",
    "    clf_knn.fit(X_train,Y_train)\n",
    "    yhat= clf_knn.predict(X_test)\n",
    "    acc = mt.accuracy_score(Y_test,yhat)\n",
    "    prec = mt.precision_score(Y_test,yhat)\n",
    "    auc = roc_auc_score(Y_test,yhat)\n",
    "    conf = mt.confusion_matrix(Y_test,yhat)\n",
    "    print('Precision of classifier with %d neighbors is: %.3f'%(x,prec), ' AUC: %.3f'%auc)    "
   ]
  },
  {
   "cell_type": "markdown",
   "metadata": {},
   "source": [
    "The next parameter we experimented with was the weight metric. We re-ran the model several times using different metrics from the sklearn DistanceMetric library, to include Manhatten and Chebyshev.\n",
    "\n",
    "Again, the model performance for the different metrics was negligable so we elected to use weights = distance since it is well optimized for large data sets."
   ]
  },
  {
   "cell_type": "markdown",
   "metadata": {},
   "source": [
    "#### Euclidean Distance"
   ]
  },
  {
   "cell_type": "code",
   "execution_count": 12,
   "metadata": {},
   "outputs": [
    {
     "name": "stdout",
     "output_type": "stream",
     "text": [
      "When K = 5\n",
      "   Mean Precision:  0.17242893921665783\n",
      "   Mean AUC:  0.6040195932809418\n",
      "   Mean Accuracy:  0.9108570467121682\n",
      "   Mean Time per Split:  19.08608787059784\n",
      " \n",
      "When K = 7\n",
      "   Mean Precision:  0.19674188127726275\n",
      "   Mean AUC:  0.6257389755284041\n",
      "   Mean Accuracy:  0.9153771712598575\n",
      "   Mean Time per Split:  19.473681282997134\n",
      " \n",
      "When K = 9\n",
      "   Mean Precision:  0.23136980840990629\n",
      "   Mean AUC:  0.6404224291268119\n",
      "   Mean Accuracy:  0.9176812895633593\n",
      "   Mean Time per Split:  20.067448234558103\n",
      " \n",
      "When K = 11\n",
      "   Mean Precision:  0.2159179819186213\n",
      "   Mean AUC:  0.6528758023162878\n",
      "   Mean Accuracy:  0.9184367192169669\n",
      "   Mean Time per Split:  19.565009713172913\n",
      " \n",
      "When K = 13\n",
      "   Mean Precision:  0.2171270104164841\n",
      "   Mean AUC:  0.660832851188448\n",
      "   Mean Accuracy:  0.9190033049314188\n",
      "   Mean Time per Split:  19.730614042282102\n",
      " \n",
      "When K = 15\n",
      "   Mean Precision:  0.23503663003663006\n",
      "   Mean AUC:  0.6665851009072934\n",
      "   Mean Accuracy:  0.9192677092731951\n",
      "   Mean Time per Split:  19.498094534873964\n",
      " \n"
     ]
    }
   ],
   "source": [
    "# Use Euclidean Distance\n",
    "Kvals = [5,7,9,11,13,15]\n",
    "for x in Kvals:\n",
    "    steps = list()\n",
    "    steps.append(('scaler', StandardScaler()))\n",
    "    steps.append(('model', KNeighborsClassifier(n_neighbors=x, weights='distance', metric='euclidean')))\n",
    "    pipeline = Pipeline(steps=steps)\n",
    "\n",
    "    #Modeling with pipeline and scoring with cross_validate()\n",
    "    scores = cross_validate(pipeline, runs_data, runs_target, scoring=['roc_auc','accuracy','precision'],\n",
    "                             cv=cv, return_train_score=False)\n",
    "    print('When K =',x)\n",
    "    print('   Mean Precision: ',np.mean(scores['test_precision']))\n",
    "    print('   Mean AUC: ',np.mean(scores['test_roc_auc']))\n",
    "    print('   Mean Accuracy: ',np.mean(scores['test_accuracy']))\n",
    "    print('   Mean Time per Split: ',np.mean(scores['fit_time'])+np.mean(scores['score_time']))\n",
    "    print(' ')"
   ]
  },
  {
   "cell_type": "markdown",
   "metadata": {},
   "source": [
    "#### Manhatten Distance"
   ]
  },
  {
   "cell_type": "code",
   "execution_count": 13,
   "metadata": {},
   "outputs": [
    {
     "name": "stdout",
     "output_type": "stream",
     "text": [
      "When K = 5\n",
      "   Mean Precision:  0.19263556683238853\n",
      "   Mean AUC:  0.6151369526137682\n",
      "   Mean Accuracy:  0.909786803183714\n",
      "   Mean Time per Split:  40.32731068134308\n",
      " \n",
      "When K = 7\n",
      "   Mean Precision:  0.21996485390991438\n",
      "   Mean AUC:  0.6387919719062919\n",
      "   Mean Accuracy:  0.9149490754336813\n",
      "   Mean Time per Split:  40.205027556419374\n",
      " \n",
      "When K = 9\n",
      "   Mean Precision:  0.20632622141773066\n",
      "   Mean AUC:  0.6531549772296296\n",
      "   Mean Accuracy:  0.9168125288170534\n",
      "   Mean Time per Split:  41.48882887363434\n",
      " \n",
      "When K = 11\n",
      "   Mean Precision:  0.20776800155721178\n",
      "   Mean AUC:  0.6657328359865076\n",
      "   Mean Accuracy:  0.9179205129166821\n",
      "   Mean Time per Split:  41.21237430572509\n",
      " \n",
      "When K = 13\n",
      "   Mean Precision:  0.24994818262233123\n",
      "   Mean AUC:  0.6748271656400812\n",
      "   Mean Accuracy:  0.9187389053452588\n",
      "   Mean Time per Split:  43.45358581542969\n",
      " \n",
      "When K = 15\n",
      "   Mean Precision:  0.28327311577311576\n",
      "   Mean AUC:  0.6827735083539113\n",
      "   Mean Accuracy:  0.9192551164011601\n",
      "   Mean Time per Split:  41.324105453491214\n",
      " \n"
     ]
    }
   ],
   "source": [
    "# Use Manhatten distance - sum(|x - y|)\n",
    "\n",
    "for x in Kvals:\n",
    "    steps = list()\n",
    "    steps.append(('scaler', StandardScaler()))\n",
    "    steps.append(('model', KNeighborsClassifier(n_neighbors=x, weights='distance', metric='manhattan')))\n",
    "    pipeline = Pipeline(steps=steps)\n",
    "\n",
    "    #Modeling with pipeline and scoring with cross_validate()\n",
    "    scores = cross_validate(pipeline, runs_data, runs_target, scoring=['roc_auc','accuracy','precision'],\n",
    "                             cv=cv, return_train_score=False)\n",
    "    print('When K =',x)\n",
    "    print('   Mean Precision: ',np.mean(scores['test_precision']))\n",
    "    print('   Mean AUC: ',np.mean(scores['test_roc_auc']))\n",
    "    print('   Mean Accuracy: ',np.mean(scores['test_accuracy']))\n",
    "    print('   Mean Time per Split: ',np.mean(scores['fit_time'])+np.mean(scores['score_time']))\n",
    "    print(' ')\n",
    "    "
   ]
  },
  {
   "cell_type": "markdown",
   "metadata": {},
   "source": [
    "#### Chebyshev Distance"
   ]
  },
  {
   "cell_type": "code",
   "execution_count": 14,
   "metadata": {},
   "outputs": [
    {
     "name": "stdout",
     "output_type": "stream",
     "text": [
      "When K = 5\n",
      "   Mean Precision:  0.15033387893038463\n",
      "   Mean AUC:  0.5881386683922709\n",
      "   Mean Accuracy:  0.9110459524743361\n",
      "   Mean Time per Split:  62.624655437469485\n",
      " \n",
      "When K = 7\n",
      "   Mean Precision:  0.18082913945412105\n",
      "   Mean AUC:  0.608264867524398\n",
      "   Mean Accuracy:  0.9158178520320416\n",
      "   Mean Time per Split:  39.64154880046844\n",
      " \n",
      "When K = 9\n",
      "   Mean Precision:  0.20722443917570144\n",
      "   Mean AUC:  0.6218686320398369\n",
      "   Mean Accuracy:  0.9179834614248022\n",
      "   Mean Time per Split:  122.86892931461334\n",
      " \n",
      "When K = 11\n",
      "   Mean Precision:  0.2212712038563432\n",
      "   Mean AUC:  0.6300848880306799\n",
      "   Mean Accuracy:  0.9188144483106196\n",
      "   Mean Time per Split:  39.7421959400177\n",
      " \n",
      "When K = 13\n",
      "   Mean Precision:  0.21245532245532245\n",
      "   Mean AUC:  0.6398721903797017\n",
      "   Mean Accuracy:  0.9191669869045862\n",
      "   Mean Time per Split:  39.31500167846679\n",
      " \n",
      "When K = 15\n",
      "   Mean Precision:  0.24845238095238092\n",
      "   Mean AUC:  0.6461848187093986\n",
      "   Mean Accuracy:  0.9194943429248937\n",
      "   Mean Time per Split:  249.90494720935823\n",
      " \n"
     ]
    }
   ],
   "source": [
    "# Use ChebyshevDistance distance - max(|x - y|)\n",
    "\n",
    "for x in Kvals:\n",
    "    # define the pipeline\n",
    "    steps = list()\n",
    "    steps.append(('scaler', StandardScaler()))\n",
    "    steps.append(('model', KNeighborsClassifier(n_neighbors=x, weights='distance', metric='chebyshev')))\n",
    "    pipeline = Pipeline(steps=steps)\n",
    "    \n",
    "\n",
    "    #Modeling with pipeline and scoring with cross_validate()\n",
    "    scores = cross_validate(pipeline, runs_data, runs_target, scoring=['roc_auc','accuracy','precision'],\n",
    "                             cv=cv, return_train_score=False)\n",
    "    print('When K =',x)\n",
    "    print('   Mean Precision: ',np.mean(scores['test_precision']))\n",
    "    print('   Mean AUC: ',np.mean(scores['test_roc_auc']))\n",
    "    print('   Mean Accuracy: ',np.mean(scores['test_accuracy']))\n",
    "    print('   Mean Time per Split: ',np.mean(scores['fit_time'])+np.mean(scores['score_time']))\n",
    "    print(' ')"
   ]
  },
  {
   "cell_type": "markdown",
   "metadata": {},
   "source": [
    "With each of the KNN models above, the precision and AUC tend to stabilize at around k=9 or 11. Note as the K value increases so too does the precision but the AUC decreases. Choosing a smaller K-value such as 7 produces a good balace between the different metrics.\n",
    "\n",
    "We fit a final KNN using the parameters selected: Euclidean, Distance weights for neighbors, and 7 neighbors."
   ]
  },
  {
   "cell_type": "markdown",
   "metadata": {},
   "source": [
    "#### Predict Show Horses"
   ]
  },
  {
   "cell_type": "markdown",
   "metadata": {},
   "source": [
    "Next we generated several more KNN models where we predicted Show (top 3 finish) instead of Win. We tried several different metrics of measure and K values."
   ]
  },
  {
   "cell_type": "markdown",
   "metadata": {},
   "source": [
    "#### Euclidean distance for Show"
   ]
  },
  {
   "cell_type": "code",
   "execution_count": 15,
   "metadata": {},
   "outputs": [
    {
     "name": "stdout",
     "output_type": "stream",
     "text": [
      "When K = 5\n",
      "   Mean Precision:  0.4094219606097698\n",
      "   Mean AUC:  0.661060514693541\n",
      "   Mean Accuracy:  0.7319543810845931\n",
      "   Mean Time per Split:  18.219727063179015\n",
      " \n",
      "When K = 7\n",
      "   Mean Precision:  0.4269769679831178\n",
      "   Mean AUC:  0.6780504180383631\n",
      "   Mean Accuracy:  0.7402391260217085\n",
      "   Mean Time per Split:  18.482177114486692\n",
      " \n",
      "When K = 9\n",
      "   Mean Precision:  0.4430235499340947\n",
      "   Mean AUC:  0.689732690526102\n",
      "   Mean Accuracy:  0.7462574963969073\n",
      "   Mean Time per Split:  18.360480237007142\n",
      " \n",
      "When K = 11\n",
      "   Mean Precision:  0.4518151942224621\n",
      "   Mean AUC:  0.6972588569809803\n",
      "   Mean Accuracy:  0.7495310724520368\n",
      "   Mean Time per Split:  18.639691734313963\n",
      " \n",
      "When K = 13\n",
      "   Mean Precision:  0.46257203098108535\n",
      "   Mean AUC:  0.7020588253860991\n",
      "   Mean Accuracy:  0.7525654901472665\n",
      "   Mean Time per Split:  18.884888172149658\n",
      " \n",
      "When K = 15\n",
      "   Mean Precision:  0.46594314205038206\n",
      "   Mean AUC:  0.7059347899543055\n",
      "   Mean Accuracy:  0.7539000952169501\n",
      "   Mean Time per Split:  20.019257616996764\n",
      " \n"
     ]
    }
   ],
   "source": [
    "# Use Euclidean Distance\n",
    "\n",
    "for x in Kvals:\n",
    "    steps = list()\n",
    "    steps.append(('scaler', StandardScaler()))\n",
    "    steps.append(('model', KNeighborsClassifier(n_neighbors=x, weights='distance', metric='euclidean')))\n",
    "    pipeline = Pipeline(steps=steps)\n",
    "\n",
    "    #Modeling with pipeline and scoring with cross_validate()\n",
    "    scores = cross_validate(pipeline, runs_data, runs_target2, scoring=['roc_auc','accuracy','precision'],\n",
    "                             cv=cv, return_train_score=False)\n",
    "    print('When K =',x)\n",
    "    print('   Mean Precision: ',np.mean(scores['test_precision']))\n",
    "    print('   Mean AUC: ',np.mean(scores['test_roc_auc']))\n",
    "    print('   Mean Accuracy: ',np.mean(scores['test_accuracy']))\n",
    "    print('   Mean Time per Split: ',np.mean(scores['fit_time'])+np.mean(scores['score_time']))\n",
    "    print(' ')"
   ]
  },
  {
   "cell_type": "markdown",
   "metadata": {},
   "source": [
    "#### Manhattan distance for Show"
   ]
  },
  {
   "cell_type": "code",
   "execution_count": 16,
   "metadata": {},
   "outputs": [
    {
     "name": "stdout",
     "output_type": "stream",
     "text": [
      "When K = 5\n",
      "   Mean Precision:  0.424374626251461\n",
      "   Mean AUC:  0.6688167367295115\n",
      "   Mean Accuracy:  0.7358826612543103\n",
      "   Mean Time per Split:  41.78424046039581\n",
      " \n",
      "When K = 7\n",
      "   Mean Precision:  0.4400054944502988\n",
      "   Mean AUC:  0.684682778779574\n",
      "   Mean Accuracy:  0.7430972403380381\n",
      "   Mean Time per Split:  41.52912027835846\n",
      " \n",
      "When K = 9\n",
      "   Mean Precision:  0.4547013904143743\n",
      "   Mean AUC:  0.6969922949861043\n",
      "   Mean Accuracy:  0.7483476341585522\n",
      "   Mean Time per Split:  41.085483479499814\n",
      " \n",
      "When K = 11\n",
      "   Mean Precision:  0.47194596888629403\n",
      "   Mean AUC:  0.7053981261474536\n",
      "   Mean Accuracy:  0.7533587285358824\n",
      "   Mean Time per Split:  41.232865595817564\n",
      " \n",
      "When K = 13\n",
      "   Mean Precision:  0.48109998567044243\n",
      "   Mean AUC:  0.7106858929423717\n",
      "   Mean Accuracy:  0.7558139248440785\n",
      "   Mean Time per Split:  41.142901468276975\n",
      " \n",
      "When K = 15\n",
      "   Mean Precision:  0.4880986848694849\n",
      "   Mean AUC:  0.7155242658119074\n",
      "   Mean Accuracy:  0.7575010748485502\n",
      "   Mean Time per Split:  41.507507944107054\n",
      " \n"
     ]
    }
   ],
   "source": [
    "# Use Manhatten distance - sum(|x - y|)\n",
    "\n",
    "for x in Kvals:\n",
    "    steps = list()\n",
    "    steps.append(('scaler', StandardScaler()))\n",
    "    steps.append(('model', KNeighborsClassifier(n_neighbors=x, weights='distance', metric='manhattan')))\n",
    "    pipeline = Pipeline(steps=steps)\n",
    "\n",
    "    #Modeling with pipeline and scoring with cross_validate()\n",
    "    scores = cross_validate(pipeline, runs_data, runs_target2, scoring=['roc_auc','accuracy','precision'],\n",
    "                             cv=cv, return_train_score=False)\n",
    "    print('When K =',x)\n",
    "    print('   Mean Precision: ',np.mean(scores['test_precision']))\n",
    "    print('   Mean AUC: ',np.mean(scores['test_roc_auc']))\n",
    "    print('   Mean Accuracy: ',np.mean(scores['test_accuracy']))\n",
    "    print('   Mean Time per Split: ',np.mean(scores['fit_time'])+np.mean(scores['score_time']))\n",
    "    print(' ')\n",
    "    "
   ]
  },
  {
   "cell_type": "markdown",
   "metadata": {},
   "source": [
    "#### Chebyshev distance for Show"
   ]
  },
  {
   "cell_type": "code",
   "execution_count": 17,
   "metadata": {},
   "outputs": [
    {
     "name": "stdout",
     "output_type": "stream",
     "text": [
      "When K = 5\n",
      "   Mean Precision:  0.3907025670550385\n",
      "   Mean AUC:  0.6513566862858077\n",
      "   Mean Accuracy:  0.7277994054401651\n",
      "   Mean Time per Split:  40.719473314285274\n",
      " \n",
      "When K = 7\n",
      "   Mean Precision:  0.4024627010620536\n",
      "   Mean AUC:  0.6650255934735971\n",
      "   Mean Accuracy:  0.7353538113554163\n",
      "   Mean Time per Split:  40.7617104768753\n",
      " \n",
      "When K = 9\n",
      "   Mean Precision:  0.4088738016541617\n",
      "   Mean AUC:  0.6758191030224958\n",
      "   Mean Accuracy:  0.7402391228512977\n",
      "   Mean Time per Split:  40.34527790546417\n",
      " \n",
      "When K = 11\n",
      "   Mean Precision:  0.42137830938724125\n",
      "   Mean AUC:  0.681581131919888\n",
      "   Mean Accuracy:  0.7448599364782816\n",
      "   Mean Time per Split:  40.467613911628725\n",
      " \n",
      "When K = 13\n",
      "   Mean Precision:  0.4266737507774979\n",
      "   Mean AUC:  0.6871702386801746\n",
      "   Mean Accuracy:  0.7474032575274352\n",
      "   Mean Time per Split:  40.49310472011566\n",
      " \n",
      "When K = 15\n",
      "   Mean Precision:  0.43572210992890764\n",
      "   Mean AUC:  0.6903375958744932\n",
      "   Mean Accuracy:  0.7500472676558834\n",
      "   Mean Time per Split:  40.69495067596436\n",
      " \n"
     ]
    }
   ],
   "source": [
    "# Use ChebyshevDistance distance - max(|x - y|)\n",
    "\n",
    "for x in Kvals:\n",
    "    # define the pipeline\n",
    "    steps = list()\n",
    "    steps.append(('scaler', StandardScaler()))\n",
    "    steps.append(('model', KNeighborsClassifier(n_neighbors=x, weights='distance', metric='chebyshev')))\n",
    "    pipeline = Pipeline(steps=steps)\n",
    "\n",
    "    #Modeling with pipeline and scoring with cross_validate()\n",
    "    scores = cross_validate(pipeline, runs_data, runs_target2, scoring=['roc_auc','accuracy','precision'],\n",
    "                             cv=cv, return_train_score=False)\n",
    "    print('When K =',x)\n",
    "    print('   Mean Precision: ',np.mean(scores['test_precision']))\n",
    "    print('   Mean AUC: ',np.mean(scores['test_roc_auc']))\n",
    "    print('   Mean Accuracy: ',np.mean(scores['test_accuracy']))\n",
    "    print('   Mean Time per Split: ',np.mean(scores['fit_time'])+np.mean(scores['score_time']))\n",
    "    print(' ')"
   ]
  },
  {
   "cell_type": "markdown",
   "metadata": {},
   "source": [
    "Across the different KNN models created to classify Show horses, the AUCs were all comparable to that of the KNN models for Win horses: slightly more than 0.5\n",
    "\n",
    "However, the precision was lower almost across the board. If I had to select one model, it would be the Euclidean distance metric with a K value of 13, although there a better model choices than KNN as we will see in the following sections of this Lab. In fact, in the Mini Lab we generated several Logistic Regression and SVM with significantly higher AUCs and precisions."
   ]
  },
  {
   "cell_type": "markdown",
   "metadata": {},
   "source": [
    "#### Model to predict Won"
   ]
  },
  {
   "cell_type": "code",
   "execution_count": 127,
   "metadata": {},
   "outputs": [
    {
     "name": "stdout",
     "output_type": "stream",
     "text": [
      "Precision of classifier with 7 neighbors is: 0.147  AUC: 0.504\n"
     ]
    },
    {
     "data": {
      "text/plain": [
       "<sklearn.metrics._plot.confusion_matrix.ConfusionMatrixDisplay at 0x19b135fb850>"
      ]
     },
     "execution_count": 127,
     "metadata": {},
     "output_type": "execute_result"
    },
    {
     "data": {
      "image/png": "[encoded data removed]",
      "text/plain": [
       "<Figure size 432x288 with 2 Axes>"
      ]
     },
     "metadata": {
      "needs_background": "light"
     },
     "output_type": "display_data"
    }
   ],
   "source": [
    "x=7\n",
    "clf_knnw = KNeighborsClassifier(n_neighbors=7, weights='distance', metric='euclidean')\n",
    "clf_knnw.fit(X_train,Y_train)\n",
    "yhatknnw = clf_knnw.predict(X_test)\n",
    "acc = mt.accuracy_score(Y_test,yhatknnw)\n",
    "prec = mt.precision_score(Y_test,yhatknnw)\n",
    "auc = roc_auc_score(Y_test,yhatknnw)\n",
    "conf = mt.confusion_matrix(Y_test,yhatknnw)\n",
    "print('Precision of classifier with %d neighbors is: %.3f'%(x,prec), ' AUC: %.3f'%auc)\n",
    "plot_confusion_matrix(clf_knn, X_test, Y_test)"
   ]
  },
  {
   "cell_type": "markdown",
   "metadata": {},
   "source": [
    "From the Confusion Matrix above, notice the large number of false positives. The model incorrectly classified over 1000 observations as wins when they should have been loses. It only correctly classified about 50 wins. Since this data set is results of horse races, you can assume an interested party would be a gambler. The KNN model would not be of much benefit to a gambler due to the large number of Type I error in proportion to true positive results."
   ]
  },
  {
   "cell_type": "markdown",
   "metadata": {},
   "source": [
    "#### Model to predict Show"
   ]
  },
  {
   "cell_type": "code",
   "execution_count": 131,
   "metadata": {},
   "outputs": [
    {
     "name": "stdout",
     "output_type": "stream",
     "text": [
      "Precision of classifier with 13 neighbors is: 0.431  AUC: 0.576\n"
     ]
    },
    {
     "data": {
      "text/plain": [
       "<sklearn.metrics._plot.confusion_matrix.ConfusionMatrixDisplay at 0x19b01721b80>"
      ]
     },
     "execution_count": 131,
     "metadata": {},
     "output_type": "execute_result"
    },
    {
     "data": {
      "image/png": "[encoded data removed]",
      "text/plain": [
       "<Figure size 432x288 with 2 Axes>"
      ]
     },
     "metadata": {
      "needs_background": "light"
     },
     "output_type": "display_data"
    }
   ],
   "source": [
    "x=13\n",
    "clf_knnp = KNeighborsClassifier(n_neighbors=7, weights='distance', metric='euclidean')\n",
    "clf_knnp.fit(X_train_place,Y_train_place)\n",
    "yhatknnp = clf_knnp.predict(X_test_place)\n",
    "acc = mt.accuracy_score(Y_test_place,yhatknnp)\n",
    "prec = mt.precision_score(Y_test_place,yhatknnp)\n",
    "auc = roc_auc_score(Y_test_place,yhatknnp)\n",
    "conf = mt.confusion_matrix(Y_test_place,yhatknnp)\n",
    "print('Precision of classifier with %d neighbors is: %.3f'%(x,prec), ' AUC: %.3f'%auc)\n",
    "plot_confusion_matrix(clf_knnp, X_test_place, Y_test_place)"
   ]
  },
  {
   "cell_type": "markdown",
   "metadata": {},
   "source": [
    "### Sub-Section 5.1.2: Model 2 Naive Bayes"
   ]
  },
  {
   "cell_type": "markdown",
   "metadata": {},
   "source": [
    "#### Gaussian Naive Bayes on the 'won' target response variable:"
   ]
  },
  {
   "cell_type": "code",
   "execution_count": 35,
   "metadata": {
    "scrolled": true
   },
   "outputs": [
    {
     "name": "stdout",
     "output_type": "stream",
     "text": [
      "When VAR = 0.25\n",
      "   Mean Precision:  0.10124209461011588\n",
      "   Mean AUC:  0.7060093520803179\n",
      "   Mean Accuracy:  0.32394082467736857\n",
      "   Mean Time per Split:  0.12262535095214844\n",
      " \n",
      "When VAR = 0.5\n",
      "   Mean Precision:  0.10456674092985299\n",
      "   Mean AUC:  0.7064824462753292\n",
      "   Mean Accuracy:  0.35537928863707896\n",
      "   Mean Time per Split:  0.1320017337799072\n",
      " \n",
      "When VAR = 1\n",
      "   Mean Precision:  0.13464804507961875\n",
      "   Mean AUC:  0.7078198496040616\n",
      "   Mean Accuracy:  0.584734025810513\n",
      "   Mean Time per Split:  0.1339499235153198\n",
      " \n",
      "When VAR = 2\n",
      "   Mean Precision:  0.12364661142378834\n",
      "   Mean AUC:  0.7102983251967856\n",
      "   Mean Accuracy:  0.9149512118350647\n",
      "   Mean Time per Split:  0.13050925731658936\n",
      " \n",
      "When VAR = 3\n",
      "   Mean Precision:  0.0918701729089594\n",
      "   Mean AUC:  0.7120540608065447\n",
      "   Mean Accuracy:  0.9166698142902108\n",
      "   Mean Time per Split:  0.12529098987579346\n",
      " \n",
      "When VAR = 4\n",
      "   Mean Precision:  0.07395334712060467\n",
      "   Mean AUC:  0.7133145585885231\n",
      "   Mean Accuracy:  0.9178344350015738\n",
      "   Mean Time per Split:  0.12894041538238527\n",
      " \n",
      "When VAR = 5\n",
      "   Mean Precision:  0.079886577349298\n",
      "   Mean AUC:  0.7142509932355399\n",
      "   Mean Accuracy:  0.9182813975448537\n",
      "   Mean Time per Split:  0.11522343158721923\n",
      " \n",
      "When VAR = 6\n",
      "   Mean Precision:  0.03825396825396825\n",
      "   Mean AUC:  0.7149798393951797\n",
      "   Mean Accuracy:  0.9188416745357255\n",
      "   Mean Time per Split:  0.12209963798522949\n",
      " \n",
      "When VAR = 7\n",
      "   Mean Precision:  0.02283289124668435\n",
      "   Mean AUC:  0.7155757430598325\n",
      "   Mean Accuracy:  0.9193704752911552\n",
      "   Mean Time per Split:  0.13015539646148683\n",
      " \n",
      "When VAR = 8\n",
      "   Mean Precision:  0.0\n",
      "   Mean AUC:  0.7160787306210934\n",
      "   Mean Accuracy:  0.9198426188227888\n",
      "   Mean Time per Split:  0.12347733974456787\n",
      " \n",
      "When VAR = 9\n",
      "   Mean Precision:  0.0\n",
      "   Mean AUC:  0.716502445483409\n",
      "   Mean Accuracy:  0.9198426188227888\n",
      "   Mean Time per Split:  0.12799277305603027\n",
      " \n",
      "When VAR = 10\n",
      "   Mean Precision:  0.0\n",
      "   Mean AUC:  0.7168650770594116\n",
      "   Mean Accuracy:  0.9198426188227888\n",
      "   Mean Time per Split:  0.11992356777191163\n",
      " \n",
      "When VAR = 15\n",
      "   Mean Precision:  0.0\n",
      "   Mean AUC:  0.7181251874892133\n",
      "   Mean Accuracy:  0.9198489140698772\n",
      "   Mean Time per Split:  0.12140810489654541\n",
      " \n",
      "When VAR = 20\n",
      "   Mean Precision:  0.0\n",
      "   Mean AUC:  0.7189235041857706\n",
      "   Mean Accuracy:  0.9198740950582309\n",
      "   Mean Time per Split:  0.12667624950408934\n",
      " \n"
     ]
    }
   ],
   "source": [
    "var = [.25,.5,1,2,3,4,5,6,7,8,9,10,15,20]\n",
    "for x in var:\n",
    "    # define the pipeline\n",
    "    steps = list()\n",
    "    steps.append(('scaler', StandardScaler()))\n",
    "    steps.append(('model', GaussianNB(var_smoothing=x)))\n",
    "    pipeline = Pipeline(steps=steps)\n",
    "\n",
    "    #Modeling with pipeline and scoring with cross_validate()\n",
    "    scores = cross_validate(pipeline, runs_data, runs_target, scoring=['roc_auc','accuracy','precision'],\n",
    "                             cv=cv, return_train_score=False)\n",
    "    print('When VAR =',x)\n",
    "    print('   Mean Precision: ',np.mean(scores['test_precision']))\n",
    "    print('   Mean AUC: ',np.mean(scores['test_roc_auc']))\n",
    "    print('   Mean Accuracy: ',np.mean(scores['test_accuracy']))\n",
    "    print('   Mean Time per Split: ',np.mean(scores['fit_time'])+np.mean(scores['score_time']))\n",
    "    print(' ')"
   ]
  },
  {
   "cell_type": "markdown",
   "metadata": {},
   "source": [
    "var at 1 for model"
   ]
  },
  {
   "cell_type": "markdown",
   "metadata": {},
   "source": [
    "#### Complement Naive Bayes on the 'Won' target response variable:"
   ]
  },
  {
   "cell_type": "code",
   "execution_count": 36,
   "metadata": {},
   "outputs": [
    {
     "name": "stdout",
     "output_type": "stream",
     "text": [
      "When Alpha = 0.25\n",
      "   Mean Precision:  0.13109039000011966\n",
      "   Mean AUC:  0.746798216845774\n",
      "   Mean Accuracy:  0.5424425558703179\n",
      "   Mean Time per Split:  0.07953248023986817\n",
      " \n",
      "When Alpha = 0.5\n",
      "   Mean Precision:  0.13125854602102036\n",
      "   Mean AUC:  0.7469984833010325\n",
      "   Mean Accuracy:  0.5429272898961285\n",
      "   Mean Time per Split:  0.07764382362365722\n",
      " \n",
      "When Alpha = 1\n",
      "   Mean Precision:  0.13144789182233368\n",
      "   Mean AUC:  0.7473594417308272\n",
      "   Mean Accuracy:  0.5436701290525653\n",
      "   Mean Time per Split:  0.08049778938293456\n",
      " \n",
      "When Alpha = 2\n",
      "   Mean Precision:  0.13188762202042997\n",
      "   Mean AUC:  0.7478598415643519\n",
      "   Mean Accuracy:  0.545407617248977\n",
      "   Mean Time per Split:  0.08024260997772217\n",
      " \n",
      "When Alpha = 3\n",
      "   Mean Precision:  0.1322228259228747\n",
      "   Mean AUC:  0.7480043669654013\n",
      "   Mean Accuracy:  0.5469499527856468\n",
      "   Mean Time per Split:  0.08230087757110596\n",
      " \n",
      "When Alpha = 4\n",
      "   Mean Precision:  0.132603557827293\n",
      "   Mean AUC:  0.7480569177440437\n",
      "   Mean Accuracy:  0.5487566887000315\n",
      "   Mean Time per Split:  0.0762794017791748\n",
      " \n",
      "When Alpha = 5\n",
      "   Mean Precision:  0.13288069143564354\n",
      "   Mean AUC:  0.7480641536979006\n",
      "   Mean Accuracy:  0.5504060434372049\n",
      "   Mean Time per Split:  0.07529830932617188\n",
      " \n",
      "When Alpha = 6\n",
      "   Mean Precision:  0.13324284248439383\n",
      "   Mean AUC:  0.7480613938136415\n",
      "   Mean Accuracy:  0.5524457034938621\n",
      "   Mean Time per Split:  0.07637248039245606\n",
      " \n",
      "When Alpha = 7\n",
      "   Mean Precision:  0.13347196166442254\n",
      "   Mean AUC:  0.748003500802895\n",
      "   Mean Accuracy:  0.5544790683034309\n",
      "   Mean Time per Split:  0.07713615894317627\n",
      " \n",
      "When Alpha = 8\n",
      "   Mean Precision:  0.13395727662501306\n",
      "   Mean AUC:  0.7478937348798154\n",
      "   Mean Accuracy:  0.5569153289266604\n",
      "   Mean Time per Split:  0.0765798807144165\n",
      " \n",
      "When Alpha = 9\n",
      "   Mean Precision:  0.13444886745520543\n",
      "   Mean AUC:  0.7477037386371316\n",
      "   Mean Accuracy:  0.559452313503305\n",
      "   Mean Time per Split:  0.07945044040679931\n",
      " \n",
      "When Alpha = 10\n",
      "   Mean Precision:  0.13484078953196665\n",
      "   Mean AUC:  0.7474574741108869\n",
      "   Mean Accuracy:  0.5621529745042493\n",
      "   Mean Time per Split:  0.08333694934844971\n",
      " \n",
      "When Alpha = 15\n",
      "   Mean Precision:  0.13721014562223224\n",
      "   Mean AUC:  0.7458729078140555\n",
      "   Mean Accuracy:  0.5769468051621025\n",
      "   Mean Time per Split:  0.08820662498474122\n",
      " \n",
      "When Alpha = 20\n",
      "   Mean Precision:  0.14046526054574793\n",
      "   Mean AUC:  0.7441331208921839\n",
      "   Mean Accuracy:  0.594762354422411\n",
      "   Mean Time per Split:  0.08986599445343019\n",
      " \n"
     ]
    }
   ],
   "source": [
    "alpha = [.25,.5,1,2,3,4,5,6,7,8,9,10,15,20]\n",
    "for x in alpha:\n",
    "    # define the pipeline\n",
    "    steps = list()\n",
    "    steps.append(('scaler', MinMaxScaler()))\n",
    "    steps.append(('model', ComplementNB(alpha = x)))\n",
    "    pipeline = Pipeline(steps=steps)\n",
    "\n",
    "    #Modeling with pipeline and scoring with cross_validate()\n",
    "    scores = cross_validate(pipeline, runs_data, runs_target, scoring=['roc_auc','accuracy','precision'],\n",
    "                             cv=cv, return_train_score=False)\n",
    "    print('When Alpha =',x)\n",
    "    print('   Mean Precision: ',np.mean(scores['test_precision']))\n",
    "    print('   Mean AUC: ',np.mean(scores['test_roc_auc']))\n",
    "    print('   Mean Accuracy: ',np.mean(scores['test_accuracy']))\n",
    "    print('   Mean Time per Split: ',np.mean(scores['fit_time'])+np.mean(scores['score_time']))\n",
    "    print(' ')"
   ]
  },
  {
   "cell_type": "markdown",
   "metadata": {},
   "source": [
    "### best model is  Complement alpha 10 "
   ]
  },
  {
   "cell_type": "code",
   "execution_count": 40,
   "metadata": {},
   "outputs": [
    {
     "name": "stdout",
     "output_type": "stream",
     "text": [
      "Alpha:20 AUC: 0.6783355383424494 ACC: 0.560717658168083\n"
     ]
    },
    {
     "data": {
      "text/plain": [
       "<sklearn.metrics._plot.confusion_matrix.ConfusionMatrixDisplay at 0x19b00089130>"
      ]
     },
     "execution_count": 40,
     "metadata": {},
     "output_type": "execute_result"
    },
    {
     "data": {
      "image/png": "[encoded data removed]",
      "text/plain": [
       "<Figure size 432x288 with 2 Axes>"
      ]
     },
     "metadata": {
      "needs_background": "light"
     },
     "output_type": "display_data"
    }
   ],
   "source": [
    "clf_cnbw = ComplementNB(alpha = 10)\n",
    "clf_cnbw.fit(X_train,Y_train.values.ravel())\n",
    "yhat = clf_cnbw.predict(X_test)\n",
    "acc = mt.accuracy_score(Y_test,yhat)\n",
    "auc = roc_auc_score(Y_test,yhat)\n",
    "print('Alpha:20 AUC:',auc,'ACC:',acc)\n",
    "plot_confusion_matrix(clf_cnbw,X_test,Y_test)"
   ]
  },
  {
   "cell_type": "markdown",
   "metadata": {},
   "source": [
    "#### Gaussian Naive Bayes on the 'show' target response variable:"
   ]
  },
  {
   "cell_type": "code",
   "execution_count": 38,
   "metadata": {},
   "outputs": [
    {
     "name": "stdout",
     "output_type": "stream",
     "text": [
      "When VAR = 0.25\n",
      "   Mean Precision:  0.28051887901406747\n",
      "   Mean AUC:  0.7047869038500877\n",
      "   Mean Accuracy:  0.40098205854579794\n",
      "   Mean Time per Split:  0.13249361515045166\n",
      " \n",
      "When VAR = 0.5\n",
      "   Mean Precision:  0.27802573761487837\n",
      "   Mean AUC:  0.7065664399389135\n",
      "   Mean Accuracy:  0.3925023607176582\n",
      "   Mean Time per Split:  0.13243541717529297\n",
      " \n",
      "When VAR = 1\n",
      "   Mean Precision:  0.27729988516412574\n",
      "   Mean AUC:  0.7088968244905948\n",
      "   Mean Accuracy:  0.3893862134088763\n",
      "   Mean Time per Split:  0.1283179998397827\n",
      " \n",
      "When VAR = 2\n",
      "   Mean Precision:  0.28406651374905645\n",
      "   Mean AUC:  0.7120315750831143\n",
      "   Mean Accuracy:  0.41226943657538556\n",
      "   Mean Time per Split:  0.1347280502319336\n",
      " \n",
      "When VAR = 3\n",
      "   Mean Precision:  0.30923632380559907\n",
      "   Mean AUC:  0.7141453838382417\n",
      "   Mean Accuracy:  0.49067044381491975\n",
      "   Mean Time per Split:  0.12682199478149414\n",
      " \n",
      "When VAR = 4\n",
      "   Mean Precision:  0.3878196453783128\n",
      "   Mean AUC:  0.7156619205998382\n",
      "   Mean Accuracy:  0.6685300598048473\n",
      "   Mean Time per Split:  0.1270909070968628\n",
      " \n",
      "When VAR = 5\n",
      "   Mean Precision:  0.5778137728556536\n",
      "   Mean AUC:  0.7168054050033221\n",
      "   Mean Accuracy:  0.76073024866226\n",
      "   Mean Time per Split:  0.12726893424987792\n",
      " \n",
      "When VAR = 6\n",
      "   Mean Precision:  0.18\n",
      "   Mean AUC:  0.7176911822186905\n",
      "   Mean Accuracy:  0.76\n",
      "   Mean Time per Split:  0.12636976242065429\n",
      " \n",
      "When VAR = 7\n",
      "   Mean Precision:  0.0\n",
      "   Mean AUC:  0.7183931988104593\n",
      "   Mean Accuracy:  0.7599622285174694\n",
      "   Mean Time per Split:  0.12950558662414552\n",
      " \n",
      "When VAR = 8\n",
      "   Mean Precision:  0.0\n",
      "   Mean AUC:  0.7189620320736653\n",
      "   Mean Accuracy:  0.7599622285174694\n",
      "   Mean Time per Split:  0.12607579231262206\n",
      " \n",
      "When VAR = 9\n",
      "   Mean Precision:  0.0\n",
      "   Mean AUC:  0.7194275469657795\n",
      "   Mean Accuracy:  0.7599622285174694\n",
      "   Mean Time per Split:  0.12956502437591552\n",
      " \n",
      "When VAR = 10\n",
      "   Mean Precision:  0.0\n",
      "   Mean AUC:  0.7198193759898863\n",
      "   Mean Accuracy:  0.7599622285174694\n",
      "   Mean Time per Split:  0.12542526721954345\n",
      " \n",
      "When VAR = 15\n",
      "   Mean Precision:  0.0\n",
      "   Mean AUC:  0.7211239339033549\n",
      "   Mean Accuracy:  0.7599622285174694\n",
      "   Mean Time per Split:  0.12023036479949951\n",
      " \n",
      "When VAR = 20\n",
      "   Mean Precision:  0.0\n",
      "   Mean AUC:  0.7218739555846145\n",
      "   Mean Accuracy:  0.7599622285174694\n",
      "   Mean Time per Split:  0.12335817813873291\n",
      " \n"
     ]
    }
   ],
   "source": [
    "var = [.25,.5,1,2,3,4,5,6,7,8,9,10,15,20]\n",
    "for x in var:\n",
    "    # define the pipeline\n",
    "    steps = list()\n",
    "    steps.append(('scaler', StandardScaler()))\n",
    "    steps.append(('model', GaussianNB(var_smoothing=x)))\n",
    "    pipeline = Pipeline(steps=steps)\n",
    "\n",
    "    #Modeling with pipeline and scoring with cross_validate()\n",
    "    scores = cross_validate(pipeline, runs_data, runs_target2, scoring=['roc_auc','accuracy','precision'],\n",
    "                             cv=cv, return_train_score=False)\n",
    "    print('When VAR =',x)\n",
    "    print('   Mean Precision: ',np.mean(scores['test_precision']))\n",
    "    print('   Mean AUC: ',np.mean(scores['test_roc_auc']))\n",
    "    print('   Mean Accuracy: ',np.mean(scores['test_accuracy']))\n",
    "    print('   Mean Time per Split: ',np.mean(scores['fit_time'])+np.mean(scores['score_time']))\n",
    "    print(' ')"
   ]
  },
  {
   "cell_type": "markdown",
   "metadata": {},
   "source": [
    "var at 5"
   ]
  },
  {
   "cell_type": "markdown",
   "metadata": {},
   "source": [
    "#### Complement Naive Bayes on the 'show' target response variable:"
   ]
  },
  {
   "cell_type": "code",
   "execution_count": 39,
   "metadata": {
    "scrolled": true
   },
   "outputs": [
    {
     "name": "stdout",
     "output_type": "stream",
     "text": [
      "When Alpha = 0.25\n",
      "   Mean Precision:  0.348779042978297\n",
      "   Mean AUC:  0.7420522889414106\n",
      "   Mean Accuracy:  0.5865533522190746\n",
      "   Mean Time per Split:  0.0731703519821167\n",
      " \n",
      "When Alpha = 0.5\n",
      "   Mean Precision:  0.3487835593297668\n",
      "   Mean AUC:  0.7421102591549226\n",
      "   Mean Accuracy:  0.5865659427132515\n",
      "   Mean Time per Split:  0.07782747745513915\n",
      " \n",
      "When Alpha = 1\n",
      "   Mean Precision:  0.34888837823463803\n",
      "   Mean AUC:  0.742215117807883\n",
      "   Mean Accuracy:  0.5867170286433742\n",
      "   Mean Time per Split:  0.07644126415252686\n",
      " \n",
      "When Alpha = 2\n",
      "   Mean Precision:  0.3491076074415228\n",
      "   Mean AUC:  0.7423835494768083\n",
      "   Mean Accuracy:  0.5870254957507083\n",
      "   Mean Time per Split:  0.07784798145294189\n",
      " \n",
      "When Alpha = 3\n",
      "   Mean Precision:  0.34924588530136524\n",
      "   Mean AUC:  0.7425179472166044\n",
      "   Mean Accuracy:  0.5872458293988039\n",
      "   Mean Time per Split:  0.08189048767089843\n",
      " \n",
      "When Alpha = 4\n",
      "   Mean Precision:  0.34945029839709896\n",
      "   Mean AUC:  0.7426437245918666\n",
      "   Mean Accuracy:  0.5875165250236072\n",
      "   Mean Time per Split:  0.08325023651123047\n",
      " \n",
      "When Alpha = 5\n",
      "   Mean Precision:  0.34963042114635734\n",
      "   Mean AUC:  0.7427586265778003\n",
      "   Mean Accuracy:  0.5877368586717029\n",
      "   Mean Time per Split:  0.08219492435455322\n",
      " \n",
      "When Alpha = 6\n",
      "   Mean Precision:  0.34973547662501325\n",
      "   Mean AUC:  0.7428704675522353\n",
      "   Mean Accuracy:  0.5878879446018257\n",
      "   Mean Time per Split:  0.08171699047088624\n",
      " \n",
      "When Alpha = 7\n",
      "   Mean Precision:  0.3499274244960233\n",
      "   Mean AUC:  0.7429788130209911\n",
      "   Mean Accuracy:  0.5881271639911866\n",
      "   Mean Time per Split:  0.0776247262954712\n",
      " \n",
      "When Alpha = 8\n",
      "   Mean Precision:  0.3501636417605507\n",
      "   Mean AUC:  0.7430704304638122\n",
      "   Mean Accuracy:  0.5884293358514323\n",
      "   Mean Time per Split:  0.08202559947967529\n",
      " \n",
      "When Alpha = 9\n",
      "   Mean Precision:  0.3503261022847325\n",
      "   Mean AUC:  0.7431523782386544\n",
      "   Mean Accuracy:  0.5886181932640857\n",
      "   Mean Time per Split:  0.07790672779083252\n",
      " \n",
      "When Alpha = 10\n",
      "   Mean Precision:  0.35050696915830565\n",
      "   Mean AUC:  0.7432183257653138\n",
      "   Mean Accuracy:  0.5888700031476235\n",
      "   Mean Time per Split:  0.0782240867614746\n",
      " \n",
      "When Alpha = 15\n",
      "   Mean Precision:  0.3513075045758076\n",
      "   Mean AUC:  0.7433782413483085\n",
      "   Mean Accuracy:  0.5901227573182248\n",
      "   Mean Time per Split:  0.08144981861114502\n",
      " \n",
      "When Alpha = 20\n",
      "   Mean Precision:  0.352164140948355\n",
      "   Mean AUC:  0.7433323022786439\n",
      "   Mean Accuracy:  0.5917406358199558\n",
      "   Mean Time per Split:  0.08133182525634766\n",
      " \n"
     ]
    }
   ],
   "source": [
    "alpha = [.25,.5,1,2,3,4,5,6,7,8,9,10,15,20]\n",
    "for x in alpha:\n",
    "    # define the pipeline\n",
    "    steps = list()\n",
    "    steps.append(('scaler', MinMaxScaler()))\n",
    "    steps.append(('model', ComplementNB(alpha = x)))\n",
    "    pipeline = Pipeline(steps=steps)\n",
    "\n",
    "    # define the evaluation procedure\n",
    "    cv = StratifiedShuffleSplit(n_splits = 10, test_size = 0.2, train_size=0.8, random_state = 0)\n",
    "\n",
    "    #Modeling with pipeline and scoring with cross_validate()\n",
    "    scores = cross_validate(pipeline, runs_data, runs_target2, scoring=['roc_auc','accuracy','precision'],\n",
    "                             cv=cv, return_train_score=False)\n",
    "    print('When Alpha =',x)\n",
    "    print('   Mean Precision: ',np.mean(scores['test_precision']))\n",
    "    print('   Mean AUC: ',np.mean(scores['test_roc_auc']))\n",
    "    print('   Mean Accuracy: ',np.mean(scores['test_accuracy']))\n",
    "    print('   Mean Time per Split: ',np.mean(scores['fit_time'])+np.mean(scores['score_time']))\n",
    "    print(' ')"
   ]
  },
  {
   "cell_type": "markdown",
   "metadata": {},
   "source": [
    "Place model"
   ]
  },
  {
   "cell_type": "code",
   "execution_count": 52,
   "metadata": {},
   "outputs": [
    {
     "name": "stdout",
     "output_type": "stream",
     "text": [
      "Alpha:20 AUC: 0.6804427167023219 ACC: 0.5874095058231036\n"
     ]
    },
    {
     "data": {
      "text/plain": [
       "<sklearn.metrics._plot.confusion_matrix.ConfusionMatrixDisplay at 0x19b004e20d0>"
      ]
     },
     "execution_count": 52,
     "metadata": {},
     "output_type": "execute_result"
    },
    {
     "data": {
      "image/png": "[encoded data removed]",
      "text/plain": [
       "<Figure size 432x288 with 2 Axes>"
      ]
     },
     "metadata": {
      "needs_background": "light"
     },
     "output_type": "display_data"
    }
   ],
   "source": [
    "clf_cnbp = ComplementNB(alpha = 10)\n",
    "clf_cnbp.fit(X_train_place,Y_train_place.values.ravel())\n",
    "yhat = clf_cnbp.predict(X_test_place)\n",
    "acc = mt.accuracy_score(Y_test_place,yhat)\n",
    "auc = roc_auc_score(Y_test_place,yhat)\n",
    "print('Alpha:20 AUC:',auc,'ACC:',acc)\n",
    "plot_confusion_matrix(clf_cnbp,X_test_place,Y_test_place)"
   ]
  },
  {
   "cell_type": "markdown",
   "metadata": {},
   "source": [
    "Next we will want to look at the feature importance for both winning models"
   ]
  },
  {
   "cell_type": "code",
   "execution_count": 48,
   "metadata": {},
   "outputs": [
    {
     "data": {
      "image/png": "[encoded data removed]",
      "text/plain": [
       "<Figure size 720x504 with 1 Axes>"
      ]
     },
     "metadata": {
      "needs_background": "light"
     },
     "output_type": "display_data"
    }
   ],
   "source": [
    "features = list(runs_data.columns.values)\n",
    "\n",
    "\n",
    "from sklearn.inspection import permutation_importance\n",
    "\n",
    "imps = permutation_importance(clf_cnbw, X_test, Y_test)\n",
    "importances = imps.importances_mean\n",
    "std = imps.importances_std\n",
    "indices = np.argsort(importances)[::-1]\n",
    "\n",
    "# Print the feature ranking\n",
    "\n",
    "featureorder = []\n",
    "for f in range(X_test.shape[1]):\n",
    "    featureorder.append(features[indices[f]])\n",
    "\n",
    "plt.figure(figsize=(10, 7))\n",
    "plt.title(\"Feature importances\")\n",
    "plt.bar(range(X_test.shape[1]), importances[indices], color=\"r\", yerr=std[indices], align=\"center\")\n",
    "plt.xticks(range(X_test.shape[1]), [features[indices[i]] for i in range(33)],rotation = 90)\n",
    "plt.xlim([-1, X_test.shape[1]])\n",
    "plt.show()"
   ]
  },
  {
   "cell_type": "code",
   "execution_count": 53,
   "metadata": {},
   "outputs": [
    {
     "data": {
      "image/png": "[encoded data removed]",
      "text/plain": [
       "<Figure size 720x504 with 1 Axes>"
      ]
     },
     "metadata": {
      "needs_background": "light"
     },
     "output_type": "display_data"
    }
   ],
   "source": [
    "features = list(runs_data.columns.values)\n",
    "\n",
    "\n",
    "from sklearn.inspection import permutation_importance\n",
    "\n",
    "imps = permutation_importance(clf_cnbp, X_test_place, Y_test_place)\n",
    "importances = imps.importances_mean\n",
    "std = imps.importances_std\n",
    "indices = np.argsort(importances)[::-1]\n",
    "\n",
    "# Print the feature ranking\n",
    "\n",
    "featureorder = []\n",
    "for f in range(X_test.shape[1]):\n",
    "    featureorder.append(features[indices[f]])\n",
    "\n",
    "plt.figure(figsize=(10, 7))\n",
    "plt.title(\"Feature importances\")\n",
    "plt.bar(range(X_test.shape[1]), importances[indices], color=\"r\", yerr=std[indices], align=\"center\")\n",
    "plt.xticks(range(X_test.shape[1]), [features[indices[i]] for i in range(33)],rotation = 90)\n",
    "plt.xlim([-1, X_test.shape[1]])\n",
    "plt.show()"
   ]
  },
  {
   "cell_type": "markdown",
   "metadata": {},
   "source": [
    "#### Model to predict Won"
   ]
  },
  {
   "cell_type": "code",
   "execution_count": 136,
   "metadata": {},
   "outputs": [
    {
     "name": "stdout",
     "output_type": "stream",
     "text": [
      "Alpha:20 AUC: 0.6865902112258534 ACC: 0.7488825936418004 Prec: 0.13726023670248946\n"
     ]
    },
    {
     "data": {
      "text/plain": [
       "<sklearn.metrics._plot.confusion_matrix.ConfusionMatrixDisplay at 0x19b14016e80>"
      ]
     },
     "execution_count": 136,
     "metadata": {},
     "output_type": "execute_result"
    },
    {
     "data": {
      "image/png": "[encoded data removed]",
      "text/plain": [
       "<Figure size 432x288 with 2 Axes>"
      ]
     },
     "metadata": {
      "needs_background": "light"
     },
     "output_type": "display_data"
    }
   ],
   "source": [
    "clf_cnbw = ComplementNB(alpha = 20)\n",
    "clf_cnbw.fit(X_train,Y_train.values.ravel())\n",
    "yhatcnbw = clf_cnbw.predict(X_test)\n",
    "prec = mt.precision_score(Y_test,yhatcnbw)\n",
    "auc = roc_auc_score(Y_test,yhatcnbw)\n",
    "print('Alpha:20 AUC:',auc,'ACC:',acc,'Prec:',prec)\n",
    "plot_confusion_matrix(clf_cnbw,X_test,Y_test)"
   ]
  },
  {
   "cell_type": "markdown",
   "metadata": {},
   "source": [
    "#### Model to predict Show"
   ]
  },
  {
   "cell_type": "code",
   "execution_count": 137,
   "metadata": {},
   "outputs": [
    {
     "name": "stdout",
     "output_type": "stream",
     "text": [
      "Alpha:20 AUC: 0.680016973698415 ACC: 0.7488825936418004 Prec: 0.3431682090364725\n"
     ]
    },
    {
     "data": {
      "text/plain": [
       "<sklearn.metrics._plot.confusion_matrix.ConfusionMatrixDisplay at 0x19b1400f130>"
      ]
     },
     "execution_count": 137,
     "metadata": {},
     "output_type": "execute_result"
    },
    {
     "data": {
      "image/png": "[encoded data removed]",
      "text/plain": [
       "<Figure size 432x288 with 2 Axes>"
      ]
     },
     "metadata": {
      "needs_background": "light"
     },
     "output_type": "display_data"
    }
   ],
   "source": [
    "clf_cnbp = ComplementNB(alpha = 10)\n",
    "clf_cnbp.fit(X_train_place,Y_train_place.values.ravel())\n",
    "yhatcnbp = clf_cnbp.predict(X_test_place)\n",
    "prec = mt.precision_score(Y_test_place,yhatcnbp)\n",
    "auc = roc_auc_score(Y_test_place,yhatcnbp)\n",
    "print('Alpha:20 AUC:',auc,'ACC:',acc,'Prec:',prec)\n",
    "plot_confusion_matrix(clf_cnbp,X_test_place,Y_test_place)"
   ]
  },
  {
   "cell_type": "markdown",
   "metadata": {},
   "source": [
    "### Sub-Section 5.1.3: Model 3 Random Forest"
   ]
  },
  {
   "cell_type": "markdown",
   "metadata": {},
   "source": [
    "#### Task 1\n",
    "The first parameter we want to look at is the performance of forest size to find an optimal number of trees based on the initial data. Determining the correct size of the forest can help keep us from overfitting the model or by wasting resources with building an unneccessarily large forest."
   ]
  },
  {
   "cell_type": "code",
   "execution_count": 70,
   "metadata": {},
   "outputs": [
    {
     "name": "stdout",
     "output_type": "stream",
     "text": [
      "When Trees = 64\n",
      "   Mean Precision:  0.17467725859958705\n",
      "   Mean AUC:  0.780821922374406\n",
      "   Mean Accuracy:  0.7065585005960213\n",
      "   Mean Time per Split:  1.383591651916504\n",
      " \n",
      "When Trees = 75\n",
      "   Mean Precision:  0.17462083131027992\n",
      "   Mean AUC:  0.7807780566229459\n",
      "   Mean Accuracy:  0.7060800126740345\n",
      "   Mean Time per Split:  1.5990831136703492\n",
      " \n",
      "When Trees = 100\n",
      "   Mean Precision:  0.17457515070588273\n",
      "   Mean AUC:  0.7803471813433926\n",
      "   Mean Accuracy:  0.7058408178544099\n",
      "   Mean Time per Split:  2.1231966972351075\n",
      " \n",
      "When Trees = 128\n",
      "   Mean Precision:  0.1745093070238754\n",
      "   Mean AUC:  0.7805832098460467\n",
      "   Mean Accuracy:  0.7058659750647819\n",
      "   Mean Time per Split:  2.6664492368698123\n",
      " \n"
     ]
    }
   ],
   "source": [
    "trees = [64,75,100,128]\n",
    "for x in trees:\n",
    "    # define the pipeline\n",
    "    steps = list()\n",
    "    steps.append(('scaler', StandardScaler()))\n",
    "    steps.append(('model', RandomForestClassifier(max_depth = 5, n_estimators = x, random_state = 0, class_weight = 'balanced')))\n",
    "    pipeline = Pipeline(steps=steps)\n",
    "\n",
    "\n",
    "    #Modeling with pipeline and scoring with cross_validate()\n",
    "    scores = cross_validate(pipeline, runs_data, runs_target, scoring=['roc_auc','accuracy','precision'],\n",
    "                             cv=cv, return_train_score=False)\n",
    "    print('When Trees =',x)\n",
    "    print('   Mean Precision: ',np.mean(scores['test_precision']))\n",
    "    print('   Mean AUC: ',np.mean(scores['test_roc_auc']))\n",
    "    print('   Mean Accuracy: ',np.mean(scores['test_accuracy']))\n",
    "    print('   Mean Time per Split: ',np.mean(scores['fit_time'])+np.mean(scores['score_time']))\n",
    "    print(' ')"
   ]
  },
  {
   "cell_type": "markdown",
   "metadata": {},
   "source": [
    "Looking at this information we are aiming for the best precision in our models as we want the best possible number of positive results while limiting false positives. So from this we would look at building a forest with 64 trees. This is also nice because it is the least time consuming. Next we will use this to run a loop to fine the optimal max_depth. This is the metric that determines the overall size of each individual tree by limiting the number of levels it can break down the data into. We will be looking at four levels in this loop, 5,20,100, and no limit(none)"
   ]
  },
  {
   "cell_type": "code",
   "execution_count": 71,
   "metadata": {},
   "outputs": [
    {
     "name": "stdout",
     "output_type": "stream",
     "text": [
      "When Depth = 5\n",
      "   Mean Precision:  0.17467725859958705\n",
      "   Mean AUC:  0.780821922374406\n",
      "   Mean Accuracy:  0.7065585005960213\n",
      "   Mean Time per Split:  1.4545721054077148\n",
      " \n",
      "When Depth = 20\n",
      "   Mean Precision:  0.23955061476791545\n",
      "   Mean AUC:  0.7584604312431527\n",
      "   Mean Accuracy:  0.8651397376034794\n",
      "   Mean Time per Split:  3.808790111541748\n",
      " \n",
      "When Depth = 100\n",
      "   Mean Precision:  0.42608117018594954\n",
      "   Mean AUC:  0.7465687263422632\n",
      "   Mean Accuracy:  0.9192173742447803\n",
      "   Mean Time per Split:  4.355546355247498\n",
      " \n",
      "When Depth = None\n",
      "   Mean Precision:  0.42608117018594954\n",
      "   Mean AUC:  0.7465687263422632\n",
      "   Mean Accuracy:  0.9192173742447803\n",
      "   Mean Time per Split:  4.9744320631027215\n",
      " \n"
     ]
    }
   ],
   "source": [
    "depth = [5,20,100,None]\n",
    "for x in depth:\n",
    "    # define the pipeline\n",
    "    steps = list()\n",
    "    steps.append(('scaler', StandardScaler()))\n",
    "    steps.append(('model', RandomForestClassifier(max_depth = x, n_estimators = 64, random_state = 0, class_weight = 'balanced')))\n",
    "    pipeline = Pipeline(steps=steps)\n",
    "\n",
    "\n",
    "    #Modeling with pipeline and scoring with cross_validate()\n",
    "    scores = cross_validate(pipeline, runs_data, runs_target, scoring=['roc_auc','accuracy','precision'],\n",
    "                             cv=cv, return_train_score=False)\n",
    "    print('When Depth =',x)\n",
    "    print('   Mean Precision: ',np.mean(scores['test_precision']))\n",
    "    print('   Mean AUC: ',np.mean(scores['test_roc_auc']))\n",
    "    print('   Mean Accuracy: ',np.mean(scores['test_accuracy']))\n",
    "    print('   Mean Time per Split: ',np.mean(scores['fit_time'])+np.mean(scores['score_time']))\n",
    "    print(' ')"
   ]
  },
  {
   "cell_type": "markdown",
   "metadata": {},
   "source": [
    "After assessing these results we wanted to take a look at feature importance on the selected model above. The reason for this is we want to try to eliminate noise variables. This has a secondary side effect with random forests of letting them run faster since the number of features is reduces. There were two ways we went about doing this for random forest. The first was a manual look at the feature importance, and selecting what we deemed to be the most important. The second way was to use recursive feature elimination with cross-validation to look at removing variables. "
   ]
  },
  {
   "cell_type": "code",
   "execution_count": 72,
   "metadata": {},
   "outputs": [],
   "source": [
    "#model for feature elimination\n",
    "clf_rf = RandomForestClassifier(max_depth = 100, n_estimators = 64, random_state = 0, class_weight = 'balanced')\n",
    "clf_rf.fit(X_train,Y_train.values.ravel())\n",
    "yhat = clf_rf.predict(X_test)\n",
    "prec = mt.precision_score(Y_test,yhat)\n",
    "auc = roc_auc_score(Y_test,yhat)"
   ]
  },
  {
   "cell_type": "code",
   "execution_count": 73,
   "metadata": {},
   "outputs": [
    {
     "data": {
      "image/png": "[encoded data removed]",
      "text/plain": [
       "<Figure size 720x504 with 1 Axes>"
      ]
     },
     "metadata": {
      "needs_background": "light"
     },
     "output_type": "display_data"
    }
   ],
   "source": [
    "features = list(runs_data.columns.values)\n",
    "\n",
    "\n",
    "from sklearn.inspection import permutation_importance\n",
    "\n",
    "imps = permutation_importance(clf_rf, X_test, Y_test)\n",
    "importances = imps.importances_mean\n",
    "std = imps.importances_std\n",
    "indices = np.argsort(importances)[::-1]\n",
    "\n",
    "# Print the feature ranking\n",
    "\n",
    "featureorder = []\n",
    "for f in range(X_test.shape[1]):\n",
    "    featureorder.append(features[indices[f]])\n",
    "\n",
    "plt.figure(figsize=(10, 7))\n",
    "plt.title(\"Feature importances\")\n",
    "plt.bar(range(X_test.shape[1]), importances[indices], color=\"r\", yerr=std[indices], align=\"center\")\n",
    "plt.xticks(range(X_test.shape[1]), [features[indices[i]] for i in range(33)],rotation = 90)\n",
    "plt.xlim([-1, X_test.shape[1]])\n",
    "plt.show()"
   ]
  },
  {
   "cell_type": "markdown",
   "metadata": {},
   "source": [
    "Just by looking at this graph we can make some simple eliminations of features that did not help in this model. Likely we would want to keep the first three factors and the last 15 factors in the model and eliminate the rest. This has been done in the data below."
   ]
  },
  {
   "cell_type": "code",
   "execution_count": 77,
   "metadata": {},
   "outputs": [],
   "source": [
    "optfeatures = featureorder[:4]\n",
    "optfeatures2 = featureorder[-8:]\n",
    "optfeatures = optfeatures + optfeatures2\n",
    "dataopt = runs_data[optfeatures]"
   ]
  },
  {
   "cell_type": "code",
   "execution_count": 75,
   "metadata": {},
   "outputs": [
    {
     "name": "stdout",
     "output_type": "stream",
     "text": [
      "Optimal number of features : 16\n"
     ]
    },
    {
     "data": {
      "image/png": "[encoded data removed]",
      "text/plain": [
       "<Figure size 432x288 with 1 Axes>"
      ]
     },
     "metadata": {
      "needs_background": "light"
     },
     "output_type": "display_data"
    },
    {
     "name": "stdout",
     "output_type": "stream",
     "text": [
      "Column: 0, Selected True, Rank: 1.000\n",
      "Column: 1, Selected True, Rank: 1.000\n",
      "Column: 2, Selected True, Rank: 1.000\n",
      "Column: 3, Selected True, Rank: 1.000\n",
      "Column: 4, Selected True, Rank: 1.000\n",
      "Column: 5, Selected True, Rank: 1.000\n",
      "Column: 6, Selected True, Rank: 1.000\n",
      "Column: 7, Selected True, Rank: 1.000\n",
      "Column: 8, Selected False, Rank: 8.000\n",
      "Column: 9, Selected True, Rank: 1.000\n",
      "Column: 10, Selected False, Rank: 15.000\n",
      "Column: 11, Selected False, Rank: 10.000\n",
      "Column: 12, Selected True, Rank: 1.000\n",
      "Column: 13, Selected True, Rank: 1.000\n",
      "Column: 14, Selected False, Rank: 5.000\n",
      "Column: 15, Selected False, Rank: 16.000\n",
      "Column: 16, Selected True, Rank: 1.000\n",
      "Column: 17, Selected False, Rank: 12.000\n",
      "Column: 18, Selected False, Rank: 9.000\n",
      "Column: 19, Selected True, Rank: 1.000\n",
      "Column: 20, Selected False, Rank: 3.000\n",
      "Column: 21, Selected False, Rank: 18.000\n",
      "Column: 22, Selected True, Rank: 1.000\n",
      "Column: 23, Selected False, Rank: 11.000\n",
      "Column: 24, Selected True, Rank: 1.000\n",
      "Column: 25, Selected False, Rank: 4.000\n",
      "Column: 26, Selected False, Rank: 17.000\n",
      "Column: 27, Selected True, Rank: 1.000\n",
      "Column: 28, Selected False, Rank: 13.000\n",
      "Column: 29, Selected False, Rank: 2.000\n",
      "Column: 30, Selected False, Rank: 6.000\n",
      "Column: 31, Selected False, Rank: 7.000\n",
      "Column: 32, Selected False, Rank: 14.000\n"
     ]
    }
   ],
   "source": [
    "#Recursive Feature Elimination\n",
    "min_features_to_select = 1  # Minimum number of features to consider\n",
    "rfecv = RFECV(estimator=clf_rf, step=1, cv=StratifiedKFold(2),\n",
    "              scoring='precision',\n",
    "              min_features_to_select=min_features_to_select)\n",
    "rfecv.fit(X_train, Y_train)\n",
    "\n",
    "print(\"Optimal number of features : %d\" % rfecv.n_features_)\n",
    "\n",
    "# Plot number of features VS. cross-validation scores\n",
    "plt.figure()\n",
    "plt.xlabel(\"Number of features selected\")\n",
    "plt.ylabel(\"Cross validation score (precision)\")\n",
    "plt.plot(range(min_features_to_select,\n",
    "               len(rfecv.grid_scores_) + min_features_to_select),\n",
    "         rfecv.grid_scores_)\n",
    "plt.show()\n",
    "for i in range(X_train.shape[1]):\n",
    "    print('Column: %d, Selected %s, Rank: %.3f' % (i, rfecv.support_[i], rfecv.ranking_[i]))"
   ]
  },
  {
   "cell_type": "code",
   "execution_count": 78,
   "metadata": {},
   "outputs": [],
   "source": [
    "#dropping features from dataset not selected by recursive feature elimination\n",
    "dataopt2 = runs_data.drop(runs_data.columns[[8,10,11,14,15,17,18,20,21,23,25,26,28,29,30,31,32]],axis = 1)"
   ]
  },
  {
   "cell_type": "markdown",
   "metadata": {},
   "source": [
    "After building out these new datasets we decided to run the same crossvalidated pieces against them. You can see the results of these below. The first two loops are run on the manually optimized data."
   ]
  },
  {
   "cell_type": "code",
   "execution_count": 79,
   "metadata": {},
   "outputs": [
    {
     "name": "stdout",
     "output_type": "stream",
     "text": [
      "When Trees = 64\n",
      "   Mean Precision:  0.1758097910737143\n",
      "   Mean AUC:  0.783398476001815\n",
      "   Mean Accuracy:  0.7077924498757245\n",
      "   Mean Time per Split:  1.5800112724304198\n",
      " \n",
      "When Trees = 75\n",
      "   Mean Precision:  0.17611779170585584\n",
      "   Mean AUC:  0.783448719953382\n",
      "   Mean Accuracy:  0.7090263753773464\n",
      "   Mean Time per Split:  1.8281825304031374\n",
      " \n",
      "When Trees = 100\n",
      "   Mean Precision:  0.17567116222382367\n",
      "   Mean AUC:  0.7834381857557153\n",
      "   Mean Accuracy:  0.7079687659362685\n",
      "   Mean Time per Split:  2.322059845924377\n",
      " \n",
      "When Trees = 128\n",
      "   Mean Precision:  0.17585731238871075\n",
      "   Mean AUC:  0.7837353569443\n",
      "   Mean Accuracy:  0.7084975793754373\n",
      "   Mean Time per Split:  3.073496460914612\n",
      " \n"
     ]
    }
   ],
   "source": [
    "trees = [64,75,100,128]\n",
    "for x in trees:\n",
    "    # define the pipeline\n",
    "    steps = list()\n",
    "    steps.append(('scaler', StandardScaler()))\n",
    "    steps.append(('model', RandomForestClassifier(max_depth = 5, n_estimators = x, random_state = 0, class_weight = 'balanced')))\n",
    "    pipeline = Pipeline(steps=steps)\n",
    "\n",
    "\n",
    "    #Modeling with pipeline and scoring with cross_validate()\n",
    "    scores = cross_validate(pipeline, dataopt, runs_target, scoring=['roc_auc','accuracy','precision'],\n",
    "                             cv=cv, return_train_score=False)\n",
    "    print('When Trees =',x)\n",
    "    print('   Mean Precision: ',np.mean(scores['test_precision']))\n",
    "    print('   Mean AUC: ',np.mean(scores['test_roc_auc']))\n",
    "    print('   Mean Accuracy: ',np.mean(scores['test_accuracy']))\n",
    "    print('   Mean Time per Split: ',np.mean(scores['fit_time'])+np.mean(scores['score_time']))\n",
    "    print(' ')"
   ]
  },
  {
   "cell_type": "markdown",
   "metadata": {},
   "source": [
    "With the set of manually optimized data we see that 75 trees has the greatest precision. We are also seeing increased scores for AUC and Precision. There is a jump here from .78 to .783 and .1746 to .1761 respectively. The model, however, does take slightly longer to run with the larger forest size, but not substantially longer."
   ]
  },
  {
   "cell_type": "code",
   "execution_count": 81,
   "metadata": {},
   "outputs": [
    {
     "name": "stdout",
     "output_type": "stream",
     "text": [
      "When Depth = 5\n",
      "   Mean Precision:  0.17611779170585584\n",
      "   Mean AUC:  0.783448719953382\n",
      "   Mean Accuracy:  0.7090263753773464\n",
      "   Mean Time per Split:  1.732539916038513\n",
      " \n",
      "When Depth = 20\n",
      "   Mean Precision:  0.26616551214895645\n",
      "   Mean AUC:  0.7557128776482048\n",
      "   Mean Accuracy:  0.892147034906509\n",
      "   Mean Time per Split:  4.3200315713882445\n",
      " \n",
      "When Depth = 100\n",
      "   Mean Precision:  0.4060188111394236\n",
      "   Mean AUC:  0.7508230668730496\n",
      "   Mean Accuracy:  0.9189529556361551\n",
      "   Mean Time per Split:  5.1543001413345335\n",
      " \n",
      "When Depth = None\n",
      "   Mean Precision:  0.4060188111394236\n",
      "   Mean AUC:  0.7508230668730496\n",
      "   Mean Accuracy:  0.9189529556361551\n",
      "   Mean Time per Split:  5.018253779411316\n",
      " \n"
     ]
    }
   ],
   "source": [
    "depth = [5,20,100,None]\n",
    "for x in depth:\n",
    "    # define the pipeline\n",
    "    steps = list()\n",
    "    steps.append(('scaler', StandardScaler()))\n",
    "    steps.append(('model', RandomForestClassifier(max_depth = x, n_estimators = 75, random_state = 0, class_weight = 'balanced')))\n",
    "    pipeline = Pipeline(steps=steps)\n",
    "\n",
    "\n",
    "    #Modeling with pipeline and scoring with cross_validate()\n",
    "    scores = cross_validate(pipeline, dataopt, runs_target, scoring=['roc_auc','accuracy','precision'],\n",
    "                             cv=cv, return_train_score=False)\n",
    "    print('When Depth =',x)\n",
    "    print('   Mean Precision: ',np.mean(scores['test_precision']))\n",
    "    print('   Mean AUC: ',np.mean(scores['test_roc_auc']))\n",
    "    print('   Mean Accuracy: ',np.mean(scores['test_accuracy']))\n",
    "    print('   Mean Time per Split: ',np.mean(scores['fit_time'])+np.mean(scores['score_time']))\n",
    "    print(' ')"
   ]
  },
  {
   "cell_type": "markdown",
   "metadata": {},
   "source": [
    "Looking at the results from max_depth, we would want to select a depth max of 100 like in the last model. This is because the difference between precision and AUC is none existant between limiting depth to 100 and no limit. So the runtime benefit here is the deciding factor. Next we will run this again but with the recursive feature elimination dataset to see if there is a difference between the two."
   ]
  },
  {
   "cell_type": "code",
   "execution_count": 83,
   "metadata": {},
   "outputs": [
    {
     "name": "stdout",
     "output_type": "stream",
     "text": [
      "When Trees = 64\n",
      "   Mean Precision:  0.17818365013180376\n",
      "   Mean AUC:  0.7839378552277954\n",
      "   Mean Accuracy:  0.7148433105265599\n",
      "   Mean Time per Split:  1.5970170497894287\n",
      " \n",
      "When Trees = 75\n",
      "   Mean Precision:  0.17802669301728252\n",
      "   Mean AUC:  0.7841925115820395\n",
      "   Mean Accuracy:  0.7138485988670283\n",
      "   Mean Time per Split:  1.827493453025818\n",
      " \n",
      "When Trees = 100\n",
      "   Mean Precision:  0.1777267810965153\n",
      "   Mean AUC:  0.7842207098513511\n",
      "   Mean Accuracy:  0.7131435248495062\n",
      "   Mean Time per Split:  2.468343734741211\n",
      " \n",
      "When Trees = 128\n",
      "   Mean Precision:  0.17707542681600605\n",
      "   Mean AUC:  0.7840487761499694\n",
      "   Mean Accuracy:  0.7114562860735295\n",
      "   Mean Time per Split:  3.1764941215515137\n",
      " \n"
     ]
    }
   ],
   "source": [
    "trees = [64,75,100,128]\n",
    "for x in trees:\n",
    "    # define the pipeline\n",
    "    steps = list()\n",
    "    steps.append(('scaler', StandardScaler()))\n",
    "    steps.append(('model', RandomForestClassifier(max_depth = 5, n_estimators = x, random_state = 0, class_weight = 'balanced')))\n",
    "    pipeline = Pipeline(steps=steps)\n",
    "\n",
    "\n",
    "    #Modeling with pipeline and scoring with cross_validate()\n",
    "    scores = cross_validate(pipeline, dataopt2, runs_target, scoring=['roc_auc','accuracy','precision'],\n",
    "                             cv=cv, return_train_score=False)\n",
    "    print('When Trees =',x)\n",
    "    print('   Mean Precision: ',np.mean(scores['test_precision']))\n",
    "    print('   Mean AUC: ',np.mean(scores['test_roc_auc']))\n",
    "    print('   Mean Accuracy: ',np.mean(scores['test_accuracy']))\n",
    "    print('   Mean Time per Split: ',np.mean(scores['fit_time'])+np.mean(scores['score_time']))\n",
    "    print(' ')"
   ]
  },
  {
   "cell_type": "markdown",
   "metadata": {},
   "source": [
    "Just based on this first run. It doesnt look like the recursive feature elimination will beat out the manual feature selection but for the sake of being thorough we went ahead and ran the loop to look at depth with a forest size of 75 trees."
   ]
  },
  {
   "cell_type": "code",
   "execution_count": 84,
   "metadata": {},
   "outputs": [
    {
     "name": "stdout",
     "output_type": "stream",
     "text": [
      "When Depth = 5\n",
      "   Mean Precision:  0.17802669301728252\n",
      "   Mean AUC:  0.7841925115820395\n",
      "   Mean Accuracy:  0.7138485988670283\n",
      "   Mean Time per Split:  1.8177109718322753\n",
      " \n",
      "When Depth = 20\n",
      "   Mean Precision:  0.2590993538917059\n",
      "   Mean AUC:  0.7568689368033014\n",
      "   Mean Accuracy:  0.8906109803439914\n",
      "   Mean Time per Split:  4.661202883720398\n",
      " \n",
      "When Depth = 100\n",
      "   Mean Precision:  0.3967473581928388\n",
      "   Mean AUC:  0.7497596657184269\n",
      "   Mean Accuracy:  0.9188270617903254\n",
      "   Mean Time per Split:  6.072139310836793\n",
      " \n",
      "When Depth = None\n",
      "   Mean Precision:  0.3967473581928388\n",
      "   Mean AUC:  0.7497596657184269\n",
      "   Mean Accuracy:  0.9188270617903254\n",
      "   Mean Time per Split:  5.486609220504761\n",
      " \n"
     ]
    }
   ],
   "source": [
    "depth = [5,20,100,None]\n",
    "for x in depth:\n",
    "    # define the pipeline\n",
    "    steps = list()\n",
    "    steps.append(('scaler', StandardScaler()))\n",
    "    steps.append(('model', RandomForestClassifier(max_depth = x, n_estimators = 75, random_state = 0, class_weight = 'balanced')))\n",
    "    pipeline = Pipeline(steps=steps)\n",
    "\n",
    "\n",
    "    #Modeling with pipeline and scoring with cross_validate()\n",
    "    scores = cross_validate(pipeline, dataopt2, runs_target, scoring=['roc_auc','accuracy','precision'],\n",
    "                             cv=cv, return_train_score=False)\n",
    "    print('When Depth =',x)\n",
    "    print('   Mean Precision: ',np.mean(scores['test_precision']))\n",
    "    print('   Mean AUC: ',np.mean(scores['test_roc_auc']))\n",
    "    print('   Mean Accuracy: ',np.mean(scores['test_accuracy']))\n",
    "    print('   Mean Time per Split: ',np.mean(scores['fit_time'])+np.mean(scores['score_time']))\n",
    "    print(' ')"
   ]
  },
  {
   "cell_type": "markdown",
   "metadata": {},
   "source": [
    "This was interesting because neither optimized model seemed to beat the original. This could be that although those features were not super specific. They did help improve the model."
   ]
  },
  {
   "cell_type": "markdown",
   "metadata": {},
   "source": [
    "#### Task 2\n",
    "Now that we have a best model for the wins of task one we need to move to task two of trying to classify horses that place instead of just the winners from each race. In theory the statistics for these models should all be better due to the fact that the number of posible successes is higher proportionally."
   ]
  },
  {
   "cell_type": "code",
   "execution_count": 85,
   "metadata": {},
   "outputs": [
    {
     "name": "stdout",
     "output_type": "stream",
     "text": [
      "When Depth = 5\n",
      "   Mean Precision:  0.40870180960156566\n",
      "   Mean AUC:  0.7622224425916803\n",
      "   Mean Accuracy:  0.6821324281894801\n",
      "   Mean Time per Split:  1.8860125780105592\n",
      " \n",
      "When Depth = 20\n",
      "   Mean Precision:  0.45949700615833855\n",
      "   Mean AUC:  0.7541660103963151\n",
      "   Mean Accuracy:  0.7372926682060703\n",
      "   Mean Time per Split:  4.696044659614563\n",
      " \n",
      "When Depth = 100\n",
      "   Mean Precision:  0.5595555919531701\n",
      "   Mean AUC:  0.7427889571350537\n",
      "   Mean Accuracy:  0.7718545220188682\n",
      "   Mean Time per Split:  5.233129453659058\n",
      " \n",
      "When Depth = None\n",
      "   Mean Precision:  0.5595555919531701\n",
      "   Mean AUC:  0.7427889571350537\n",
      "   Mean Accuracy:  0.7718545220188682\n",
      "   Mean Time per Split:  5.438700747489929\n",
      " \n"
     ]
    }
   ],
   "source": [
    "depth = [5,20,100,None]\n",
    "for x in depth:\n",
    "    # define the pipeline\n",
    "    steps = list()\n",
    "    steps.append(('scaler', StandardScaler()))\n",
    "    steps.append(('model', RandomForestClassifier(max_depth = x, n_estimators = 64, random_state = 0, class_weight = 'balanced')))\n",
    "    pipeline = Pipeline(steps=steps)\n",
    "\n",
    "    #Modeling with pipeline and scoring with cross_validate()\n",
    "    scores = cross_validate(pipeline, runs_data, runs_target2, scoring=['roc_auc','accuracy','precision'],\n",
    "                             cv=cv, return_train_score=False)\n",
    "    print('When Depth =',x)\n",
    "    print('   Mean Precision: ',np.mean(scores['test_precision']))\n",
    "    print('   Mean AUC: ',np.mean(scores['test_roc_auc']))\n",
    "    print('   Mean Accuracy: ',np.mean(scores['test_accuracy']))\n",
    "    print('   Mean Time per Split: ',np.mean(scores['fit_time'])+np.mean(scores['score_time']))\n",
    "    print(' ')"
   ]
  },
  {
   "cell_type": "markdown",
   "metadata": {},
   "source": [
    "In this first run of the data running a with no max depth interestingly seems to be comparable statistics wise with running a model with max depth 100, and strangly it ran faster than the max depth 100. So we will now run the loop again to tune forest size using this max depth."
   ]
  },
  {
   "cell_type": "code",
   "execution_count": 86,
   "metadata": {},
   "outputs": [
    {
     "name": "stdout",
     "output_type": "stream",
     "text": [
      "When Trees = 64\n",
      "   Mean Precision:  0.5595555919531701\n",
      "   Mean AUC:  0.7427889571350537\n",
      "   Mean Accuracy:  0.7718545220188682\n",
      "   Mean Time per Split:  5.329359841346741\n",
      " \n",
      "When Trees = 75\n",
      "   Mean Precision:  0.5607955899178955\n",
      "   Mean AUC:  0.7446937900343651\n",
      "   Mean Accuracy:  0.7725973429483864\n",
      "   Mean Time per Split:  6.253872179985046\n",
      " \n",
      "When Trees = 100\n",
      "   Mean Precision:  0.5642692866056147\n",
      "   Mean AUC:  0.7466689097067758\n",
      "   Mean Accuracy:  0.7727736114527669\n",
      "   Mean Time per Split:  8.445021200180053\n",
      " \n",
      "When Trees = 128\n",
      "   Mean Precision:  0.5684358401361236\n",
      "   Mean AUC:  0.7479804689244578\n",
      "   Mean Accuracy:  0.7736045729752972\n",
      "   Mean Time per Split:  10.367571496963501\n",
      " \n"
     ]
    }
   ],
   "source": [
    "trees = [64,75,100,128]\n",
    "for x in trees:\n",
    "    # define the pipeline\n",
    "    steps = list()\n",
    "    steps.append(('scaler', StandardScaler()))\n",
    "    steps.append(('model', RandomForestClassifier(max_depth = None, n_estimators = x, random_state = 0, class_weight = 'balanced')))\n",
    "    pipeline = Pipeline(steps=steps)\n",
    "\n",
    "    #Modeling with pipeline and scoring with cross_validate()\n",
    "    scores = cross_validate(pipeline, runs_data, runs_target2, scoring=['roc_auc','accuracy','precision'],\n",
    "                             cv=cv, return_train_score=False)\n",
    "    print('When Trees =',x)\n",
    "    print('   Mean Precision: ',np.mean(scores['test_precision']))\n",
    "    print('   Mean AUC: ',np.mean(scores['test_roc_auc']))\n",
    "    print('   Mean Accuracy: ',np.mean(scores['test_accuracy']))\n",
    "    print('   Mean Time per Split: ',np.mean(scores['fit_time'])+np.mean(scores['score_time']))\n",
    "    print(' ')"
   ]
  },
  {
   "cell_type": "markdown",
   "metadata": {},
   "source": [
    "After running the second loop our best metrics can be found with a forest size of 128 trees. Now that we have these base statistics. We will want to again optimize the data set using RFE. We decided not to attempt to beat the machine this time and instead utilize RFE to expidite model build."
   ]
  },
  {
   "cell_type": "code",
   "execution_count": 95,
   "metadata": {},
   "outputs": [],
   "source": [
    "clf_rf = RandomForestClassifier(max_depth = 100, n_estimators = 128, random_state = 0, class_weight = 'balanced')\n",
    "clf_rf.fit(X_train_place,Y_train_place.values.ravel())\n",
    "yhat = clf_rf.predict(X_test_place)\n",
    "prec = mt.precision_score(Y_test_place,yhat)\n",
    "auc = roc_auc_score(Y_test_place,yhat)"
   ]
  },
  {
   "cell_type": "code",
   "execution_count": 96,
   "metadata": {},
   "outputs": [
    {
     "name": "stdout",
     "output_type": "stream",
     "text": [
      "Optimal number of features : 30\n"
     ]
    },
    {
     "data": {
      "image/png": "[encoded data removed]",
      "text/plain": [
       "<Figure size 432x288 with 1 Axes>"
      ]
     },
     "metadata": {
      "needs_background": "light"
     },
     "output_type": "display_data"
    },
    {
     "name": "stdout",
     "output_type": "stream",
     "text": [
      "Column: 0, Selected True, Rank: 1.000\n",
      "Column: 1, Selected True, Rank: 1.000\n",
      "Column: 2, Selected True, Rank: 1.000\n",
      "Column: 3, Selected True, Rank: 1.000\n",
      "Column: 4, Selected True, Rank: 1.000\n",
      "Column: 5, Selected True, Rank: 1.000\n",
      "Column: 6, Selected True, Rank: 1.000\n",
      "Column: 7, Selected True, Rank: 1.000\n",
      "Column: 8, Selected True, Rank: 1.000\n",
      "Column: 9, Selected True, Rank: 1.000\n",
      "Column: 10, Selected False, Rank: 3.000\n",
      "Column: 11, Selected True, Rank: 1.000\n",
      "Column: 12, Selected True, Rank: 1.000\n",
      "Column: 13, Selected True, Rank: 1.000\n",
      "Column: 14, Selected True, Rank: 1.000\n",
      "Column: 15, Selected True, Rank: 1.000\n",
      "Column: 16, Selected True, Rank: 1.000\n",
      "Column: 17, Selected True, Rank: 1.000\n",
      "Column: 18, Selected True, Rank: 1.000\n",
      "Column: 19, Selected True, Rank: 1.000\n",
      "Column: 20, Selected True, Rank: 1.000\n",
      "Column: 21, Selected False, Rank: 4.000\n",
      "Column: 22, Selected True, Rank: 1.000\n",
      "Column: 23, Selected False, Rank: 2.000\n",
      "Column: 24, Selected True, Rank: 1.000\n",
      "Column: 25, Selected True, Rank: 1.000\n",
      "Column: 26, Selected True, Rank: 1.000\n",
      "Column: 27, Selected True, Rank: 1.000\n",
      "Column: 28, Selected True, Rank: 1.000\n",
      "Column: 29, Selected True, Rank: 1.000\n",
      "Column: 30, Selected True, Rank: 1.000\n",
      "Column: 31, Selected True, Rank: 1.000\n",
      "Column: 32, Selected True, Rank: 1.000\n"
     ]
    }
   ],
   "source": [
    "#Recursive Feature Elimination\n",
    "min_features_to_select = 1  # Minimum number of features to consider\n",
    "rfecv = RFECV(estimator=clf_rf, step=1, cv=StratifiedKFold(2),\n",
    "              scoring='precision',\n",
    "              min_features_to_select=min_features_to_select)\n",
    "rfecv.fit(X_train_place, Y_train_place)\n",
    "\n",
    "print(\"Optimal number of features : %d\" % rfecv.n_features_)\n",
    "\n",
    "# Plot number of features VS. cross-validation scores\n",
    "plt.figure()\n",
    "plt.xlabel(\"Number of features selected\")\n",
    "plt.ylabel(\"Cross validation score (precision)\")\n",
    "plt.plot(range(min_features_to_select,\n",
    "               len(rfecv.grid_scores_) + min_features_to_select),\n",
    "         rfecv.grid_scores_)\n",
    "plt.show()\n",
    "for i in range(X_train.shape[1]):\n",
    "    print('Column: %d, Selected %s, Rank: %.3f' % (i, rfecv.support_[i], rfecv.ranking_[i]))"
   ]
  },
  {
   "cell_type": "code",
   "execution_count": 98,
   "metadata": {},
   "outputs": [],
   "source": [
    "#dropping features from dataset not selected by recursive feature elimination\n",
    "dataopt3 = runs_data.drop(runs_data.columns[[10,21,23]],axis = 1)\n"
   ]
  },
  {
   "cell_type": "markdown",
   "metadata": {},
   "source": [
    "With this data set because the number of possible successes goes up, it is not surprising that a smaller number of features is needed to predict this success. We see all the same features eliminated that were eliminated when predicting a winner, but more are added to the list as they are less important in predicting a top 3 placing. Now that we have the optimized dataset for place. We will run the loops again to look for improved performace of both metrics and speed."
   ]
  },
  {
   "cell_type": "code",
   "execution_count": 99,
   "metadata": {},
   "outputs": [
    {
     "name": "stdout",
     "output_type": "stream",
     "text": [
      "When Depth = 5\n",
      "   Mean Precision:  0.4045344331760486\n",
      "   Mean AUC:  0.7631313461133714\n",
      "   Mean Accuracy:  0.6766949952785647\n",
      "   Mean Time per Split:  1.3572842836380006\n",
      " \n",
      "When Depth = 20\n",
      "   Mean Precision:  0.4638249739956651\n",
      "   Mean AUC:  0.7544237938050515\n",
      "   Mean Accuracy:  0.7402958766131571\n",
      "   Mean Time per Split:  4.083970785140991\n",
      " \n",
      "When Depth = 100\n",
      "   Mean Precision:  0.5634452494334161\n",
      "   Mean AUC:  0.745262453602539\n",
      "   Mean Accuracy:  0.7728548945546112\n",
      "   Mean Time per Split:  4.842991328239441\n",
      " \n",
      "When Depth = None\n",
      "   Mean Precision:  0.5634452494334161\n",
      "   Mean AUC:  0.745262453602539\n",
      "   Mean Accuracy:  0.7728548945546112\n",
      "   Mean Time per Split:  4.824368500709533\n",
      " \n"
     ]
    }
   ],
   "source": [
    "depth = [5,20,100,None]\n",
    "for x in depth:\n",
    "    # define the pipeline\n",
    "    steps = list()\n",
    "    steps.append(('scaler', StandardScaler()))\n",
    "    steps.append(('model', RandomForestClassifier(max_depth = x, n_estimators = 64, random_state = 0, class_weight = 'balanced')))\n",
    "    pipeline = Pipeline(steps=steps)\n",
    "\n",
    "    #Modeling with pipeline and scoring with cross_validate()\n",
    "    scores = cross_validate(pipeline, dataopt3, runs_target2, scoring=['roc_auc','accuracy','precision'],\n",
    "                             cv=cv, return_train_score=False)\n",
    "    print('When Depth =',x)\n",
    "    print('   Mean Precision: ',np.mean(scores['test_precision']))\n",
    "    print('   Mean AUC: ',np.mean(scores['test_roc_auc']))\n",
    "    print('   Mean Accuracy: ',np.mean(scores['test_accuracy']))\n",
    "    print('   Mean Time per Split: ',np.mean(scores['fit_time'])+np.mean(scores['score_time']))\n",
    "    print(' ')"
   ]
  },
  {
   "cell_type": "markdown",
   "metadata": {},
   "source": [
    "It is interesting looking at this data where the depth 5 statistics beat the original non-optimized model, however as depth increased. The optimized model didnt seem to keep pace with the original model.  This might be a similar situation to the last attempt at optimization though where the final model did manage to beat out the original model. From this we will use max depth 100 to try to optimize our final model. "
   ]
  },
  {
   "cell_type": "code",
   "execution_count": 100,
   "metadata": {},
   "outputs": [
    {
     "name": "stdout",
     "output_type": "stream",
     "text": [
      "When Trees = 64\n",
      "   Mean Precision:  0.5634452494334161\n",
      "   Mean AUC:  0.745262453602539\n",
      "   Mean Accuracy:  0.7728548945546112\n",
      "   Mean Time per Split:  4.9337214708328245\n",
      " \n",
      "When Trees = 75\n",
      "   Mean Precision:  0.5614956206146656\n",
      "   Mean AUC:  0.7462119472169518\n",
      "   Mean Accuracy:  0.7729430280138494\n",
      "   Mean Time per Split:  6.322962212562561\n",
      " \n",
      "When Trees = 100\n",
      "   Mean Precision:  0.5656904468786108\n",
      "   Mean AUC:  0.7479098472805097\n",
      "   Mean Accuracy:  0.773245199874095\n",
      "   Mean Time per Split:  7.9841038465499885\n",
      " \n",
      "When Trees = 128\n",
      "   Mean Precision:  0.5682808927859784\n",
      "   Mean AUC:  0.7492708546778599\n",
      "   Mean Accuracy:  0.773736229146994\n",
      "   Mean Time per Split:  10.447478199005127\n",
      " \n"
     ]
    }
   ],
   "source": [
    "trees = [64,75,100,128]\n",
    "for x in trees:\n",
    "    # define the pipeline\n",
    "    steps = list()\n",
    "    steps.append(('scaler', StandardScaler()))\n",
    "    steps.append(('model', RandomForestClassifier(max_depth = 100, n_estimators = x, random_state = 0, class_weight = 'balanced')))\n",
    "    pipeline = Pipeline(steps=steps)\n",
    "\n",
    "    #Modeling with pipeline and scoring with cross_validate()\n",
    "    scores = cross_validate(pipeline, dataopt3, runs_target2, scoring=['roc_auc','accuracy','precision'],\n",
    "                             cv=cv, return_train_score=False)\n",
    "    print('When Trees =',x)\n",
    "    print('   Mean Precision: ',np.mean(scores['test_precision']))\n",
    "    print('   Mean AUC: ',np.mean(scores['test_roc_auc']))\n",
    "    print('   Mean Accuracy: ',np.mean(scores['test_accuracy']))\n",
    "    print('   Mean Time per Split: ',np.mean(scores['fit_time'])+np.mean(scores['score_time']))\n",
    "    print(' ')"
   ]
  },
  {
   "cell_type": "markdown",
   "metadata": {},
   "source": [
    "Interestingly the optimized model here did perform better than the full model. This could be because the algorithm for it is trying to balance bias and variability and last time the metrics just didn't increase the precision, but may have made it more adaptable to another data set. However, just based on metrics alone, the optimized model should be deployed in this case. To compare these to the other types of models we are going to use AUC as it is an easy statistical measure of the predictive power of each model. "
   ]
  },
  {
   "cell_type": "markdown",
   "metadata": {},
   "source": [
    "#### Model to predict Won"
   ]
  },
  {
   "cell_type": "code",
   "execution_count": 101,
   "metadata": {},
   "outputs": [
    {
     "name": "stdout",
     "output_type": "stream",
     "text": [
      "When Trees = 128\n",
      "   Mean Precision:  0.5682808927859784\n",
      "   Mean AUC:  0.7492708546778599\n",
      "   Mean Accuracy:  0.773736229146994\n",
      "   Mean Time per Split:  10.447478199005127\n",
      " \n"
     ]
    },
    {
     "data": {
      "text/plain": [
       "<sklearn.metrics._plot.confusion_matrix.ConfusionMatrixDisplay at 0x19b03cd5e20>"
      ]
     },
     "execution_count": 101,
     "metadata": {},
     "output_type": "execute_result"
    },
    {
     "data": {
      "image/png": "[encoded data removed]",
      "text/plain": [
       "<Figure size 432x288 with 2 Axes>"
      ]
     },
     "metadata": {
      "needs_background": "light"
     },
     "output_type": "display_data"
    }
   ],
   "source": [
    "clf_rfw = RandomForestClassifier(max_depth = 100, n_estimators = 64, random_state = 0, class_weight = 'balanced')\n",
    "clf_rfw.fit(X_train,Y_train.values.ravel())\n",
    "yhat = clf_rfw.predict(X_test)\n",
    "prec = mt.precision_score(Y_test,yhat)\n",
    "auc = roc_auc_score(Y_test,yhat)\n",
    "print('When Trees =',x)\n",
    "print('   Mean Precision: ',np.mean(scores['test_precision']))\n",
    "print('   Mean AUC: ',np.mean(scores['test_roc_auc']))\n",
    "print('   Mean Accuracy: ',np.mean(scores['test_accuracy']))\n",
    "print('   Mean Time per Split: ',np.mean(scores['fit_time'])+np.mean(scores['score_time']))\n",
    "print(' ')\n",
    "plot_confusion_matrix(clf_rfw, X_test, Y_test)"
   ]
  },
  {
   "cell_type": "markdown",
   "metadata": {},
   "source": [
    "#### Model to predict Show"
   ]
  },
  {
   "cell_type": "code",
   "execution_count": 104,
   "metadata": {},
   "outputs": [
    {
     "name": "stdout",
     "output_type": "stream",
     "text": [
      "When Trees = 128\n",
      "   Mean Precision:  0.5682808927859784\n",
      "   Mean AUC:  0.7492708546778599\n",
      "   Mean Accuracy:  0.773736229146994\n",
      "   Mean Time per Split:  10.447478199005127\n",
      " \n"
     ]
    },
    {
     "data": {
      "text/plain": [
       "<sklearn.metrics._plot.confusion_matrix.ConfusionMatrixDisplay at 0x19b0946fb20>"
      ]
     },
     "execution_count": 104,
     "metadata": {},
     "output_type": "execute_result"
    },
    {
     "data": {
      "image/png": "[encoded data removed]",
      "text/plain": [
       "<Figure size 432x288 with 2 Axes>"
      ]
     },
     "metadata": {
      "needs_background": "light"
     },
     "output_type": "display_data"
    }
   ],
   "source": [
    "#optimized set of data\n",
    "X_train_opt,X_test_opt,Y_train_opt,Y_test_opt = train_test_split(dataopt3,runs_target2,test_size=0.20,random_state=0)\n",
    "mmscl_obj = MinMaxScaler()\n",
    "X_train_place = mmscl_obj.fit_transform(X_train_opt,y = None)\n",
    "X_test_place = mmscl_obj.transform(X_test_opt)\n",
    "\n",
    "clf_rfp = RandomForestClassifier(max_depth = 100, n_estimators = 128, random_state = 0, class_weight = 'balanced')\n",
    "clf_rfp.fit(X_train_opt,Y_train_opt.values.ravel())\n",
    "yhat = clf_rfp.predict(X_test_opt)\n",
    "prec = mt.precision_score(Y_test_opt,yhat)\n",
    "auc = roc_auc_score(Y_test_opt,yhat)\n",
    "print('When Trees =',x)\n",
    "print('   Mean Precision: ',np.mean(scores['test_precision']))\n",
    "print('   Mean AUC: ',np.mean(scores['test_roc_auc']))\n",
    "print('   Mean Accuracy: ',np.mean(scores['test_accuracy']))\n",
    "print('   Mean Time per Split: ',np.mean(scores['fit_time'])+np.mean(scores['score_time']))\n",
    "print(' ')\n",
    "plot_confusion_matrix(clf_rfp, X_test_opt, Y_test_opt)"
   ]
  },
  {
   "cell_type": "markdown",
   "metadata": {},
   "source": [
    "### Sub-Section 5.1.4: Model 4 Logistic Regression"
   ]
  },
  {
   "cell_type": "markdown",
   "metadata": {},
   "source": [
    "#### Model to predict Won"
   ]
  },
  {
   "cell_type": "code",
   "execution_count": null,
   "metadata": {},
   "outputs": [],
   "source": []
  },
  {
   "cell_type": "markdown",
   "metadata": {},
   "source": [
    "#### Model to predict Show"
   ]
  },
  {
   "cell_type": "code",
   "execution_count": null,
   "metadata": {},
   "outputs": [],
   "source": []
  },
  {
   "cell_type": "markdown",
   "metadata": {},
   "source": [
    "## Section 6: Modeling and Evaluation 4"
   ]
  },
  {
   "cell_type": "markdown",
   "metadata": {},
   "source": [
    "\t• Modeling and Evaluation 4\n",
    "\t\t○ Analyze the results using your chosen method of evaluation. \n",
    "            - Use visualizations of the results to bolster the analysis. \n",
    "            - Explain any visuals and analyze why they are interesting to someone that might use this model."
   ]
  },
  {
   "cell_type": "markdown",
   "metadata": {},
   "source": [
    "### Sub-Section 6.1: Analyze the results using your chosen method of evaluation."
   ]
  },
  {
   "cell_type": "markdown",
   "metadata": {},
   "source": [
    "#### Models to Predict Won"
   ]
  },
  {
   "cell_type": "code",
   "execution_count": 122,
   "metadata": {},
   "outputs": [
    {
     "name": "stdout",
     "output_type": "stream",
     "text": [
      "When Trees = 13\n",
      "   Mean Precision:  0.5682808927859784\n",
      "   Mean AUC:  0.7492708546778599\n",
      "   Mean Accuracy:  0.773736229146994\n",
      "   Mean Time per Split:  10.447478199005127\n",
      " \n"
     ]
    },
    {
     "data": {
      "text/plain": [
       "<sklearn.metrics._plot.confusion_matrix.ConfusionMatrixDisplay at 0x19b022bbfa0>"
      ]
     },
     "execution_count": 122,
     "metadata": {},
     "output_type": "execute_result"
    },
    {
     "data": {
      "image/png": "[encoded data removed]",
      "text/plain": [
       "<Figure size 432x288 with 2 Axes>"
      ]
     },
     "metadata": {
      "needs_background": "light"
     },
     "output_type": "display_data"
    }
   ],
   "source": [
    "clf_rfw = RandomForestClassifier(max_depth = 100, n_estimators = 64, random_state = 0, class_weight = 'balanced')\n",
    "clf_rfw.fit(X_train,Y_train.values.ravel())\n",
    "yhatrfw = clf_rfw.predict(X_test)\n",
    "prec = mt.precision_score(Y_test,yhatrfw)\n",
    "auc = roc_auc_score(Y_test,yhatrfw)\n",
    "print('When Trees =',x)\n",
    "print('   Mean Precision: ',np.mean(scores['test_precision']))\n",
    "print('   Mean AUC: ',np.mean(scores['test_roc_auc']))\n",
    "print('   Mean Accuracy: ',np.mean(scores['test_accuracy']))\n",
    "print('   Mean Time per Split: ',np.mean(scores['fit_time'])+np.mean(scores['score_time']))\n",
    "print(' ')\n",
    "plot_confusion_matrix(clf_rfw, X_test, Y_test)"
   ]
  },
  {
   "cell_type": "markdown",
   "metadata": {},
   "source": [
    "#### Models to Predict Show"
   ]
  },
  {
   "cell_type": "code",
   "execution_count": 123,
   "metadata": {},
   "outputs": [
    {
     "name": "stdout",
     "output_type": "stream",
     "text": [
      "When Trees = 13\n",
      "   Mean Precision:  0.5682808927859784\n",
      "   Mean AUC:  0.7492708546778599\n",
      "   Mean Accuracy:  0.773736229146994\n",
      "   Mean Time per Split:  10.447478199005127\n",
      " \n"
     ]
    },
    {
     "data": {
      "text/plain": [
       "<sklearn.metrics._plot.confusion_matrix.ConfusionMatrixDisplay at 0x19b13616eb0>"
      ]
     },
     "execution_count": 123,
     "metadata": {},
     "output_type": "execute_result"
    },
    {
     "data": {
      "image/png": "[encoded data removed]",
      "text/plain": [
       "<Figure size 432x288 with 2 Axes>"
      ]
     },
     "metadata": {
      "needs_background": "light"
     },
     "output_type": "display_data"
    }
   ],
   "source": [
    "#optimized set of data\n",
    "X_train_opt,X_test_opt,Y_train_opt,Y_test_opt = train_test_split(dataopt3,runs_target2,test_size=0.20,random_state=0)\n",
    "mmscl_obj = MinMaxScaler()\n",
    "X_train_place = mmscl_obj.fit_transform(X_train_opt,y = None)\n",
    "X_test_place = mmscl_obj.transform(X_test_opt)\n",
    "\n",
    "clf_rfp = RandomForestClassifier(max_depth = 100, n_estimators = 128, random_state = 0, class_weight = 'balanced')\n",
    "clf_rfp.fit(X_train_opt,Y_train_opt.values.ravel())\n",
    "yhatrfp = clf_rfp.predict(X_test_opt)\n",
    "prec = mt.precision_score(Y_test_opt,yhatrfp)\n",
    "auc = roc_auc_score(Y_test_opt,yhatrfp)\n",
    "print('When Trees =',x)\n",
    "print('   Mean Precision: ',np.mean(scores['test_precision']))\n",
    "print('   Mean AUC: ',np.mean(scores['test_roc_auc']))\n",
    "print('   Mean Accuracy: ',np.mean(scores['test_accuracy']))\n",
    "print('   Mean Time per Split: ',np.mean(scores['fit_time'])+np.mean(scores['score_time']))\n",
    "print(' ')\n",
    "plot_confusion_matrix(clf_rfp, X_test_opt, Y_test_opt)"
   ]
  },
  {
   "cell_type": "markdown",
   "metadata": {},
   "source": [
    "## Section 7: Modeling and Evaluation 5"
   ]
  },
  {
   "cell_type": "markdown",
   "metadata": {},
   "source": [
    "\t• Modeling and Evaluation 5\n",
    "\t\t○ Discuss the advantages of each model for each classification task, if any. \n",
    "\t\t\t- If there are not advantages, explain why. \n",
    "\t\t○ Is any model better than another? \n",
    "\t\t○ Is the difference significant with 95% confidence? \n",
    "\t\t\t- Use proper statistical comparison methods. You must use statistical comparison techniques—be sure \n",
    "            they are appropriate for your chosen method of validation as discussed in unit 7 of the course."
   ]
  },
  {
   "cell_type": "markdown",
   "metadata": {},
   "source": [
    "### Sub-Section 7.1: Discuss the advantages of each model for each classification task, if any."
   ]
  },
  {
   "cell_type": "code",
   "execution_count": null,
   "metadata": {},
   "outputs": [],
   "source": []
  },
  {
   "cell_type": "markdown",
   "metadata": {},
   "source": [
    "### Sub-Section 7.2: Is any model better than another? "
   ]
  },
  {
   "cell_type": "code",
   "execution_count": 139,
   "metadata": {},
   "outputs": [
    {
     "data": {
      "text/plain": [
       "<matplotlib.legend.Legend at 0x19b14237fa0>"
      ]
     },
     "execution_count": 139,
     "metadata": {},
     "output_type": "execute_result"
    },
    {
     "data": {
      "image/png": "[encoded data removed]",
      "text/plain": [
       "<Figure size 432x288 with 1 Axes>"
      ]
     },
     "metadata": {
      "needs_background": "light"
     },
     "output_type": "display_data"
    }
   ],
   "source": [
    "from sklearn.metrics import roc_curve\n",
    "from sklearn.metrics import auc\n",
    "\n",
    "\n",
    "#KNN ROC\n",
    "# Compute fpr, tpr, thresholds and roc auc\n",
    "fpr, tpr, thresholds = roc_curve(yhatknnw, Y_test)\n",
    "roc_auc = auc(fpr, tpr)\n",
    "\n",
    "# Plot ROC curve\n",
    "plt.plot(fpr, tpr, label='KNN ROC curve (area = %0.3f)' % roc_auc)\n",
    "plt.plot([0, 1], [0, 1], 'k--')  # random predictions curve\n",
    "plt.xlim([0.0, 1.0])\n",
    "plt.ylim([0.0, 1.0])\n",
    "plt.xlabel('False Positive Rate or (1 - Specifity)')\n",
    "plt.ylabel('True Positive Rate or (Sensitivity)')\n",
    "plt.title('Receiver Operating Characteristic')\n",
    "plt.legend(loc=\"lower right\")\n",
    "\n",
    "\n",
    "#NB ROC\n",
    "# Compute fpr, tpr, thresholds and roc auc\n",
    "fpr, tpr, thresholds = roc_curve(yhatcnbw, Y_test)\n",
    "roc_auc = auc(fpr, tpr)\n",
    "\n",
    "# Plot ROC curve\n",
    "plt.plot(fpr, tpr, label='NB ROC curve (area = %0.3f)' % roc_auc)\n",
    "plt.plot([0, 1], [0, 1], 'k--')  # random predictions curve\n",
    "plt.xlim([0.0, 1.0])\n",
    "plt.ylim([0.0, 1.0])\n",
    "plt.xlabel('False Positive Rate or (1 - Specifity)')\n",
    "plt.ylabel('True Positive Rate or (Sensitivity)')\n",
    "plt.title('Receiver Operating Characteristic')\n",
    "plt.legend(loc=\"lower right\")\n",
    "\n",
    "\n",
    "#RF ROC\n",
    "fpr, tpr, thresholds = roc_curve(yhatrfw, Y_test)\n",
    "roc_auc = auc(fpr, tpr)\n",
    "\n",
    "# Plot ROC curve\n",
    "plt.plot(fpr, tpr, label=' RF ROC curve (area = %0.3f)' % roc_auc)\n",
    "plt.plot([0, 1], [0, 1], 'k--')  # random predictions curve\n",
    "plt.xlim([0.0, 1.0])\n",
    "plt.ylim([0.0, 1.0])\n",
    "plt.xlabel('False Positive Rate or (1 - Specifity)')\n",
    "plt.ylabel('True Positive Rate or (Sensitivity)')\n",
    "plt.title('Receiver Operating Characteristic')\n",
    "plt.legend(loc=\"lower right\")"
   ]
  },
  {
   "cell_type": "code",
   "execution_count": 141,
   "metadata": {},
   "outputs": [
    {
     "data": {
      "text/plain": [
       "<matplotlib.legend.Legend at 0x19b141fd730>"
      ]
     },
     "execution_count": 141,
     "metadata": {},
     "output_type": "execute_result"
    },
    {
     "data": {
      "image/png": "[encoded data removed]",
      "text/plain": [
       "<Figure size 432x288 with 1 Axes>"
      ]
     },
     "metadata": {
      "needs_background": "light"
     },
     "output_type": "display_data"
    }
   ],
   "source": [
    "from sklearn.metrics import roc_curve\n",
    "from sklearn.metrics import auc\n",
    "\n",
    "\n",
    "#KNN ROC\n",
    "# Compute fpr, tpr, thresholds and roc auc\n",
    "fpr, tpr, thresholds = roc_curve(yhatknnp, Y_test_place)\n",
    "roc_auc = auc(fpr, tpr)\n",
    "\n",
    "# Plot ROC curve\n",
    "plt.plot(fpr, tpr, label='KNN ROC curve (area = %0.3f)' % roc_auc)\n",
    "plt.plot([0, 1], [0, 1], 'k--')  # random predictions curve\n",
    "plt.xlim([0.0, 1.0])\n",
    "plt.ylim([0.0, 1.0])\n",
    "plt.xlabel('False Positive Rate or (1 - Specifity)')\n",
    "plt.ylabel('True Positive Rate or (Sensitivity)')\n",
    "plt.title('Receiver Operating Characteristic')\n",
    "plt.legend(loc=\"lower right\")\n",
    "\n",
    "\n",
    "#NB ROC\n",
    "# Compute fpr, tpr, thresholds and roc auc\n",
    "fpr, tpr, thresholds = roc_curve(yhatcnbp, Y_test_place)\n",
    "roc_auc = auc(fpr, tpr)\n",
    "\n",
    "# Plot ROC curve\n",
    "plt.plot(fpr, tpr, label='NB ROC curve (area = %0.3f)' % roc_auc)\n",
    "plt.plot([0, 1], [0, 1], 'k--')  # random predictions curve\n",
    "plt.xlim([0.0, 1.0])\n",
    "plt.ylim([0.0, 1.0])\n",
    "plt.xlabel('False Positive Rate or (1 - Specifity)')\n",
    "plt.ylabel('True Positive Rate or (Sensitivity)')\n",
    "plt.title('Receiver Operating Characteristic')\n",
    "plt.legend(loc=\"lower right\")\n",
    "\n",
    "\n",
    "#RF ROC\n",
    "fpr, tpr, thresholds = roc_curve(yhatrfp, Y_test_place)\n",
    "roc_auc = auc(fpr, tpr)\n",
    "\n",
    "# Plot ROC curve\n",
    "plt.plot(fpr, tpr, label=' RF ROC curve (area = %0.3f)' % roc_auc)\n",
    "plt.plot([0, 1], [0, 1], 'k--')  # random predictions curve\n",
    "plt.xlim([0.0, 1.0])\n",
    "plt.ylim([0.0, 1.0])\n",
    "plt.xlabel('False Positive Rate or (1 - Specifity)')\n",
    "plt.ylabel('True Positive Rate or (Sensitivity)')\n",
    "plt.title('Receiver Operating Characteristic')\n",
    "plt.legend(loc=\"lower right\")"
   ]
  },
  {
   "cell_type": "markdown",
   "metadata": {},
   "source": [
    "### Sub-Section 7.3: Is the difference significant with 95% confidence? "
   ]
  },
  {
   "cell_type": "markdown",
   "metadata": {},
   "source": [
    "#### Comparing models for Win significance"
   ]
  },
  {
   "cell_type": "code",
   "execution_count": 120,
   "metadata": {},
   "outputs": [
    {
     "name": "stdout",
     "output_type": "stream",
     "text": [
      "Comparison between  KNeighborsClassifier(metric='euclidean', n_neighbors=7, weights='distance')  and  ComplementNB(alpha=20) :\n",
      "P-value: 0.004, t-Statistic: 5.007\n",
      "The difference between mean precision of the models is statistically significant\n",
      " \n",
      "Comparison between  ComplementNB(alpha=20)  and  RandomForestClassifier(class_weight='balanced', max_depth=100, n_estimators=64,\n",
      "                       random_state=0) :\n",
      "P-value: 0.000, t-Statistic: -15.444\n",
      "The difference between mean precision of the models is statistically significant\n",
      " \n"
     ]
    }
   ],
   "source": [
    "#Code is referenced from https://machinelearningmastery.com/hypothesis-test-for-comparing-machine-learning-algorithms/ \n",
    "\n",
    "# Input Models\n",
    "model1= clf_knnw\n",
    "model2= clf_cnbw\n",
    "\n",
    "# Statistically compare models\n",
    "t, p = paired_ttest_5x2cv(estimator1=model1, estimator2=model2, X=runs_data, y=runs_target, scoring='precision', random_seed=1)\n",
    "\n",
    "# Summarize output\n",
    "print('Comparison between ',model1, ' and ',model2,':')\n",
    "print('P-value: %.3f, t-Statistic: %.3f' % (p, t))\n",
    "if p <= 0.05:\n",
    "    print('The difference between mean precision of the models is statistically significant')\n",
    "else:\n",
    "    print('The difference between mean precision of the models is not statistically signficant')\n",
    "print(' ')\n",
    "          \n",
    "# Input Models\n",
    "model1= clf_cnbw\n",
    "model2= clf_rfw\n",
    "\n",
    "# Statistically compare models\n",
    "t, p = paired_ttest_5x2cv(estimator1=model1, estimator2=model2, X=runs_data, y=runs_target, scoring='precision', random_seed=1)\n",
    "\n",
    "# Summarize output\n",
    "print('Comparison between ',model1, ' and ',model2,':')\n",
    "print('P-value: %.3f, t-Statistic: %.3f' % (p, t))\n",
    "if p <= 0.05:\n",
    "    print('The difference between mean precision of the models is statistically significant')\n",
    "else:\n",
    "    print('The difference between mean precision of the models is not statistically signficant')\n",
    "print(' ')\n"
   ]
  },
  {
   "cell_type": "markdown",
   "metadata": {},
   "source": [
    "#### Comparing models for place significance"
   ]
  },
  {
   "cell_type": "code",
   "execution_count": 121,
   "metadata": {},
   "outputs": [
    {
     "name": "stdout",
     "output_type": "stream",
     "text": [
      "Comparison between  KNeighborsClassifier(metric='euclidean', n_neighbors=7, weights='distance')  and  ComplementNB(alpha=10) :\n",
      "P-value: 0.004, t-Statistic: 5.023\n",
      "The difference between mean precision of the models is statistically significant\n",
      " \n",
      "Comparison between  ComplementNB(alpha=10)  and  RandomForestClassifier(class_weight='balanced', max_depth=100, n_estimators=128,\n",
      "                       random_state=0) :\n",
      "P-value: 0.002, t-Statistic: -5.859\n",
      "The difference between mean precision of the models is statistically significant\n",
      " \n"
     ]
    }
   ],
   "source": [
    "#Code is referenced from https://machinelearningmastery.com/hypothesis-test-for-comparing-machine-learning-algorithms/ \n",
    "\n",
    "# Input Models\n",
    "model1= clf_knnp\n",
    "model2= clf_cnbp\n",
    "\n",
    "# Statistically compare models\n",
    "t, p = paired_ttest_5x2cv(estimator1=model1, estimator2=model2, X=runs_data, y=runs_target, scoring='precision', random_seed=1)\n",
    "\n",
    "# Summarize output\n",
    "print('Comparison between ',model1, ' and ',model2,':')\n",
    "print('P-value: %.3f, t-Statistic: %.3f' % (p, t))\n",
    "if p <= 0.05:\n",
    "    print('The difference between mean precision of the models is statistically significant')\n",
    "else:\n",
    "    print('The difference between mean precision of the models is not statistically signficant')\n",
    "print(' ')\n",
    "          \n",
    "# Input Models\n",
    "model1= clf_cnbp\n",
    "model2= clf_rfp\n",
    "\n",
    "# Statistically compare models\n",
    "t, p = paired_ttest_5x2cv(estimator1=model1, estimator2=model2, X=runs_data, y=runs_target, scoring='precision', random_seed=1)\n",
    "\n",
    "# Summarize output\n",
    "print('Comparison between ',model1, ' and ',model2,':')\n",
    "print('P-value: %.3f, t-Statistic: %.3f' % (p, t))\n",
    "if p <= 0.05:\n",
    "    print('The difference between mean precision of the models is statistically significant')\n",
    "else:\n",
    "    print('The difference between mean precision of the models is not statistically signficant')\n",
    "print(' ')\n"
   ]
  },
  {
   "cell_type": "markdown",
   "metadata": {},
   "source": [
    "## Section 8: Modeling and Evaluation 6"
   ]
  },
  {
   "cell_type": "markdown",
   "metadata": {},
   "source": [
    "\t• Modeling and Evaluation 6\n",
    "\t\t○ Which attributes from your analysis are most important? \n",
    "            - Use proper methods discussed in class to evaluate the importance of different attributes. \n",
    "\t\t○ Discuss the results and hypothesize about why certain attributes are more important than others for a\n",
    "        given classification task."
   ]
  },
  {
   "cell_type": "markdown",
   "metadata": {},
   "source": [
    "### Sub-Section 8.1: Which attributes from your analysis are most important? "
   ]
  },
  {
   "cell_type": "markdown",
   "metadata": {},
   "source": [
    "### Sub-Section 8.1.1: Model 1 KNN"
   ]
  },
  {
   "cell_type": "markdown",
   "metadata": {},
   "source": [
    "#### Model to predict Won"
   ]
  },
  {
   "cell_type": "code",
   "execution_count": 107,
   "metadata": {},
   "outputs": [
    {
     "name": "stdout",
     "output_type": "stream",
     "text": [
      "Precision of classifier with 7 neighbors is: 0.147  AUC: 0.504\n"
     ]
    },
    {
     "data": {
      "text/plain": [
       "<sklearn.metrics._plot.confusion_matrix.ConfusionMatrixDisplay at 0x19b009343a0>"
      ]
     },
     "execution_count": 107,
     "metadata": {},
     "output_type": "execute_result"
    },
    {
     "data": {
      "image/png": "[encoded data removed]",
      "text/plain": [
       "<Figure size 432x288 with 2 Axes>"
      ]
     },
     "metadata": {
      "needs_background": "light"
     },
     "output_type": "display_data"
    }
   ],
   "source": [
    "x=7\n",
    "clf_knnw = KNeighborsClassifier(n_neighbors=7, weights='distance', metric='euclidean')\n",
    "clf_knnw.fit(X_train,Y_train)\n",
    "yhat= clf_knnw.predict(X_test)\n",
    "acc = mt.accuracy_score(Y_test,yhat)\n",
    "prec = mt.precision_score(Y_test,yhat)\n",
    "auc = roc_auc_score(Y_test,yhat)\n",
    "conf = mt.confusion_matrix(Y_test,yhat)\n",
    "print('Precision of classifier with %d neighbors is: %.3f'%(x,prec), ' AUC: %.3f'%auc)\n",
    "plot_confusion_matrix(clf_knnw, X_test, Y_test)"
   ]
  },
  {
   "cell_type": "markdown",
   "metadata": {},
   "source": [
    "#### Model to predict Show"
   ]
  },
  {
   "cell_type": "code",
   "execution_count": 108,
   "metadata": {},
   "outputs": [
    {
     "name": "stdout",
     "output_type": "stream",
     "text": [
      "Precision of classifier with 13 neighbors is: 0.431  AUC: 0.576\n"
     ]
    },
    {
     "data": {
      "text/plain": [
       "<sklearn.metrics._plot.confusion_matrix.ConfusionMatrixDisplay at 0x19b09426670>"
      ]
     },
     "execution_count": 108,
     "metadata": {},
     "output_type": "execute_result"
    },
    {
     "data": {
      "image/png": "[encoded data removed]",
      "text/plain": [
       "<Figure size 432x288 with 2 Axes>"
      ]
     },
     "metadata": {
      "needs_background": "light"
     },
     "output_type": "display_data"
    }
   ],
   "source": [
    "x=13\n",
    "clf_knnp = KNeighborsClassifier(n_neighbors=7, weights='distance', metric='euclidean')\n",
    "clf_knnp.fit(X_train_place,Y_train_place)\n",
    "yhat= clf_knnp.predict(X_test_place)\n",
    "acc = mt.accuracy_score(Y_test_place,yhat)\n",
    "prec = mt.precision_score(Y_test_place,yhat)\n",
    "auc = roc_auc_score(Y_test_place,yhat)\n",
    "conf = mt.confusion_matrix(Y_test_place,yhat)\n",
    "print('Precision of classifier with %d neighbors is: %.3f'%(x,prec), ' AUC: %.3f'%auc)\n",
    "plot_confusion_matrix(clf_knnp, X_test_place, Y_test_place)"
   ]
  },
  {
   "cell_type": "markdown",
   "metadata": {},
   "source": [
    "### Sub-Section 8.1.2: Model 2 Naive Bayes"
   ]
  },
  {
   "cell_type": "markdown",
   "metadata": {},
   "source": [
    "#### Model to predict Won"
   ]
  },
  {
   "cell_type": "code",
   "execution_count": 109,
   "metadata": {},
   "outputs": [
    {
     "name": "stdout",
     "output_type": "stream",
     "text": [
      "Alpha:20 AUC: 0.6865902112258534 ACC: 0.7488825936418004 Prec: 0.13726023670248946\n"
     ]
    },
    {
     "data": {
      "text/plain": [
       "<sklearn.metrics._plot.confusion_matrix.ConfusionMatrixDisplay at 0x19b01896c10>"
      ]
     },
     "execution_count": 109,
     "metadata": {},
     "output_type": "execute_result"
    },
    {
     "data": {
      "image/png": "[encoded data removed]",
      "text/plain": [
       "<Figure size 432x288 with 2 Axes>"
      ]
     },
     "metadata": {
      "needs_background": "light"
     },
     "output_type": "display_data"
    }
   ],
   "source": [
    "clf_cnbw = ComplementNB(alpha = 20)\n",
    "clf_cnbw.fit(X_train,Y_train.values.ravel())\n",
    "yhat = clf_cnbw.predict(X_test)\n",
    "prec = mt.precision_score(Y_test,yhat)\n",
    "auc = roc_auc_score(Y_test,yhat)\n",
    "print('Alpha:20 AUC:',auc,'ACC:',acc,'Prec:',prec)\n",
    "plot_confusion_matrix(clf_cnbw,X_test,Y_test)"
   ]
  },
  {
   "cell_type": "markdown",
   "metadata": {},
   "source": [
    "#### Model to predict Show"
   ]
  },
  {
   "cell_type": "code",
   "execution_count": 110,
   "metadata": {},
   "outputs": [
    {
     "name": "stdout",
     "output_type": "stream",
     "text": [
      "Alpha:20 AUC: 0.680016973698415 ACC: 0.7488825936418004 Prec: 0.3431682090364725\n"
     ]
    },
    {
     "data": {
      "text/plain": [
       "<sklearn.metrics._plot.confusion_matrix.ConfusionMatrixDisplay at 0x19b01802340>"
      ]
     },
     "execution_count": 110,
     "metadata": {},
     "output_type": "execute_result"
    },
    {
     "data": {
      "image/png": "[encoded data removed]",
      "text/plain": [
       "<Figure size 432x288 with 2 Axes>"
      ]
     },
     "metadata": {
      "needs_background": "light"
     },
     "output_type": "display_data"
    }
   ],
   "source": [
    "clf_cnbp = ComplementNB(alpha = 10)\n",
    "clf_cnbp.fit(X_train_place,Y_train_place.values.ravel())\n",
    "yhat = clf_cnbp.predict(X_test_place)\n",
    "prec = mt.precision_score(Y_test_place,yhat)\n",
    "auc = roc_auc_score(Y_test_place,yhat)\n",
    "print('Alpha:20 AUC:',auc,'ACC:',acc,'Prec:',prec)\n",
    "plot_confusion_matrix(clf_cnbp,X_test_place,Y_test_place)"
   ]
  },
  {
   "cell_type": "markdown",
   "metadata": {},
   "source": [
    "### Sub-Section 8.1.3: Model 3 Random Forest"
   ]
  },
  {
   "cell_type": "markdown",
   "metadata": {},
   "source": [
    "#### Model to predict Won"
   ]
  },
  {
   "cell_type": "code",
   "execution_count": 111,
   "metadata": {},
   "outputs": [
    {
     "name": "stdout",
     "output_type": "stream",
     "text": [
      "When Trees = 13\n",
      "   Mean Precision:  0.5682808927859784\n",
      "   Mean AUC:  0.7492708546778599\n",
      "   Mean Accuracy:  0.773736229146994\n",
      "   Mean Time per Split:  10.447478199005127\n",
      " \n"
     ]
    },
    {
     "data": {
      "text/plain": [
       "<sklearn.metrics._plot.confusion_matrix.ConfusionMatrixDisplay at 0x19b00089d00>"
      ]
     },
     "execution_count": 111,
     "metadata": {},
     "output_type": "execute_result"
    },
    {
     "data": {
      "image/png": "[encoded data removed]",
      "text/plain": [
       "<Figure size 432x288 with 2 Axes>"
      ]
     },
     "metadata": {
      "needs_background": "light"
     },
     "output_type": "display_data"
    }
   ],
   "source": [
    "clf_rfw = RandomForestClassifier(max_depth = 100, n_estimators = 64, random_state = 0, class_weight = 'balanced')\n",
    "clf_rfw.fit(X_train,Y_train.values.ravel())\n",
    "yhat = clf_rfw.predict(X_test)\n",
    "prec = mt.precision_score(Y_test,yhat)\n",
    "auc = roc_auc_score(Y_test,yhat)\n",
    "print('When Trees =',x)\n",
    "print('   Mean Precision: ',np.mean(scores['test_precision']))\n",
    "print('   Mean AUC: ',np.mean(scores['test_roc_auc']))\n",
    "print('   Mean Accuracy: ',np.mean(scores['test_accuracy']))\n",
    "print('   Mean Time per Split: ',np.mean(scores['fit_time'])+np.mean(scores['score_time']))\n",
    "print(' ')\n",
    "plot_confusion_matrix(clf_rfw, X_test, Y_test)"
   ]
  },
  {
   "cell_type": "markdown",
   "metadata": {},
   "source": [
    "#### Model to predict Show"
   ]
  },
  {
   "cell_type": "code",
   "execution_count": 112,
   "metadata": {},
   "outputs": [
    {
     "name": "stdout",
     "output_type": "stream",
     "text": [
      "When Trees = 13\n",
      "   Mean Precision:  0.5682808927859784\n",
      "   Mean AUC:  0.7492708546778599\n",
      "   Mean Accuracy:  0.773736229146994\n",
      "   Mean Time per Split:  10.447478199005127\n",
      " \n"
     ]
    },
    {
     "data": {
      "text/plain": [
       "<sklearn.metrics._plot.confusion_matrix.ConfusionMatrixDisplay at 0x19b0076d0d0>"
      ]
     },
     "execution_count": 112,
     "metadata": {},
     "output_type": "execute_result"
    },
    {
     "data": {
      "image/png": "[encoded data removed]",
      "text/plain": [
       "<Figure size 432x288 with 2 Axes>"
      ]
     },
     "metadata": {
      "needs_background": "light"
     },
     "output_type": "display_data"
    }
   ],
   "source": [
    "#optimized set of data\n",
    "X_train_opt,X_test_opt,Y_train_opt,Y_test_opt = train_test_split(dataopt3,runs_target2,test_size=0.20,random_state=0)\n",
    "mmscl_obj = MinMaxScaler()\n",
    "X_train_place = mmscl_obj.fit_transform(X_train_opt,y = None)\n",
    "X_test_place = mmscl_obj.transform(X_test_opt)\n",
    "\n",
    "clf_rfp = RandomForestClassifier(max_depth = 100, n_estimators = 128, random_state = 0, class_weight = 'balanced')\n",
    "clf_rfp.fit(X_train_opt,Y_train_opt.values.ravel())\n",
    "yhat = clf_rfp.predict(X_test_opt)\n",
    "prec = mt.precision_score(Y_test_opt,yhat)\n",
    "auc = roc_auc_score(Y_test_opt,yhat)\n",
    "print('When Trees =',x)\n",
    "print('   Mean Precision: ',np.mean(scores['test_precision']))\n",
    "print('   Mean AUC: ',np.mean(scores['test_roc_auc']))\n",
    "print('   Mean Accuracy: ',np.mean(scores['test_accuracy']))\n",
    "print('   Mean Time per Split: ',np.mean(scores['fit_time'])+np.mean(scores['score_time']))\n",
    "print(' ')\n",
    "plot_confusion_matrix(clf_rfp, X_test_opt, Y_test_opt)"
   ]
  },
  {
   "cell_type": "markdown",
   "metadata": {},
   "source": [
    "### Sub-Section 8.1.4: Model 4 Logistic Regression"
   ]
  },
  {
   "cell_type": "markdown",
   "metadata": {},
   "source": [
    "#### Model to predict Won"
   ]
  },
  {
   "cell_type": "code",
   "execution_count": null,
   "metadata": {},
   "outputs": [],
   "source": []
  },
  {
   "cell_type": "markdown",
   "metadata": {},
   "source": [
    "#### Model to predict Show"
   ]
  },
  {
   "cell_type": "code",
   "execution_count": null,
   "metadata": {},
   "outputs": [],
   "source": []
  },
  {
   "cell_type": "markdown",
   "metadata": {},
   "source": [
    "## Section 9: Deployment"
   ]
  },
  {
   "cell_type": "markdown",
   "metadata": {},
   "source": [
    "\t• Deployment\n",
    "\t\t○ How useful is your model for interested parties (i.e., the companies or organizations that might want\n",
    "        to use it for prediction)? \n",
    "\t\t○ How would you measure the model's value if it was used by these parties? \n",
    "\t\t○ How would your deploy your model for interested parties? \n",
    "\t\t○ What other data should be collected? \n",
    "\t\t○ How often would the model need to be updated, etc.? "
   ]
  },
  {
   "cell_type": "markdown",
   "metadata": {},
   "source": [
    "### Sub-Section 9.1: How useful is your model for interested parties"
   ]
  },
  {
   "cell_type": "markdown",
   "metadata": {},
   "source": []
  },
  {
   "cell_type": "markdown",
   "metadata": {},
   "source": [
    "### Sub-Section 9.2: How would you measure the model's value if it was used by these parties? "
   ]
  },
  {
   "cell_type": "markdown",
   "metadata": {},
   "source": []
  },
  {
   "cell_type": "markdown",
   "metadata": {},
   "source": [
    "### Sub-Section 9.3: How would your deploy your model for interested parties? "
   ]
  },
  {
   "cell_type": "markdown",
   "metadata": {},
   "source": []
  },
  {
   "cell_type": "markdown",
   "metadata": {},
   "source": [
    "### Sub-Section 9.4: What other data should be collected?"
   ]
  },
  {
   "cell_type": "markdown",
   "metadata": {},
   "source": []
  },
  {
   "cell_type": "markdown",
   "metadata": {},
   "source": [
    "### Sub-Section 9.5: How often would the model need to be updated? "
   ]
  },
  {
   "cell_type": "markdown",
   "metadata": {},
   "source": []
  },
  {
   "cell_type": "markdown",
   "metadata": {},
   "source": [
    "## Section 10: Exceptional Work"
   ]
  },
  {
   "cell_type": "markdown",
   "metadata": {},
   "source": [
    "\t• Exceptional Work\n",
    "\t\t○ You have free reign to provide additional analyses. \n",
    "\t\t\t- One idea: grid search parameters in a parallelized fashion and visualize the performances across\n",
    "            attributes. \n",
    "\t\t\t- Which parameters are most significant for making a good model for each classification algorithm?"
   ]
  },
  {
   "cell_type": "markdown",
   "metadata": {},
   "source": [
    "### Sub-Section 10.1: Recursive Feature Selection"
   ]
  },
  {
   "cell_type": "markdown",
   "metadata": {},
   "source": [
    "We used RFE during our section on Random Forests. Idealy we would have liked to deploy it to our KNN models as they took the longest to run, but since KNN fits and predicts at the same time, there was no way to apply it to those models. RFE seemed to have mixed effects on the Random Forest models. In attempting to predict wins, it beat the full model that used all features. However, it did not have this success again when running to predict placing. It's metrics were consistently under that of the full model. "
   ]
  },
  {
   "cell_type": "markdown",
   "metadata": {},
   "source": [
    "### Sub-Section 10.2: Grid Search"
   ]
  },
  {
   "cell_type": "code",
   "execution_count": null,
   "metadata": {},
   "outputs": [],
   "source": []
  },
  {
   "cell_type": "markdown",
   "metadata": {},
   "source": [
    "### Sub-Section 10.3: Extra Model to predict Won and Show"
   ]
  },
  {
   "cell_type": "code",
   "execution_count": null,
   "metadata": {},
   "outputs": [],
   "source": []
  },
  {
   "cell_type": "markdown",
   "metadata": {},
   "source": [
    "# Line break between reports\n",
    "========================================="
   ]
  },
  {
   "cell_type": "markdown",
   "metadata": {},
   "source": [
    "## Example on how to scale, model, and get metrics while using cross validation with a pipeline\n",
    "## Example also shows how to use this to tune a tune a hyper-parameter\n",
    "\n",
    "#### Possible adjustments you should look at\n",
    "- The parameter being hypertuned and values at the start of the loop\n",
    "- Is the scaler type what you want\n",
    "- Is the model information updated\n",
    "- The cross_validate() function uses runs_data and runs_target to check for win. You need to unpdate to runs_target2 to check for show\n",
    "- You should also update the first print statement to reflect your hyperparameter name\n",
    "- This should be applied to all models so we are consistent because original method was not fully utilizing all splits"
   ]
  },
  {
   "cell_type": "code",
   "execution_count": null,
   "metadata": {},
   "outputs": [],
   "source": [
    "#Referenced website: https://machinelearningmastery.com/data-preparation-without-data-leakage/\n",
    "Kvals = [5,10]\n",
    "for k in Kvals:\n",
    "    # define the pipeline\n",
    "    steps = list()\n",
    "    steps.append(('scaler', StandardScaler()))\n",
    "    #steps.append(('model', KNeighborsClassifier(n_neighbors=k, weights='distance', metric='euclidean')))\n",
    "    steps.append(('model', KNeighborsClassifier(n_neighbors=k, weights='distance', metric='euclidean')))\n",
    "    pipeline = Pipeline(steps=steps)\n",
    "\n",
    "    # define the evaluation procedure\n",
    "    #cv = StratifiedShuffleSplit(n_splits = 10, test_size = 0.2, train_size=0.8, random_state = 0)\n",
    "    cv = StratifiedKFold(n_splits = 10, shuffle=True, random_state = 0)\n",
    "\n",
    "    \n",
    "    #Modeling with pipeline and scoring with cross_validate()\n",
    "    scores = cross_validate(pipeline, runs_data, runs_target, scoring=['roc_auc','accuracy','precision'],\n",
    "                             cv=cv, return_train_score=False)\n",
    "    print('When k =',k)\n",
    "    print('   Mean Precision: ',np.mean(scores['test_precision']))\n",
    "    print('   Mean AUC: ',np.mean(scores['test_roc_auc']))\n",
    "    print('   Mean Accuracy: ',np.mean(scores['test_accuracy']))\n",
    "    print('   Mean Time per Split: ',np.mean(scores['fit_time'])+np.mean(scores['score_time']))\n",
    "    print(' ')"
   ]
  }
 ],
 "metadata": {
  "kernelspec": {
   "display_name": "Python 3",
   "language": "python",
   "name": "python3"
  },
  "language_info": {
   "codemirror_mode": {
    "name": "ipython",
    "version": 3
   },
   "file_extension": ".py",
   "mimetype": "text/x-python",
   "name": "python",
   "nbconvert_exporter": "python",
   "pygments_lexer": "ipython3",
   "version": "3.8.3"
  }
 },
 "nbformat": 4,
 "nbformat_minor": 4
}
