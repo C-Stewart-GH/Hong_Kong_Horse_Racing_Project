{
 "cells": [
  {
   "cell_type": "markdown",
   "metadata": {},
   "source": [
    "Nathan Deinlein <br>\n",
    "Ryan Kinney <br>\n",
    "Chris Roche <br>\n",
    "Cameron Stewart <br>"
   ]
  },
  {
   "cell_type": "markdown",
   "metadata": {},
   "source": [
    "# Machine Learning 1 - Lab 2 Classification"
   ]
  },
  {
   "cell_type": "markdown",
   "metadata": {},
   "source": [
    "## Section 1: Data Preparation"
   ]
  },
  {
   "cell_type": "markdown",
   "metadata": {},
   "source": [
    "Talk about data prep here.\n",
    "\n",
    "[10 points] Define and prepare your class variables. Use proper variable representations (int, float, one-hot, etc.). Use pre-processing methods (as needed) for dimensionality reduction, scaling, etc. Remove variables that are not needed/useful for the analysis."
   ]
  },
  {
   "cell_type": "code",
   "execution_count": 7,
   "metadata": {},
   "outputs": [],
   "source": [
    "# Load libraries\n",
    "import pandas as pd\n",
    "import numpy as np\n",
    "import matplotlib\n",
    "import matplotlib.pyplot as plt\n",
    "%matplotlib inline\n",
    "from sklearn.model_selection import train_test_split\n",
    "from sklearn import metrics as mt\n",
    "from sklearn.metrics import plot_confusion_matrix, roc_auc_score\n",
    "from sklearn.preprocessing import StandardScaler\n",
    "from sklearn.metrics import ConfusionMatrixDisplay\n",
    "from sklearn.svm import SVC\n",
    "from sklearn.model_selection import StratifiedShuffleSplit\n",
    "from sklearn.neighbors import KNeighborsClassifier\n",
    "from sklearn.metrics import accuracy_score\n",
    "from sklearn import metrics as mt\n",
    "from sklearn.neighbors import KNeighborsClassifier\n",
    "from sklearn.preprocessing import StandardScaler\n",
    "import warnings\n",
    "warnings.simplefilter('ignore', DeprecationWarning)\n",
    "from sklearn.model_selection import cross_validate\n",
    "from sklearn.pipeline import Pipeline"
   ]
  },
  {
   "cell_type": "code",
   "execution_count": 8,
   "metadata": {},
   "outputs": [
    {
     "data": {
      "text/html": [
       "<div>\n",
       "<style scoped>\n",
       "    .dataframe tbody tr th:only-of-type {\n",
       "        vertical-align: middle;\n",
       "    }\n",
       "\n",
       "    .dataframe tbody tr th {\n",
       "        vertical-align: top;\n",
       "    }\n",
       "\n",
       "    .dataframe thead th {\n",
       "        text-align: right;\n",
       "    }\n",
       "</style>\n",
       "<table border=\"1\" class=\"dataframe\">\n",
       "  <thead>\n",
       "    <tr style=\"text-align: right;\">\n",
       "      <th></th>\n",
       "      <th>Unnamed: 0</th>\n",
       "      <th>race_id</th>\n",
       "      <th>horse_no</th>\n",
       "      <th>horse_id</th>\n",
       "      <th>result</th>\n",
       "      <th>won</th>\n",
       "      <th>lengths_behind</th>\n",
       "      <th>horse_age</th>\n",
       "      <th>horse_country</th>\n",
       "      <th>horse_type</th>\n",
       "      <th>...</th>\n",
       "      <th>behind_sec2</th>\n",
       "      <th>behind_sec3</th>\n",
       "      <th>time1</th>\n",
       "      <th>time2</th>\n",
       "      <th>time3</th>\n",
       "      <th>finish_time</th>\n",
       "      <th>win_odds</th>\n",
       "      <th>place_odds</th>\n",
       "      <th>trainer_id</th>\n",
       "      <th>jockey_id</th>\n",
       "    </tr>\n",
       "  </thead>\n",
       "  <tbody>\n",
       "    <tr>\n",
       "      <th>0</th>\n",
       "      <td>0</td>\n",
       "      <td>0</td>\n",
       "      <td>1</td>\n",
       "      <td>3917</td>\n",
       "      <td>10</td>\n",
       "      <td>0.0</td>\n",
       "      <td>8.00</td>\n",
       "      <td>3</td>\n",
       "      <td>AUS</td>\n",
       "      <td>Gelding</td>\n",
       "      <td>...</td>\n",
       "      <td>2.00</td>\n",
       "      <td>1.50</td>\n",
       "      <td>13.85</td>\n",
       "      <td>21.59</td>\n",
       "      <td>23.86</td>\n",
       "      <td>83.92</td>\n",
       "      <td>9.7</td>\n",
       "      <td>3.7</td>\n",
       "      <td>118</td>\n",
       "      <td>2</td>\n",
       "    </tr>\n",
       "    <tr>\n",
       "      <th>1</th>\n",
       "      <td>1</td>\n",
       "      <td>0</td>\n",
       "      <td>2</td>\n",
       "      <td>2157</td>\n",
       "      <td>8</td>\n",
       "      <td>0.0</td>\n",
       "      <td>5.75</td>\n",
       "      <td>3</td>\n",
       "      <td>NZ</td>\n",
       "      <td>Gelding</td>\n",
       "      <td>...</td>\n",
       "      <td>9.00</td>\n",
       "      <td>5.00</td>\n",
       "      <td>14.57</td>\n",
       "      <td>21.99</td>\n",
       "      <td>23.30</td>\n",
       "      <td>83.56</td>\n",
       "      <td>16.0</td>\n",
       "      <td>4.9</td>\n",
       "      <td>164</td>\n",
       "      <td>57</td>\n",
       "    </tr>\n",
       "    <tr>\n",
       "      <th>2</th>\n",
       "      <td>2</td>\n",
       "      <td>0</td>\n",
       "      <td>3</td>\n",
       "      <td>858</td>\n",
       "      <td>7</td>\n",
       "      <td>0.0</td>\n",
       "      <td>4.75</td>\n",
       "      <td>3</td>\n",
       "      <td>NZ</td>\n",
       "      <td>Gelding</td>\n",
       "      <td>...</td>\n",
       "      <td>1.00</td>\n",
       "      <td>0.75</td>\n",
       "      <td>13.69</td>\n",
       "      <td>21.59</td>\n",
       "      <td>23.90</td>\n",
       "      <td>83.40</td>\n",
       "      <td>3.5</td>\n",
       "      <td>1.5</td>\n",
       "      <td>137</td>\n",
       "      <td>18</td>\n",
       "    </tr>\n",
       "    <tr>\n",
       "      <th>3</th>\n",
       "      <td>3</td>\n",
       "      <td>0</td>\n",
       "      <td>4</td>\n",
       "      <td>1853</td>\n",
       "      <td>9</td>\n",
       "      <td>0.0</td>\n",
       "      <td>6.25</td>\n",
       "      <td>3</td>\n",
       "      <td>SAF</td>\n",
       "      <td>Gelding</td>\n",
       "      <td>...</td>\n",
       "      <td>5.00</td>\n",
       "      <td>3.50</td>\n",
       "      <td>14.09</td>\n",
       "      <td>21.83</td>\n",
       "      <td>23.70</td>\n",
       "      <td>83.62</td>\n",
       "      <td>39.0</td>\n",
       "      <td>11.0</td>\n",
       "      <td>80</td>\n",
       "      <td>59</td>\n",
       "    </tr>\n",
       "    <tr>\n",
       "      <th>4</th>\n",
       "      <td>4</td>\n",
       "      <td>0</td>\n",
       "      <td>5</td>\n",
       "      <td>2796</td>\n",
       "      <td>6</td>\n",
       "      <td>0.0</td>\n",
       "      <td>3.75</td>\n",
       "      <td>3</td>\n",
       "      <td>GB</td>\n",
       "      <td>Gelding</td>\n",
       "      <td>...</td>\n",
       "      <td>8.75</td>\n",
       "      <td>4.25</td>\n",
       "      <td>14.77</td>\n",
       "      <td>21.75</td>\n",
       "      <td>23.22</td>\n",
       "      <td>83.24</td>\n",
       "      <td>50.0</td>\n",
       "      <td>14.0</td>\n",
       "      <td>9</td>\n",
       "      <td>154</td>\n",
       "    </tr>\n",
       "  </tbody>\n",
       "</table>\n",
       "<p>5 rows × 29 columns</p>\n",
       "</div>"
      ],
      "text/plain": [
       "   Unnamed: 0  race_id  horse_no  horse_id  result  won  lengths_behind  \\\n",
       "0           0        0         1      3917      10  0.0            8.00   \n",
       "1           1        0         2      2157       8  0.0            5.75   \n",
       "2           2        0         3       858       7  0.0            4.75   \n",
       "3           3        0         4      1853       9  0.0            6.25   \n",
       "4           4        0         5      2796       6  0.0            3.75   \n",
       "\n",
       "   horse_age horse_country horse_type  ...  behind_sec2 behind_sec3  time1  \\\n",
       "0          3           AUS    Gelding  ...         2.00        1.50  13.85   \n",
       "1          3            NZ    Gelding  ...         9.00        5.00  14.57   \n",
       "2          3            NZ    Gelding  ...         1.00        0.75  13.69   \n",
       "3          3           SAF    Gelding  ...         5.00        3.50  14.09   \n",
       "4          3            GB    Gelding  ...         8.75        4.25  14.77   \n",
       "\n",
       "   time2  time3  finish_time  win_odds  place_odds  trainer_id  jockey_id  \n",
       "0  21.59  23.86        83.92       9.7         3.7         118          2  \n",
       "1  21.99  23.30        83.56      16.0         4.9         164         57  \n",
       "2  21.59  23.90        83.40       3.5         1.5         137         18  \n",
       "3  21.83  23.70        83.62      39.0        11.0          80         59  \n",
       "4  21.75  23.22        83.24      50.0        14.0           9        154  \n",
       "\n",
       "[5 rows x 29 columns]"
      ]
     },
     "execution_count": 8,
     "metadata": {},
     "output_type": "execute_result"
    }
   ],
   "source": [
    "# read in the data\n",
    "url = \"https://raw.githubusercontent.com/nedeinlein/Machine_Learning_I/main/runs_clean.csv\"\n",
    "runs_df = pd.read_csv(url, index_col=False)\n",
    "\n",
    "runs_df.head()"
   ]
  },
  {
   "cell_type": "code",
   "execution_count": 9,
   "metadata": {},
   "outputs": [],
   "source": [
    "# Use one hot encoding on non-numerical features\n",
    "## (Then remove them from the drop code chunk below)\n",
    "# perform one-hot encoding of the categorical data \"embarked\"\n",
    "tmp_df = pd.get_dummies(runs_df.horse_country,prefix='horse_country')\n",
    "runs_df_onehot = pd.concat((runs_df,tmp_df),axis=1) # add back into the dataframe\n",
    "\n",
    "tmp_df = pd.get_dummies(runs_df.horse_type,prefix='horse_type')\n",
    "runs_df_onehot = pd.concat((runs_df_onehot,tmp_df),axis=1) # add back into the dataframe\n",
    "\n",
    "runs_df = runs_df_onehot.reset_index(drop=True)"
   ]
  },
  {
   "cell_type": "markdown",
   "metadata": {},
   "source": [
    "   "
   ]
  },
  {
   "cell_type": "markdown",
   "metadata": {},
   "source": [
    "[5 points] Describe the final dataset that is used for classification/regression (include a description of any newly formed variables you created). "
   ]
  },
  {
   "cell_type": "markdown",
   "metadata": {},
   "source": [
    "## Section 2: Modeling and Evaluation"
   ]
  },
  {
   "cell_type": "markdown",
   "metadata": {},
   "source": [
    "[10 points] Choose and explain your evaluation metrics that you will use (i.e., accuracy, precision, recall, F-measure, or any metric we have discussed). Why are the measure(s) appropriate for analyzing the results of your modeling? Give a detailed explanation backing up any assertions.\n",
    "\n",
    "Our primary metric for evaluating model performance is Area Under the Curve (AUC). AUC score provides a good balance between accuracy, specificity, and sensitivity. In an unbalanced data set such as this one, you cannot rely on accuracy alone. \n",
    "\n",
    "Since 92% of the observations in the data set are losers, creating a \"model\" that predicts a loss for every observation would have an accuracy of 92% but offer no practical use."
   ]
  },
  {
   "cell_type": "markdown",
   "metadata": {},
   "source": [
    "[10 points] Choose the method you will use for dividing your data into training and testing splits (i.e., are you using Stratified 10-fold cross validation? Why?). Explain why your chosen method is appropriate or use more than one method as appropriate.\n",
    "\n",
    "For dividing our test and train data sets we used 10-fold Stratified Cross Validation (CV). In 10-fold CV, the data set is divided into 10 groups where one becomes the hold out (test) set and the other 9 become the training data. In Stratified CV, the proportion of observations is preserved in each fold. There are many more losers than winners in this data set. Therefore, preserving the proportion of winners to losers in each fold is important to ensure you do not accidentally create a test set of all losers."
   ]
  },
  {
   "cell_type": "code",
   "execution_count": 10,
   "metadata": {},
   "outputs": [
    {
     "data": {
      "text/html": [
       "<div>\n",
       "<style scoped>\n",
       "    .dataframe tbody tr th:only-of-type {\n",
       "        vertical-align: middle;\n",
       "    }\n",
       "\n",
       "    .dataframe tbody tr th {\n",
       "        vertical-align: top;\n",
       "    }\n",
       "\n",
       "    .dataframe thead th {\n",
       "        text-align: right;\n",
       "    }\n",
       "</style>\n",
       "<table border=\"1\" class=\"dataframe\">\n",
       "  <thead>\n",
       "    <tr style=\"text-align: right;\">\n",
       "      <th></th>\n",
       "      <th>Unnamed: 0</th>\n",
       "      <th>race_id</th>\n",
       "      <th>horse_no</th>\n",
       "      <th>horse_id</th>\n",
       "      <th>result</th>\n",
       "      <th>won</th>\n",
       "      <th>lengths_behind</th>\n",
       "      <th>horse_age</th>\n",
       "      <th>horse_country</th>\n",
       "      <th>horse_type</th>\n",
       "      <th>...</th>\n",
       "      <th>horse_type_Brown</th>\n",
       "      <th>horse_type_Colt</th>\n",
       "      <th>horse_type_Filly</th>\n",
       "      <th>horse_type_Gelding</th>\n",
       "      <th>horse_type_Grey</th>\n",
       "      <th>horse_type_Horse</th>\n",
       "      <th>horse_type_Mare</th>\n",
       "      <th>horse_type_Rig</th>\n",
       "      <th>horse_type_Roan</th>\n",
       "      <th>show</th>\n",
       "    </tr>\n",
       "  </thead>\n",
       "  <tbody>\n",
       "    <tr>\n",
       "      <th>0</th>\n",
       "      <td>0</td>\n",
       "      <td>0</td>\n",
       "      <td>1</td>\n",
       "      <td>3917</td>\n",
       "      <td>10</td>\n",
       "      <td>0.0</td>\n",
       "      <td>8.00</td>\n",
       "      <td>3</td>\n",
       "      <td>AUS</td>\n",
       "      <td>Gelding</td>\n",
       "      <td>...</td>\n",
       "      <td>0</td>\n",
       "      <td>0</td>\n",
       "      <td>0</td>\n",
       "      <td>1</td>\n",
       "      <td>0</td>\n",
       "      <td>0</td>\n",
       "      <td>0</td>\n",
       "      <td>0</td>\n",
       "      <td>0</td>\n",
       "      <td>0</td>\n",
       "    </tr>\n",
       "    <tr>\n",
       "      <th>1</th>\n",
       "      <td>1</td>\n",
       "      <td>0</td>\n",
       "      <td>2</td>\n",
       "      <td>2157</td>\n",
       "      <td>8</td>\n",
       "      <td>0.0</td>\n",
       "      <td>5.75</td>\n",
       "      <td>3</td>\n",
       "      <td>NZ</td>\n",
       "      <td>Gelding</td>\n",
       "      <td>...</td>\n",
       "      <td>0</td>\n",
       "      <td>0</td>\n",
       "      <td>0</td>\n",
       "      <td>1</td>\n",
       "      <td>0</td>\n",
       "      <td>0</td>\n",
       "      <td>0</td>\n",
       "      <td>0</td>\n",
       "      <td>0</td>\n",
       "      <td>0</td>\n",
       "    </tr>\n",
       "    <tr>\n",
       "      <th>2</th>\n",
       "      <td>2</td>\n",
       "      <td>0</td>\n",
       "      <td>3</td>\n",
       "      <td>858</td>\n",
       "      <td>7</td>\n",
       "      <td>0.0</td>\n",
       "      <td>4.75</td>\n",
       "      <td>3</td>\n",
       "      <td>NZ</td>\n",
       "      <td>Gelding</td>\n",
       "      <td>...</td>\n",
       "      <td>0</td>\n",
       "      <td>0</td>\n",
       "      <td>0</td>\n",
       "      <td>1</td>\n",
       "      <td>0</td>\n",
       "      <td>0</td>\n",
       "      <td>0</td>\n",
       "      <td>0</td>\n",
       "      <td>0</td>\n",
       "      <td>0</td>\n",
       "    </tr>\n",
       "    <tr>\n",
       "      <th>3</th>\n",
       "      <td>3</td>\n",
       "      <td>0</td>\n",
       "      <td>4</td>\n",
       "      <td>1853</td>\n",
       "      <td>9</td>\n",
       "      <td>0.0</td>\n",
       "      <td>6.25</td>\n",
       "      <td>3</td>\n",
       "      <td>SAF</td>\n",
       "      <td>Gelding</td>\n",
       "      <td>...</td>\n",
       "      <td>0</td>\n",
       "      <td>0</td>\n",
       "      <td>0</td>\n",
       "      <td>1</td>\n",
       "      <td>0</td>\n",
       "      <td>0</td>\n",
       "      <td>0</td>\n",
       "      <td>0</td>\n",
       "      <td>0</td>\n",
       "      <td>0</td>\n",
       "    </tr>\n",
       "    <tr>\n",
       "      <th>4</th>\n",
       "      <td>4</td>\n",
       "      <td>0</td>\n",
       "      <td>5</td>\n",
       "      <td>2796</td>\n",
       "      <td>6</td>\n",
       "      <td>0.0</td>\n",
       "      <td>3.75</td>\n",
       "      <td>3</td>\n",
       "      <td>GB</td>\n",
       "      <td>Gelding</td>\n",
       "      <td>...</td>\n",
       "      <td>0</td>\n",
       "      <td>0</td>\n",
       "      <td>0</td>\n",
       "      <td>1</td>\n",
       "      <td>0</td>\n",
       "      <td>0</td>\n",
       "      <td>0</td>\n",
       "      <td>0</td>\n",
       "      <td>0</td>\n",
       "      <td>0</td>\n",
       "    </tr>\n",
       "    <tr>\n",
       "      <th>5</th>\n",
       "      <td>5</td>\n",
       "      <td>0</td>\n",
       "      <td>6</td>\n",
       "      <td>3296</td>\n",
       "      <td>3</td>\n",
       "      <td>0.0</td>\n",
       "      <td>1.25</td>\n",
       "      <td>3</td>\n",
       "      <td>NZ</td>\n",
       "      <td>Gelding</td>\n",
       "      <td>...</td>\n",
       "      <td>0</td>\n",
       "      <td>0</td>\n",
       "      <td>0</td>\n",
       "      <td>1</td>\n",
       "      <td>0</td>\n",
       "      <td>0</td>\n",
       "      <td>0</td>\n",
       "      <td>0</td>\n",
       "      <td>0</td>\n",
       "      <td>1</td>\n",
       "    </tr>\n",
       "    <tr>\n",
       "      <th>6</th>\n",
       "      <td>6</td>\n",
       "      <td>0</td>\n",
       "      <td>7</td>\n",
       "      <td>911</td>\n",
       "      <td>12</td>\n",
       "      <td>0.0</td>\n",
       "      <td>9.50</td>\n",
       "      <td>3</td>\n",
       "      <td>NZ</td>\n",
       "      <td>Gelding</td>\n",
       "      <td>...</td>\n",
       "      <td>0</td>\n",
       "      <td>0</td>\n",
       "      <td>0</td>\n",
       "      <td>1</td>\n",
       "      <td>0</td>\n",
       "      <td>0</td>\n",
       "      <td>0</td>\n",
       "      <td>0</td>\n",
       "      <td>0</td>\n",
       "      <td>0</td>\n",
       "    </tr>\n",
       "    <tr>\n",
       "      <th>7</th>\n",
       "      <td>7</td>\n",
       "      <td>0</td>\n",
       "      <td>8</td>\n",
       "      <td>2170</td>\n",
       "      <td>1</td>\n",
       "      <td>1.0</td>\n",
       "      <td>0.00</td>\n",
       "      <td>3</td>\n",
       "      <td>AUS</td>\n",
       "      <td>Gelding</td>\n",
       "      <td>...</td>\n",
       "      <td>0</td>\n",
       "      <td>0</td>\n",
       "      <td>0</td>\n",
       "      <td>1</td>\n",
       "      <td>0</td>\n",
       "      <td>0</td>\n",
       "      <td>0</td>\n",
       "      <td>0</td>\n",
       "      <td>0</td>\n",
       "      <td>1</td>\n",
       "    </tr>\n",
       "    <tr>\n",
       "      <th>8</th>\n",
       "      <td>8</td>\n",
       "      <td>0</td>\n",
       "      <td>9</td>\n",
       "      <td>1730</td>\n",
       "      <td>13</td>\n",
       "      <td>0.0</td>\n",
       "      <td>9.75</td>\n",
       "      <td>3</td>\n",
       "      <td>NZ</td>\n",
       "      <td>Gelding</td>\n",
       "      <td>...</td>\n",
       "      <td>0</td>\n",
       "      <td>0</td>\n",
       "      <td>0</td>\n",
       "      <td>1</td>\n",
       "      <td>0</td>\n",
       "      <td>0</td>\n",
       "      <td>0</td>\n",
       "      <td>0</td>\n",
       "      <td>0</td>\n",
       "      <td>0</td>\n",
       "    </tr>\n",
       "    <tr>\n",
       "      <th>9</th>\n",
       "      <td>9</td>\n",
       "      <td>0</td>\n",
       "      <td>10</td>\n",
       "      <td>2998</td>\n",
       "      <td>14</td>\n",
       "      <td>0.0</td>\n",
       "      <td>999.00</td>\n",
       "      <td>3</td>\n",
       "      <td>AUS</td>\n",
       "      <td>Mare</td>\n",
       "      <td>...</td>\n",
       "      <td>0</td>\n",
       "      <td>0</td>\n",
       "      <td>0</td>\n",
       "      <td>0</td>\n",
       "      <td>0</td>\n",
       "      <td>0</td>\n",
       "      <td>1</td>\n",
       "      <td>0</td>\n",
       "      <td>0</td>\n",
       "      <td>0</td>\n",
       "    </tr>\n",
       "  </tbody>\n",
       "</table>\n",
       "<p>10 rows × 55 columns</p>\n",
       "</div>"
      ],
      "text/plain": [
       "   Unnamed: 0  race_id  horse_no  horse_id  result  won  lengths_behind  \\\n",
       "0           0        0         1      3917      10  0.0            8.00   \n",
       "1           1        0         2      2157       8  0.0            5.75   \n",
       "2           2        0         3       858       7  0.0            4.75   \n",
       "3           3        0         4      1853       9  0.0            6.25   \n",
       "4           4        0         5      2796       6  0.0            3.75   \n",
       "5           5        0         6      3296       3  0.0            1.25   \n",
       "6           6        0         7       911      12  0.0            9.50   \n",
       "7           7        0         8      2170       1  1.0            0.00   \n",
       "8           8        0         9      1730      13  0.0            9.75   \n",
       "9           9        0        10      2998      14  0.0          999.00   \n",
       "\n",
       "   horse_age horse_country horse_type  ...  horse_type_Brown horse_type_Colt  \\\n",
       "0          3           AUS    Gelding  ...                 0               0   \n",
       "1          3            NZ    Gelding  ...                 0               0   \n",
       "2          3            NZ    Gelding  ...                 0               0   \n",
       "3          3           SAF    Gelding  ...                 0               0   \n",
       "4          3            GB    Gelding  ...                 0               0   \n",
       "5          3            NZ    Gelding  ...                 0               0   \n",
       "6          3            NZ    Gelding  ...                 0               0   \n",
       "7          3           AUS    Gelding  ...                 0               0   \n",
       "8          3            NZ    Gelding  ...                 0               0   \n",
       "9          3           AUS       Mare  ...                 0               0   \n",
       "\n",
       "   horse_type_Filly  horse_type_Gelding  horse_type_Grey  horse_type_Horse  \\\n",
       "0                 0                   1                0                 0   \n",
       "1                 0                   1                0                 0   \n",
       "2                 0                   1                0                 0   \n",
       "3                 0                   1                0                 0   \n",
       "4                 0                   1                0                 0   \n",
       "5                 0                   1                0                 0   \n",
       "6                 0                   1                0                 0   \n",
       "7                 0                   1                0                 0   \n",
       "8                 0                   1                0                 0   \n",
       "9                 0                   0                0                 0   \n",
       "\n",
       "   horse_type_Mare  horse_type_Rig  horse_type_Roan  show  \n",
       "0                0               0                0     0  \n",
       "1                0               0                0     0  \n",
       "2                0               0                0     0  \n",
       "3                0               0                0     0  \n",
       "4                0               0                0     0  \n",
       "5                0               0                0     1  \n",
       "6                0               0                0     0  \n",
       "7                0               0                0     1  \n",
       "8                0               0                0     0  \n",
       "9                1               0                0     0  \n",
       "\n",
       "[10 rows x 55 columns]"
      ]
     },
     "execution_count": 10,
     "metadata": {},
     "output_type": "execute_result"
    }
   ],
   "source": [
    "# Add a Show result feature\n",
    "runs_df['show'] = np.where(runs_df['result'] <= 3, 1, 0)\n",
    "runs_df.head(10)"
   ]
  },
  {
   "cell_type": "code",
   "execution_count": 11,
   "metadata": {},
   "outputs": [
    {
     "data": {
      "text/html": [
       "<div>\n",
       "<style scoped>\n",
       "    .dataframe tbody tr th:only-of-type {\n",
       "        vertical-align: middle;\n",
       "    }\n",
       "\n",
       "    .dataframe tbody tr th {\n",
       "        vertical-align: top;\n",
       "    }\n",
       "\n",
       "    .dataframe thead th {\n",
       "        text-align: right;\n",
       "    }\n",
       "</style>\n",
       "<table border=\"1\" class=\"dataframe\">\n",
       "  <thead>\n",
       "    <tr style=\"text-align: right;\">\n",
       "      <th></th>\n",
       "      <th>horse_no</th>\n",
       "      <th>horse_age</th>\n",
       "      <th>horse_rating</th>\n",
       "      <th>declared_weight</th>\n",
       "      <th>actual_weight</th>\n",
       "      <th>draw</th>\n",
       "      <th>win_odds</th>\n",
       "      <th>place_odds</th>\n",
       "      <th>horse_country_ARG</th>\n",
       "      <th>horse_country_AUS</th>\n",
       "      <th>...</th>\n",
       "      <th>horse_country_ZIM</th>\n",
       "      <th>horse_type_Brown</th>\n",
       "      <th>horse_type_Colt</th>\n",
       "      <th>horse_type_Filly</th>\n",
       "      <th>horse_type_Gelding</th>\n",
       "      <th>horse_type_Grey</th>\n",
       "      <th>horse_type_Horse</th>\n",
       "      <th>horse_type_Mare</th>\n",
       "      <th>horse_type_Rig</th>\n",
       "      <th>horse_type_Roan</th>\n",
       "    </tr>\n",
       "  </thead>\n",
       "  <tbody>\n",
       "    <tr>\n",
       "      <th>0</th>\n",
       "      <td>1</td>\n",
       "      <td>3</td>\n",
       "      <td>60</td>\n",
       "      <td>1020.0</td>\n",
       "      <td>133</td>\n",
       "      <td>7</td>\n",
       "      <td>9.7</td>\n",
       "      <td>3.7</td>\n",
       "      <td>0</td>\n",
       "      <td>1</td>\n",
       "      <td>...</td>\n",
       "      <td>0</td>\n",
       "      <td>0</td>\n",
       "      <td>0</td>\n",
       "      <td>0</td>\n",
       "      <td>1</td>\n",
       "      <td>0</td>\n",
       "      <td>0</td>\n",
       "      <td>0</td>\n",
       "      <td>0</td>\n",
       "      <td>0</td>\n",
       "    </tr>\n",
       "    <tr>\n",
       "      <th>1</th>\n",
       "      <td>2</td>\n",
       "      <td>3</td>\n",
       "      <td>60</td>\n",
       "      <td>980.0</td>\n",
       "      <td>133</td>\n",
       "      <td>12</td>\n",
       "      <td>16.0</td>\n",
       "      <td>4.9</td>\n",
       "      <td>0</td>\n",
       "      <td>0</td>\n",
       "      <td>...</td>\n",
       "      <td>0</td>\n",
       "      <td>0</td>\n",
       "      <td>0</td>\n",
       "      <td>0</td>\n",
       "      <td>1</td>\n",
       "      <td>0</td>\n",
       "      <td>0</td>\n",
       "      <td>0</td>\n",
       "      <td>0</td>\n",
       "      <td>0</td>\n",
       "    </tr>\n",
       "    <tr>\n",
       "      <th>2</th>\n",
       "      <td>3</td>\n",
       "      <td>3</td>\n",
       "      <td>60</td>\n",
       "      <td>1082.0</td>\n",
       "      <td>132</td>\n",
       "      <td>8</td>\n",
       "      <td>3.5</td>\n",
       "      <td>1.5</td>\n",
       "      <td>0</td>\n",
       "      <td>0</td>\n",
       "      <td>...</td>\n",
       "      <td>0</td>\n",
       "      <td>0</td>\n",
       "      <td>0</td>\n",
       "      <td>0</td>\n",
       "      <td>1</td>\n",
       "      <td>0</td>\n",
       "      <td>0</td>\n",
       "      <td>0</td>\n",
       "      <td>0</td>\n",
       "      <td>0</td>\n",
       "    </tr>\n",
       "    <tr>\n",
       "      <th>3</th>\n",
       "      <td>4</td>\n",
       "      <td>3</td>\n",
       "      <td>60</td>\n",
       "      <td>1118.0</td>\n",
       "      <td>127</td>\n",
       "      <td>13</td>\n",
       "      <td>39.0</td>\n",
       "      <td>11.0</td>\n",
       "      <td>0</td>\n",
       "      <td>0</td>\n",
       "      <td>...</td>\n",
       "      <td>0</td>\n",
       "      <td>0</td>\n",
       "      <td>0</td>\n",
       "      <td>0</td>\n",
       "      <td>1</td>\n",
       "      <td>0</td>\n",
       "      <td>0</td>\n",
       "      <td>0</td>\n",
       "      <td>0</td>\n",
       "      <td>0</td>\n",
       "    </tr>\n",
       "    <tr>\n",
       "      <th>4</th>\n",
       "      <td>5</td>\n",
       "      <td>3</td>\n",
       "      <td>60</td>\n",
       "      <td>972.0</td>\n",
       "      <td>131</td>\n",
       "      <td>14</td>\n",
       "      <td>50.0</td>\n",
       "      <td>14.0</td>\n",
       "      <td>0</td>\n",
       "      <td>0</td>\n",
       "      <td>...</td>\n",
       "      <td>0</td>\n",
       "      <td>0</td>\n",
       "      <td>0</td>\n",
       "      <td>0</td>\n",
       "      <td>1</td>\n",
       "      <td>0</td>\n",
       "      <td>0</td>\n",
       "      <td>0</td>\n",
       "      <td>0</td>\n",
       "      <td>0</td>\n",
       "    </tr>\n",
       "  </tbody>\n",
       "</table>\n",
       "<p>5 rows × 33 columns</p>\n",
       "</div>"
      ],
      "text/plain": [
       "   horse_no  horse_age  horse_rating  declared_weight  actual_weight  draw  \\\n",
       "0         1          3            60           1020.0            133     7   \n",
       "1         2          3            60            980.0            133    12   \n",
       "2         3          3            60           1082.0            132     8   \n",
       "3         4          3            60           1118.0            127    13   \n",
       "4         5          3            60            972.0            131    14   \n",
       "\n",
       "   win_odds  place_odds  horse_country_ARG  horse_country_AUS  ...  \\\n",
       "0       9.7         3.7                  0                  1  ...   \n",
       "1      16.0         4.9                  0                  0  ...   \n",
       "2       3.5         1.5                  0                  0  ...   \n",
       "3      39.0        11.0                  0                  0  ...   \n",
       "4      50.0        14.0                  0                  0  ...   \n",
       "\n",
       "   horse_country_ZIM  horse_type_Brown  horse_type_Colt  horse_type_Filly  \\\n",
       "0                  0                 0                0                 0   \n",
       "1                  0                 0                0                 0   \n",
       "2                  0                 0                0                 0   \n",
       "3                  0                 0                0                 0   \n",
       "4                  0                 0                0                 0   \n",
       "\n",
       "   horse_type_Gelding  horse_type_Grey  horse_type_Horse  horse_type_Mare  \\\n",
       "0                   1                0                 0                0   \n",
       "1                   1                0                 0                0   \n",
       "2                   1                0                 0                0   \n",
       "3                   1                0                 0                0   \n",
       "4                   1                0                 0                0   \n",
       "\n",
       "   horse_type_Rig  horse_type_Roan  \n",
       "0               0                0  \n",
       "1               0                0  \n",
       "2               0                0  \n",
       "3               0                0  \n",
       "4               0                0  \n",
       "\n",
       "[5 rows x 33 columns]"
      ]
     },
     "execution_count": 11,
     "metadata": {},
     "output_type": "execute_result"
    }
   ],
   "source": [
    "runs_data = runs_df.drop(['Unnamed: 0','race_id','horse_id','result','won','lengths_behind','horse_country','horse_type','horse_gear','position_sec1','position_sec2','position_sec3','behind_sec1','behind_sec2','behind_sec3','time1','time2','time3','finish_time','trainer_id','jockey_id','show'], axis=1)\n",
    "runs_target = runs_df['won']\n",
    "runs_target2 = runs_df['show']\n",
    "runs_data.head()"
   ]
  },
  {
   "cell_type": "markdown",
   "metadata": {},
   "source": [
    "## Example on how to scale, model, and get metrics while using cross validation with a pipeline\n",
    "## Example also shows how to use this to tune a tune a hyper-parameter\n",
    "\n",
    "#### Possible adjustments you should look at\n",
    "- The parameter being hypertuned and values at the start of the loop\n",
    "- Is the scaler type what you want\n",
    "- Is the model information updated\n",
    "- The cross_validate() function uses runs_data and runs_target to check for win. You need to unpdate to runs_target2 to check for show\n",
    "- You should also update the first print statement to reflect your hyperparameter name\n",
    "- This should be applied to all models so we are consistent because original method was not fully utilizing all splits"
   ]
  },
  {
   "cell_type": "code",
   "execution_count": 13,
   "metadata": {},
   "outputs": [
    {
     "name": "stdout",
     "output_type": "stream",
     "text": [
      "When k = 5\n",
      "   Mean Precision:  0.1707903968285776\n",
      "   Mean AUC:  0.6037496094198885\n",
      "   Mean Accuracy:  0.9109474346868114\n",
      "   Mean Time per Split:  60.10656623840332\n",
      " \n",
      "When k = 10\n",
      "   Mean Precision:  0.19799228641036284\n",
      "   Mean AUC:  0.6449143833331827\n",
      "   Mean Accuracy:  0.9179792256846081\n",
      "   Mean Time per Split:  60.38502929210663\n",
      " \n",
      "When k = 15\n",
      "   Mean Precision:  0.21956862876052713\n",
      "   Mean AUC:  0.6656412889660149\n",
      "   Mean Accuracy:  0.9192760465848284\n",
      "   Mean Time per Split:  63.37887809276581\n",
      " \n",
      "When k = 20\n",
      "   Mean Precision:  0.14989177489177488\n",
      "   Mean AUC:  0.6770072562898461\n",
      "   Mean Accuracy:  0.9196285804217814\n",
      "   Mean Time per Split:  63.42254602909088\n",
      " \n",
      "When k = 25\n",
      "   Mean Precision:  0.18666666666666668\n",
      "   Mean AUC:  0.6841538393917366\n",
      "   Mean Accuracy:  0.9197922568460812\n",
      "   Mean Time per Split:  69.5132155418396\n",
      " \n"
     ]
    }
   ],
   "source": [
    "#Referenced website: https://machinelearningmastery.com/data-preparation-without-data-leakage/\n",
    "Kvals = [5,10,15,20,25]\n",
    "for k in Kvals:\n",
    "    # define the pipeline\n",
    "    steps = list()\n",
    "    steps.append(('scaler', StandardScaler()))\n",
    "    steps.append(('model', KNeighborsClassifier(n_neighbors=k, weights='distance', metric='euclidean')))\n",
    "    pipeline = Pipeline(steps=steps)\n",
    "\n",
    "    # define the evaluation procedure\n",
    "    cv = StratifiedShuffleSplit(n_splits = 10, test_size = 0.2, train_size=0.8, random_state = 0)\n",
    "\n",
    "    #Modeling with pipeline and scoring with cross_validate()\n",
    "    scores = cross_validate(pipeline, runs_data, runs_target, scoring=['roc_auc','accuracy','precision'],\n",
    "                             cv=cv, return_train_score=False)\n",
    "    print('When k =',k)\n",
    "    print('   Mean Precision: ',np.mean(scores['test_precision']))\n",
    "    print('   Mean AUC: ',np.mean(scores['test_roc_auc']))\n",
    "    print('   Mean Accuracy: ',np.mean(scores['test_accuracy']))\n",
    "    print('   Mean Time per Split: ',np.mean(scores['fit_time'])+np.mean(scores['score_time']))\n",
    "    print(' ')"
   ]
  },
  {
   "cell_type": "markdown",
   "metadata": {},
   "source": [
    "### All references to the below three cells should be removed as this will be deleted"
   ]
  },
  {
   "cell_type": "code",
   "execution_count": 16,
   "metadata": {},
   "outputs": [],
   "source": [
    "# CV for the 'show' target\n",
    "cv_Show = StratifiedShuffleSplit(n_splits = 10, test_size = 0.2, train_size=0.8, random_state = 0)\n",
    "\n",
    "# fill in the training and testing data and save as separate variables\n",
    "for trainidx_Show, testidx_Show in cv.split(runs_data,runs_target2):\n",
    "    # note that these are sparse matrices\n",
    "    X_train_Show,X_test_Show = runs_data.iloc[trainidx_Show], runs_data.iloc[testidx_Show] \n",
    "    Y_train_Show, Y_test_Show = runs_target.iloc[trainidx_Show], runs_target.iloc[testidx_Show]"
   ]
  },
  {
   "cell_type": "code",
   "execution_count": 5,
   "metadata": {},
   "outputs": [],
   "source": [
    "# CV for the 'won' target\n",
    "cv = StratifiedShuffleSplit(n_splits = 10, test_size = 0.2, train_size=0.8, random_state = 0)\n",
    "\n",
    "# fill in the training and testing data and save as separate variables\n",
    "for trainidx, testidx in cv.split(runs_data,runs_target):\n",
    "    # note that these are sparse matrices\n",
    "    X_train,X_test = runs_data.iloc[trainidx], runs_data.iloc[testidx] \n",
    "    Y_train, Y_test = runs_target.iloc[trainidx], runs_target.iloc[testidx]"
   ]
  },
  {
   "cell_type": "code",
   "execution_count": 17,
   "metadata": {},
   "outputs": [],
   "source": [
    "scl_obj = StandardScaler()\n",
    "X_train = scl_obj.fit_transform(X_train, y = None)\n",
    "X_test = scl_obj.fit_transform(X_test, y = None)\n",
    "\n",
    "scl_obj = StandardScaler()\n",
    "X_train_Show = scl_obj.fit_transform(X_train_Show, y = None)\n",
    "X_test_Show = scl_obj.fit_transform(X_test_Show, y = None)"
   ]
  },
  {
   "cell_type": "markdown",
   "metadata": {},
   "source": [
    "### Section 2.1: Model 1 - K-Nearest Neighbors"
   ]
  },
  {
   "cell_type": "markdown",
   "metadata": {},
   "source": [
    "K-Nearest Neighbors is an algorithm frequently used for classification. In order to classify an observation, the algorithm measures the distance from the given observation to it's K nearest neighbors, where K is a tunable parameter.\n",
    "\n",
    "For each iteration of the model fitting, we try a different K value and print out the model precision and AUC score. Because the data set is not balanced, we use AUC as the primary metric for comparing model performance. If we used accuracy, we could achieve an accuracy of over 90% simply by classifying every observation as a \"los\", but this has no practical use so we use Precision as a secondary metric instead."
   ]
  },
  {
   "cell_type": "markdown",
   "metadata": {},
   "source": [
    "First, we implemented two models. Both use Euclidean distance but one uses a uniform weight and the other uses distance. For uniform weight, all the nearest neighbors have the same impact in classification. In distance, closer neighbors have more impact.\n",
    "\n",
    "The difference in model performance for uniform vs. distance was negligable, but the model with weights='distance' trained more quickly so we elected to use that parameter."
   ]
  },
  {
   "cell_type": "markdown",
   "metadata": {},
   "source": [
    "#### Euclidean Distance, Uniform Weights"
   ]
  },
  {
   "cell_type": "code",
   "execution_count": 7,
   "metadata": {},
   "outputs": [
    {
     "name": "stdout",
     "output_type": "stream",
     "text": [
      "Precision of classifier with 3 neighbors is: 0.170  AUC: 0.515\n",
      "Precision of classifier with 5 neighbors is: 0.156  AUC: 0.505\n",
      "Precision of classifier with 7 neighbors is: 0.244  AUC: 0.505\n",
      "Precision of classifier with 9 neighbors is: 0.279  AUC: 0.504\n",
      "Precision of classifier with 11 neighbors is: 0.227  AUC: 0.501\n",
      "Precision of classifier with 13 neighbors is: 0.273  AUC: 0.501\n",
      "Precision of classifier with 15 neighbors is: 0.333  AUC: 0.500\n"
     ]
    },
    {
     "name": "stderr",
     "output_type": "stream",
     "text": [
      "/opt/anaconda3/lib/python3.8/site-packages/sklearn/metrics/_classification.py:1245: UndefinedMetricWarning: Precision is ill-defined and being set to 0.0 due to no predicted samples. Use `zero_division` parameter to control this behavior.\n",
      "  _warn_prf(average, modifier, msg_start, len(result))\n"
     ]
    },
    {
     "name": "stdout",
     "output_type": "stream",
     "text": [
      "Precision of classifier with 17 neighbors is: 0.000  AUC: 0.500\n"
     ]
    },
    {
     "name": "stderr",
     "output_type": "stream",
     "text": [
      "/opt/anaconda3/lib/python3.8/site-packages/sklearn/metrics/_classification.py:1245: UndefinedMetricWarning: Precision is ill-defined and being set to 0.0 due to no predicted samples. Use `zero_division` parameter to control this behavior.\n",
      "  _warn_prf(average, modifier, msg_start, len(result))\n"
     ]
    },
    {
     "name": "stdout",
     "output_type": "stream",
     "text": [
      "Precision of classifier with 19 neighbors is: 0.000  AUC: 0.500\n",
      "Precision of classifier with 21 neighbors is: 0.000  AUC: 0.500\n"
     ]
    },
    {
     "name": "stderr",
     "output_type": "stream",
     "text": [
      "/opt/anaconda3/lib/python3.8/site-packages/sklearn/metrics/_classification.py:1245: UndefinedMetricWarning: Precision is ill-defined and being set to 0.0 due to no predicted samples. Use `zero_division` parameter to control this behavior.\n",
      "  _warn_prf(average, modifier, msg_start, len(result))\n"
     ]
    }
   ],
   "source": [
    "# Use Euclidean distance and iterate over several K-values\n",
    "## ‘uniform’ : uniform weights. All points in each neighborhood are weighted equally.\n",
    "Kvals = [3,5,7,9,11,13,15,17,19,21]\n",
    "for x in Kvals:\n",
    "    clf_knn = KNeighborsClassifier(n_neighbors=x, weights='uniform', metric='euclidean')\n",
    "    clf_knn.fit(X_train,Y_train)\n",
    "    yhat= clf_knn.predict(X_test)\n",
    "    acc = mt.accuracy_score(Y_test,yhat)\n",
    "    prec = mt.precision_score(Y_test,yhat)\n",
    "    auc = roc_auc_score(Y_test,yhat)\n",
    "    conf = mt.confusion_matrix(Y_test,yhat)\n",
    "    print('Precision of classifier with %d neighbors is: %.3f'%(x,prec), ' AUC: %.3f'%auc)"
   ]
  },
  {
   "cell_type": "markdown",
   "metadata": {},
   "source": [
    "#### Euclidean Distance, Distance Weights"
   ]
  },
  {
   "cell_type": "code",
   "execution_count": 8,
   "metadata": {},
   "outputs": [
    {
     "name": "stdout",
     "output_type": "stream",
     "text": [
      "Precision of classifier with 3 neighbors is: 0.178  AUC: 0.520\n",
      "Precision of classifier with 5 neighbors is: 0.175  AUC: 0.509\n",
      "Precision of classifier with 7 neighbors is: 0.250  AUC: 0.509\n",
      "Precision of classifier with 9 neighbors is: 0.258  AUC: 0.505\n",
      "Precision of classifier with 11 neighbors is: 0.263  AUC: 0.503\n",
      "Precision of classifier with 13 neighbors is: 0.238  AUC: 0.501\n",
      "Precision of classifier with 15 neighbors is: 0.250  AUC: 0.501\n",
      "Precision of classifier with 17 neighbors is: 0.500  AUC: 0.501\n",
      "Precision of classifier with 19 neighbors is: 1.000  AUC: 0.500\n",
      "Precision of classifier with 21 neighbors is: 0.000  AUC: 0.500\n"
     ]
    },
    {
     "name": "stderr",
     "output_type": "stream",
     "text": [
      "/opt/anaconda3/lib/python3.8/site-packages/sklearn/metrics/_classification.py:1245: UndefinedMetricWarning: Precision is ill-defined and being set to 0.0 due to no predicted samples. Use `zero_division` parameter to control this behavior.\n",
      "  _warn_prf(average, modifier, msg_start, len(result))\n"
     ]
    }
   ],
   "source": [
    "# Use Euclidean distance - sqrt(sum((x - y)^2))\n",
    "## ‘distance’ : weight points by the inverse of their distance. \n",
    "##    in this case, closer neighbors of a query point will have a greater \n",
    "##    influence than neighbors which are further away.\n",
    "\n",
    "for x in Kvals:\n",
    "    clf_knn = KNeighborsClassifier(n_neighbors=x, weights='distance', metric='euclidean')\n",
    "    clf_knn.fit(X_train,Y_train)\n",
    "    yhat= clf_knn.predict(X_test)\n",
    "    acc = mt.accuracy_score(Y_test,yhat)\n",
    "    prec = mt.precision_score(Y_test,yhat)\n",
    "    auc = roc_auc_score(Y_test,yhat)\n",
    "    conf = mt.confusion_matrix(Y_test,yhat)\n",
    "    print('Precision of classifier with %d neighbors is: %.3f'%(x,prec), ' AUC: %.3f'%auc)    "
   ]
  },
  {
   "cell_type": "markdown",
   "metadata": {},
   "source": [
    "The next parameter we experimented with was the weight metric. We re-ran the model several times using different metrics from the sklearn DistanceMetric library, to include Manhatten and Chebyshev.\n",
    "\n",
    "Again, the model performance for the different metrics was negligable so we elected to use Euclidean distance since it is well optimized for large data sets."
   ]
  },
  {
   "cell_type": "markdown",
   "metadata": {},
   "source": [
    "#### Manhatten Distance"
   ]
  },
  {
   "cell_type": "code",
   "execution_count": 9,
   "metadata": {},
   "outputs": [
    {
     "name": "stdout",
     "output_type": "stream",
     "text": [
      "Precision of classifier with 3 neighbors is: 0.189  AUC: 0.521\n",
      "Precision of classifier with 5 neighbors is: 0.207  AUC: 0.511\n",
      "Precision of classifier with 7 neighbors is: 0.250  AUC: 0.507\n",
      "Precision of classifier with 9 neighbors is: 0.250  AUC: 0.504\n",
      "Precision of classifier with 11 neighbors is: 0.333  AUC: 0.504\n",
      "Precision of classifier with 13 neighbors is: 0.364  AUC: 0.503\n",
      "Precision of classifier with 15 neighbors is: 0.286  AUC: 0.501\n",
      "Precision of classifier with 17 neighbors is: 0.250  AUC: 0.500\n",
      "Precision of classifier with 19 neighbors is: 0.500  AUC: 0.500\n",
      "Precision of classifier with 21 neighbors is: 0.000  AUC: 0.500\n"
     ]
    },
    {
     "name": "stderr",
     "output_type": "stream",
     "text": [
      "/opt/anaconda3/lib/python3.8/site-packages/sklearn/metrics/_classification.py:1245: UndefinedMetricWarning: Precision is ill-defined and being set to 0.0 due to no predicted samples. Use `zero_division` parameter to control this behavior.\n",
      "  _warn_prf(average, modifier, msg_start, len(result))\n"
     ]
    }
   ],
   "source": [
    "# Use Manhatten distance - sum(|x - y|)\n",
    "\n",
    "for x in Kvals:\n",
    "    clf_knn = KNeighborsClassifier(n_neighbors=x, weights='distance', metric='manhattan')\n",
    "    clf_knn.fit(X_train,Y_train)\n",
    "    yhat= clf_knn.predict(X_test)\n",
    "    acc = mt.accuracy_score(Y_test,yhat)\n",
    "    prec = mt.precision_score(Y_test,yhat)\n",
    "    auc = roc_auc_score(Y_test,yhat)\n",
    "    conf = mt.confusion_matrix(Y_test,yhat)\n",
    "    print('Precision of classifier with %d neighbors is: %.3f'%(x,prec), ' AUC: %.3f'%auc)"
   ]
  },
  {
   "cell_type": "markdown",
   "metadata": {},
   "source": [
    "#### Chebyshev Distance"
   ]
  },
  {
   "cell_type": "code",
   "execution_count": 10,
   "metadata": {},
   "outputs": [
    {
     "name": "stdout",
     "output_type": "stream",
     "text": [
      "Precision of classifier with 3 neighbors is: 0.160  AUC: 0.516\n",
      "Precision of classifier with 5 neighbors is: 0.196  AUC: 0.511\n",
      "Precision of classifier with 7 neighbors is: 0.200  AUC: 0.505\n",
      "Precision of classifier with 9 neighbors is: 0.217  AUC: 0.503\n",
      "Precision of classifier with 11 neighbors is: 0.200  AUC: 0.502\n",
      "Precision of classifier with 13 neighbors is: 0.200  AUC: 0.501\n",
      "Precision of classifier with 15 neighbors is: 0.333  AUC: 0.501\n",
      "Precision of classifier with 17 neighbors is: 0.500  AUC: 0.500\n",
      "Precision of classifier with 19 neighbors is: 0.500  AUC: 0.500\n",
      "Precision of classifier with 21 neighbors is: 0.500  AUC: 0.500\n"
     ]
    }
   ],
   "source": [
    "# Use ChebyshevDistance distance - max(|x - y|)\n",
    "\n",
    "for x in Kvals:\n",
    "    clf_knn = KNeighborsClassifier(n_neighbors=x, weights='distance', metric='chebyshev')\n",
    "    clf_knn.fit(X_train,Y_train)\n",
    "    yhat= clf_knn.predict(X_test)\n",
    "    acc = mt.accuracy_score(Y_test,yhat)\n",
    "    prec = mt.precision_score(Y_test,yhat)\n",
    "    auc = roc_auc_score(Y_test,yhat)\n",
    "    conf = mt.confusion_matrix(Y_test,yhat)\n",
    "    print('Precision of classifier with %d neighbors is: %.3f'%(x,prec), ' AUC: %.3f'%auc)"
   ]
  },
  {
   "cell_type": "markdown",
   "metadata": {},
   "source": [
    "With each of the KNN models above, the precision and AUC tend to stabilize at around k=9 or 11. Note as the K value increases so too does the precision but the AUC decreases. Choosing a smaller K-value such as 7 produces a good balace between the different metrics.\n",
    "\n",
    "We fit a final KNN using the parameters selected: Euclidean, Distance weights for neighbors, and 7 neighbors."
   ]
  },
  {
   "cell_type": "markdown",
   "metadata": {},
   "source": [
    "#### KNN with Euclidean, Distance weight, and K=7 neighbors"
   ]
  },
  {
   "cell_type": "code",
   "execution_count": 22,
   "metadata": {},
   "outputs": [
    {
     "name": "stdout",
     "output_type": "stream",
     "text": [
      "Precision of classifier with 7 neighbors is: 0.250  AUC: 0.509\n"
     ]
    }
   ],
   "source": [
    "# Based on above, Euclidean with K=7 is a good combination of precision and AUC\n",
    "x=7\n",
    "clf_knn = KNeighborsClassifier(n_neighbors=x, weights='distance', metric='euclidean')\n",
    "clf_knn.fit(X_train,Y_train)\n",
    "yhat= clf_knn.predict(X_test)\n",
    "acc = mt.accuracy_score(Y_test,yhat)\n",
    "prec = mt.precision_score(Y_test,yhat)\n",
    "auc = roc_auc_score(Y_test,yhat)\n",
    "conf = mt.confusion_matrix(Y_test,yhat)\n",
    "print('Precision of classifier with %d neighbors is: %.3f'%(x,prec), ' AUC: %.3f'%auc)"
   ]
  },
  {
   "cell_type": "markdown",
   "metadata": {},
   "source": [
    "Below is the Confusion Matrix plotted for the model. As can be seen, it classified the majority of observations as loses (correctly). This makes sense since about 92% of the data set are horses who did not win their race."
   ]
  },
  {
   "cell_type": "markdown",
   "metadata": {},
   "source": [
    "#### Confusion Matrix for KNN Model"
   ]
  },
  {
   "cell_type": "code",
   "execution_count": 12,
   "metadata": {},
   "outputs": [
    {
     "data": {
      "text/plain": [
       "<sklearn.metrics._plot.confusion_matrix.ConfusionMatrixDisplay at 0x7ff7fca74c10>"
      ]
     },
     "execution_count": 12,
     "metadata": {},
     "output_type": "execute_result"
    },
    {
     "data": {
      "image/png": "[encoded data removed]",
      "text/plain": [
       "<Figure size 432x288 with 2 Axes>"
      ]
     },
     "metadata": {
      "needs_background": "light"
     },
     "output_type": "display_data"
    }
   ],
   "source": [
    "plot_confusion_matrix(clf_knn, X_test, Y_test)"
   ]
  },
  {
   "cell_type": "code",
   "execution_count": 23,
   "metadata": {},
   "outputs": [
    {
     "name": "stdout",
     "output_type": "stream",
     "text": [
      "Precision of classifier with 7 neighbors is: 0.250  AUC: 0.509\n"
     ]
    }
   ],
   "source": [
    "# I tried several different algorithm parameters here (e.g. kd_tree, ball_tree) without effect\n",
    "x=7\n",
    "clf_knn = KNeighborsClassifier(n_neighbors=x, weights='distance', metric='euclidean', algorithm='kd_tree')\n",
    "clf_knn.fit(X_train,Y_train)\n",
    "yhat= clf_knn.predict(X_test)\n",
    "acc = mt.accuracy_score(Y_test,yhat)\n",
    "prec = mt.precision_score(Y_test,yhat)\n",
    "auc = roc_auc_score(Y_test,yhat)\n",
    "conf = mt.confusion_matrix(Y_test,yhat)\n",
    "print('Precision of classifier with %d neighbors is: %.3f'%(x,prec), ' AUC: %.3f'%auc)"
   ]
  },
  {
   "cell_type": "markdown",
   "metadata": {},
   "source": [
    "From the Confusion Matrix above, notice the large number of false positives. The model incorrectly classified over 1000 observations as wins when they should have been loses. It only correctly classified about 50 wins. Since this data set is results of horse races, you can assume an interested party would be a gambler. The KNN model would not be of much benefit to a gambler due to the large number of Type I error in proportion to true positive results."
   ]
  },
  {
   "cell_type": "markdown",
   "metadata": {},
   "source": [
    "#### Predict Show Horses"
   ]
  },
  {
   "cell_type": "markdown",
   "metadata": {},
   "source": [
    "Next we generated several more KNN models where we predicted Show instead of Win. We tried several different metrics of measure and K values."
   ]
  },
  {
   "cell_type": "markdown",
   "metadata": {},
   "source": [
    "#### Euclidean distance for Show"
   ]
  },
  {
   "cell_type": "code",
   "execution_count": 24,
   "metadata": {},
   "outputs": [
    {
     "name": "stdout",
     "output_type": "stream",
     "text": [
      "Precision of classifier with 3 neighbors is: 0.127  AUC: 0.510\n",
      "Precision of classifier with 5 neighbors is: 0.113  AUC: 0.503\n",
      "Precision of classifier with 7 neighbors is: 0.137  AUC: 0.503\n",
      "Precision of classifier with 9 neighbors is: 0.180  AUC: 0.502\n",
      "Precision of classifier with 11 neighbors is: 0.222  AUC: 0.502\n",
      "Precision of classifier with 13 neighbors is: 0.240  AUC: 0.502\n",
      "Precision of classifier with 15 neighbors is: 0.214  AUC: 0.501\n",
      "Precision of classifier with 17 neighbors is: 0.091  AUC: 0.500\n",
      "Precision of classifier with 19 neighbors is: 0.167  AUC: 0.500\n",
      "Precision of classifier with 21 neighbors is: 0.250  AUC: 0.500\n"
     ]
    }
   ],
   "source": [
    "# Use Euclidean distance\n",
    "for x in Kvals:\n",
    "    clf_knn = KNeighborsClassifier(n_neighbors=x, weights='distance', metric='euclidean')\n",
    "    clf_knn.fit(X_train_Show,Y_train_Show)\n",
    "    yhat= clf_knn.predict(X_test_Show)\n",
    "    acc = mt.accuracy_score(Y_test_Show,yhat)\n",
    "    prec = mt.precision_score(Y_test_Show,yhat)\n",
    "    auc = roc_auc_score(Y_test_Show,yhat)\n",
    "    conf = mt.confusion_matrix(Y_test_Show,yhat)\n",
    "    print('Precision of classifier with %d neighbors is: %.3f'%(x,prec), ' AUC: %.3f'%auc)"
   ]
  },
  {
   "cell_type": "markdown",
   "metadata": {},
   "source": [
    "#### Manhattan distance for Show"
   ]
  },
  {
   "cell_type": "code",
   "execution_count": 25,
   "metadata": {},
   "outputs": [
    {
     "name": "stdout",
     "output_type": "stream",
     "text": [
      "Precision of classifier with 3 neighbors is: 0.154  AUC: 0.515\n",
      "Precision of classifier with 5 neighbors is: 0.180  AUC: 0.509\n",
      "Precision of classifier with 7 neighbors is: 0.158  AUC: 0.503\n",
      "Precision of classifier with 9 neighbors is: 0.164  AUC: 0.502\n",
      "Precision of classifier with 11 neighbors is: 0.182  AUC: 0.501\n",
      "Precision of classifier with 13 neighbors is: 0.238  AUC: 0.501\n",
      "Precision of classifier with 15 neighbors is: 0.182  AUC: 0.500\n",
      "Precision of classifier with 17 neighbors is: 0.286  AUC: 0.501\n",
      "Precision of classifier with 19 neighbors is: 0.500  AUC: 0.501\n",
      "Precision of classifier with 21 neighbors is: 0.000  AUC: 0.500\n"
     ]
    }
   ],
   "source": [
    "# Use manhattan distance\n",
    "for x in Kvals:\n",
    "    clf_knn = KNeighborsClassifier(n_neighbors=x, weights='distance', metric='manhattan')\n",
    "    clf_knn.fit(X_train_Show,Y_train_Show)\n",
    "    yhat= clf_knn.predict(X_test_Show)\n",
    "    acc = mt.accuracy_score(Y_test_Show,yhat)\n",
    "    prec = mt.precision_score(Y_test_Show,yhat)\n",
    "    auc = roc_auc_score(Y_test_Show,yhat)\n",
    "    conf = mt.confusion_matrix(Y_test_Show,yhat)\n",
    "    print('Precision of classifier with %d neighbors is: %.3f'%(x,prec), ' AUC: %.3f'%auc)"
   ]
  },
  {
   "cell_type": "markdown",
   "metadata": {},
   "source": [
    "#### Chebyshev distance for Show"
   ]
  },
  {
   "cell_type": "code",
   "execution_count": 29,
   "metadata": {},
   "outputs": [
    {
     "name": "stdout",
     "output_type": "stream",
     "text": [
      "Precision of classifier with 3 neighbors is: 0.104  AUC: 0.505\n",
      "Precision of classifier with 5 neighbors is: 0.115  AUC: 0.503\n",
      "Precision of classifier with 7 neighbors is: 0.115  AUC: 0.501\n",
      "Precision of classifier with 9 neighbors is: 0.180  AUC: 0.502\n",
      "Precision of classifier with 11 neighbors is: 0.172  AUC: 0.501\n",
      "Precision of classifier with 13 neighbors is: 0.118  AUC: 0.500\n",
      "Precision of classifier with 15 neighbors is: 0.222  AUC: 0.501\n",
      "Precision of classifier with 17 neighbors is: 0.286  AUC: 0.501\n",
      "Precision of classifier with 19 neighbors is: 0.500  AUC: 0.501\n",
      "Precision of classifier with 21 neighbors is: 0.333  AUC: 0.500\n"
     ]
    }
   ],
   "source": [
    "# Use Chebyshev distance\n",
    "for x in Kvals:\n",
    "    clf_knn = KNeighborsClassifier(n_neighbors=x, weights='distance', metric='chebyshev')\n",
    "    clf_knn.fit(X_train_Show,Y_train_Show)\n",
    "    yhat= clf_knn.predict(X_test_Show)\n",
    "    acc = mt.accuracy_score(Y_test_Show,yhat)\n",
    "    prec = mt.precision_score(Y_test_Show,yhat)\n",
    "    auc = roc_auc_score(Y_test_Show,yhat)\n",
    "    conf = mt.confusion_matrix(Y_test_Show,yhat)\n",
    "    print('Precision of classifier with %d neighbors is: %.3f'%(x,prec), ' AUC: %.3f'%auc)"
   ]
  },
  {
   "cell_type": "markdown",
   "metadata": {},
   "source": [
    "Across the different KNN models created to classify Show horses, the AUCs were all comparable to that of the KNN models for Win horses: slightly more than 0.5\n",
    "\n",
    "However, the precision was lower almost across the board. If I had to select one model, it would be the Euclidean distance metric with a K value of 13, although there a better model choices than KNN as we will see in the following sections of this Lab. In fact, in the Mini Lab we generated several Logistic Regression and SVM with significantly higher AUCs and precisions."
   ]
  },
  {
   "cell_type": "code",
   "execution_count": null,
   "metadata": {},
   "outputs": [],
   "source": []
  },
  {
   "cell_type": "markdown",
   "metadata": {},
   "source": [
    "### Section 2.2: Model 2 - Random Forest"
   ]
  },
  {
   "cell_type": "markdown",
   "metadata": {},
   "source": [
    "Implement model here, including precision, AUC score, and Confusion Matrix."
   ]
  },
  {
   "cell_type": "markdown",
   "metadata": {},
   "source": [
    "### Section 2.3: Model 3 - Support Vector Machines"
   ]
  },
  {
   "cell_type": "markdown",
   "metadata": {},
   "source": [
    "Implement model here, including precision, AUC score, and Confusion Matrix."
   ]
  },
  {
   "cell_type": "markdown",
   "metadata": {},
   "source": [
    "### Section 2.4: Model 4"
   ]
  },
  {
   "cell_type": "markdown",
   "metadata": {},
   "source": [
    "Implement model here, including precision, AUC score, and Confusion Matrix."
   ]
  },
  {
   "cell_type": "markdown",
   "metadata": {},
   "source": [
    "### Section 2.5: Model Comparison and Feature Importance"
   ]
  },
  {
   "cell_type": "markdown",
   "metadata": {},
   "source": [
    "[10 points] Discuss the advantages of each model for each classification task, if any. If there are not advantages, explain why. Is any model better than another? Is the difference significant with 95% confidence? Use proper statistical comparison methods.\n",
    "\n",
    "[10 points] Which attributes from your analysis are most important? Use proper methods discussed in class to evaluate the importance of different attributes. Discuss the results and hypothesize about why certain attributes are more important than others for a given classification task."
   ]
  },
  {
   "cell_type": "markdown",
   "metadata": {},
   "source": [
    "## Section 3: Deployment"
   ]
  },
  {
   "cell_type": "markdown",
   "metadata": {},
   "source": [
    "[5 points] How useful is your model for interested parties (i.e., the companies or organizations that might want to use it for prediction)? How would you measure the model's value if it was used by these parties? How would your deploy your model for interested parties? What other data should be collected? How often would the model need to be updated, etc.? "
   ]
  },
  {
   "cell_type": "markdown",
   "metadata": {},
   "source": [
    "## Section 4: Summary"
   ]
  },
  {
   "cell_type": "markdown",
   "metadata": {},
   "source": [
    "Summarize the Lab here."
   ]
  }
 ],
 "metadata": {
  "kernelspec": {
   "display_name": "Python [conda env:py37_r]",
   "language": "python",
   "name": "conda-env-py37_r-py"
  },
  "language_info": {
   "codemirror_mode": {
    "name": "ipython",
    "version": 3
   },
   "file_extension": ".py",
   "mimetype": "text/x-python",
   "name": "python",
   "nbconvert_exporter": "python",
   "pygments_lexer": "ipython3",
   "version": "3.7.7"
  }
 },
 "nbformat": 4,
 "nbformat_minor": 4
}
