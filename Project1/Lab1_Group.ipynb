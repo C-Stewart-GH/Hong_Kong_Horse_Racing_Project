{
 "cells": [
  {
   "cell_type": "markdown",
   "id": "dd58a569",
   "metadata": {},
   "source": [
    "Nathan Deinlein <br>\n",
    "Ryan Kinney <br>\n",
    "Chris Roche <br>\n",
    "Cameron Stewart <br>"
   ]
  },
  {
   "cell_type": "markdown",
   "id": "5fcc7905",
   "metadata": {},
   "source": [
    "# Machine Learning 1 - Project 1"
   ]
  },
  {
   "cell_type": "markdown",
   "id": "9b98fc11",
   "metadata": {},
   "source": [
    "## Section 1: Business Understanding "
   ]
  },
  {
   "cell_type": "markdown",
   "id": "3a438be5",
   "metadata": {},
   "source": [
    "For our lab report, our team decided to select a horse racing dataset where racing data was collected between 1997 and 2005 on Hong Kong’s two racetracks. This data was collected and posted on Kaggle (https://www.kaggle.com/gdaley/hkracing?select=runs.csv) with the goal of searching for information that can be used to generate profit when bets are placed on the horses competing. With a thorough analysis, a data scientist can gain an advantage over other horse betters."
   ]
  },
  {
   "cell_type": "markdown",
   "id": "ad1edc26",
   "metadata": {},
   "source": [
    "Within the dataset called “runs”, there is a response variable labeled “won”. This is a binary feature which shows whether each unique horse in a race won or did not win. Using a logistic regression model with our response being the “won” feature is a good way to be able to predict the outcomes of future horse races. This is especially useful when it comes to horse betting or gambling in general due to the fact that the odds of winning is a common metric used in the gambling industry. We can evaluate our logistic regression model with an accuracy score, sensitivity score, specificity score, or using AIC to compare competing models."
   ]
  },
  {
   "cell_type": "markdown",
   "id": "b6d010a8",
   "metadata": {},
   "source": [
    "However, in horse betting, betters have the option to place three kinds of bets. This includes betting on who will win (a win bet), betting on who will place first or second (a place bet), or betting on who will place first, second, or third (a show bet) (https://www.rgj.com/story/sports/2014/05/16/just-horse-betting-work/2212724/). "
   ]
  },
  {
   "cell_type": "markdown",
   "id": "3af25484",
   "metadata": {},
   "source": [
    "Luckily, this dataset includes another feature labeled “results” where the individual place of each unique horse in a race is recorded. With this feature, we can use an MLR model to predict the place of a horse and calculate metrics such as MSE and R2 to evaluate our predictions. Another option that could be useful for show betters is to transform the results feature into a binary feature where we count places first, second, and third as a win, and all other places as a loss. From there we can model using logistic regression using the same metrics as our logistic regression model using the “won” feature as our response."
   ]
  },
  {
   "cell_type": "markdown",
   "id": "938c2b0c",
   "metadata": {},
   "source": [
    "## Section 2: Data Meaning Type "
   ]
  },
  {
   "cell_type": "markdown",
   "id": "4a0b190e",
   "metadata": {},
   "source": [
    "The Horse Racing From Hong Kock dataset provided by Kaggle contains two datasets. The first is the “runs” dataset which contains 79,447 observations and 37 features. These features describe various aspects of a horse and its performance in a given race. Each observation in the runs dataset includes a race_id. Kaggle provides a second “races” dataset which race_id corresponds to. This provides information on the specific track and race such as surface condition, length, and prize. For this stage in our Exploratory Data Analysis, we focused on the “runs” dataset and did not pull in the “races” data. Potential uses for the “races” dataset as well as other possible data will be discussed in Section 8: New Features."
   ]
  },
  {
   "cell_type": "markdown",
   "id": "d3c1c21a",
   "metadata": {},
   "source": [
    "There are several key continuous features contained in the runs data set:\n",
    "- Result: the position the horse finished in. Integer values ranging from 1 - 14\n",
    "- Lengths_beyond: a floating point value indicating how far the horse completed behind the leader. The winning horse will have a lengths_behind of zero.\n",
    "- Declared_weight: floating point value for the weight of the horse, the jockey, and the equipment in pounds.\n",
    "- Actual_weight: floating point value for the weight the horse carried; i.e. the weight of the Jockey and equipment\n",
    "- Win_odds: floating point value for the odds of the horse to win the race\n",
    "- Place_odds: floating point value for the odds of the horse to place in 1st, 2nd, or 3rd"
   ]
  },
  {
   "cell_type": "markdown",
   "id": "216d77d7",
   "metadata": {},
   "source": [
    "Several key categorical features contained in the data set:\n",
    "- Won: a boolean value where 1 indicates the horse won the race and 0 indicates the horse did not. A horse with a Result of 1 will have a Won of 1. All others will have a Won of zero.\n",
    "- Horse_country: a country code for the country of origin for the horse. Examples are NZ, AUS, USA\n",
    "- Horse_type: examples are gelding, mare, rig\n",
    "- Horse_age: all horses in the data set are 2, 3, 4, 5, 6, 7, 8, 9, or 10 years old at the time of race. The average age of horses in the dataset is 3.3 years"
   ]
  },
  {
   "cell_type": "markdown",
   "id": "ecbcff2f",
   "metadata": {},
   "source": [
    "Each observation contains 18 features related to the horse's performance at a given section of the race. These can be broadly categorised into three types:\n",
    "- Time: the time in seconds for the horse to pass through a given section of the race\n",
    "- Behind_sec: the number of lengths behind the leader for a given section of the race\n",
    "- Position_sec: the horse's position for a given section of the race"
   ]
  },
  {
   "cell_type": "markdown",
   "id": "8f547deb",
   "metadata": {},
   "source": [
    "The dataset contains features for six sections. Not all race tracks are the same size, therefore not all observations have entries for all six sections. However, all observations have data for at least three sections. More detail on missing track section data is discussed in Section 3: Data Quality."
   ]
  },
  {
   "cell_type": "code",
   "execution_count": 1,
   "id": "cbc6b78d",
   "metadata": {},
   "outputs": [],
   "source": [
    "# Load libraries\n",
    "import numpy as np\n",
    "import pandas as pd\n",
    "\n",
    "# read in the data\n",
    "url = \"https://raw.githubusercontent.com/nedeinlein/Machine_Learning_I/main/runs.csv\"\n",
    "runs_df = pd.read_csv(url, index_col=0)"
   ]
  },
  {
   "cell_type": "code",
   "execution_count": 2,
   "id": "47a89f7f",
   "metadata": {},
   "outputs": [
    {
     "name": "stdout",
     "output_type": "stream",
     "text": [
      "<class 'pandas.core.frame.DataFrame'>\n",
      "Int64Index: 79447 entries, 0 to 6348\n",
      "Data columns (total 36 columns):\n",
      " #   Column           Non-Null Count  Dtype  \n",
      "---  ------           --------------  -----  \n",
      " 0   horse_no         79447 non-null  int64  \n",
      " 1   horse_id         79447 non-null  int64  \n",
      " 2   result           79447 non-null  int64  \n",
      " 3   won              79447 non-null  float64\n",
      " 4   lengths_behind   79447 non-null  float64\n",
      " 5   horse_age        79447 non-null  int64  \n",
      " 6   horse_country    79445 non-null  object \n",
      " 7   horse_type       79445 non-null  object \n",
      " 8   horse_rating     79447 non-null  int64  \n",
      " 9   horse_gear       79447 non-null  object \n",
      " 10  declared_weight  79447 non-null  float64\n",
      " 11  actual_weight    79447 non-null  int64  \n",
      " 12  draw             79447 non-null  int64  \n",
      " 13  position_sec1    79447 non-null  int64  \n",
      " 14  position_sec2    79447 non-null  int64  \n",
      " 15  position_sec3    79447 non-null  int64  \n",
      " 16  position_sec4    46226 non-null  float64\n",
      " 17  position_sec5    10079 non-null  float64\n",
      " 18  position_sec6    1296 non-null   float64\n",
      " 19  behind_sec1      79447 non-null  float64\n",
      " 20  behind_sec2      79447 non-null  float64\n",
      " 21  behind_sec3      79447 non-null  float64\n",
      " 22  behind_sec4      46226 non-null  float64\n",
      " 23  behind_sec5      10079 non-null  float64\n",
      " 24  behind_sec6      1296 non-null   float64\n",
      " 25  time1            79447 non-null  float64\n",
      " 26  time2            79447 non-null  float64\n",
      " 27  time3            79447 non-null  float64\n",
      " 28  time4            46226 non-null  float64\n",
      " 29  time5            10079 non-null  float64\n",
      " 30  time6            1296 non-null   float64\n",
      " 31  finish_time      79447 non-null  float64\n",
      " 32  win_odds         79447 non-null  float64\n",
      " 33  place_odds       75712 non-null  float64\n",
      " 34  trainer_id       79447 non-null  int64  \n",
      " 35  jockey_id        79447 non-null  int64  \n",
      "dtypes: float64(21), int64(12), object(3)\n",
      "memory usage: 22.4+ MB\n"
     ]
    },
    {
     "data": {
      "text/html": [
       "<div>\n",
       "<style scoped>\n",
       "    .dataframe tbody tr th:only-of-type {\n",
       "        vertical-align: middle;\n",
       "    }\n",
       "\n",
       "    .dataframe tbody tr th {\n",
       "        vertical-align: top;\n",
       "    }\n",
       "\n",
       "    .dataframe thead th {\n",
       "        text-align: right;\n",
       "    }\n",
       "</style>\n",
       "<table border=\"1\" class=\"dataframe\">\n",
       "  <thead>\n",
       "    <tr style=\"text-align: right;\">\n",
       "      <th></th>\n",
       "      <th>horse_no</th>\n",
       "      <th>horse_id</th>\n",
       "      <th>result</th>\n",
       "      <th>won</th>\n",
       "      <th>lengths_behind</th>\n",
       "      <th>horse_age</th>\n",
       "      <th>horse_rating</th>\n",
       "      <th>declared_weight</th>\n",
       "      <th>actual_weight</th>\n",
       "      <th>draw</th>\n",
       "      <th>...</th>\n",
       "      <th>time2</th>\n",
       "      <th>time3</th>\n",
       "      <th>time4</th>\n",
       "      <th>time5</th>\n",
       "      <th>time6</th>\n",
       "      <th>finish_time</th>\n",
       "      <th>win_odds</th>\n",
       "      <th>place_odds</th>\n",
       "      <th>trainer_id</th>\n",
       "      <th>jockey_id</th>\n",
       "    </tr>\n",
       "  </thead>\n",
       "  <tbody>\n",
       "    <tr>\n",
       "      <th>count</th>\n",
       "      <td>79447.000000</td>\n",
       "      <td>79447.000000</td>\n",
       "      <td>79447.000000</td>\n",
       "      <td>79447.000000</td>\n",
       "      <td>79447.000000</td>\n",
       "      <td>79447.000000</td>\n",
       "      <td>79447.000000</td>\n",
       "      <td>79447.000000</td>\n",
       "      <td>79447.000000</td>\n",
       "      <td>79447.000000</td>\n",
       "      <td>...</td>\n",
       "      <td>79447.000000</td>\n",
       "      <td>79447.000000</td>\n",
       "      <td>46226.000000</td>\n",
       "      <td>10079.000000</td>\n",
       "      <td>1296.000000</td>\n",
       "      <td>79447.000000</td>\n",
       "      <td>79447.000000</td>\n",
       "      <td>75712.000000</td>\n",
       "      <td>79447.000000</td>\n",
       "      <td>79447.000000</td>\n",
       "    </tr>\n",
       "    <tr>\n",
       "      <th>mean</th>\n",
       "      <td>6.905623</td>\n",
       "      <td>2204.410525</td>\n",
       "      <td>6.838597</td>\n",
       "      <td>0.080053</td>\n",
       "      <td>6.108901</td>\n",
       "      <td>3.339346</td>\n",
       "      <td>61.034904</td>\n",
       "      <td>1104.953568</td>\n",
       "      <td>122.729656</td>\n",
       "      <td>6.876005</td>\n",
       "      <td>...</td>\n",
       "      <td>22.928985</td>\n",
       "      <td>23.864054</td>\n",
       "      <td>24.039662</td>\n",
       "      <td>24.105221</td>\n",
       "      <td>24.350216</td>\n",
       "      <td>85.322914</td>\n",
       "      <td>28.812977</td>\n",
       "      <td>7.423177</td>\n",
       "      <td>79.793007</td>\n",
       "      <td>85.832341</td>\n",
       "    </tr>\n",
       "    <tr>\n",
       "      <th>std</th>\n",
       "      <td>3.760711</td>\n",
       "      <td>1275.049375</td>\n",
       "      <td>3.730498</td>\n",
       "      <td>0.271378</td>\n",
       "      <td>33.636209</td>\n",
       "      <td>0.876763</td>\n",
       "      <td>11.748788</td>\n",
       "      <td>62.347597</td>\n",
       "      <td>6.305496</td>\n",
       "      <td>3.747589</td>\n",
       "      <td>...</td>\n",
       "      <td>3.599727</td>\n",
       "      <td>3.571163</td>\n",
       "      <td>4.663367</td>\n",
       "      <td>1.127963</td>\n",
       "      <td>1.314755</td>\n",
       "      <td>18.512883</td>\n",
       "      <td>30.097375</td>\n",
       "      <td>8.823430</td>\n",
       "      <td>45.118874</td>\n",
       "      <td>54.338105</td>\n",
       "    </tr>\n",
       "    <tr>\n",
       "      <th>min</th>\n",
       "      <td>1.000000</td>\n",
       "      <td>0.000000</td>\n",
       "      <td>1.000000</td>\n",
       "      <td>0.000000</td>\n",
       "      <td>-0.500000</td>\n",
       "      <td>2.000000</td>\n",
       "      <td>10.000000</td>\n",
       "      <td>693.000000</td>\n",
       "      <td>103.000000</td>\n",
       "      <td>1.000000</td>\n",
       "      <td>...</td>\n",
       "      <td>19.990000</td>\n",
       "      <td>21.000000</td>\n",
       "      <td>21.200000</td>\n",
       "      <td>21.420000</td>\n",
       "      <td>21.500000</td>\n",
       "      <td>55.160000</td>\n",
       "      <td>1.000000</td>\n",
       "      <td>1.000000</td>\n",
       "      <td>0.000000</td>\n",
       "      <td>0.000000</td>\n",
       "    </tr>\n",
       "    <tr>\n",
       "      <th>25%</th>\n",
       "      <td>4.000000</td>\n",
       "      <td>1085.000000</td>\n",
       "      <td>4.000000</td>\n",
       "      <td>0.000000</td>\n",
       "      <td>1.750000</td>\n",
       "      <td>3.000000</td>\n",
       "      <td>60.000000</td>\n",
       "      <td>1062.000000</td>\n",
       "      <td>118.000000</td>\n",
       "      <td>4.000000</td>\n",
       "      <td>...</td>\n",
       "      <td>22.290000</td>\n",
       "      <td>23.230000</td>\n",
       "      <td>23.320000</td>\n",
       "      <td>23.410000</td>\n",
       "      <td>23.570000</td>\n",
       "      <td>70.590000</td>\n",
       "      <td>7.700000</td>\n",
       "      <td>2.400000</td>\n",
       "      <td>47.000000</td>\n",
       "      <td>39.000000</td>\n",
       "    </tr>\n",
       "    <tr>\n",
       "      <th>50%</th>\n",
       "      <td>7.000000</td>\n",
       "      <td>2209.000000</td>\n",
       "      <td>7.000000</td>\n",
       "      <td>0.000000</td>\n",
       "      <td>4.000000</td>\n",
       "      <td>3.000000</td>\n",
       "      <td>60.000000</td>\n",
       "      <td>1102.000000</td>\n",
       "      <td>123.000000</td>\n",
       "      <td>7.000000</td>\n",
       "      <td>...</td>\n",
       "      <td>22.870000</td>\n",
       "      <td>23.760000</td>\n",
       "      <td>23.890000</td>\n",
       "      <td>23.960000</td>\n",
       "      <td>24.120000</td>\n",
       "      <td>83.350000</td>\n",
       "      <td>15.000000</td>\n",
       "      <td>4.100000</td>\n",
       "      <td>75.000000</td>\n",
       "      <td>76.000000</td>\n",
       "    </tr>\n",
       "    <tr>\n",
       "      <th>75%</th>\n",
       "      <td>10.000000</td>\n",
       "      <td>3308.000000</td>\n",
       "      <td>10.000000</td>\n",
       "      <td>0.000000</td>\n",
       "      <td>6.750000</td>\n",
       "      <td>3.000000</td>\n",
       "      <td>60.000000</td>\n",
       "      <td>1146.000000</td>\n",
       "      <td>128.000000</td>\n",
       "      <td>10.000000</td>\n",
       "      <td>...</td>\n",
       "      <td>23.520000</td>\n",
       "      <td>24.410000</td>\n",
       "      <td>24.560000</td>\n",
       "      <td>24.630000</td>\n",
       "      <td>24.820000</td>\n",
       "      <td>100.780000</td>\n",
       "      <td>38.000000</td>\n",
       "      <td>8.600000</td>\n",
       "      <td>118.000000</td>\n",
       "      <td>138.000000</td>\n",
       "    </tr>\n",
       "    <tr>\n",
       "      <th>max</th>\n",
       "      <td>14.000000</td>\n",
       "      <td>4404.000000</td>\n",
       "      <td>14.000000</td>\n",
       "      <td>1.000000</td>\n",
       "      <td>999.000000</td>\n",
       "      <td>10.000000</td>\n",
       "      <td>138.000000</td>\n",
       "      <td>1369.000000</td>\n",
       "      <td>133.000000</td>\n",
       "      <td>15.000000</td>\n",
       "      <td>...</td>\n",
       "      <td>999.000000</td>\n",
       "      <td>999.000000</td>\n",
       "      <td>999.000000</td>\n",
       "      <td>49.570000</td>\n",
       "      <td>34.150000</td>\n",
       "      <td>163.580000</td>\n",
       "      <td>99.000000</td>\n",
       "      <td>101.000000</td>\n",
       "      <td>175.000000</td>\n",
       "      <td>185.000000</td>\n",
       "    </tr>\n",
       "  </tbody>\n",
       "</table>\n",
       "<p>8 rows × 33 columns</p>\n",
       "</div>"
      ],
      "text/plain": [
       "           horse_no      horse_id        result           won  lengths_behind  \\\n",
       "count  79447.000000  79447.000000  79447.000000  79447.000000    79447.000000   \n",
       "mean       6.905623   2204.410525      6.838597      0.080053        6.108901   \n",
       "std        3.760711   1275.049375      3.730498      0.271378       33.636209   \n",
       "min        1.000000      0.000000      1.000000      0.000000       -0.500000   \n",
       "25%        4.000000   1085.000000      4.000000      0.000000        1.750000   \n",
       "50%        7.000000   2209.000000      7.000000      0.000000        4.000000   \n",
       "75%       10.000000   3308.000000     10.000000      0.000000        6.750000   \n",
       "max       14.000000   4404.000000     14.000000      1.000000      999.000000   \n",
       "\n",
       "          horse_age  horse_rating  declared_weight  actual_weight  \\\n",
       "count  79447.000000  79447.000000     79447.000000   79447.000000   \n",
       "mean       3.339346     61.034904      1104.953568     122.729656   \n",
       "std        0.876763     11.748788        62.347597       6.305496   \n",
       "min        2.000000     10.000000       693.000000     103.000000   \n",
       "25%        3.000000     60.000000      1062.000000     118.000000   \n",
       "50%        3.000000     60.000000      1102.000000     123.000000   \n",
       "75%        3.000000     60.000000      1146.000000     128.000000   \n",
       "max       10.000000    138.000000      1369.000000     133.000000   \n",
       "\n",
       "               draw  ...         time2         time3         time4  \\\n",
       "count  79447.000000  ...  79447.000000  79447.000000  46226.000000   \n",
       "mean       6.876005  ...     22.928985     23.864054     24.039662   \n",
       "std        3.747589  ...      3.599727      3.571163      4.663367   \n",
       "min        1.000000  ...     19.990000     21.000000     21.200000   \n",
       "25%        4.000000  ...     22.290000     23.230000     23.320000   \n",
       "50%        7.000000  ...     22.870000     23.760000     23.890000   \n",
       "75%       10.000000  ...     23.520000     24.410000     24.560000   \n",
       "max       15.000000  ...    999.000000    999.000000    999.000000   \n",
       "\n",
       "              time5        time6   finish_time      win_odds    place_odds  \\\n",
       "count  10079.000000  1296.000000  79447.000000  79447.000000  75712.000000   \n",
       "mean      24.105221    24.350216     85.322914     28.812977      7.423177   \n",
       "std        1.127963     1.314755     18.512883     30.097375      8.823430   \n",
       "min       21.420000    21.500000     55.160000      1.000000      1.000000   \n",
       "25%       23.410000    23.570000     70.590000      7.700000      2.400000   \n",
       "50%       23.960000    24.120000     83.350000     15.000000      4.100000   \n",
       "75%       24.630000    24.820000    100.780000     38.000000      8.600000   \n",
       "max       49.570000    34.150000    163.580000     99.000000    101.000000   \n",
       "\n",
       "         trainer_id     jockey_id  \n",
       "count  79447.000000  79447.000000  \n",
       "mean      79.793007     85.832341  \n",
       "std       45.118874     54.338105  \n",
       "min        0.000000      0.000000  \n",
       "25%       47.000000     39.000000  \n",
       "50%       75.000000     76.000000  \n",
       "75%      118.000000    138.000000  \n",
       "max      175.000000    185.000000  \n",
       "\n",
       "[8 rows x 33 columns]"
      ]
     },
     "execution_count": 2,
     "metadata": {},
     "output_type": "execute_result"
    }
   ],
   "source": [
    "# Summary statistics of each feature\n",
    "runs_df.info()\n",
    "runs_df.describe()"
   ]
  },
  {
   "cell_type": "markdown",
   "id": "6d03a93d",
   "metadata": {},
   "source": [
    "## Section 3: Data Quality"
   ]
  },
  {
   "cell_type": "markdown",
   "id": "9b52099e",
   "metadata": {},
   "source": [
    "Before cleaning, the races dataset contains 545,959 missing values. These are contained within 12 out of 37 columns.\n",
    "\n",
    "The table below shows the percent missing values by feature:"
   ]
  },
  {
   "cell_type": "code",
   "execution_count": 3,
   "id": "fa99d498",
   "metadata": {},
   "outputs": [
    {
     "data": {
      "text/plain": [
       "horse_no            0.000000\n",
       "horse_id            0.000000\n",
       "result              0.000000\n",
       "won                 0.000000\n",
       "lengths_behind      0.000000\n",
       "horse_age           0.000000\n",
       "horse_country       0.002517\n",
       "horse_type          0.002517\n",
       "horse_rating        0.000000\n",
       "horse_gear          0.000000\n",
       "declared_weight     0.000000\n",
       "actual_weight       0.000000\n",
       "draw                0.000000\n",
       "position_sec1       0.000000\n",
       "position_sec2       0.000000\n",
       "position_sec3       0.000000\n",
       "position_sec4      41.815298\n",
       "position_sec5      87.313555\n",
       "position_sec6      98.368724\n",
       "behind_sec1         0.000000\n",
       "behind_sec2         0.000000\n",
       "behind_sec3         0.000000\n",
       "behind_sec4        41.815298\n",
       "behind_sec5        87.313555\n",
       "behind_sec6        98.368724\n",
       "time1               0.000000\n",
       "time2               0.000000\n",
       "time3               0.000000\n",
       "time4              41.815298\n",
       "time5              87.313555\n",
       "time6              98.368724\n",
       "finish_time         0.000000\n",
       "win_odds            0.000000\n",
       "place_odds          4.701247\n",
       "trainer_id          0.000000\n",
       "jockey_id           0.000000\n",
       "dtype: float64"
      ]
     },
     "execution_count": 3,
     "metadata": {},
     "output_type": "execute_result"
    }
   ],
   "source": [
    "# List percent of null entries per feature\n",
    "runs_df.isna().sum() # missing values by column\n",
    "runs_df.isna().sum().sum() # total missing values\n",
    "runs_df.isna().sum() * 100 / len(runs_df) # percent missing values by column"
   ]
  },
  {
   "cell_type": "markdown",
   "id": "aaed465d",
   "metadata": {},
   "source": [
    "The missing values fall into three types:\n",
    "- In race performance: sections 1 - 6 as discussed in Section 2\n",
    "- Horse data: country, type\n",
    "- Pre-race odds\n",
    "\n",
    "The majority of missing data is for race sections 4 - 6. This is because not all tracks are the same size. For the purposes of this EDA, we eliminated the features for track sections 4, 5, and 6. This has the result of effectively trimming our dataset to tracks of the same size (i.e. 3 sections). In the future, instead of simply eliminating the features we could split the data set into multiple and create separate models for tracks that have 3, 4, 5, or 6 sections.\n",
    "\n",
    "There were only two observations missing horse country and type so those observations were removed from the dataset. This brought total observations to 79,445.\n",
    "\n",
    "Place_odds was missing 4.7% of observations. For this initial EDA, we imputed the missing place_odds values by using the mean place_odds for the non-missing values. Upon closer inspection of the correlation of features within the data we found a strong correlation between win_odds and place_odds which intuitively makes sense. A better approach to imputing the missing place_odds would likely be to use a regression model to predict the missing place_odds using the win_odds from those observations.\n"
   ]
  },
  {
   "cell_type": "code",
   "execution_count": 4,
   "id": "8586ceb9",
   "metadata": {},
   "outputs": [
    {
     "name": "stdout",
     "output_type": "stream",
     "text": [
      "<class 'pandas.core.frame.DataFrame'>\n",
      "Int64Index: 79445 entries, 0 to 6348\n",
      "Data columns (total 27 columns):\n",
      " #   Column           Non-Null Count  Dtype  \n",
      "---  ------           --------------  -----  \n",
      " 0   horse_no         79445 non-null  int64  \n",
      " 1   horse_id         79445 non-null  int64  \n",
      " 2   result           79445 non-null  int64  \n",
      " 3   won              79445 non-null  float64\n",
      " 4   lengths_behind   79445 non-null  float64\n",
      " 5   horse_age        79445 non-null  int64  \n",
      " 6   horse_country    79445 non-null  object \n",
      " 7   horse_type       79445 non-null  object \n",
      " 8   horse_rating     79445 non-null  int64  \n",
      " 9   horse_gear       79445 non-null  object \n",
      " 10  declared_weight  79445 non-null  float64\n",
      " 11  actual_weight    79445 non-null  int64  \n",
      " 12  draw             79445 non-null  int64  \n",
      " 13  position_sec1    79445 non-null  int64  \n",
      " 14  position_sec2    79445 non-null  int64  \n",
      " 15  position_sec3    79445 non-null  int64  \n",
      " 16  behind_sec1      79445 non-null  float64\n",
      " 17  behind_sec2      79445 non-null  float64\n",
      " 18  behind_sec3      79445 non-null  float64\n",
      " 19  time1            79445 non-null  float64\n",
      " 20  time2            79445 non-null  float64\n",
      " 21  time3            79445 non-null  float64\n",
      " 22  finish_time      79445 non-null  float64\n",
      " 23  win_odds         79445 non-null  float64\n",
      " 24  place_odds       79445 non-null  float64\n",
      " 25  trainer_id       79445 non-null  int64  \n",
      " 26  jockey_id        79445 non-null  int64  \n",
      "dtypes: float64(12), int64(12), object(3)\n",
      "memory usage: 17.0+ MB\n"
     ]
    }
   ],
   "source": [
    "# Drop features with > 40% null, they're not very useful\n",
    "runs_df = runs_df.drop(['position_sec4', 'position_sec5', 'position_sec6','behind_sec4', 'behind_sec5', 'behind_sec6','time4', 'time5', 'time6'], axis = 1)\n",
    "\n",
    "# Drop the two entries with null in horse_country\n",
    "runs_df = runs_df[runs_df['horse_country'].notna()]\n",
    "\n",
    "# Impute the place_odds with the mean value\n",
    "## Explore a regression model with win_odds as explanatory variable\n",
    "runs_df['place_odds'].fillna(value=(runs_df['place_odds'].mean()), inplace=True)\n",
    "\n",
    "# Recheck missing values\n",
    "## Non-Null is now 79445 for all features\n",
    "runs_df.info()"
   ]
  },
  {
   "cell_type": "markdown",
   "id": "6daa5728",
   "metadata": {},
   "source": [
    "Boxplots were used to evaluate outliers and mistakes. In general, there were very few, with a noted exception: for a few features - specifically those dealing with time - it appears a default value of “999” was used when data was missing, such as a horse not finishing the race.\n",
    "\n",
    "Boxplot for feature “time1” provided for example:"
   ]
  },
  {
   "cell_type": "code",
   "execution_count": 5,
   "id": "8e550a8a",
   "metadata": {},
   "outputs": [
    {
     "data": {
      "image/png": "[encoded data removed]",
      "text/plain": [
       "<Figure size 432x288 with 1 Axes>"
      ]
     },
     "metadata": {
      "needs_background": "light"
     },
     "output_type": "display_data"
    }
   ],
   "source": [
    "# Use boxplots to quickly looks for outliers\n",
    "## Below all have what looks like placeholder 999 values that need to be filtered out\n",
    "## behind_sec1, behind_sec3, time1, time2, time3\n",
    "boxplot = runs_df.boxplot(column=['time1'])"
   ]
  },
  {
   "cell_type": "markdown",
   "id": "8d2d891a",
   "metadata": {},
   "source": [
    "This was confirmed with the pandas describe function. See the max values below:"
   ]
  },
  {
   "cell_type": "code",
   "execution_count": 6,
   "id": "b515f22f",
   "metadata": {},
   "outputs": [
    {
     "data": {
      "text/html": [
       "<div>\n",
       "<style scoped>\n",
       "    .dataframe tbody tr th:only-of-type {\n",
       "        vertical-align: middle;\n",
       "    }\n",
       "\n",
       "    .dataframe tbody tr th {\n",
       "        vertical-align: top;\n",
       "    }\n",
       "\n",
       "    .dataframe thead th {\n",
       "        text-align: right;\n",
       "    }\n",
       "</style>\n",
       "<table border=\"1\" class=\"dataframe\">\n",
       "  <thead>\n",
       "    <tr style=\"text-align: right;\">\n",
       "      <th></th>\n",
       "      <th>time1</th>\n",
       "      <th>time2</th>\n",
       "      <th>time3</th>\n",
       "      <th>behind_sec1</th>\n",
       "      <th>behind_sec3</th>\n",
       "    </tr>\n",
       "  </thead>\n",
       "  <tbody>\n",
       "    <tr>\n",
       "      <th>count</th>\n",
       "      <td>79445.000000</td>\n",
       "      <td>79445.000000</td>\n",
       "      <td>79445.000000</td>\n",
       "      <td>79445.000000</td>\n",
       "      <td>79445.000000</td>\n",
       "    </tr>\n",
       "    <tr>\n",
       "      <th>mean</th>\n",
       "      <td>21.135480</td>\n",
       "      <td>22.929003</td>\n",
       "      <td>23.864065</td>\n",
       "      <td>3.378708</td>\n",
       "      <td>4.509426</td>\n",
       "    </tr>\n",
       "    <tr>\n",
       "      <th>std</th>\n",
       "      <td>6.930537</td>\n",
       "      <td>3.599769</td>\n",
       "      <td>3.571206</td>\n",
       "      <td>4.282564</td>\n",
       "      <td>16.541736</td>\n",
       "    </tr>\n",
       "    <tr>\n",
       "      <th>min</th>\n",
       "      <td>12.390000</td>\n",
       "      <td>19.990000</td>\n",
       "      <td>21.000000</td>\n",
       "      <td>0.150000</td>\n",
       "      <td>0.000000</td>\n",
       "    </tr>\n",
       "    <tr>\n",
       "      <th>25%</th>\n",
       "      <td>14.120000</td>\n",
       "      <td>22.290000</td>\n",
       "      <td>23.230000</td>\n",
       "      <td>1.500000</td>\n",
       "      <td>1.750000</td>\n",
       "    </tr>\n",
       "    <tr>\n",
       "      <th>50%</th>\n",
       "      <td>24.180000</td>\n",
       "      <td>22.870000</td>\n",
       "      <td>23.760000</td>\n",
       "      <td>3.000000</td>\n",
       "      <td>3.750000</td>\n",
       "    </tr>\n",
       "    <tr>\n",
       "      <th>75%</th>\n",
       "      <td>25.360000</td>\n",
       "      <td>23.520000</td>\n",
       "      <td>24.410000</td>\n",
       "      <td>5.000000</td>\n",
       "      <td>5.750000</td>\n",
       "    </tr>\n",
       "    <tr>\n",
       "      <th>max</th>\n",
       "      <td>999.000000</td>\n",
       "      <td>999.000000</td>\n",
       "      <td>999.000000</td>\n",
       "      <td>999.000000</td>\n",
       "      <td>999.000000</td>\n",
       "    </tr>\n",
       "  </tbody>\n",
       "</table>\n",
       "</div>"
      ],
      "text/plain": [
       "              time1         time2         time3   behind_sec1   behind_sec3\n",
       "count  79445.000000  79445.000000  79445.000000  79445.000000  79445.000000\n",
       "mean      21.135480     22.929003     23.864065      3.378708      4.509426\n",
       "std        6.930537      3.599769      3.571206      4.282564     16.541736\n",
       "min       12.390000     19.990000     21.000000      0.150000      0.000000\n",
       "25%       14.120000     22.290000     23.230000      1.500000      1.750000\n",
       "50%       24.180000     22.870000     23.760000      3.000000      3.750000\n",
       "75%       25.360000     23.520000     24.410000      5.000000      5.750000\n",
       "max      999.000000    999.000000    999.000000    999.000000    999.000000"
      ]
     },
     "execution_count": 6,
     "metadata": {},
     "output_type": "execute_result"
    }
   ],
   "source": [
    "# Look closer at outliers\n",
    "runs_df[['time1','time2','time3','behind_sec1','behind_sec3']].describe()"
   ]
  },
  {
   "cell_type": "markdown",
   "id": "c4039133",
   "metadata": {},
   "source": [
    "For this data analysis, all observations with a time value of 999 for the features contained in the table of above were removed. This reduced the number of observations from 79,445 to 79,423."
   ]
  },
  {
   "cell_type": "code",
   "execution_count": 7,
   "id": "3eeae0ff",
   "metadata": {},
   "outputs": [],
   "source": [
    "# Remove rows where a time value is equal to 999\n",
    "runs_df = runs_df[runs_df.time1 != 999]\n",
    "runs_df = runs_df[runs_df.time2 != 999]\n",
    "runs_df = runs_df[runs_df.time3 != 999]\n",
    "runs_df = runs_df[runs_df.behind_sec1 != 999]\n",
    "runs_df = runs_df[runs_df.behind_sec3 != 999]\n",
    "# source: https://stackoverflow.com/questions/18172851/deleting-dataframe-row-in-pandas-based-on-column-value"
   ]
  },
  {
   "cell_type": "markdown",
   "id": "979ab2d8",
   "metadata": {},
   "source": [
    "The boxplot for “time1” once the observations with “999” placeholders were removed:"
   ]
  },
  {
   "cell_type": "code",
   "execution_count": 8,
   "id": "62a97253",
   "metadata": {},
   "outputs": [
    {
     "data": {
      "image/png": "[encoded data removed]",
      "text/plain": [
       "<Figure size 432x288 with 1 Axes>"
      ]
     },
     "metadata": {
      "needs_background": "light"
     },
     "output_type": "display_data"
    }
   ],
   "source": [
    "boxplot = runs_df.boxplot(column=['time1'])"
   ]
  },
  {
   "cell_type": "markdown",
   "id": "56bfa48b",
   "metadata": {},
   "source": [
    "There were no duplicates observed in the dataset."
   ]
  },
  {
   "cell_type": "code",
   "execution_count": 9,
   "id": "acc251e2",
   "metadata": {},
   "outputs": [
    {
     "data": {
      "text/plain": [
       "race_id\n",
       "0       False\n",
       "0       False\n",
       "0       False\n",
       "0       False\n",
       "0       False\n",
       "        ...  \n",
       "6348    False\n",
       "6348    False\n",
       "6348    False\n",
       "6348    False\n",
       "6348    False\n",
       "Length: 79423, dtype: bool"
      ]
     },
     "execution_count": 9,
     "metadata": {},
     "output_type": "execute_result"
    }
   ],
   "source": [
    "# Check for duplicates\n",
    "runs_df.duplicated()"
   ]
  },
  {
   "cell_type": "markdown",
   "id": "b4332779",
   "metadata": {},
   "source": [
    "## Section 4: Simple Statistics"
   ]
  },
  {
   "cell_type": "code",
   "execution_count": null,
   "id": "a16d69ec",
   "metadata": {},
   "outputs": [],
   "source": []
  },
  {
   "cell_type": "code",
   "execution_count": null,
   "id": "aef8ce5f",
   "metadata": {},
   "outputs": [],
   "source": []
  },
  {
   "cell_type": "code",
   "execution_count": null,
   "id": "25517edc",
   "metadata": {},
   "outputs": [],
   "source": []
  },
  {
   "cell_type": "code",
   "execution_count": null,
   "id": "b0feff3a",
   "metadata": {},
   "outputs": [],
   "source": []
  },
  {
   "cell_type": "code",
   "execution_count": null,
   "id": "efc21fd3",
   "metadata": {},
   "outputs": [],
   "source": []
  },
  {
   "cell_type": "code",
   "execution_count": null,
   "id": "3b08dcd7",
   "metadata": {},
   "outputs": [],
   "source": []
  },
  {
   "cell_type": "code",
   "execution_count": null,
   "id": "bec27aeb",
   "metadata": {},
   "outputs": [],
   "source": []
  },
  {
   "cell_type": "markdown",
   "id": "b0fcf1ff",
   "metadata": {},
   "source": [
    "## Section 5: Visualize Attributes"
   ]
  },
  {
   "cell_type": "code",
   "execution_count": null,
   "id": "9f71ad01",
   "metadata": {},
   "outputs": [],
   "source": []
  },
  {
   "cell_type": "code",
   "execution_count": null,
   "id": "24f61f61",
   "metadata": {},
   "outputs": [],
   "source": []
  },
  {
   "cell_type": "code",
   "execution_count": null,
   "id": "b86cbd5c",
   "metadata": {},
   "outputs": [],
   "source": []
  },
  {
   "cell_type": "code",
   "execution_count": null,
   "id": "690e81fa",
   "metadata": {},
   "outputs": [],
   "source": []
  },
  {
   "cell_type": "code",
   "execution_count": null,
   "id": "7ecc60ea",
   "metadata": {},
   "outputs": [],
   "source": []
  },
  {
   "cell_type": "code",
   "execution_count": null,
   "id": "db50b864",
   "metadata": {},
   "outputs": [],
   "source": []
  },
  {
   "cell_type": "code",
   "execution_count": null,
   "id": "fa80ab2a",
   "metadata": {},
   "outputs": [],
   "source": []
  },
  {
   "cell_type": "markdown",
   "id": "ed87e3f9",
   "metadata": {},
   "source": [
    "## Section 6: Explore Joint Attributes"
   ]
  },
  {
   "cell_type": "code",
   "execution_count": null,
   "id": "a1b0a10f",
   "metadata": {},
   "outputs": [],
   "source": []
  },
  {
   "cell_type": "code",
   "execution_count": null,
   "id": "7d203c8c",
   "metadata": {},
   "outputs": [],
   "source": []
  },
  {
   "cell_type": "code",
   "execution_count": null,
   "id": "1c604566",
   "metadata": {},
   "outputs": [],
   "source": []
  },
  {
   "cell_type": "code",
   "execution_count": null,
   "id": "9217a4dd",
   "metadata": {},
   "outputs": [],
   "source": []
  },
  {
   "cell_type": "code",
   "execution_count": null,
   "id": "d115d0a0",
   "metadata": {},
   "outputs": [],
   "source": []
  },
  {
   "cell_type": "code",
   "execution_count": null,
   "id": "ce31547f",
   "metadata": {},
   "outputs": [],
   "source": []
  },
  {
   "cell_type": "markdown",
   "id": "cd7a821f",
   "metadata": {},
   "source": [
    "## Section 7: Explore Attributes and Class"
   ]
  },
  {
   "cell_type": "code",
   "execution_count": null,
   "id": "24d76fda",
   "metadata": {},
   "outputs": [],
   "source": []
  },
  {
   "cell_type": "code",
   "execution_count": null,
   "id": "3741c4a2",
   "metadata": {},
   "outputs": [],
   "source": []
  },
  {
   "cell_type": "code",
   "execution_count": null,
   "id": "b118c875",
   "metadata": {},
   "outputs": [],
   "source": []
  },
  {
   "cell_type": "code",
   "execution_count": null,
   "id": "ee063627",
   "metadata": {},
   "outputs": [],
   "source": []
  },
  {
   "cell_type": "code",
   "execution_count": null,
   "id": "0b8ff443",
   "metadata": {},
   "outputs": [],
   "source": []
  },
  {
   "cell_type": "code",
   "execution_count": null,
   "id": "e70e7bcb",
   "metadata": {},
   "outputs": [],
   "source": []
  },
  {
   "cell_type": "code",
   "execution_count": null,
   "id": "43f5e2cb",
   "metadata": {},
   "outputs": [],
   "source": []
  },
  {
   "cell_type": "code",
   "execution_count": null,
   "id": "2bdca955",
   "metadata": {},
   "outputs": [],
   "source": []
  },
  {
   "cell_type": "markdown",
   "id": "a3a1f639",
   "metadata": {},
   "source": [
    "## Section 8: New Features"
   ]
  },
  {
   "cell_type": "markdown",
   "id": "d330fb46",
   "metadata": {},
   "source": [
    "The follow is a list of potential new features to be explored in the future:"
   ]
  },
  {
   "cell_type": "markdown",
   "id": "b98f068a",
   "metadata": {},
   "source": [
    "1. Show Bet Performance: Transform the “results” feature in the runs.csv file into a binary feature where placing 1, 2, or 3 becomes a 1, and all other places become a 0.\n",
    "<br> <br>\n",
    "2. Place Bet Performance: Transform the “results” feature in the runs.csv file into a binary feature where placing 1 or 2 becomes a 1, and all other places become a 0.\n",
    "<br> <br>\n",
    "3. Prize in USD: transform the “prize” column in the races.csv file from HKD to USD.\n",
    "<br> <br>\n",
    "4. Pace: In the races.csv file there is a distance associated with each race. We can do a merge with the runs.csv which contains the final time for each horse in each race. From there, we can calculate a new feature labeled speed or pace by using the formula . We can also calculate the pace for each split of the race if needed."
   ]
  },
  {
   "cell_type": "code",
   "execution_count": null,
   "id": "a567366b",
   "metadata": {},
   "outputs": [],
   "source": [
    "#end"
   ]
  }
 ],
 "metadata": {
  "kernelspec": {
   "display_name": "Python 3",
   "language": "python",
   "name": "python3"
  },
  "language_info": {
   "codemirror_mode": {
    "name": "ipython",
    "version": 3
   },
   "file_extension": ".py",
   "mimetype": "text/x-python",
   "name": "python",
   "nbconvert_exporter": "python",
   "pygments_lexer": "ipython3",
   "version": "3.8.8"
  }
 },
 "nbformat": 4,
 "nbformat_minor": 5
}
