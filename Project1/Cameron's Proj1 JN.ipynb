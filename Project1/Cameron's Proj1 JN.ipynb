{
 "cells": [
  {
   "cell_type": "markdown",
   "id": "3d91cc6d",
   "metadata": {},
   "source": [
    "# Project 1\n",
    "## Hong Kong Horse Racing\n",
    "### Cameron's Notebook"
   ]
  },
  {
   "cell_type": "code",
   "execution_count": 1,
   "id": "397e715e",
   "metadata": {},
   "outputs": [],
   "source": [
    "# Load libraries\n",
    "import numpy as np\n",
    "import pandas as pd"
   ]
  },
  {
   "cell_type": "code",
   "execution_count": null,
   "id": "00454d38",
   "metadata": {},
   "outputs": [],
   "source": [
    "# read in the data\n",
    "runs_df = pd.read_csv(\"../runs.csv\")"
   ]
  }
 ],
 "metadata": {
  "kernelspec": {
   "display_name": "Python 3",
   "language": "python",
   "name": "python3"
  },
  "language_info": {
   "codemirror_mode": {
    "name": "ipython",
    "version": 3
   },
   "file_extension": ".py",
   "mimetype": "text/x-python",
   "name": "python",
   "nbconvert_exporter": "python",
   "pygments_lexer": "ipython3",
   "version": "3.9.5"
  }
 },
 "nbformat": 4,
 "nbformat_minor": 5
}
