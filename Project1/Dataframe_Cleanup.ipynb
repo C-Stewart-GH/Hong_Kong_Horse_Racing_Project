{
 "cells": [
  {
   "cell_type": "code",
   "execution_count": null,
   "id": "ec7b1120",
   "metadata": {},
   "outputs": [],
   "source": []
  },
  {
   "cell_type": "code",
   "execution_count": 1,
   "id": "957d0315",
   "metadata": {},
   "outputs": [],
   "source": [
    "# Load libraries\n",
    "import numpy as np\n",
    "import pandas as pd"
   ]
  },
  {
   "cell_type": "code",
   "execution_count": 2,
   "id": "beff8f67",
   "metadata": {},
   "outputs": [],
   "source": [
    "# read in the data\n",
    "runs_df = pd.read_csv(\"../runs.csv\")"
   ]
  },
  {
   "cell_type": "code",
   "execution_count": 3,
   "id": "05a24cc8",
   "metadata": {},
   "outputs": [
    {
     "name": "stdout",
     "output_type": "stream",
     "text": [
      "<class 'pandas.core.frame.DataFrame'>\n",
      "RangeIndex: 79447 entries, 0 to 79446\n",
      "Data columns (total 37 columns):\n",
      " #   Column           Non-Null Count  Dtype  \n",
      "---  ------           --------------  -----  \n",
      " 0   race_id          79447 non-null  int64  \n",
      " 1   horse_no         79447 non-null  int64  \n",
      " 2   horse_id         79447 non-null  int64  \n",
      " 3   result           79447 non-null  int64  \n",
      " 4   won              79447 non-null  float64\n",
      " 5   lengths_behind   79447 non-null  float64\n",
      " 6   horse_age        79447 non-null  int64  \n",
      " 7   horse_country    79445 non-null  object \n",
      " 8   horse_type       79445 non-null  object \n",
      " 9   horse_rating     79447 non-null  int64  \n",
      " 10  horse_gear       79447 non-null  object \n",
      " 11  declared_weight  79447 non-null  float64\n",
      " 12  actual_weight    79447 non-null  int64  \n",
      " 13  draw             79447 non-null  int64  \n",
      " 14  position_sec1    79447 non-null  int64  \n",
      " 15  position_sec2    79447 non-null  int64  \n",
      " 16  position_sec3    79447 non-null  int64  \n",
      " 17  position_sec4    46226 non-null  float64\n",
      " 18  position_sec5    10079 non-null  float64\n",
      " 19  position_sec6    1296 non-null   float64\n",
      " 20  behind_sec1      79447 non-null  float64\n",
      " 21  behind_sec2      79447 non-null  float64\n",
      " 22  behind_sec3      79447 non-null  float64\n",
      " 23  behind_sec4      46226 non-null  float64\n",
      " 24  behind_sec5      10079 non-null  float64\n",
      " 25  behind_sec6      1296 non-null   float64\n",
      " 26  time1            79447 non-null  float64\n",
      " 27  time2            79447 non-null  float64\n",
      " 28  time3            79447 non-null  float64\n",
      " 29  time4            46226 non-null  float64\n",
      " 30  time5            10079 non-null  float64\n",
      " 31  time6            1296 non-null   float64\n",
      " 32  finish_time      79447 non-null  float64\n",
      " 33  win_odds         79447 non-null  float64\n",
      " 34  place_odds       75712 non-null  float64\n",
      " 35  trainer_id       79447 non-null  int64  \n",
      " 36  jockey_id        79447 non-null  int64  \n",
      "dtypes: float64(21), int64(13), object(3)\n",
      "memory usage: 22.4+ MB\n"
     ]
    }
   ],
   "source": [
    "# pandas info function to get data types, number of non-null entries\n",
    "runs_df.info()"
   ]
  },
  {
   "cell_type": "code",
   "execution_count": 4,
   "id": "4861b877",
   "metadata": {},
   "outputs": [
    {
     "data": {
      "text/plain": [
       "race_id             0.000000\n",
       "horse_no            0.000000\n",
       "horse_id            0.000000\n",
       "result              0.000000\n",
       "won                 0.000000\n",
       "lengths_behind      0.000000\n",
       "horse_age           0.000000\n",
       "horse_country       0.002517\n",
       "horse_type          0.002517\n",
       "horse_rating        0.000000\n",
       "horse_gear          0.000000\n",
       "declared_weight     0.000000\n",
       "actual_weight       0.000000\n",
       "draw                0.000000\n",
       "position_sec1       0.000000\n",
       "position_sec2       0.000000\n",
       "position_sec3       0.000000\n",
       "position_sec4      41.815298\n",
       "position_sec5      87.313555\n",
       "position_sec6      98.368724\n",
       "behind_sec1         0.000000\n",
       "behind_sec2         0.000000\n",
       "behind_sec3         0.000000\n",
       "behind_sec4        41.815298\n",
       "behind_sec5        87.313555\n",
       "behind_sec6        98.368724\n",
       "time1               0.000000\n",
       "time2               0.000000\n",
       "time3               0.000000\n",
       "time4              41.815298\n",
       "time5              87.313555\n",
       "time6              98.368724\n",
       "finish_time         0.000000\n",
       "win_odds            0.000000\n",
       "place_odds          4.701247\n",
       "trainer_id          0.000000\n",
       "jockey_id           0.000000\n",
       "dtype: float64"
      ]
     },
     "execution_count": 4,
     "metadata": {},
     "output_type": "execute_result"
    }
   ],
   "source": [
    "# List percent of null entries per feature\n",
    "runs_df.isna().sum() * 100 / len(runs_df)"
   ]
  },
  {
   "cell_type": "code",
   "execution_count": 5,
   "id": "13727afa",
   "metadata": {},
   "outputs": [],
   "source": [
    "# Drop features with > 40% null, they're not very useful\n",
    "runs_clean_df = runs_df.drop(['position_sec4', 'position_sec5', 'position_sec6','behind_sec4', 'behind_sec5', 'behind_sec6','time4', 'time5', 'time6'], axis = 1)"
   ]
  },
  {
   "cell_type": "code",
   "execution_count": 6,
   "id": "b8a347fa",
   "metadata": {},
   "outputs": [],
   "source": [
    "# Drop the two entries with null in horse_country\n",
    "runs_clean_df = runs_clean_df[runs_clean_df['horse_country'].notna()]"
   ]
  },
  {
   "cell_type": "code",
   "execution_count": 7,
   "id": "91e5a947",
   "metadata": {},
   "outputs": [
    {
     "data": {
      "text/plain": [
       "race_id               0\n",
       "horse_no              0\n",
       "horse_id              0\n",
       "result                0\n",
       "won                   0\n",
       "lengths_behind        0\n",
       "horse_age             0\n",
       "horse_country         0\n",
       "horse_type            0\n",
       "horse_rating          0\n",
       "horse_gear            0\n",
       "declared_weight       0\n",
       "actual_weight         0\n",
       "draw                  0\n",
       "position_sec1         0\n",
       "position_sec2         0\n",
       "position_sec3         0\n",
       "behind_sec1           0\n",
       "behind_sec2           0\n",
       "behind_sec3           0\n",
       "time1                 0\n",
       "time2                 0\n",
       "time3                 0\n",
       "finish_time           0\n",
       "win_odds              0\n",
       "place_odds         3735\n",
       "trainer_id            0\n",
       "jockey_id             0\n",
       "dtype: int64"
      ]
     },
     "execution_count": 7,
     "metadata": {},
     "output_type": "execute_result"
    }
   ],
   "source": [
    "# Check current status\n",
    "## There are still 3735 (~4%) entries with missing Odds\n",
    "## This is probably an important feature so we don't want to delete\n",
    "runs_clean_df.isna().sum()"
   ]
  },
  {
   "cell_type": "code",
   "execution_count": 8,
   "id": "3f806446",
   "metadata": {},
   "outputs": [],
   "source": [
    "# Impute the place_odds with the mean value\n",
    "runs_clean_df['place_odds'].fillna(value=(runs_clean_df['place_odds'].mean()), inplace=True)"
   ]
  },
  {
   "cell_type": "code",
   "execution_count": 9,
   "id": "fcd8250c",
   "metadata": {},
   "outputs": [
    {
     "name": "stdout",
     "output_type": "stream",
     "text": [
      "<class 'pandas.core.frame.DataFrame'>\n",
      "Int64Index: 79445 entries, 0 to 79446\n",
      "Data columns (total 28 columns):\n",
      " #   Column           Non-Null Count  Dtype  \n",
      "---  ------           --------------  -----  \n",
      " 0   race_id          79445 non-null  int64  \n",
      " 1   horse_no         79445 non-null  int64  \n",
      " 2   horse_id         79445 non-null  int64  \n",
      " 3   result           79445 non-null  int64  \n",
      " 4   won              79445 non-null  float64\n",
      " 5   lengths_behind   79445 non-null  float64\n",
      " 6   horse_age        79445 non-null  int64  \n",
      " 7   horse_country    79445 non-null  object \n",
      " 8   horse_type       79445 non-null  object \n",
      " 9   horse_rating     79445 non-null  int64  \n",
      " 10  horse_gear       79445 non-null  object \n",
      " 11  declared_weight  79445 non-null  float64\n",
      " 12  actual_weight    79445 non-null  int64  \n",
      " 13  draw             79445 non-null  int64  \n",
      " 14  position_sec1    79445 non-null  int64  \n",
      " 15  position_sec2    79445 non-null  int64  \n",
      " 16  position_sec3    79445 non-null  int64  \n",
      " 17  behind_sec1      79445 non-null  float64\n",
      " 18  behind_sec2      79445 non-null  float64\n",
      " 19  behind_sec3      79445 non-null  float64\n",
      " 20  time1            79445 non-null  float64\n",
      " 21  time2            79445 non-null  float64\n",
      " 22  time3            79445 non-null  float64\n",
      " 23  finish_time      79445 non-null  float64\n",
      " 24  win_odds         79445 non-null  float64\n",
      " 25  place_odds       79445 non-null  float64\n",
      " 26  trainer_id       79445 non-null  int64  \n",
      " 27  jockey_id        79445 non-null  int64  \n",
      "dtypes: float64(12), int64(13), object(3)\n",
      "memory usage: 17.6+ MB\n"
     ]
    }
   ],
   "source": [
    "# Recheck missing values\n",
    "## Non-Null is now 79445 for all features\n",
    "runs_clean_df.info()"
   ]
  },
  {
   "cell_type": "code",
   "execution_count": 11,
   "id": "c9864ec8",
   "metadata": {},
   "outputs": [
    {
     "ename": "AttributeError",
     "evalue": "module 'pandas' has no attribute 'to_csv'",
     "output_type": "error",
     "traceback": [
      "\u001b[0;31m---------------------------------------------------------------------------\u001b[0m",
      "\u001b[0;31mAttributeError\u001b[0m                            Traceback (most recent call last)",
      "\u001b[0;32m<ipython-input-11-11b75f18fe75>\u001b[0m in \u001b[0;36m<module>\u001b[0;34m\u001b[0m\n\u001b[1;32m      1\u001b[0m \u001b[0;31m# The data set is now clean and ready to be explored\u001b[0m\u001b[0;34m\u001b[0m\u001b[0;34m\u001b[0m\u001b[0;34m\u001b[0m\u001b[0m\n\u001b[0;32m----> 2\u001b[0;31m \u001b[0mpd\u001b[0m\u001b[0;34m.\u001b[0m\u001b[0mto_csv\u001b[0m\u001b[0;34m(\u001b[0m\u001b[0;34m\"../runs_clean.csv\"\u001b[0m\u001b[0;34m)\u001b[0m\u001b[0;34m\u001b[0m\u001b[0;34m\u001b[0m\u001b[0m\n\u001b[0m",
      "\u001b[0;32m/opt/anaconda3/lib/python3.8/site-packages/pandas/__init__.py\u001b[0m in \u001b[0;36m__getattr__\u001b[0;34m(name)\u001b[0m\n\u001b[1;32m    242\u001b[0m         \u001b[0;32mreturn\u001b[0m \u001b[0m_SparseArray\u001b[0m\u001b[0;34m\u001b[0m\u001b[0;34m\u001b[0m\u001b[0m\n\u001b[1;32m    243\u001b[0m \u001b[0;34m\u001b[0m\u001b[0m\n\u001b[0;32m--> 244\u001b[0;31m     \u001b[0;32mraise\u001b[0m \u001b[0mAttributeError\u001b[0m\u001b[0;34m(\u001b[0m\u001b[0;34mf\"module 'pandas' has no attribute '{name}'\"\u001b[0m\u001b[0;34m)\u001b[0m\u001b[0;34m\u001b[0m\u001b[0;34m\u001b[0m\u001b[0m\n\u001b[0m\u001b[1;32m    245\u001b[0m \u001b[0;34m\u001b[0m\u001b[0m\n\u001b[1;32m    246\u001b[0m \u001b[0;34m\u001b[0m\u001b[0m\n",
      "\u001b[0;31mAttributeError\u001b[0m: module 'pandas' has no attribute 'to_csv'"
     ]
    }
   ],
   "source": [
    "# The data set is now clean and ready to be explored\n",
    "runs_clean_df.to_csv(\"../runs_clean.csv\")"
   ]
  },
  {
   "cell_type": "code",
   "execution_count": null,
   "id": "7fab3fd4",
   "metadata": {},
   "outputs": [],
   "source": []
  }
 ],
 "metadata": {
  "kernelspec": {
   "display_name": "Python 3",
   "language": "python",
   "name": "python3"
  },
  "language_info": {
   "codemirror_mode": {
    "name": "ipython",
    "version": 3
   },
   "file_extension": ".py",
   "mimetype": "text/x-python",
   "name": "python",
   "nbconvert_exporter": "python",
   "pygments_lexer": "ipython3",
   "version": "3.8.8"
  }
 },
 "nbformat": 4,
 "nbformat_minor": 5
}
